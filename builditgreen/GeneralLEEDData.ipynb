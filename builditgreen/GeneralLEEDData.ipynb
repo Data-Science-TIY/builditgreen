{
 "cells": [
  {
   "cell_type": "code",
   "execution_count": 1,
   "metadata": {
    "collapsed": true
   },
   "outputs": [],
   "source": [
    "import pandas as pd"
   ]
  },
  {
   "cell_type": "code",
   "execution_count": 5,
   "metadata": {
    "collapsed": false
   },
   "outputs": [
    {
     "name": "stderr",
     "output_type": "stream",
     "text": [
      "/usr/local/lib/python3.4/site-packages/pandas/io/parsers.py:1170: DtypeWarning: Columns (9) have mixed types. Specify dtype option on import or set low_memory=False.\n",
      "  data = self._reader.read(nrows)\n"
     ]
    }
   ],
   "source": [
    "leed_data = pd.read_csv('PublicLEEDProjectDirectory.csv', encoding=\"ISO-8859-1\", header=3)"
   ]
  },
  {
   "cell_type": "code",
   "execution_count": 6,
   "metadata": {
    "collapsed": false
   },
   "outputs": [
    {
     "data": {
      "text/html": [
       "<div style=\"max-height:1000px;max-width:1500px;overflow:auto;\">\n",
       "<table border=\"1\" class=\"dataframe\">\n",
       "  <thead>\n",
       "    <tr style=\"text-align: right;\">\n",
       "      <th></th>\n",
       "      <th>ID</th>\n",
       "      <th>Isconfidential</th>\n",
       "      <th>ProjectName</th>\n",
       "      <th>Street</th>\n",
       "      <th>City</th>\n",
       "      <th>State</th>\n",
       "      <th>Zipcode</th>\n",
       "      <th>Country</th>\n",
       "      <th>LEEDSystemVersionDisplayName</th>\n",
       "      <th>PointsAchieved</th>\n",
       "      <th>CertLevel</th>\n",
       "      <th>CertDate</th>\n",
       "      <th>IsCertified</th>\n",
       "      <th>OwnerTypes</th>\n",
       "      <th>GrossSqFoot</th>\n",
       "      <th>TotalPropArea</th>\n",
       "      <th>ProjectTypes</th>\n",
       "      <th>OwnerOrganization</th>\n",
       "      <th>RegistrationDate</th>\n",
       "    </tr>\n",
       "  </thead>\n",
       "  <tbody>\n",
       "    <tr>\n",
       "      <th>0</th>\n",
       "      <td>10000000</td>\n",
       "      <td>No</td>\n",
       "      <td>PNC Firstside Center</td>\n",
       "      <td>21 South Putt Corners Road</td>\n",
       "      <td>Pittsburgh</td>\n",
       "      <td>PA</td>\n",
       "      <td>15219</td>\n",
       "      <td>US</td>\n",
       "      <td>LEED-NC 2.0</td>\n",
       "      <td>33</td>\n",
       "      <td>Silver</td>\n",
       "      <td>10/1/00 0:00</td>\n",
       "      <td>Yes</td>\n",
       "      <td>Profit Org.</td>\n",
       "      <td>647000</td>\n",
       "      <td>202923</td>\n",
       "      <td>Commercial Office</td>\n",
       "      <td>L.D. Astorino Companies</td>\n",
       "      <td>3/31/00 0:00</td>\n",
       "    </tr>\n",
       "    <tr>\n",
       "      <th>1</th>\n",
       "      <td>10000001</td>\n",
       "      <td>Yes</td>\n",
       "      <td>Confidential</td>\n",
       "      <td>Confidential</td>\n",
       "      <td>Confidential</td>\n",
       "      <td>IN</td>\n",
       "      <td>Confidential</td>\n",
       "      <td>US</td>\n",
       "      <td>LEED-NC 2.0</td>\n",
       "      <td>NaN</td>\n",
       "      <td>NaN</td>\n",
       "      <td>NaN</td>\n",
       "      <td>No</td>\n",
       "      <td>Confidential</td>\n",
       "      <td>291000</td>\n",
       "      <td>130637</td>\n",
       "      <td>Commercial Office</td>\n",
       "      <td>Confidential</td>\n",
       "      <td>6/1/00 0:00</td>\n",
       "    </tr>\n",
       "    <tr>\n",
       "      <th>2</th>\n",
       "      <td>10000002</td>\n",
       "      <td>No</td>\n",
       "      <td>Bethel Commercial Center</td>\n",
       "      <td>53 W. Jackson</td>\n",
       "      <td>Chicago</td>\n",
       "      <td>IL</td>\n",
       "      <td>60604</td>\n",
       "      <td>US</td>\n",
       "      <td>LEED-NC 2.0</td>\n",
       "      <td>45</td>\n",
       "      <td>Gold</td>\n",
       "      <td>11/5/07 0:00</td>\n",
       "      <td>Yes</td>\n",
       "      <td>Non-Profit Org.</td>\n",
       "      <td>22592</td>\n",
       "      <td>27500</td>\n",
       "      <td>Commercial Office, Restaurant, Retail, Daycare...</td>\n",
       "      <td>Bethel New Life</td>\n",
       "      <td>8/1/01 0:00</td>\n",
       "    </tr>\n",
       "    <tr>\n",
       "      <th>3</th>\n",
       "      <td>10000003</td>\n",
       "      <td>Yes</td>\n",
       "      <td>Confidential</td>\n",
       "      <td>Confidential</td>\n",
       "      <td>Confidential</td>\n",
       "      <td>NY</td>\n",
       "      <td>Confidential</td>\n",
       "      <td>US</td>\n",
       "      <td>LEED-NC 2.1</td>\n",
       "      <td>NaN</td>\n",
       "      <td>NaN</td>\n",
       "      <td>NaN</td>\n",
       "      <td>No</td>\n",
       "      <td>Confidential</td>\n",
       "      <td>190000</td>\n",
       "      <td>NaN</td>\n",
       "      <td>NaN</td>\n",
       "      <td>Confidential</td>\n",
       "      <td>9/19/06 0:00</td>\n",
       "    </tr>\n",
       "    <tr>\n",
       "      <th>4</th>\n",
       "      <td>10000004</td>\n",
       "      <td>No</td>\n",
       "      <td>The Chicago Center for Green Technology</td>\n",
       "      <td>445 N. Sacramento Avenue</td>\n",
       "      <td>Chicago</td>\n",
       "      <td>IL</td>\n",
       "      <td>60612</td>\n",
       "      <td>US</td>\n",
       "      <td>LEED-NC 1.0 Pilot</td>\n",
       "      <td>38</td>\n",
       "      <td>Platinum</td>\n",
       "      <td>6/17/03 0:00</td>\n",
       "      <td>Yes</td>\n",
       "      <td>Local Government</td>\n",
       "      <td>28356</td>\n",
       "      <td>130637</td>\n",
       "      <td>Industrial, Commercial Office</td>\n",
       "      <td>City of Chicago Department of the Enviro</td>\n",
       "      <td>6/1/00 0:00</td>\n",
       "    </tr>\n",
       "  </tbody>\n",
       "</table>\n",
       "</div>"
      ],
      "text/plain": [
       "         ID Isconfidential                              ProjectName  \\\n",
       "0  10000000             No                     PNC Firstside Center   \n",
       "1  10000001            Yes                             Confidential   \n",
       "2  10000002             No                 Bethel Commercial Center   \n",
       "3  10000003            Yes                             Confidential   \n",
       "4  10000004             No  The Chicago Center for Green Technology   \n",
       "\n",
       "                       Street          City State       Zipcode Country  \\\n",
       "0  21 South Putt Corners Road    Pittsburgh    PA         15219      US   \n",
       "1                Confidential  Confidential    IN  Confidential      US   \n",
       "2               53 W. Jackson       Chicago    IL         60604      US   \n",
       "3                Confidential  Confidential    NY  Confidential      US   \n",
       "4    445 N. Sacramento Avenue       Chicago    IL         60612      US   \n",
       "\n",
       "  LEEDSystemVersionDisplayName PointsAchieved CertLevel      CertDate  \\\n",
       "0                  LEED-NC 2.0             33    Silver  10/1/00 0:00   \n",
       "1                  LEED-NC 2.0            NaN       NaN           NaN   \n",
       "2                  LEED-NC 2.0             45      Gold  11/5/07 0:00   \n",
       "3                  LEED-NC 2.1            NaN       NaN           NaN   \n",
       "4            LEED-NC 1.0 Pilot             38  Platinum  6/17/03 0:00   \n",
       "\n",
       "  IsCertified        OwnerTypes  GrossSqFoot  TotalPropArea  \\\n",
       "0         Yes       Profit Org.       647000         202923   \n",
       "1          No      Confidential       291000         130637   \n",
       "2         Yes   Non-Profit Org.        22592          27500   \n",
       "3          No      Confidential       190000            NaN   \n",
       "4         Yes  Local Government        28356         130637   \n",
       "\n",
       "                                        ProjectTypes  \\\n",
       "0                                  Commercial Office   \n",
       "1                                  Commercial Office   \n",
       "2  Commercial Office, Restaurant, Retail, Daycare...   \n",
       "3                                                NaN   \n",
       "4                      Industrial, Commercial Office   \n",
       "\n",
       "                          OwnerOrganization RegistrationDate  \n",
       "0                   L.D. Astorino Companies     3/31/00 0:00  \n",
       "1                              Confidential      6/1/00 0:00  \n",
       "2                           Bethel New Life      8/1/01 0:00  \n",
       "3                              Confidential     9/19/06 0:00  \n",
       "4  City of Chicago Department of the Enviro      6/1/00 0:00  "
      ]
     },
     "execution_count": 6,
     "metadata": {},
     "output_type": "execute_result"
    }
   ],
   "source": [
    "leed_data.head()"
   ]
  },
  {
   "cell_type": "code",
   "execution_count": 7,
   "metadata": {
    "collapsed": false
   },
   "outputs": [
    {
     "data": {
      "text/plain": [
       "LEED For Homes Single Family                27365\n",
       "LEED-NC v2009                               15903\n",
       "LEED-NC 2.2                                 13555\n",
       "LEED-EB:OM v2009                             7115\n",
       "LEED-CI v2009                                6129\n",
       "LEED-CS v2009                                4747\n",
       "LEED For Homes Multi Family Low-Rise         3204\n",
       "LEED-CI 2.0                                  3001\n",
       "LEED-CS 2.0                                  2816\n",
       "LEED-NC 2.1                                  2347\n",
       "LEED-EB O&M                                  2334\n",
       "LEED FOR SCHOOLS v2009                       1435\n",
       "LEED-EB 2.0                                  1042\n",
       "LEED For Homes Multi Family Mid-Rise          916\n",
       "LEED for Schools                              911\n",
       "LEED for Retail (CI) Pilot                    845\n",
       "LEED-NC Retail v2009                          750\n",
       "LEED-CI Retail v2009                          696\n",
       "LEED-HOMES v2008                              517\n",
       "LEED-NC 2.0                                   489\n",
       "LEED for Retail (New Construction) Pilot      318\n",
       "LEED-HC v2009                                 297\n",
       "LEED v4 BD+C: NC                              192\n",
       "LEED-CS 1.0 Pilot                             170\n",
       "LEED-ND Project Registration 1.0              163\n",
       "LEED-ND v2009 Stage 2                         140\n",
       "LEED-ND v2009 Stage 1                         100\n",
       "LEED Italia NC 2009                            90\n",
       "LEED v4 ID+C: CI                               79\n",
       "LEED v4 O+M: EB                                77\n",
       "LEED-HOMES MR v2010                            57\n",
       "LEED-CI 1.0 Pilot (original)                   53\n",
       "LEED v4 BD+C: CS                               40\n",
       "LEED-EB 1.0 Pilot (original)                   28\n",
       "LEED-ND v2009 Stage 3                          22\n",
       "LEED v4 ID+C: Retail                           20\n",
       "LEED-CI 1.0 Pilot                              16\n",
       "LEED v4 BD+C: SC                               16\n",
       "LEED India 2011 CS                             16\n",
       "LEED V4 BD+C: HOLR                             12\n",
       "LEED v4 BD+C: DC                               12\n",
       "LEED-NC 1.0 Pilot                              11\n",
       "LEED v4 BD+C: WDC                               9\n",
       "LEED v4 O+M: WDC                                7\n",
       "LEED India 2011 NC                              7\n",
       "LEED-EB 1.0 Pilot                               7\n",
       "LEED v4 BD+C: HC                                6\n",
       "LEED v4 O+M: SC                                 4\n",
       "LEED v4 O+M: HP                                 4\n",
       "LEED v4 BD+C: HP                                4\n",
       "LEED v4 BD+C: Retail                            4\n",
       "LEED v4 O+M: DC                                 3\n",
       "LEED v4 ID+C: HP                                1\n",
       "LEED Master Site BD+C                           1\n",
       "LEED V4 BD+C: HOMR                              1\n",
       "LEED for Retail (NC)                            1\n",
       "dtype: int64"
      ]
     },
     "execution_count": 7,
     "metadata": {},
     "output_type": "execute_result"
    }
   ],
   "source": [
    "leed_data['LEEDSystemVersionDisplayName'].value_counts()"
   ]
  },
  {
   "cell_type": "code",
   "execution_count": 8,
   "metadata": {
    "collapsed": false
   },
   "outputs": [
    {
     "data": {
      "text/plain": [
       "Silver       14839\n",
       "Gold         14311\n",
       "Certified    10768\n",
       "Platinum      4930\n",
       "Denied          48\n",
       "Bronze           4\n",
       "dtype: int64"
      ]
     },
     "execution_count": 8,
     "metadata": {},
     "output_type": "execute_result"
    }
   ],
   "source": [
    "leed_data['CertLevel'].value_counts()"
   ]
  },
  {
   "cell_type": "code",
   "execution_count": null,
   "metadata": {
    "collapsed": true
   },
   "outputs": [],
   "source": []
  }
 ],
 "metadata": {
  "kernelspec": {
   "display_name": "Python 3",
   "language": "python",
   "name": "python3"
  },
  "language_info": {
   "codemirror_mode": {
    "name": "ipython",
    "version": 3
   },
   "file_extension": ".py",
   "mimetype": "text/x-python",
   "name": "python",
   "nbconvert_exporter": "python",
   "pygments_lexer": "ipython3",
   "version": "3.4.3"
  }
 },
 "nbformat": 4,
 "nbformat_minor": 0
}
