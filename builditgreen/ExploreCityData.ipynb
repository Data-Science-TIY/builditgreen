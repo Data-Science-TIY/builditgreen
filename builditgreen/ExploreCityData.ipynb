{
 "cells": [
  {
   "cell_type": "code",
   "execution_count": 1,
   "metadata": {
    "collapsed": true
   },
   "outputs": [],
   "source": [
    "import pandas as pd\n",
    "import psycopg2\n"
   ]
  },
  {
   "cell_type": "code",
   "execution_count": 2,
   "metadata": {
    "collapsed": true
   },
   "outputs": [],
   "source": [
    "conn = psycopg2.connect(database=\"builditgreen\")"
   ]
  },
  {
   "cell_type": "code",
   "execution_count": 3,
   "metadata": {
    "collapsed": true
   },
   "outputs": [],
   "source": [
    "import pandas.io.sql as pdsql"
   ]
  },
  {
   "cell_type": "code",
   "execution_count": 5,
   "metadata": {
    "collapsed": false
   },
   "outputs": [
    {
     "name": "stderr",
     "output_type": "stream",
     "text": [
      "/Users/joshuahiggins/tiyd/builditgreen/.direnv/python-3.4.3/lib/python3.4/site-packages/pandas/io/sql.py:1630: FutureWarning: read_frame is deprecated, use read_sql\n",
      "  warnings.warn(\"read_frame is deprecated, use read_sql\", FutureWarning)\n"
     ]
    }
   ],
   "source": [
    "projects_df = pdsql.read_frame(\"SELECT * FROM %s;\" % 'api_project', conn)"
   ]
  },
  {
   "cell_type": "code",
   "execution_count": 12,
   "metadata": {
    "collapsed": false
   },
   "outputs": [],
   "source": [
    "projects_df=projects_df.rename(columns = {'id':'project_id'})"
   ]
  },
  {
   "cell_type": "code",
   "execution_count": 13,
   "metadata": {
    "collapsed": false
   },
   "outputs": [
    {
     "data": {
      "text/html": [
       "<div>\n",
       "<table border=\"1\" class=\"dataframe\">\n",
       "  <thead>\n",
       "    <tr style=\"text-align: right;\">\n",
       "      <th></th>\n",
       "      <th>project_id</th>\n",
       "      <th>is_confidential</th>\n",
       "      <th>name</th>\n",
       "      <th>street</th>\n",
       "      <th>city</th>\n",
       "      <th>zip_code</th>\n",
       "      <th>country</th>\n",
       "      <th>leed_version</th>\n",
       "      <th>points_achieved</th>\n",
       "      <th>certification_level</th>\n",
       "      <th>certification_date</th>\n",
       "      <th>owner_types</th>\n",
       "      <th>gross_square_foot</th>\n",
       "      <th>total_property_area</th>\n",
       "      <th>project_types</th>\n",
       "      <th>registration_date</th>\n",
       "      <th>state_id_id</th>\n",
       "    </tr>\n",
       "  </thead>\n",
       "  <tbody>\n",
       "    <tr>\n",
       "      <th>0</th>\n",
       "      <td>10000000</td>\n",
       "      <td>No</td>\n",
       "      <td>PNC Firstside Center</td>\n",
       "      <td>21 South Putt Corners Road</td>\n",
       "      <td>Pittsburgh</td>\n",
       "      <td>15219</td>\n",
       "      <td>US</td>\n",
       "      <td>LEED-NC 2.0</td>\n",
       "      <td>33</td>\n",
       "      <td>Silver</td>\n",
       "      <td>2000-10-01</td>\n",
       "      <td>Profit Org.</td>\n",
       "      <td>647000</td>\n",
       "      <td>202923</td>\n",
       "      <td>Commercial Office</td>\n",
       "      <td>2000-03-31</td>\n",
       "      <td>43</td>\n",
       "    </tr>\n",
       "    <tr>\n",
       "      <th>1</th>\n",
       "      <td>10000001</td>\n",
       "      <td>Yes</td>\n",
       "      <td>Confidential</td>\n",
       "      <td>Confidential</td>\n",
       "      <td>Confidential</td>\n",
       "      <td>Confidential</td>\n",
       "      <td>US</td>\n",
       "      <td>LEED-NC 2.0</td>\n",
       "      <td>NaN</td>\n",
       "      <td></td>\n",
       "      <td>None</td>\n",
       "      <td>Confidential</td>\n",
       "      <td>291000</td>\n",
       "      <td>130637</td>\n",
       "      <td>Commercial Office</td>\n",
       "      <td>2000-06-01</td>\n",
       "      <td>20</td>\n",
       "    </tr>\n",
       "    <tr>\n",
       "      <th>2</th>\n",
       "      <td>10000002</td>\n",
       "      <td>No</td>\n",
       "      <td>Bethel Commercial Center</td>\n",
       "      <td>53 W. Jackson</td>\n",
       "      <td>Chicago</td>\n",
       "      <td>60604</td>\n",
       "      <td>US</td>\n",
       "      <td>LEED-NC 2.0</td>\n",
       "      <td>45</td>\n",
       "      <td>Gold</td>\n",
       "      <td>2007-11-05</td>\n",
       "      <td>Non-Profit Org.</td>\n",
       "      <td>22592</td>\n",
       "      <td>27500</td>\n",
       "      <td>Commercial Office</td>\n",
       "      <td>2001-08-01</td>\n",
       "      <td>1</td>\n",
       "    </tr>\n",
       "    <tr>\n",
       "      <th>3</th>\n",
       "      <td>10000003</td>\n",
       "      <td>Yes</td>\n",
       "      <td>Confidential</td>\n",
       "      <td>Confidential</td>\n",
       "      <td>Confidential</td>\n",
       "      <td>Confidential</td>\n",
       "      <td>US</td>\n",
       "      <td>LEED-NC 2.1</td>\n",
       "      <td>NaN</td>\n",
       "      <td></td>\n",
       "      <td>None</td>\n",
       "      <td>Confidential</td>\n",
       "      <td>190000</td>\n",
       "      <td>NaN</td>\n",
       "      <td></td>\n",
       "      <td>2006-09-19</td>\n",
       "      <td>56</td>\n",
       "    </tr>\n",
       "    <tr>\n",
       "      <th>4</th>\n",
       "      <td>10000004</td>\n",
       "      <td>No</td>\n",
       "      <td>The Chicago Center for Green Technology</td>\n",
       "      <td>445 N. Sacramento Avenue</td>\n",
       "      <td>Chicago</td>\n",
       "      <td>60612</td>\n",
       "      <td>US</td>\n",
       "      <td>LEED-NC 1.0 Pilot</td>\n",
       "      <td>38</td>\n",
       "      <td>Platinum</td>\n",
       "      <td>2003-06-17</td>\n",
       "      <td>Local Government</td>\n",
       "      <td>28356</td>\n",
       "      <td>130637</td>\n",
       "      <td>Industrial</td>\n",
       "      <td>2000-06-01</td>\n",
       "      <td>1</td>\n",
       "    </tr>\n",
       "  </tbody>\n",
       "</table>\n",
       "</div>"
      ],
      "text/plain": [
       "   project_id is_confidential                                     name  \\\n",
       "0    10000000              No                     PNC Firstside Center   \n",
       "1    10000001             Yes                             Confidential   \n",
       "2    10000002              No                 Bethel Commercial Center   \n",
       "3    10000003             Yes                             Confidential   \n",
       "4    10000004              No  The Chicago Center for Green Technology   \n",
       "\n",
       "                       street          city      zip_code country  \\\n",
       "0  21 South Putt Corners Road    Pittsburgh         15219      US   \n",
       "1                Confidential  Confidential  Confidential      US   \n",
       "2               53 W. Jackson       Chicago         60604      US   \n",
       "3                Confidential  Confidential  Confidential      US   \n",
       "4    445 N. Sacramento Avenue       Chicago         60612      US   \n",
       "\n",
       "        leed_version  points_achieved certification_level certification_date  \\\n",
       "0        LEED-NC 2.0               33              Silver         2000-10-01   \n",
       "1        LEED-NC 2.0              NaN                                   None   \n",
       "2        LEED-NC 2.0               45                Gold         2007-11-05   \n",
       "3        LEED-NC 2.1              NaN                                   None   \n",
       "4  LEED-NC 1.0 Pilot               38            Platinum         2003-06-17   \n",
       "\n",
       "        owner_types  gross_square_foot  total_property_area  \\\n",
       "0       Profit Org.             647000               202923   \n",
       "1      Confidential             291000               130637   \n",
       "2   Non-Profit Org.              22592                27500   \n",
       "3      Confidential             190000                  NaN   \n",
       "4  Local Government              28356               130637   \n",
       "\n",
       "       project_types registration_date  state_id_id  \n",
       "0  Commercial Office        2000-03-31           43  \n",
       "1  Commercial Office        2000-06-01           20  \n",
       "2  Commercial Office        2001-08-01            1  \n",
       "3                           2006-09-19           56  \n",
       "4         Industrial        2000-06-01            1  "
      ]
     },
     "execution_count": 13,
     "metadata": {},
     "output_type": "execute_result"
    }
   ],
   "source": [
    "projects_df.head()"
   ]
  },
  {
   "cell_type": "code",
   "execution_count": 37,
   "metadata": {
    "collapsed": false
   },
   "outputs": [
    {
     "name": "stderr",
     "output_type": "stream",
     "text": [
      "/Users/joshuahiggins/tiyd/builditgreen/.direnv/python-3.4.3/lib/python3.4/site-packages/pandas/io/sql.py:1630: FutureWarning: read_frame is deprecated, use read_sql\n",
      "  warnings.warn(\"read_frame is deprecated, use read_sql\", FutureWarning)\n"
     ]
    }
   ],
   "source": [
    "scores_2009_df = pdsql.read_frame(\"SELECT * FROM %s;\" % 'api_score2009', conn)"
   ]
  },
  {
   "cell_type": "code",
   "execution_count": 11,
   "metadata": {
    "collapsed": false
   },
   "outputs": [
    {
     "data": {
      "text/plain": [
       "0       1000000143\n",
       "1       1000000174\n",
       "2       1000000194\n",
       "3       1000000199\n",
       "4       1000000222\n",
       "5       1000000224\n",
       "6       1000000244\n",
       "7       1000000262\n",
       "8       1000000292\n",
       "9       1000000301\n",
       "10      1000000322\n",
       "11      1000000353\n",
       "12      1000000386\n",
       "13      1000000387\n",
       "14      1000000388\n",
       "15      1000000394\n",
       "16      1000000422\n",
       "17      1000000451\n",
       "18      1000000457\n",
       "19      1000000477\n",
       "20      1000000497\n",
       "21      1000000507\n",
       "22      1000000517\n",
       "23      1000000558\n",
       "24      1000000579\n",
       "25      1000000651\n",
       "26      1000000677\n",
       "27      1000000680\n",
       "28      1000000707\n",
       "29      1000000708\n",
       "           ...    \n",
       "2471    1000035785\n",
       "2472    1000035828\n",
       "2473    1000035960\n",
       "2474    1000036206\n",
       "2475    1000036464\n",
       "2476    1000036689\n",
       "2477    1000036763\n",
       "2478    1000036775\n",
       "2479    1000036901\n",
       "2480    1000037001\n",
       "2481    1000037022\n",
       "2482    1000037031\n",
       "2483    1000037095\n",
       "2484    1000037306\n",
       "2485    1000037316\n",
       "2486    1000037537\n",
       "2487    1000037617\n",
       "2488    1000037911\n",
       "2489    1000037921\n",
       "2490    1000037954\n",
       "2491    1000038189\n",
       "2492    1000038285\n",
       "2493    1000038452\n",
       "2494    1000038887\n",
       "2495    1000038888\n",
       "2496    1000039133\n",
       "2497    1000039584\n",
       "2498    1000040528\n",
       "2499    1000040797\n",
       "2500    1000040800\n",
       "Name: project_id, dtype: int64"
      ]
     },
     "execution_count": 11,
     "metadata": {},
     "output_type": "execute_result"
    }
   ],
   "source": [
    "scores_2009_df['project_id']"
   ]
  },
  {
   "cell_type": "code",
   "execution_count": 14,
   "metadata": {
    "collapsed": true
   },
   "outputs": [],
   "source": [
    "merged_df_2009 = pd.merge(scores_2009_df,projects_df,on='project_id')"
   ]
  },
  {
   "cell_type": "code",
   "execution_count": 15,
   "metadata": {
    "collapsed": false
   },
   "outputs": [
    {
     "data": {
      "text/plain": [
       "(2501, 122)"
      ]
     },
     "execution_count": 15,
     "metadata": {},
     "output_type": "execute_result"
    }
   ],
   "source": [
    "merged_df_2009.shape"
   ]
  },
  {
   "cell_type": "code",
   "execution_count": 18,
   "metadata": {
    "collapsed": false
   },
   "outputs": [
    {
     "data": {
      "text/html": [
       "<div>\n",
       "<table border=\"1\" class=\"dataframe\">\n",
       "  <thead>\n",
       "    <tr style=\"text-align: right;\">\n",
       "      <th></th>\n",
       "      <th>id</th>\n",
       "      <th>ssc1</th>\n",
       "      <th>ssc2</th>\n",
       "      <th>ssc3</th>\n",
       "      <th>ssc4_1</th>\n",
       "      <th>ssc4_2</th>\n",
       "      <th>ssc4_3</th>\n",
       "      <th>ssc4_4</th>\n",
       "      <th>ssc5_1</th>\n",
       "      <th>ssc5_2</th>\n",
       "      <th>...</th>\n",
       "      <th>leed_version</th>\n",
       "      <th>points_achieved</th>\n",
       "      <th>certification_level</th>\n",
       "      <th>certification_date</th>\n",
       "      <th>owner_types</th>\n",
       "      <th>gross_square_foot</th>\n",
       "      <th>total_property_area</th>\n",
       "      <th>project_types</th>\n",
       "      <th>registration_date</th>\n",
       "      <th>state_id_id</th>\n",
       "    </tr>\n",
       "  </thead>\n",
       "  <tbody>\n",
       "    <tr>\n",
       "      <th>0</th>\n",
       "      <td>1</td>\n",
       "      <td>1</td>\n",
       "      <td>5</td>\n",
       "      <td>0</td>\n",
       "      <td>6</td>\n",
       "      <td>0</td>\n",
       "      <td>0</td>\n",
       "      <td>2</td>\n",
       "      <td>0</td>\n",
       "      <td>1</td>\n",
       "      <td>...</td>\n",
       "      <td>LEED-NC v2009</td>\n",
       "      <td>44</td>\n",
       "      <td>Certified</td>\n",
       "      <td>2013-09-20</td>\n",
       "      <td>Government Use: State</td>\n",
       "      <td>86580</td>\n",
       "      <td>53863</td>\n",
       "      <td>Health Care: Outpatient</td>\n",
       "      <td>2009-05-07</td>\n",
       "      <td>12</td>\n",
       "    </tr>\n",
       "    <tr>\n",
       "      <th>1</th>\n",
       "      <td>2</td>\n",
       "      <td>0</td>\n",
       "      <td>0</td>\n",
       "      <td>0</td>\n",
       "      <td>6</td>\n",
       "      <td>1</td>\n",
       "      <td>0</td>\n",
       "      <td>0</td>\n",
       "      <td>0</td>\n",
       "      <td>1</td>\n",
       "      <td>...</td>\n",
       "      <td>LEED-NC v2009</td>\n",
       "      <td>65</td>\n",
       "      <td>Gold</td>\n",
       "      <td>2010-12-02</td>\n",
       "      <td>Educational: University, Private</td>\n",
       "      <td>11806</td>\n",
       "      <td>66000</td>\n",
       "      <td>Core Learning Space: College/University</td>\n",
       "      <td>2009-05-10</td>\n",
       "      <td>20</td>\n",
       "    </tr>\n",
       "    <tr>\n",
       "      <th>2</th>\n",
       "      <td>3</td>\n",
       "      <td>1</td>\n",
       "      <td>5</td>\n",
       "      <td>0</td>\n",
       "      <td>0</td>\n",
       "      <td>1</td>\n",
       "      <td>3</td>\n",
       "      <td>2</td>\n",
       "      <td>0</td>\n",
       "      <td>0</td>\n",
       "      <td>...</td>\n",
       "      <td>LEED-NC v2009</td>\n",
       "      <td>44</td>\n",
       "      <td>Certified</td>\n",
       "      <td>2011-08-23</td>\n",
       "      <td>Corporate: Privately Held</td>\n",
       "      <td>3472</td>\n",
       "      <td>10905</td>\n",
       "      <td>Commercial Office</td>\n",
       "      <td>2009-05-12</td>\n",
       "      <td>41</td>\n",
       "    </tr>\n",
       "    <tr>\n",
       "      <th>3</th>\n",
       "      <td>4</td>\n",
       "      <td>1</td>\n",
       "      <td>0</td>\n",
       "      <td>0</td>\n",
       "      <td>0</td>\n",
       "      <td>1</td>\n",
       "      <td>3</td>\n",
       "      <td>0</td>\n",
       "      <td>0</td>\n",
       "      <td>1</td>\n",
       "      <td>...</td>\n",
       "      <td>LEED-NC v2009</td>\n",
       "      <td>51</td>\n",
       "      <td>Silver</td>\n",
       "      <td>2012-03-26</td>\n",
       "      <td>Government Use: Local, City</td>\n",
       "      <td>48732</td>\n",
       "      <td>555823</td>\n",
       "      <td>Public Order and Safety: Other Public Order</td>\n",
       "      <td>2009-05-13</td>\n",
       "      <td>15</td>\n",
       "    </tr>\n",
       "    <tr>\n",
       "      <th>4</th>\n",
       "      <td>5</td>\n",
       "      <td>1</td>\n",
       "      <td>5</td>\n",
       "      <td>0</td>\n",
       "      <td>6</td>\n",
       "      <td>1</td>\n",
       "      <td>3</td>\n",
       "      <td>2</td>\n",
       "      <td>0</td>\n",
       "      <td>0</td>\n",
       "      <td>...</td>\n",
       "      <td>LEED-NC v2009</td>\n",
       "      <td>70</td>\n",
       "      <td>Gold</td>\n",
       "      <td>2014-01-17</td>\n",
       "      <td>Educational: University, Public</td>\n",
       "      <td>212777</td>\n",
       "      <td>108563</td>\n",
       "      <td>Core Learning Space: College/University</td>\n",
       "      <td>2009-05-14</td>\n",
       "      <td>15</td>\n",
       "    </tr>\n",
       "  </tbody>\n",
       "</table>\n",
       "<p>5 rows × 122 columns</p>\n",
       "</div>"
      ],
      "text/plain": [
       "   id  ssc1  ssc2  ssc3  ssc4_1  ssc4_2  ssc4_3  ssc4_4  ssc5_1  ssc5_2  \\\n",
       "0   1     1     5     0       6       0       0       2       0       1   \n",
       "1   2     0     0     0       6       1       0       0       0       1   \n",
       "2   3     1     5     0       0       1       3       2       0       0   \n",
       "3   4     1     0     0       0       1       3       0       0       1   \n",
       "4   5     1     5     0       6       1       3       2       0       0   \n",
       "\n",
       "      ...        leed_version  points_achieved  certification_level  \\\n",
       "0     ...       LEED-NC v2009               44            Certified   \n",
       "1     ...       LEED-NC v2009               65                 Gold   \n",
       "2     ...       LEED-NC v2009               44            Certified   \n",
       "3     ...       LEED-NC v2009               51               Silver   \n",
       "4     ...       LEED-NC v2009               70                 Gold   \n",
       "\n",
       "   certification_date                       owner_types  gross_square_foot  \\\n",
       "0          2013-09-20             Government Use: State              86580   \n",
       "1          2010-12-02  Educational: University, Private              11806   \n",
       "2          2011-08-23         Corporate: Privately Held               3472   \n",
       "3          2012-03-26       Government Use: Local, City              48732   \n",
       "4          2014-01-17   Educational: University, Public             212777   \n",
       "\n",
       "   total_property_area                                project_types  \\\n",
       "0                53863                      Health Care: Outpatient   \n",
       "1                66000      Core Learning Space: College/University   \n",
       "2                10905                            Commercial Office   \n",
       "3               555823  Public Order and Safety: Other Public Order   \n",
       "4               108563      Core Learning Space: College/University   \n",
       "\n",
       "   registration_date  state_id_id  \n",
       "0         2009-05-07           12  \n",
       "1         2009-05-10           20  \n",
       "2         2009-05-12           41  \n",
       "3         2009-05-13           15  \n",
       "4         2009-05-14           15  \n",
       "\n",
       "[5 rows x 122 columns]"
      ]
     },
     "execution_count": 18,
     "metadata": {},
     "output_type": "execute_result"
    }
   ],
   "source": [
    "merged_df_2009.head()"
   ]
  },
  {
   "cell_type": "code",
   "execution_count": 44,
   "metadata": {
    "collapsed": false
   },
   "outputs": [],
   "source": [
    "columns_list = list(merged_df_2009)"
   ]
  },
  {
   "cell_type": "code",
   "execution_count": 45,
   "metadata": {
    "collapsed": false
   },
   "outputs": [],
   "source": [
    "columns_list = [column for column in columns_list if 'possible' not in column]"
   ]
  },
  {
   "cell_type": "code",
   "execution_count": 46,
   "metadata": {
    "collapsed": false
   },
   "outputs": [],
   "source": [
    "columns_list.remove('id')"
   ]
  },
  {
   "cell_type": "code",
   "execution_count": 47,
   "metadata": {
    "collapsed": false
   },
   "outputs": [],
   "source": [
    "columns_list.remove('state_id_id')"
   ]
  },
  {
   "cell_type": "code",
   "execution_count": 48,
   "metadata": {
    "collapsed": false
   },
   "outputs": [
    {
     "data": {
      "text/plain": [
       "['ssc1',\n",
       " 'ssc2',\n",
       " 'ssc3',\n",
       " 'ssc4_1',\n",
       " 'ssc4_2',\n",
       " 'ssc4_3',\n",
       " 'ssc4_4',\n",
       " 'ssc5_1',\n",
       " 'ssc5_2',\n",
       " 'ssc6_1',\n",
       " 'ssc6_2',\n",
       " 'ssc7_1',\n",
       " 'ssc7_2',\n",
       " 'ssc8',\n",
       " 'wec1',\n",
       " 'wec2',\n",
       " 'wec3',\n",
       " 'eac1',\n",
       " 'eac2',\n",
       " 'eac3',\n",
       " 'eac4',\n",
       " 'eac5',\n",
       " 'eac6',\n",
       " 'mrc1_1',\n",
       " 'mrc1_2',\n",
       " 'mrc2',\n",
       " 'mrc3',\n",
       " 'mrc4',\n",
       " 'mrc5',\n",
       " 'mrc6',\n",
       " 'mrc7',\n",
       " 'eqc1',\n",
       " 'eqc2',\n",
       " 'eqc3_1',\n",
       " 'eqc3_2',\n",
       " 'eqc4_1',\n",
       " 'eqc4_2',\n",
       " 'eqc4_3',\n",
       " 'eqc4_4',\n",
       " 'eqc5',\n",
       " 'eqc6_1',\n",
       " 'eqc6_2',\n",
       " 'eqc7_1',\n",
       " 'eqc7_2',\n",
       " 'eqc8_1',\n",
       " 'eqc8_2',\n",
       " 'idc1',\n",
       " 'idc2',\n",
       " 'extra1',\n",
       " 'extra2',\n",
       " 'extra3',\n",
       " 'extra4',\n",
       " 'project_id',\n",
       " 'is_confidential',\n",
       " 'name',\n",
       " 'street',\n",
       " 'city',\n",
       " 'zip_code',\n",
       " 'country',\n",
       " 'leed_version',\n",
       " 'points_achieved',\n",
       " 'certification_level',\n",
       " 'certification_date',\n",
       " 'owner_types',\n",
       " 'gross_square_foot',\n",
       " 'total_property_area',\n",
       " 'project_types',\n",
       " 'registration_date']"
      ]
     },
     "execution_count": 48,
     "metadata": {},
     "output_type": "execute_result"
    }
   ],
   "source": [
    "columns_list"
   ]
  },
  {
   "cell_type": "code",
   "execution_count": 29,
   "metadata": {
    "collapsed": true
   },
   "outputs": [],
   "source": [
    "merged_df_2009_small=merged_df_2009[columns_list]"
   ]
  },
  {
   "cell_type": "code",
   "execution_count": 57,
   "metadata": {
    "collapsed": false
   },
   "outputs": [],
   "source": [
    "merged_df_2009_small=merged_df_2009_small.set_index('project_id')"
   ]
  },
  {
   "cell_type": "code",
   "execution_count": 70,
   "metadata": {
    "collapsed": true
   },
   "outputs": [],
   "source": [
    "merged_df_2009_small.to_pickle(\"2009_full_score_projects_final.pkl\")"
   ]
  },
  {
   "cell_type": "code",
   "execution_count": null,
   "metadata": {
    "collapsed": true
   },
   "outputs": [],
   "source": [
    "scores_2_2_df = pdsql.read_frame(\"SELECT * FROM %s;\" % 'api_scoretwopointtwo', conn)"
   ]
  },
  {
   "cell_type": "code",
   "execution_count": 39,
   "metadata": {
    "collapsed": false
   },
   "outputs": [
    {
     "data": {
      "text/plain": [
       "(3974, 112)"
      ]
     },
     "execution_count": 39,
     "metadata": {},
     "output_type": "execute_result"
    }
   ],
   "source": [
    "scores_2_2_df.shape"
   ]
  },
  {
   "cell_type": "code",
   "execution_count": 40,
   "metadata": {
    "collapsed": true
   },
   "outputs": [],
   "source": [
    "merged_df_2_2 = pd.merge(scores_2_2_df,projects_df,on='project_id')"
   ]
  },
  {
   "cell_type": "code",
   "execution_count": 41,
   "metadata": {
    "collapsed": false
   },
   "outputs": [
    {
     "data": {
      "text/plain": [
       "(3974, 128)"
      ]
     },
     "execution_count": 41,
     "metadata": {},
     "output_type": "execute_result"
    }
   ],
   "source": [
    "merged_df_2_2.shape"
   ]
  },
  {
   "cell_type": "code",
   "execution_count": 49,
   "metadata": {
    "collapsed": true
   },
   "outputs": [],
   "source": [
    "columns_list_2_2 = list(merged_df_2_2)"
   ]
  },
  {
   "cell_type": "code",
   "execution_count": 50,
   "metadata": {
    "collapsed": false
   },
   "outputs": [
    {
     "data": {
      "text/plain": [
       "['id',\n",
       " 'ssc1',\n",
       " 'ssc2',\n",
       " 'ssc3',\n",
       " 'ssc4_1',\n",
       " 'ssc4_2',\n",
       " 'ssc4_3',\n",
       " 'ssc4_4',\n",
       " 'ssc5_1',\n",
       " 'ssc5_2',\n",
       " 'ssc6_1',\n",
       " 'ssc6_2',\n",
       " 'ssc7_1',\n",
       " 'ssc7_2',\n",
       " 'ssc8',\n",
       " 'wec1_1',\n",
       " 'wec1_2',\n",
       " 'wec2',\n",
       " 'wec3_1',\n",
       " 'wec3_2',\n",
       " 'eac1',\n",
       " 'eac2',\n",
       " 'eac3',\n",
       " 'eac4',\n",
       " 'eac5',\n",
       " 'eac6',\n",
       " 'mrc1_1',\n",
       " 'mrc1_2',\n",
       " 'mrc1_3',\n",
       " 'mrc2_1',\n",
       " 'mrc2_2',\n",
       " 'mrc3_1',\n",
       " 'mrc3_2',\n",
       " 'mrc4_1',\n",
       " 'mrc4_2',\n",
       " 'mrc5_1',\n",
       " 'mrc5_2',\n",
       " 'mrc6',\n",
       " 'mrc7',\n",
       " 'eqc1',\n",
       " 'eqc2',\n",
       " 'eqc3_1',\n",
       " 'eqc3_2',\n",
       " 'eqc4_1',\n",
       " 'eqc4_2',\n",
       " 'eqc4_3',\n",
       " 'eqc4_4',\n",
       " 'eqc5',\n",
       " 'eqc6_1',\n",
       " 'eqc6_2',\n",
       " 'eqc7_1',\n",
       " 'eqc7_2',\n",
       " 'eqc8_1',\n",
       " 'eqc8_2',\n",
       " 'idc1',\n",
       " 'idc2',\n",
       " 'project_id',\n",
       " 'eac1_possible',\n",
       " 'eac2_possible',\n",
       " 'eac3_possible',\n",
       " 'eac4_possible',\n",
       " 'eac5_possible',\n",
       " 'eac6_possible',\n",
       " 'eqc1_possible',\n",
       " 'eqc2_possible',\n",
       " 'eqc3_1_possible',\n",
       " 'eqc3_2_possible',\n",
       " 'eqc4_1_possible',\n",
       " 'eqc4_2_possible',\n",
       " 'eqc4_3_possible',\n",
       " 'eqc4_4_possible',\n",
       " 'eqc5_possible',\n",
       " 'eqc6_1_possible',\n",
       " 'eqc6_2_possible',\n",
       " 'eqc7_1_possible',\n",
       " 'eqc7_2_possible',\n",
       " 'eqc8_1_possible',\n",
       " 'eqc8_2_possible',\n",
       " 'idc1_possible',\n",
       " 'idc2_possible',\n",
       " 'mrc1_1_possible',\n",
       " 'mrc1_2_possible',\n",
       " 'mrc1_3_possible',\n",
       " 'mrc2_1_possible',\n",
       " 'mrc2_2_possible',\n",
       " 'mrc3_1_possible',\n",
       " 'mrc3_2_possible',\n",
       " 'mrc4_1_possible',\n",
       " 'mrc4_2_possible',\n",
       " 'mrc5_1_possible',\n",
       " 'mrc5_2_possible',\n",
       " 'mrc6_possible',\n",
       " 'mrc7_possible',\n",
       " 'ssc1_possible',\n",
       " 'ssc2_possible',\n",
       " 'ssc3_possible',\n",
       " 'ssc4_1_possible',\n",
       " 'ssc4_2_possible',\n",
       " 'ssc4_3_possible',\n",
       " 'ssc4_4_possible',\n",
       " 'ssc5_1_possible',\n",
       " 'ssc5_2_possible',\n",
       " 'ssc6_1_possible',\n",
       " 'ssc6_2_possible',\n",
       " 'ssc7_1_possible',\n",
       " 'ssc7_2_possible',\n",
       " 'ssc8_possible',\n",
       " 'wec1_1_possible',\n",
       " 'wec1_2_possible',\n",
       " 'wec2_possible',\n",
       " 'wec3_1_possible',\n",
       " 'wec3_2_possible',\n",
       " 'is_confidential',\n",
       " 'name',\n",
       " 'street',\n",
       " 'city',\n",
       " 'zip_code',\n",
       " 'country',\n",
       " 'leed_version',\n",
       " 'points_achieved',\n",
       " 'certification_level',\n",
       " 'certification_date',\n",
       " 'owner_types',\n",
       " 'gross_square_foot',\n",
       " 'total_property_area',\n",
       " 'project_types',\n",
       " 'registration_date',\n",
       " 'state_id_id']"
      ]
     },
     "execution_count": 50,
     "metadata": {},
     "output_type": "execute_result"
    }
   ],
   "source": [
    "columns_list_2_2"
   ]
  },
  {
   "cell_type": "code",
   "execution_count": 51,
   "metadata": {
    "collapsed": true
   },
   "outputs": [],
   "source": [
    "columns_list_2_2.remove('id')"
   ]
  },
  {
   "cell_type": "code",
   "execution_count": 52,
   "metadata": {
    "collapsed": true
   },
   "outputs": [],
   "source": [
    "columns_list_2_2.remove('state_id_id')"
   ]
  },
  {
   "cell_type": "code",
   "execution_count": 53,
   "metadata": {
    "collapsed": true
   },
   "outputs": [],
   "source": [
    "columns_list_2_2 = [column for column in columns_list_2_2 if 'possible' not in column]"
   ]
  },
  {
   "cell_type": "code",
   "execution_count": 54,
   "metadata": {
    "collapsed": false
   },
   "outputs": [
    {
     "data": {
      "text/plain": [
       "['ssc1',\n",
       " 'ssc2',\n",
       " 'ssc3',\n",
       " 'ssc4_1',\n",
       " 'ssc4_2',\n",
       " 'ssc4_3',\n",
       " 'ssc4_4',\n",
       " 'ssc5_1',\n",
       " 'ssc5_2',\n",
       " 'ssc6_1',\n",
       " 'ssc6_2',\n",
       " 'ssc7_1',\n",
       " 'ssc7_2',\n",
       " 'ssc8',\n",
       " 'wec1_1',\n",
       " 'wec1_2',\n",
       " 'wec2',\n",
       " 'wec3_1',\n",
       " 'wec3_2',\n",
       " 'eac1',\n",
       " 'eac2',\n",
       " 'eac3',\n",
       " 'eac4',\n",
       " 'eac5',\n",
       " 'eac6',\n",
       " 'mrc1_1',\n",
       " 'mrc1_2',\n",
       " 'mrc1_3',\n",
       " 'mrc2_1',\n",
       " 'mrc2_2',\n",
       " 'mrc3_1',\n",
       " 'mrc3_2',\n",
       " 'mrc4_1',\n",
       " 'mrc4_2',\n",
       " 'mrc5_1',\n",
       " 'mrc5_2',\n",
       " 'mrc6',\n",
       " 'mrc7',\n",
       " 'eqc1',\n",
       " 'eqc2',\n",
       " 'eqc3_1',\n",
       " 'eqc3_2',\n",
       " 'eqc4_1',\n",
       " 'eqc4_2',\n",
       " 'eqc4_3',\n",
       " 'eqc4_4',\n",
       " 'eqc5',\n",
       " 'eqc6_1',\n",
       " 'eqc6_2',\n",
       " 'eqc7_1',\n",
       " 'eqc7_2',\n",
       " 'eqc8_1',\n",
       " 'eqc8_2',\n",
       " 'idc1',\n",
       " 'idc2',\n",
       " 'project_id',\n",
       " 'is_confidential',\n",
       " 'name',\n",
       " 'street',\n",
       " 'city',\n",
       " 'zip_code',\n",
       " 'country',\n",
       " 'leed_version',\n",
       " 'points_achieved',\n",
       " 'certification_level',\n",
       " 'certification_date',\n",
       " 'owner_types',\n",
       " 'gross_square_foot',\n",
       " 'total_property_area',\n",
       " 'project_types',\n",
       " 'registration_date']"
      ]
     },
     "execution_count": 54,
     "metadata": {},
     "output_type": "execute_result"
    }
   ],
   "source": [
    "columns_list_2_2"
   ]
  },
  {
   "cell_type": "code",
   "execution_count": 55,
   "metadata": {
    "collapsed": true
   },
   "outputs": [],
   "source": [
    "merged_df_2_2_small = merged_df_2_2[columns_list_2_2]"
   ]
  },
  {
   "cell_type": "code",
   "execution_count": 60,
   "metadata": {
    "collapsed": false
   },
   "outputs": [],
   "source": [
    "merged_df_2_2_small = merged_df_2_2_small.set_index(\"project_id\")"
   ]
  },
  {
   "cell_type": "code",
   "execution_count": 66,
   "metadata": {
    "collapsed": false
   },
   "outputs": [
    {
     "data": {
      "text/plain": [
       "(3974, 70)"
      ]
     },
     "execution_count": 66,
     "metadata": {},
     "output_type": "execute_result"
    }
   ],
   "source": [
    "merged_df_2_2_small.shape"
   ]
  },
  {
   "cell_type": "code",
   "execution_count": 67,
   "metadata": {
    "collapsed": false
   },
   "outputs": [
    {
     "data": {
      "text/plain": [
       "(2501, 67)"
      ]
     },
     "execution_count": 67,
     "metadata": {},
     "output_type": "execute_result"
    }
   ],
   "source": [
    "merged_df_2009_small.shape"
   ]
  },
  {
   "cell_type": "code",
   "execution_count": 69,
   "metadata": {
    "collapsed": true
   },
   "outputs": [],
   "source": [
    "merged_df_2_2_small.to_pickle(\"2_2_full_score_projects_final.pkl\")"
   ]
  },
  {
   "cell_type": "code",
   "execution_count": 71,
   "metadata": {
    "collapsed": false
   },
   "outputs": [
    {
     "data": {
      "text/html": [
       "<div>\n",
       "<table border=\"1\" class=\"dataframe\">\n",
       "  <thead>\n",
       "    <tr style=\"text-align: right;\">\n",
       "      <th></th>\n",
       "      <th>ssc1</th>\n",
       "      <th>ssc2</th>\n",
       "      <th>ssc3</th>\n",
       "      <th>ssc4_1</th>\n",
       "      <th>ssc4_2</th>\n",
       "      <th>ssc4_3</th>\n",
       "      <th>ssc4_4</th>\n",
       "      <th>ssc5_1</th>\n",
       "      <th>ssc5_2</th>\n",
       "      <th>ssc6_1</th>\n",
       "      <th>...</th>\n",
       "      <th>country</th>\n",
       "      <th>leed_version</th>\n",
       "      <th>points_achieved</th>\n",
       "      <th>certification_level</th>\n",
       "      <th>certification_date</th>\n",
       "      <th>owner_types</th>\n",
       "      <th>gross_square_foot</th>\n",
       "      <th>total_property_area</th>\n",
       "      <th>project_types</th>\n",
       "      <th>registration_date</th>\n",
       "    </tr>\n",
       "    <tr>\n",
       "      <th>project_id</th>\n",
       "      <th></th>\n",
       "      <th></th>\n",
       "      <th></th>\n",
       "      <th></th>\n",
       "      <th></th>\n",
       "      <th></th>\n",
       "      <th></th>\n",
       "      <th></th>\n",
       "      <th></th>\n",
       "      <th></th>\n",
       "      <th></th>\n",
       "      <th></th>\n",
       "      <th></th>\n",
       "      <th></th>\n",
       "      <th></th>\n",
       "      <th></th>\n",
       "      <th></th>\n",
       "      <th></th>\n",
       "      <th></th>\n",
       "      <th></th>\n",
       "      <th></th>\n",
       "    </tr>\n",
       "  </thead>\n",
       "  <tbody>\n",
       "    <tr>\n",
       "      <th>10000385</th>\n",
       "      <td>1</td>\n",
       "      <td>0</td>\n",
       "      <td>0</td>\n",
       "      <td>0</td>\n",
       "      <td>1</td>\n",
       "      <td>1</td>\n",
       "      <td>1</td>\n",
       "      <td>1</td>\n",
       "      <td>1</td>\n",
       "      <td>1</td>\n",
       "      <td>...</td>\n",
       "      <td>US</td>\n",
       "      <td>LEED-NC 2.2</td>\n",
       "      <td>52</td>\n",
       "      <td>Platinum</td>\n",
       "      <td>2010-12-22</td>\n",
       "      <td>Non-Profit Org.</td>\n",
       "      <td>29496</td>\n",
       "      <td>1549749</td>\n",
       "      <td>Interpretive Center</td>\n",
       "      <td>2002-05-13</td>\n",
       "    </tr>\n",
       "    <tr>\n",
       "      <th>10000414</th>\n",
       "      <td>1</td>\n",
       "      <td>1</td>\n",
       "      <td>0</td>\n",
       "      <td>1</td>\n",
       "      <td>1</td>\n",
       "      <td>1</td>\n",
       "      <td>0</td>\n",
       "      <td>1</td>\n",
       "      <td>1</td>\n",
       "      <td>0</td>\n",
       "      <td>...</td>\n",
       "      <td>US</td>\n",
       "      <td>LEED-NC 2.2</td>\n",
       "      <td>40</td>\n",
       "      <td>Gold</td>\n",
       "      <td>2010-04-07</td>\n",
       "      <td>State Government</td>\n",
       "      <td>72543</td>\n",
       "      <td>114423</td>\n",
       "      <td>Commercial Office</td>\n",
       "      <td>2002-06-10</td>\n",
       "    </tr>\n",
       "    <tr>\n",
       "      <th>10000572</th>\n",
       "      <td>1</td>\n",
       "      <td>0</td>\n",
       "      <td>0</td>\n",
       "      <td>0</td>\n",
       "      <td>1</td>\n",
       "      <td>1</td>\n",
       "      <td>1</td>\n",
       "      <td>0</td>\n",
       "      <td>1</td>\n",
       "      <td>1</td>\n",
       "      <td>...</td>\n",
       "      <td>US</td>\n",
       "      <td>LEED-NC 2.2</td>\n",
       "      <td>40</td>\n",
       "      <td>Gold</td>\n",
       "      <td>2014-06-02</td>\n",
       "      <td>Federal Government</td>\n",
       "      <td>20166</td>\n",
       "      <td>846539</td>\n",
       "      <td>Interpretive Center</td>\n",
       "      <td>2002-11-11</td>\n",
       "    </tr>\n",
       "    <tr>\n",
       "      <th>10001269</th>\n",
       "      <td>1</td>\n",
       "      <td>0</td>\n",
       "      <td>0</td>\n",
       "      <td>0</td>\n",
       "      <td>1</td>\n",
       "      <td>0</td>\n",
       "      <td>1</td>\n",
       "      <td>0</td>\n",
       "      <td>0</td>\n",
       "      <td>1</td>\n",
       "      <td>...</td>\n",
       "      <td>US</td>\n",
       "      <td>LEED-NC 2.2</td>\n",
       "      <td>43</td>\n",
       "      <td>Gold</td>\n",
       "      <td>2010-08-26</td>\n",
       "      <td>Non-Profit Org.</td>\n",
       "      <td>6458</td>\n",
       "      <td>1388551</td>\n",
       "      <td>Other</td>\n",
       "      <td>2004-02-17</td>\n",
       "    </tr>\n",
       "    <tr>\n",
       "      <th>10001291</th>\n",
       "      <td>1</td>\n",
       "      <td>1</td>\n",
       "      <td>1</td>\n",
       "      <td>1</td>\n",
       "      <td>1</td>\n",
       "      <td>0</td>\n",
       "      <td>1</td>\n",
       "      <td>0</td>\n",
       "      <td>1</td>\n",
       "      <td>1</td>\n",
       "      <td>...</td>\n",
       "      <td>US</td>\n",
       "      <td>LEED-NC 2.2</td>\n",
       "      <td>55</td>\n",
       "      <td>Platinum</td>\n",
       "      <td>2010-08-30</td>\n",
       "      <td>Non-Profit Org.</td>\n",
       "      <td>190131</td>\n",
       "      <td>18175</td>\n",
       "      <td>Laboratory</td>\n",
       "      <td>2004-03-03</td>\n",
       "    </tr>\n",
       "  </tbody>\n",
       "</table>\n",
       "<p>5 rows × 70 columns</p>\n",
       "</div>"
      ],
      "text/plain": [
       "            ssc1  ssc2  ssc3  ssc4_1  ssc4_2  ssc4_3  ssc4_4  ssc5_1  ssc5_2  \\\n",
       "project_id                                                                     \n",
       "10000385       1     0     0       0       1       1       1       1       1   \n",
       "10000414       1     1     0       1       1       1       0       1       1   \n",
       "10000572       1     0     0       0       1       1       1       0       1   \n",
       "10001269       1     0     0       0       1       0       1       0       0   \n",
       "10001291       1     1     1       1       1       0       1       0       1   \n",
       "\n",
       "            ssc6_1        ...          country  leed_version  points_achieved  \\\n",
       "project_id                ...                                                   \n",
       "10000385         1        ...               US   LEED-NC 2.2               52   \n",
       "10000414         0        ...               US   LEED-NC 2.2               40   \n",
       "10000572         1        ...               US   LEED-NC 2.2               40   \n",
       "10001269         1        ...               US   LEED-NC 2.2               43   \n",
       "10001291         1        ...               US   LEED-NC 2.2               55   \n",
       "\n",
       "            certification_level  certification_date         owner_types  \\\n",
       "project_id                                                                \n",
       "10000385               Platinum          2010-12-22     Non-Profit Org.   \n",
       "10000414                   Gold          2010-04-07    State Government   \n",
       "10000572                   Gold          2014-06-02  Federal Government   \n",
       "10001269                   Gold          2010-08-26     Non-Profit Org.   \n",
       "10001291               Platinum          2010-08-30     Non-Profit Org.   \n",
       "\n",
       "            gross_square_foot  total_property_area        project_types  \\\n",
       "project_id                                                                \n",
       "10000385                29496              1549749  Interpretive Center   \n",
       "10000414                72543               114423    Commercial Office   \n",
       "10000572                20166               846539  Interpretive Center   \n",
       "10001269                 6458              1388551                Other   \n",
       "10001291               190131                18175           Laboratory   \n",
       "\n",
       "            registration_date  \n",
       "project_id                     \n",
       "10000385           2002-05-13  \n",
       "10000414           2002-06-10  \n",
       "10000572           2002-11-11  \n",
       "10001269           2004-02-17  \n",
       "10001291           2004-03-03  \n",
       "\n",
       "[5 rows x 70 columns]"
      ]
     },
     "execution_count": 71,
     "metadata": {},
     "output_type": "execute_result"
    }
   ],
   "source": [
    "merged_df_2_2_small.head()"
   ]
  },
  {
   "cell_type": "code",
   "execution_count": 72,
   "metadata": {
    "collapsed": false
   },
   "outputs": [
    {
     "data": {
      "text/plain": [
       "Chicago                   35\n",
       "Denver                    27\n",
       "Houston                   23\n",
       "San Diego                 22\n",
       "Seattle                   21\n",
       "Miami                     20\n",
       "Philadelphia              20\n",
       "Washington                20\n",
       "Dallas                    19\n",
       "San Francisco             19\n",
       "Gainesville               18\n",
       "Albuquerque               17\n",
       "Cincinnati                17\n",
       "Nashville                 17\n",
       "Columbus                  16\n",
       "Portland                  15\n",
       "Jacksonville              15\n",
       "Cleveland                 14\n",
       "Indianapolis              14\n",
       "Atlanta                   14\n",
       "Charlottesville           13\n",
       "Long Beach                13\n",
       "Tampa                     12\n",
       "San Antonio               12\n",
       "Elon                      12\n",
       "Austin                    12\n",
       "Boston                    12\n",
       "Salt Lake City            11\n",
       "Madison                   11\n",
       "Lexington                 11\n",
       "                          ..\n",
       "Oglesby                    1\n",
       "Middlebury                 1\n",
       "Churubusco                 1\n",
       "Bridgeport                 1\n",
       "Painted Post               1\n",
       "Broadview Heights          1\n",
       "Carrollton                 1\n",
       "San Juan Bautista          1\n",
       "Burleson                   1\n",
       "Valley City                1\n",
       "LaVista                    1\n",
       "Truckee                    1\n",
       "Bellingham                 1\n",
       "Research Triangle Park     1\n",
       "Grayslake                  1\n",
       "Fort Lee                   1\n",
       "Olympia                    1\n",
       "West Tisbury               1\n",
       "Pope Air Force Base        1\n",
       "March ARB                  1\n",
       "Surfside                   1\n",
       "Loomis                     1\n",
       "La Habra                   1\n",
       "Bellemont                  1\n",
       "Union                      1\n",
       "International Falls        1\n",
       "Dunedin                    1\n",
       "Carlin                     1\n",
       "Palmetto                   1\n",
       "Descanso                   1\n",
       "dtype: int64"
      ]
     },
     "execution_count": 72,
     "metadata": {},
     "output_type": "execute_result"
    }
   ],
   "source": [
    "merged_df_2009_small[\"city\"].value_counts()"
   ]
  },
  {
   "cell_type": "code",
   "execution_count": 73,
   "metadata": {
    "collapsed": false
   },
   "outputs": [
    {
     "data": {
      "text/plain": [
       "Chicago                  50\n",
       "Houston                  46\n",
       "San Diego                39\n",
       "Seattle                  39\n",
       "Portland                 32\n",
       "Washington               29\n",
       "Los Angeles              29\n",
       "Atlanta                  26\n",
       "Dallas                   25\n",
       "San Francisco            23\n",
       "Albuquerque              22\n",
       "Columbus                 22\n",
       "Denver                   21\n",
       "Austin                   21\n",
       "Fort Carson              21\n",
       "San Antonio              20\n",
       "MCB Camp Pendleton       19\n",
       "Arlington                19\n",
       "New York                 18\n",
       "Raleigh                  18\n",
       "Springfield              18\n",
       "Baltimore                17\n",
       "Salt Lake City           17\n",
       "Orlando                  16\n",
       "Gainesville              16\n",
       "Cincinnati               15\n",
       "Columbia                 15\n",
       "Rochester                15\n",
       "Las Vegas                15\n",
       "Charlotte                15\n",
       "                         ..\n",
       "Gates                     1\n",
       "Aston                     1\n",
       "Wellman                   1\n",
       "Staten Island             1\n",
       "Galveston                 1\n",
       "Cheyney                   1\n",
       "North Scituate            1\n",
       "Kingsville                1\n",
       "Washington, D.C.          1\n",
       "Bakersfiled               1\n",
       "Pearl City                1\n",
       "Rock Island               1\n",
       "Vadnais Heights           1\n",
       "St Petersburg             1\n",
       "Sierra Vista              1\n",
       "Chattanooga,              1\n",
       "Healdsburg                1\n",
       "Klamath Falls             1\n",
       "Hailey                    1\n",
       "Bellemont                 1\n",
       "Bullhead City             1\n",
       "SIDNEY                    1\n",
       "DAVIDSON                  1\n",
       "Nellis Air Force Base     1\n",
       "GARRETTSVILLE             1\n",
       "Redwood City              1\n",
       "Botkins                   1\n",
       "Worland                   1\n",
       "West Haven                1\n",
       "Livonia                   1\n",
       "dtype: int64"
      ]
     },
     "execution_count": 73,
     "metadata": {},
     "output_type": "execute_result"
    }
   ],
   "source": [
    " merged_df_2_2_small[\"city\"].value_counts()"
   ]
  },
  {
   "cell_type": "code",
   "execution_count": 82,
   "metadata": {
    "collapsed": true
   },
   "outputs": [],
   "source": [
    "ny_df_2009 = merged_df_2009_small[merged_df_2009_small[\"city\"] == \"New York\"]"
   ]
  },
  {
   "cell_type": "code",
   "execution_count": 83,
   "metadata": {
    "collapsed": false
   },
   "outputs": [
    {
     "data": {
      "text/html": [
       "<div>\n",
       "<table border=\"1\" class=\"dataframe\">\n",
       "  <thead>\n",
       "    <tr style=\"text-align: right;\">\n",
       "      <th></th>\n",
       "      <th>street</th>\n",
       "      <th>city</th>\n",
       "      <th>zip_code</th>\n",
       "    </tr>\n",
       "    <tr>\n",
       "      <th>project_id</th>\n",
       "      <th></th>\n",
       "      <th></th>\n",
       "      <th></th>\n",
       "    </tr>\n",
       "  </thead>\n",
       "  <tbody>\n",
       "    <tr>\n",
       "      <th>1000007248</th>\n",
       "      <td>102 North End Ave</td>\n",
       "      <td>New York</td>\n",
       "      <td>10282</td>\n",
       "    </tr>\n",
       "    <tr>\n",
       "      <th>1000011173</th>\n",
       "      <td>1214 5th Avenue</td>\n",
       "      <td>New York</td>\n",
       "      <td>10029</td>\n",
       "    </tr>\n",
       "    <tr>\n",
       "      <th>1000013203</th>\n",
       "      <td>325 W 33rd Street</td>\n",
       "      <td>New York</td>\n",
       "      <td>10001</td>\n",
       "    </tr>\n",
       "    <tr>\n",
       "      <th>1000013554</th>\n",
       "      <td>424 E. 92nd Street</td>\n",
       "      <td>New York</td>\n",
       "      <td>10128</td>\n",
       "    </tr>\n",
       "    <tr>\n",
       "      <th>1000013638</th>\n",
       "      <td>66 East 11th Street</td>\n",
       "      <td>New York</td>\n",
       "      <td>10003</td>\n",
       "    </tr>\n",
       "    <tr>\n",
       "      <th>1000014697</th>\n",
       "      <td>345 West 14th Street</td>\n",
       "      <td>New York</td>\n",
       "      <td>10014</td>\n",
       "    </tr>\n",
       "    <tr>\n",
       "      <th>1000015506</th>\n",
       "      <td>260 W 26th Street</td>\n",
       "      <td>New York</td>\n",
       "      <td>10001</td>\n",
       "    </tr>\n",
       "    <tr>\n",
       "      <th>1000018710</th>\n",
       "      <td>244 Greene Street</td>\n",
       "      <td>New York</td>\n",
       "      <td>10003</td>\n",
       "    </tr>\n",
       "    <tr>\n",
       "      <th>1000021152</th>\n",
       "      <td>1824 Madison Avenue</td>\n",
       "      <td>New York</td>\n",
       "      <td>10035</td>\n",
       "    </tr>\n",
       "  </tbody>\n",
       "</table>\n",
       "</div>"
      ],
      "text/plain": [
       "                          street      city zip_code\n",
       "project_id                                         \n",
       "1000007248     102 North End Ave  New York    10282\n",
       "1000011173       1214 5th Avenue  New York    10029\n",
       "1000013203     325 W 33rd Street  New York    10001\n",
       "1000013554    424 E. 92nd Street  New York    10128\n",
       "1000013638   66 East 11th Street  New York    10003\n",
       "1000014697  345 West 14th Street  New York    10014\n",
       "1000015506     260 W 26th Street  New York    10001\n",
       "1000018710     244 Greene Street  New York    10003\n",
       "1000021152   1824 Madison Avenue  New York    10035"
      ]
     },
     "execution_count": 83,
     "metadata": {},
     "output_type": "execute_result"
    }
   ],
   "source": [
    "ny_df_2009[['street', 'city', 'zip_code']]"
   ]
  },
  {
   "cell_type": "code",
   "execution_count": 84,
   "metadata": {
    "collapsed": true
   },
   "outputs": [],
   "source": [
    "ny_df_2_2 = merged_df_2_2_small[merged_df_2_2_small[\"city\"] == \"New York\"]"
   ]
  },
  {
   "cell_type": "code",
   "execution_count": 86,
   "metadata": {
    "collapsed": false
   },
   "outputs": [
    {
     "data": {
      "text/html": [
       "<div>\n",
       "<table border=\"1\" class=\"dataframe\">\n",
       "  <thead>\n",
       "    <tr style=\"text-align: right;\">\n",
       "      <th></th>\n",
       "      <th>street</th>\n",
       "      <th>city</th>\n",
       "      <th>zip_code</th>\n",
       "    </tr>\n",
       "    <tr>\n",
       "      <th>project_id</th>\n",
       "      <th></th>\n",
       "      <th></th>\n",
       "      <th></th>\n",
       "    </tr>\n",
       "  </thead>\n",
       "  <tbody>\n",
       "    <tr>\n",
       "      <th>10001291</th>\n",
       "      <td>30 Cooper Square</td>\n",
       "      <td>New York</td>\n",
       "      <td>10003-7120</td>\n",
       "    </tr>\n",
       "    <tr>\n",
       "      <th>10013894</th>\n",
       "      <td>511-517 W. 23rd Street</td>\n",
       "      <td>New York</td>\n",
       "      <td>10011</td>\n",
       "    </tr>\n",
       "    <tr>\n",
       "      <th>10017960</th>\n",
       "      <td>303 East 33rd Street</td>\n",
       "      <td>New York</td>\n",
       "      <td>10003</td>\n",
       "    </tr>\n",
       "    <tr>\n",
       "      <th>10023263</th>\n",
       "      <td>628 West 113th street</td>\n",
       "      <td>New York</td>\n",
       "      <td>10027</td>\n",
       "    </tr>\n",
       "    <tr>\n",
       "      <th>10029402</th>\n",
       "      <td>1269 Lexington Avenue</td>\n",
       "      <td>New York</td>\n",
       "      <td>10028</td>\n",
       "    </tr>\n",
       "    <tr>\n",
       "      <th>10056262</th>\n",
       "      <td>550 West 120th Street</td>\n",
       "      <td>New York</td>\n",
       "      <td>10027</td>\n",
       "    </tr>\n",
       "    <tr>\n",
       "      <th>10063833</th>\n",
       "      <td>205 East 85th street</td>\n",
       "      <td>New York</td>\n",
       "      <td>10028</td>\n",
       "    </tr>\n",
       "    <tr>\n",
       "      <th>10087613</th>\n",
       "      <td>550 W 54th Street</td>\n",
       "      <td>New York</td>\n",
       "      <td>10019</td>\n",
       "    </tr>\n",
       "    <tr>\n",
       "      <th>10093564</th>\n",
       "      <td>485 Fifth Ave</td>\n",
       "      <td>New York</td>\n",
       "      <td>10017</td>\n",
       "    </tr>\n",
       "    <tr>\n",
       "      <th>10174053</th>\n",
       "      <td>West 42nd Street</td>\n",
       "      <td>New York</td>\n",
       "      <td>10018</td>\n",
       "    </tr>\n",
       "    <tr>\n",
       "      <th>10194176</th>\n",
       "      <td>150 West 65th Street</td>\n",
       "      <td>New York</td>\n",
       "      <td>10023</td>\n",
       "    </tr>\n",
       "    <tr>\n",
       "      <th>10195851</th>\n",
       "      <td>3009 Broadway</td>\n",
       "      <td>New York</td>\n",
       "      <td>10027</td>\n",
       "    </tr>\n",
       "    <tr>\n",
       "      <th>10199773</th>\n",
       "      <td>625 West 140th Street</td>\n",
       "      <td>New York</td>\n",
       "      <td>10031</td>\n",
       "    </tr>\n",
       "    <tr>\n",
       "      <th>10328669</th>\n",
       "      <td>713 Madison Avenue</td>\n",
       "      <td>New York</td>\n",
       "      <td>10065</td>\n",
       "    </tr>\n",
       "    <tr>\n",
       "      <th>10336987</th>\n",
       "      <td>533 W 218th Street</td>\n",
       "      <td>New York</td>\n",
       "      <td>10034</td>\n",
       "    </tr>\n",
       "    <tr>\n",
       "      <th>10344722</th>\n",
       "      <td>413 East 69th Street</td>\n",
       "      <td>New York</td>\n",
       "      <td>10021</td>\n",
       "    </tr>\n",
       "    <tr>\n",
       "      <th>10403421</th>\n",
       "      <td>Liberty Island</td>\n",
       "      <td>New York</td>\n",
       "      <td>10004</td>\n",
       "    </tr>\n",
       "    <tr>\n",
       "      <th>10523846</th>\n",
       "      <td>8 Washington Mews</td>\n",
       "      <td>New York</td>\n",
       "      <td>10003</td>\n",
       "    </tr>\n",
       "  </tbody>\n",
       "</table>\n",
       "</div>"
      ],
      "text/plain": [
       "                            street      city    zip_code\n",
       "project_id                                              \n",
       "10001291          30 Cooper Square  New York  10003-7120\n",
       "10013894    511-517 W. 23rd Street  New York       10011\n",
       "10017960      303 East 33rd Street  New York       10003\n",
       "10023263     628 West 113th street  New York       10027\n",
       "10029402     1269 Lexington Avenue  New York       10028\n",
       "10056262     550 West 120th Street  New York       10027\n",
       "10063833      205 East 85th street  New York       10028\n",
       "10087613         550 W 54th Street  New York       10019\n",
       "10093564             485 Fifth Ave  New York       10017\n",
       "10174053          West 42nd Street  New York       10018\n",
       "10194176      150 West 65th Street  New York       10023\n",
       "10195851             3009 Broadway  New York       10027\n",
       "10199773     625 West 140th Street  New York       10031\n",
       "10328669        713 Madison Avenue  New York       10065\n",
       "10336987        533 W 218th Street  New York       10034\n",
       "10344722      413 East 69th Street  New York       10021\n",
       "10403421            Liberty Island  New York       10004\n",
       "10523846         8 Washington Mews  New York       10003"
      ]
     },
     "execution_count": 86,
     "metadata": {},
     "output_type": "execute_result"
    }
   ],
   "source": [
    "ny_df_2_2[['street', 'city', 'zip_code']]"
   ]
  },
  {
   "cell_type": "code",
   "execution_count": null,
   "metadata": {
    "collapsed": true
   },
   "outputs": [],
   "source": [
    "df[((df.A==1) == True) | ((df.D==6) == True)]"
   ]
  },
  {
   "cell_type": "code",
   "execution_count": 89,
   "metadata": {
    "collapsed": true
   },
   "outputs": [],
   "source": [
    "ny_df_2009_small = merged_df_2009_small[(merged_df_2009_small[\"city\"] == \"New York\")|(merged_df_2009_small[\"city\"] == \"Brooklyn\")|(merged_df_2009_small[\"city\"] == \"Bronx\")|(merged_df_2009_small[\"city\"] == \"Staten Island\")|(merged_df_2009_small[\"city\"] == \"Queens\")]"
   ]
  },
  {
   "cell_type": "code",
   "execution_count": 96,
   "metadata": {
    "collapsed": false
   },
   "outputs": [
    {
     "data": {
      "text/html": [
       "<div>\n",
       "<table border=\"1\" class=\"dataframe\">\n",
       "  <thead>\n",
       "    <tr style=\"text-align: right;\">\n",
       "      <th></th>\n",
       "      <th>street</th>\n",
       "      <th>city</th>\n",
       "      <th>zip_code</th>\n",
       "      <th>certification_date</th>\n",
       "    </tr>\n",
       "    <tr>\n",
       "      <th>project_id</th>\n",
       "      <th></th>\n",
       "      <th></th>\n",
       "      <th></th>\n",
       "      <th></th>\n",
       "    </tr>\n",
       "  </thead>\n",
       "  <tbody>\n",
       "    <tr>\n",
       "      <th>1000000517</th>\n",
       "      <td>214-32 Jamaica Ave</td>\n",
       "      <td>Queens</td>\n",
       "      <td>11428</td>\n",
       "      <td>2011-07-08</td>\n",
       "    </tr>\n",
       "    <tr>\n",
       "      <th>1000007248</th>\n",
       "      <td>102 North End Ave</td>\n",
       "      <td>New York</td>\n",
       "      <td>10282</td>\n",
       "      <td>2013-02-21</td>\n",
       "    </tr>\n",
       "    <tr>\n",
       "      <th>1000008810</th>\n",
       "      <td>45 Clermont Avenue</td>\n",
       "      <td>Brooklyn</td>\n",
       "      <td>11205</td>\n",
       "      <td>2012-06-13</td>\n",
       "    </tr>\n",
       "    <tr>\n",
       "      <th>1000011173</th>\n",
       "      <td>1214 5th Avenue</td>\n",
       "      <td>New York</td>\n",
       "      <td>10029</td>\n",
       "      <td>2013-09-13</td>\n",
       "    </tr>\n",
       "    <tr>\n",
       "      <th>1000013131</th>\n",
       "      <td>245 East Mosholu Parkway North</td>\n",
       "      <td>Bronx</td>\n",
       "      <td>10467</td>\n",
       "      <td>2014-06-03</td>\n",
       "    </tr>\n",
       "    <tr>\n",
       "      <th>1000013203</th>\n",
       "      <td>325 W 33rd Street</td>\n",
       "      <td>New York</td>\n",
       "      <td>10001</td>\n",
       "      <td>2015-03-16</td>\n",
       "    </tr>\n",
       "    <tr>\n",
       "      <th>1000013554</th>\n",
       "      <td>424 E. 92nd Street</td>\n",
       "      <td>New York</td>\n",
       "      <td>10128</td>\n",
       "      <td>2014-09-10</td>\n",
       "    </tr>\n",
       "    <tr>\n",
       "      <th>1000013638</th>\n",
       "      <td>66 East 11th Street</td>\n",
       "      <td>New York</td>\n",
       "      <td>10003</td>\n",
       "      <td>2015-05-19</td>\n",
       "    </tr>\n",
       "    <tr>\n",
       "      <th>1000014697</th>\n",
       "      <td>345 West 14th Street</td>\n",
       "      <td>New York</td>\n",
       "      <td>10014</td>\n",
       "      <td>2014-11-18</td>\n",
       "    </tr>\n",
       "    <tr>\n",
       "      <th>1000015506</th>\n",
       "      <td>260 W 26th Street</td>\n",
       "      <td>New York</td>\n",
       "      <td>10001</td>\n",
       "      <td>2014-02-11</td>\n",
       "    </tr>\n",
       "    <tr>\n",
       "      <th>1000018710</th>\n",
       "      <td>244 Greene Street</td>\n",
       "      <td>New York</td>\n",
       "      <td>10003</td>\n",
       "      <td>2014-06-10</td>\n",
       "    </tr>\n",
       "    <tr>\n",
       "      <th>1000021152</th>\n",
       "      <td>1824 Madison Avenue</td>\n",
       "      <td>New York</td>\n",
       "      <td>10035</td>\n",
       "      <td>2014-03-11</td>\n",
       "    </tr>\n",
       "  </tbody>\n",
       "</table>\n",
       "</div>"
      ],
      "text/plain": [
       "                                    street      city zip_code  \\\n",
       "project_id                                                      \n",
       "1000000517              214-32 Jamaica Ave    Queens    11428   \n",
       "1000007248               102 North End Ave  New York    10282   \n",
       "1000008810              45 Clermont Avenue  Brooklyn    11205   \n",
       "1000011173                 1214 5th Avenue  New York    10029   \n",
       "1000013131  245 East Mosholu Parkway North     Bronx    10467   \n",
       "1000013203               325 W 33rd Street  New York    10001   \n",
       "1000013554              424 E. 92nd Street  New York    10128   \n",
       "1000013638             66 East 11th Street  New York    10003   \n",
       "1000014697            345 West 14th Street  New York    10014   \n",
       "1000015506               260 W 26th Street  New York    10001   \n",
       "1000018710               244 Greene Street  New York    10003   \n",
       "1000021152             1824 Madison Avenue  New York    10035   \n",
       "\n",
       "           certification_date  \n",
       "project_id                     \n",
       "1000000517         2011-07-08  \n",
       "1000007248         2013-02-21  \n",
       "1000008810         2012-06-13  \n",
       "1000011173         2013-09-13  \n",
       "1000013131         2014-06-03  \n",
       "1000013203         2015-03-16  \n",
       "1000013554         2014-09-10  \n",
       "1000013638         2015-05-19  \n",
       "1000014697         2014-11-18  \n",
       "1000015506         2014-02-11  \n",
       "1000018710         2014-06-10  \n",
       "1000021152         2014-03-11  "
      ]
     },
     "execution_count": 96,
     "metadata": {},
     "output_type": "execute_result"
    }
   ],
   "source": [
    "ny_df_2009_small[['street', 'city', 'zip_code', 'certification_date']]"
   ]
  },
  {
   "cell_type": "code",
   "execution_count": 92,
   "metadata": {
    "collapsed": false
   },
   "outputs": [],
   "source": [
    "ny_df_2_2_small = merged_df_2_2_small[(merged_df_2_2_small[\"city\"] == \"New York\")|(merged_df_2_2_small[\"city\"] == \"Brooklyn\")|(merged_df_2_2_small[\"city\"] == \"Bronx\")|(merged_df_2_2_small[\"city\"] == \"Staten Island\")|(merged_df_2_2_small[\"city\"] == \"Queens\")]"
   ]
  },
  {
   "cell_type": "code",
   "execution_count": 98,
   "metadata": {
    "collapsed": false
   },
   "outputs": [
    {
     "data": {
      "text/html": [
       "<div>\n",
       "<table border=\"1\" class=\"dataframe\">\n",
       "  <thead>\n",
       "    <tr style=\"text-align: right;\">\n",
       "      <th></th>\n",
       "      <th>street</th>\n",
       "      <th>city</th>\n",
       "      <th>zip_code</th>\n",
       "      <th>certification_date</th>\n",
       "      <th>owner_types</th>\n",
       "    </tr>\n",
       "    <tr>\n",
       "      <th>project_id</th>\n",
       "      <th></th>\n",
       "      <th></th>\n",
       "      <th></th>\n",
       "      <th></th>\n",
       "      <th></th>\n",
       "    </tr>\n",
       "  </thead>\n",
       "  <tbody>\n",
       "    <tr>\n",
       "      <th>10001291</th>\n",
       "      <td>30 Cooper Square</td>\n",
       "      <td>New York</td>\n",
       "      <td>10003-7120</td>\n",
       "      <td>2010-08-30</td>\n",
       "      <td>Non-Profit Org.</td>\n",
       "    </tr>\n",
       "    <tr>\n",
       "      <th>10003672</th>\n",
       "      <td>2990 Goulden Avenue</td>\n",
       "      <td>Bronx</td>\n",
       "      <td>10468</td>\n",
       "      <td>2013-07-24</td>\n",
       "      <td>State Government</td>\n",
       "    </tr>\n",
       "    <tr>\n",
       "      <th>10011615</th>\n",
       "      <td>1015 Fox Street</td>\n",
       "      <td>Bronx</td>\n",
       "      <td>10459</td>\n",
       "      <td>2012-02-29</td>\n",
       "      <td>Non-Profit Org.</td>\n",
       "    </tr>\n",
       "    <tr>\n",
       "      <th>10013894</th>\n",
       "      <td>511-517 W. 23rd Street</td>\n",
       "      <td>New York</td>\n",
       "      <td>10011</td>\n",
       "      <td>2014-01-02</td>\n",
       "      <td>Profit Org.</td>\n",
       "    </tr>\n",
       "    <tr>\n",
       "      <th>10017960</th>\n",
       "      <td>303 East 33rd Street</td>\n",
       "      <td>New York</td>\n",
       "      <td>10003</td>\n",
       "      <td>2011-10-25</td>\n",
       "      <td>Profit Org.</td>\n",
       "    </tr>\n",
       "    <tr>\n",
       "      <th>10023263</th>\n",
       "      <td>628 West 113th street</td>\n",
       "      <td>New York</td>\n",
       "      <td>10027</td>\n",
       "      <td>2010-12-23</td>\n",
       "      <td>Non-Profit Org.</td>\n",
       "    </tr>\n",
       "    <tr>\n",
       "      <th>10029402</th>\n",
       "      <td>1269 Lexington Avenue</td>\n",
       "      <td>New York</td>\n",
       "      <td>10028</td>\n",
       "      <td>2010-12-03</td>\n",
       "      <td>Profit Org.</td>\n",
       "    </tr>\n",
       "    <tr>\n",
       "      <th>10031414</th>\n",
       "      <td>550 Food Center Drive</td>\n",
       "      <td>Bronx</td>\n",
       "      <td>10474</td>\n",
       "      <td>2010-06-02</td>\n",
       "      <td>Profit Org.</td>\n",
       "    </tr>\n",
       "    <tr>\n",
       "      <th>10031925</th>\n",
       "      <td>970 Richmond Ave.</td>\n",
       "      <td>Staten Island</td>\n",
       "      <td>10314</td>\n",
       "      <td>2014-01-21</td>\n",
       "      <td>Local Government</td>\n",
       "    </tr>\n",
       "    <tr>\n",
       "      <th>10037297</th>\n",
       "      <td>80 De Kalb Avenue</td>\n",
       "      <td>Brooklyn</td>\n",
       "      <td>11201</td>\n",
       "      <td>2011-09-15</td>\n",
       "      <td>Profit Org.</td>\n",
       "    </tr>\n",
       "    <tr>\n",
       "      <th>10042895</th>\n",
       "      <td>Navy Street at West Street</td>\n",
       "      <td>Brooklyn</td>\n",
       "      <td>11201</td>\n",
       "      <td>2011-09-08</td>\n",
       "      <td>Non-Profit Org.</td>\n",
       "    </tr>\n",
       "    <tr>\n",
       "      <th>10056262</th>\n",
       "      <td>550 West 120th Street</td>\n",
       "      <td>New York</td>\n",
       "      <td>10027</td>\n",
       "      <td>2012-02-23</td>\n",
       "      <td>Other</td>\n",
       "    </tr>\n",
       "    <tr>\n",
       "      <th>10058299</th>\n",
       "      <td>37 Hegeman Avenue</td>\n",
       "      <td>Brooklyn</td>\n",
       "      <td>11212</td>\n",
       "      <td>2012-11-02</td>\n",
       "      <td>Non-Profit Org.</td>\n",
       "    </tr>\n",
       "    <tr>\n",
       "      <th>10058415</th>\n",
       "      <td>455 East 148th Street</td>\n",
       "      <td>Bronx</td>\n",
       "      <td>10455</td>\n",
       "      <td>2013-03-14</td>\n",
       "      <td>Non-Profit Org.</td>\n",
       "    </tr>\n",
       "    <tr>\n",
       "      <th>10063833</th>\n",
       "      <td>205 East 85th street</td>\n",
       "      <td>New York</td>\n",
       "      <td>10028</td>\n",
       "      <td>2011-11-07</td>\n",
       "      <td>Other</td>\n",
       "    </tr>\n",
       "    <tr>\n",
       "      <th>10087613</th>\n",
       "      <td>550 W 54th Street</td>\n",
       "      <td>New York</td>\n",
       "      <td>10019</td>\n",
       "      <td>2014-10-02</td>\n",
       "      <td>Profit Org.</td>\n",
       "    </tr>\n",
       "    <tr>\n",
       "      <th>10093564</th>\n",
       "      <td>485 Fifth Ave</td>\n",
       "      <td>New York</td>\n",
       "      <td>10017</td>\n",
       "      <td>2011-04-06</td>\n",
       "      <td>Profit Org.</td>\n",
       "    </tr>\n",
       "    <tr>\n",
       "      <th>10113152</th>\n",
       "      <td>524 Myrtle Avenue</td>\n",
       "      <td>Brooklyn</td>\n",
       "      <td>11205</td>\n",
       "      <td>2011-07-07</td>\n",
       "      <td>Profit Org.</td>\n",
       "    </tr>\n",
       "    <tr>\n",
       "      <th>10118743</th>\n",
       "      <td>171 East Drive</td>\n",
       "      <td>Brooklyn</td>\n",
       "      <td>11225</td>\n",
       "      <td>2014-09-15</td>\n",
       "      <td>Local Government</td>\n",
       "    </tr>\n",
       "    <tr>\n",
       "      <th>10146396</th>\n",
       "      <td>700 Brook Ave.</td>\n",
       "      <td>Bronx</td>\n",
       "      <td>10455</td>\n",
       "      <td>2013-03-21</td>\n",
       "      <td>Non-Profit Org.</td>\n",
       "    </tr>\n",
       "    <tr>\n",
       "      <th>10162868</th>\n",
       "      <td>321 Ashland Place</td>\n",
       "      <td>Brooklyn</td>\n",
       "      <td>11217</td>\n",
       "      <td>2013-08-06</td>\n",
       "      <td>Non-Profit Org.</td>\n",
       "    </tr>\n",
       "    <tr>\n",
       "      <th>10174053</th>\n",
       "      <td>West 42nd Street</td>\n",
       "      <td>New York</td>\n",
       "      <td>10018</td>\n",
       "      <td>2012-07-19</td>\n",
       "      <td>Profit Org.</td>\n",
       "    </tr>\n",
       "    <tr>\n",
       "      <th>10194176</th>\n",
       "      <td>150 West 65th Street</td>\n",
       "      <td>New York</td>\n",
       "      <td>10023</td>\n",
       "      <td>2014-10-27</td>\n",
       "      <td>Non-Profit Org.</td>\n",
       "    </tr>\n",
       "    <tr>\n",
       "      <th>10195851</th>\n",
       "      <td>3009 Broadway</td>\n",
       "      <td>New York</td>\n",
       "      <td>10027</td>\n",
       "      <td>2010-12-20</td>\n",
       "      <td>Non-Profit Org.</td>\n",
       "    </tr>\n",
       "    <tr>\n",
       "      <th>10199773</th>\n",
       "      <td>625 West 140th Street</td>\n",
       "      <td>New York</td>\n",
       "      <td>10031</td>\n",
       "      <td>2013-01-08</td>\n",
       "      <td>Non-Profit Org.</td>\n",
       "    </tr>\n",
       "    <tr>\n",
       "      <th>10211558</th>\n",
       "      <td>390 E. 158th Street</td>\n",
       "      <td>Bronx</td>\n",
       "      <td>10451</td>\n",
       "      <td>2012-04-25</td>\n",
       "      <td>Non-Profit Org.</td>\n",
       "    </tr>\n",
       "    <tr>\n",
       "      <th>10234037</th>\n",
       "      <td>200 Hall of Fame Terrace</td>\n",
       "      <td>Bronx</td>\n",
       "      <td>10453</td>\n",
       "      <td>2013-06-18</td>\n",
       "      <td>State Government</td>\n",
       "    </tr>\n",
       "    <tr>\n",
       "      <th>10242593</th>\n",
       "      <td>86 Kent Avenue</td>\n",
       "      <td>Brooklyn</td>\n",
       "      <td>11211</td>\n",
       "      <td>2015-03-17</td>\n",
       "      <td>Local Government</td>\n",
       "    </tr>\n",
       "    <tr>\n",
       "      <th>10261577</th>\n",
       "      <td>21-29 Belvidere Street</td>\n",
       "      <td>Brooklyn</td>\n",
       "      <td>11206</td>\n",
       "      <td>2011-02-16</td>\n",
       "      <td>Profit Org.</td>\n",
       "    </tr>\n",
       "    <tr>\n",
       "      <th>10261664</th>\n",
       "      <td>776 Lorimer Street</td>\n",
       "      <td>Brooklyn</td>\n",
       "      <td>11222</td>\n",
       "      <td>2015-03-05</td>\n",
       "      <td>Local Government</td>\n",
       "    </tr>\n",
       "    <tr>\n",
       "      <th>10298176</th>\n",
       "      <td>402 East 152nd Street</td>\n",
       "      <td>Bronx</td>\n",
       "      <td>10455</td>\n",
       "      <td>2011-07-21</td>\n",
       "      <td>Non-Profit Org.</td>\n",
       "    </tr>\n",
       "    <tr>\n",
       "      <th>10324736</th>\n",
       "      <td>250 Schermerhorn Street</td>\n",
       "      <td>Brooklyn</td>\n",
       "      <td>11213</td>\n",
       "      <td>2014-01-30</td>\n",
       "      <td>State Government</td>\n",
       "    </tr>\n",
       "    <tr>\n",
       "      <th>10328669</th>\n",
       "      <td>713 Madison Avenue</td>\n",
       "      <td>New York</td>\n",
       "      <td>10065</td>\n",
       "      <td>2011-12-06</td>\n",
       "      <td>Profit Org.</td>\n",
       "    </tr>\n",
       "    <tr>\n",
       "      <th>10336987</th>\n",
       "      <td>533 W 218th Street</td>\n",
       "      <td>New York</td>\n",
       "      <td>10034</td>\n",
       "      <td>2013-11-20</td>\n",
       "      <td>Profit Org., Non-Profit Org.</td>\n",
       "    </tr>\n",
       "    <tr>\n",
       "      <th>10344722</th>\n",
       "      <td>413 East 69th Street</td>\n",
       "      <td>New York</td>\n",
       "      <td>10021</td>\n",
       "      <td>2014-10-28</td>\n",
       "      <td>Profit Org.</td>\n",
       "    </tr>\n",
       "    <tr>\n",
       "      <th>10403421</th>\n",
       "      <td>Liberty Island</td>\n",
       "      <td>New York</td>\n",
       "      <td>10004</td>\n",
       "      <td>2011-07-20</td>\n",
       "      <td>Individual</td>\n",
       "    </tr>\n",
       "    <tr>\n",
       "      <th>10495981</th>\n",
       "      <td>1123 Wothern Street</td>\n",
       "      <td>Bronx</td>\n",
       "      <td>10474</td>\n",
       "      <td>2011-03-15</td>\n",
       "      <td>Individual</td>\n",
       "    </tr>\n",
       "    <tr>\n",
       "      <th>10523846</th>\n",
       "      <td>8 Washington Mews</td>\n",
       "      <td>New York</td>\n",
       "      <td>10003</td>\n",
       "      <td>2014-01-03</td>\n",
       "      <td>Profit Org.</td>\n",
       "    </tr>\n",
       "  </tbody>\n",
       "</table>\n",
       "</div>"
      ],
      "text/plain": [
       "                                street           city    zip_code  \\\n",
       "project_id                                                          \n",
       "10001291              30 Cooper Square       New York  10003-7120   \n",
       "10003672           2990 Goulden Avenue          Bronx       10468   \n",
       "10011615               1015 Fox Street          Bronx       10459   \n",
       "10013894        511-517 W. 23rd Street       New York       10011   \n",
       "10017960          303 East 33rd Street       New York       10003   \n",
       "10023263         628 West 113th street       New York       10027   \n",
       "10029402         1269 Lexington Avenue       New York       10028   \n",
       "10031414         550 Food Center Drive          Bronx       10474   \n",
       "10031925             970 Richmond Ave.  Staten Island       10314   \n",
       "10037297             80 De Kalb Avenue       Brooklyn       11201   \n",
       "10042895    Navy Street at West Street       Brooklyn       11201   \n",
       "10056262         550 West 120th Street       New York       10027   \n",
       "10058299             37 Hegeman Avenue       Brooklyn       11212   \n",
       "10058415         455 East 148th Street          Bronx       10455   \n",
       "10063833          205 East 85th street       New York       10028   \n",
       "10087613             550 W 54th Street       New York       10019   \n",
       "10093564                 485 Fifth Ave       New York       10017   \n",
       "10113152             524 Myrtle Avenue       Brooklyn       11205   \n",
       "10118743                171 East Drive       Brooklyn       11225   \n",
       "10146396                700 Brook Ave.          Bronx       10455   \n",
       "10162868             321 Ashland Place       Brooklyn       11217   \n",
       "10174053              West 42nd Street       New York       10018   \n",
       "10194176          150 West 65th Street       New York       10023   \n",
       "10195851                 3009 Broadway       New York       10027   \n",
       "10199773         625 West 140th Street       New York       10031   \n",
       "10211558           390 E. 158th Street          Bronx       10451   \n",
       "10234037      200 Hall of Fame Terrace          Bronx       10453   \n",
       "10242593                86 Kent Avenue       Brooklyn       11211   \n",
       "10261577        21-29 Belvidere Street       Brooklyn       11206   \n",
       "10261664            776 Lorimer Street       Brooklyn       11222   \n",
       "10298176         402 East 152nd Street          Bronx       10455   \n",
       "10324736       250 Schermerhorn Street       Brooklyn       11213   \n",
       "10328669            713 Madison Avenue       New York       10065   \n",
       "10336987            533 W 218th Street       New York       10034   \n",
       "10344722          413 East 69th Street       New York       10021   \n",
       "10403421                Liberty Island       New York       10004   \n",
       "10495981           1123 Wothern Street          Bronx       10474   \n",
       "10523846             8 Washington Mews       New York       10003   \n",
       "\n",
       "           certification_date                   owner_types  \n",
       "project_id                                                   \n",
       "10001291           2010-08-30               Non-Profit Org.  \n",
       "10003672           2013-07-24              State Government  \n",
       "10011615           2012-02-29               Non-Profit Org.  \n",
       "10013894           2014-01-02                   Profit Org.  \n",
       "10017960           2011-10-25                   Profit Org.  \n",
       "10023263           2010-12-23               Non-Profit Org.  \n",
       "10029402           2010-12-03                   Profit Org.  \n",
       "10031414           2010-06-02                   Profit Org.  \n",
       "10031925           2014-01-21              Local Government  \n",
       "10037297           2011-09-15                   Profit Org.  \n",
       "10042895           2011-09-08               Non-Profit Org.  \n",
       "10056262           2012-02-23                         Other  \n",
       "10058299           2012-11-02               Non-Profit Org.  \n",
       "10058415           2013-03-14               Non-Profit Org.  \n",
       "10063833           2011-11-07                         Other  \n",
       "10087613           2014-10-02                   Profit Org.  \n",
       "10093564           2011-04-06                   Profit Org.  \n",
       "10113152           2011-07-07                   Profit Org.  \n",
       "10118743           2014-09-15              Local Government  \n",
       "10146396           2013-03-21               Non-Profit Org.  \n",
       "10162868           2013-08-06               Non-Profit Org.  \n",
       "10174053           2012-07-19                   Profit Org.  \n",
       "10194176           2014-10-27               Non-Profit Org.  \n",
       "10195851           2010-12-20               Non-Profit Org.  \n",
       "10199773           2013-01-08               Non-Profit Org.  \n",
       "10211558           2012-04-25               Non-Profit Org.  \n",
       "10234037           2013-06-18              State Government  \n",
       "10242593           2015-03-17              Local Government  \n",
       "10261577           2011-02-16                   Profit Org.  \n",
       "10261664           2015-03-05              Local Government  \n",
       "10298176           2011-07-21               Non-Profit Org.  \n",
       "10324736           2014-01-30              State Government  \n",
       "10328669           2011-12-06                   Profit Org.  \n",
       "10336987           2013-11-20  Profit Org., Non-Profit Org.  \n",
       "10344722           2014-10-28                   Profit Org.  \n",
       "10403421           2011-07-20                    Individual  \n",
       "10495981           2011-03-15                    Individual  \n",
       "10523846           2014-01-03                   Profit Org.  "
      ]
     },
     "execution_count": 98,
     "metadata": {},
     "output_type": "execute_result"
    }
   ],
   "source": [
    "ny_df_2_2_small[['street', 'city', 'zip_code', \"certification_date\", \"owner_types\"]]"
   ]
  },
  {
   "cell_type": "code",
   "execution_count": 100,
   "metadata": {
    "collapsed": false
   },
   "outputs": [],
   "source": [
    "from sklearn.cluster import KMeans"
   ]
  },
  {
   "cell_type": "code",
   "execution_count": 101,
   "metadata": {
    "collapsed": true
   },
   "outputs": [],
   "source": [
    "from sklearn import preprocessing"
   ]
  },
  {
   "cell_type": "code",
   "execution_count": 103,
   "metadata": {
    "collapsed": false
   },
   "outputs": [
    {
     "data": {
      "text/plain": [
       "Index(['ssc1', 'ssc2', 'ssc3', 'ssc4_1', 'ssc4_2', 'ssc4_3', 'ssc4_4',\n",
       "       'ssc5_1', 'ssc5_2', 'ssc6_1', 'ssc6_2', 'ssc7_1', 'ssc7_2', 'ssc8',\n",
       "       'wec1', 'wec2', 'wec3', 'eac1', 'eac2', 'eac3', 'eac4', 'eac5', 'eac6',\n",
       "       'mrc1_1', 'mrc1_2', 'mrc2', 'mrc3', 'mrc4', 'mrc5', 'mrc6', 'mrc7',\n",
       "       'eqc1', 'eqc2', 'eqc3_1', 'eqc3_2', 'eqc4_1', 'eqc4_2', 'eqc4_3',\n",
       "       'eqc4_4', 'eqc5', 'eqc6_1', 'eqc6_2', 'eqc7_1', 'eqc7_2', 'eqc8_1',\n",
       "       'eqc8_2', 'idc1', 'idc2', 'extra1', 'extra2', 'extra3', 'extra4',\n",
       "       'is_confidential', 'name', 'street', 'city', 'zip_code', 'country',\n",
       "       'leed_version', 'points_achieved', 'certification_level',\n",
       "       'certification_date', 'owner_types', 'gross_square_foot',\n",
       "       'total_property_area', 'project_types', 'registration_date'],\n",
       "      dtype='object')"
      ]
     },
     "execution_count": 103,
     "metadata": {},
     "output_type": "execute_result"
    }
   ],
   "source": [
    "merged_df_2009_small.columns"
   ]
  },
  {
   "cell_type": "code",
   "execution_count": null,
   "metadata": {
    "collapsed": true
   },
   "outputs": [],
   "source": []
  },
  {
   "cell_type": "code",
   "execution_count": 110,
   "metadata": {
    "collapsed": false
   },
   "outputs": [],
   "source": [
    "cluster_on_scores = merged_df_2009_small[['ssc1', 'ssc2', 'ssc3', 'ssc4_1', 'ssc4_2', 'ssc4_3', 'ssc4_4',\n",
    "       'ssc5_1', 'ssc5_2', 'ssc6_1', 'ssc6_2', 'ssc7_1', 'ssc7_2', 'ssc8',\n",
    "       'wec1', 'wec2', 'wec3', 'eac1', 'eac2', 'eac3', 'eac4', 'eac5', 'eac6',\n",
    "       'mrc1_1', 'mrc1_2', 'mrc2', 'mrc3', 'mrc4', 'mrc5', 'mrc6', 'mrc7',\n",
    "       'eqc1', 'eqc2', 'eqc3_1', 'eqc3_2', 'eqc4_1', 'eqc4_2', 'eqc4_3',\n",
    "       'eqc4_4', 'eqc5', 'eqc6_1', 'eqc6_2', 'eqc7_1', 'eqc7_2', 'eqc8_1',\n",
    "       'eqc8_2', 'idc1', 'idc2']]"
   ]
  },
  {
   "cell_type": "code",
   "execution_count": 238,
   "metadata": {
    "collapsed": false
   },
   "outputs": [
    {
     "data": {
      "text/html": [
       "<div>\n",
       "<table border=\"1\" class=\"dataframe\">\n",
       "  <thead>\n",
       "    <tr style=\"text-align: right;\">\n",
       "      <th></th>\n",
       "      <th>ssc1</th>\n",
       "      <th>ssc2</th>\n",
       "      <th>ssc3</th>\n",
       "      <th>ssc4_1</th>\n",
       "      <th>ssc4_2</th>\n",
       "      <th>ssc4_3</th>\n",
       "      <th>ssc4_4</th>\n",
       "      <th>ssc5_1</th>\n",
       "      <th>ssc5_2</th>\n",
       "      <th>ssc6_1</th>\n",
       "      <th>...</th>\n",
       "      <th>eqc4_4</th>\n",
       "      <th>eqc5</th>\n",
       "      <th>eqc6_1</th>\n",
       "      <th>eqc6_2</th>\n",
       "      <th>eqc7_1</th>\n",
       "      <th>eqc7_2</th>\n",
       "      <th>eqc8_1</th>\n",
       "      <th>eqc8_2</th>\n",
       "      <th>idc1</th>\n",
       "      <th>idc2</th>\n",
       "    </tr>\n",
       "    <tr>\n",
       "      <th>project_id</th>\n",
       "      <th></th>\n",
       "      <th></th>\n",
       "      <th></th>\n",
       "      <th></th>\n",
       "      <th></th>\n",
       "      <th></th>\n",
       "      <th></th>\n",
       "      <th></th>\n",
       "      <th></th>\n",
       "      <th></th>\n",
       "      <th></th>\n",
       "      <th></th>\n",
       "      <th></th>\n",
       "      <th></th>\n",
       "      <th></th>\n",
       "      <th></th>\n",
       "      <th></th>\n",
       "      <th></th>\n",
       "      <th></th>\n",
       "      <th></th>\n",
       "      <th></th>\n",
       "    </tr>\n",
       "  </thead>\n",
       "  <tbody>\n",
       "    <tr>\n",
       "      <th>1000000143</th>\n",
       "      <td>1</td>\n",
       "      <td>5</td>\n",
       "      <td>0</td>\n",
       "      <td>6</td>\n",
       "      <td>0</td>\n",
       "      <td>0</td>\n",
       "      <td>2</td>\n",
       "      <td>0</td>\n",
       "      <td>1</td>\n",
       "      <td>1</td>\n",
       "      <td>...</td>\n",
       "      <td>0</td>\n",
       "      <td>1</td>\n",
       "      <td>0</td>\n",
       "      <td>0</td>\n",
       "      <td>1</td>\n",
       "      <td>1</td>\n",
       "      <td>1</td>\n",
       "      <td>0</td>\n",
       "      <td>1</td>\n",
       "      <td>1</td>\n",
       "    </tr>\n",
       "    <tr>\n",
       "      <th>1000000174</th>\n",
       "      <td>0</td>\n",
       "      <td>0</td>\n",
       "      <td>0</td>\n",
       "      <td>6</td>\n",
       "      <td>1</td>\n",
       "      <td>0</td>\n",
       "      <td>0</td>\n",
       "      <td>0</td>\n",
       "      <td>1</td>\n",
       "      <td>0</td>\n",
       "      <td>...</td>\n",
       "      <td>1</td>\n",
       "      <td>1</td>\n",
       "      <td>1</td>\n",
       "      <td>1</td>\n",
       "      <td>1</td>\n",
       "      <td>1</td>\n",
       "      <td>0</td>\n",
       "      <td>1</td>\n",
       "      <td>3</td>\n",
       "      <td>1</td>\n",
       "    </tr>\n",
       "    <tr>\n",
       "      <th>1000000194</th>\n",
       "      <td>1</td>\n",
       "      <td>5</td>\n",
       "      <td>0</td>\n",
       "      <td>0</td>\n",
       "      <td>1</td>\n",
       "      <td>3</td>\n",
       "      <td>2</td>\n",
       "      <td>0</td>\n",
       "      <td>0</td>\n",
       "      <td>0</td>\n",
       "      <td>...</td>\n",
       "      <td>0</td>\n",
       "      <td>0</td>\n",
       "      <td>1</td>\n",
       "      <td>0</td>\n",
       "      <td>0</td>\n",
       "      <td>0</td>\n",
       "      <td>0</td>\n",
       "      <td>1</td>\n",
       "      <td>1</td>\n",
       "      <td>1</td>\n",
       "    </tr>\n",
       "    <tr>\n",
       "      <th>1000000199</th>\n",
       "      <td>1</td>\n",
       "      <td>0</td>\n",
       "      <td>0</td>\n",
       "      <td>0</td>\n",
       "      <td>1</td>\n",
       "      <td>3</td>\n",
       "      <td>0</td>\n",
       "      <td>0</td>\n",
       "      <td>1</td>\n",
       "      <td>0</td>\n",
       "      <td>...</td>\n",
       "      <td>1</td>\n",
       "      <td>1</td>\n",
       "      <td>1</td>\n",
       "      <td>1</td>\n",
       "      <td>1</td>\n",
       "      <td>0</td>\n",
       "      <td>0</td>\n",
       "      <td>1</td>\n",
       "      <td>2</td>\n",
       "      <td>1</td>\n",
       "    </tr>\n",
       "    <tr>\n",
       "      <th>1000000222</th>\n",
       "      <td>1</td>\n",
       "      <td>5</td>\n",
       "      <td>0</td>\n",
       "      <td>6</td>\n",
       "      <td>1</td>\n",
       "      <td>3</td>\n",
       "      <td>2</td>\n",
       "      <td>0</td>\n",
       "      <td>0</td>\n",
       "      <td>0</td>\n",
       "      <td>...</td>\n",
       "      <td>1</td>\n",
       "      <td>1</td>\n",
       "      <td>1</td>\n",
       "      <td>1</td>\n",
       "      <td>1</td>\n",
       "      <td>1</td>\n",
       "      <td>0</td>\n",
       "      <td>0</td>\n",
       "      <td>2</td>\n",
       "      <td>1</td>\n",
       "    </tr>\n",
       "  </tbody>\n",
       "</table>\n",
       "<p>5 rows × 48 columns</p>\n",
       "</div>"
      ],
      "text/plain": [
       "            ssc1  ssc2  ssc3  ssc4_1  ssc4_2  ssc4_3  ssc4_4  ssc5_1  ssc5_2  \\\n",
       "project_id                                                                     \n",
       "1000000143     1     5     0       6       0       0       2       0       1   \n",
       "1000000174     0     0     0       6       1       0       0       0       1   \n",
       "1000000194     1     5     0       0       1       3       2       0       0   \n",
       "1000000199     1     0     0       0       1       3       0       0       1   \n",
       "1000000222     1     5     0       6       1       3       2       0       0   \n",
       "\n",
       "            ssc6_1  ...   eqc4_4  eqc5  eqc6_1  eqc6_2  eqc7_1  eqc7_2  \\\n",
       "project_id          ...                                                  \n",
       "1000000143       1  ...        0     1       0       0       1       1   \n",
       "1000000174       0  ...        1     1       1       1       1       1   \n",
       "1000000194       0  ...        0     0       1       0       0       0   \n",
       "1000000199       0  ...        1     1       1       1       1       0   \n",
       "1000000222       0  ...        1     1       1       1       1       1   \n",
       "\n",
       "            eqc8_1  eqc8_2  idc1  idc2  \n",
       "project_id                              \n",
       "1000000143       1       0     1     1  \n",
       "1000000174       0       1     3     1  \n",
       "1000000194       0       1     1     1  \n",
       "1000000199       0       1     2     1  \n",
       "1000000222       0       0     2     1  \n",
       "\n",
       "[5 rows x 48 columns]"
      ]
     },
     "execution_count": 238,
     "metadata": {},
     "output_type": "execute_result"
    }
   ],
   "source": [
    "cluster_on_scores.head()"
   ]
  },
  {
   "cell_type": "code",
   "execution_count": 112,
   "metadata": {
    "collapsed": false
   },
   "outputs": [
    {
     "name": "stderr",
     "output_type": "stream",
     "text": [
      "/Users/joshuahiggins/tiyd/builditgreen/.direnv/python-3.4.3/lib/python3.4/site-packages/sklearn/utils/validation.py:498: UserWarning: The scale function assumes floating point values as input, got int64\n",
      "  \"got %s\" % (estimator, X.dtype))\n",
      "/Users/joshuahiggins/tiyd/builditgreen/.direnv/python-3.4.3/lib/python3.4/site-packages/sklearn/preprocessing/data.py:145: DeprecationWarning: Implicitly casting between incompatible kinds. In a future numpy release, this will raise an error. Use casting=\"unsafe\" if this is intentional.\n",
      "  Xr -= mean_\n",
      "/Users/joshuahiggins/tiyd/builditgreen/.direnv/python-3.4.3/lib/python3.4/site-packages/sklearn/preprocessing/data.py:153: UserWarning: Numerical issues were encountered when centering the data and might not be solved. Dataset may contain too large values. You may need to prescale your features.\n",
      "  warnings.warn(\"Numerical issues were encountered \"\n",
      "/Users/joshuahiggins/tiyd/builditgreen/.direnv/python-3.4.3/lib/python3.4/site-packages/sklearn/preprocessing/data.py:158: DeprecationWarning: Implicitly casting between incompatible kinds. In a future numpy release, this will raise an error. Use casting=\"unsafe\" if this is intentional.\n",
      "  Xr -= mean_1\n",
      "/Users/joshuahiggins/tiyd/builditgreen/.direnv/python-3.4.3/lib/python3.4/site-packages/sklearn/preprocessing/data.py:160: DeprecationWarning: Implicitly casting between incompatible kinds. In a future numpy release, this will raise an error. Use casting=\"unsafe\" if this is intentional.\n",
      "  Xr /= std_\n",
      "/Users/joshuahiggins/tiyd/builditgreen/.direnv/python-3.4.3/lib/python3.4/site-packages/sklearn/preprocessing/data.py:169: UserWarning: Numerical issues were encountered when scaling the data and might not be solved. The standard deviation of the data is probably very close to 0. \n",
      "  warnings.warn(\"Numerical issues were encountered \"\n",
      "/Users/joshuahiggins/tiyd/builditgreen/.direnv/python-3.4.3/lib/python3.4/site-packages/sklearn/preprocessing/data.py:174: DeprecationWarning: Implicitly casting between incompatible kinds. In a future numpy release, this will raise an error. Use casting=\"unsafe\" if this is intentional.\n",
      "  Xr -= mean_2\n"
     ]
    }
   ],
   "source": [
    "clus = preprocessing.scale(cluster_on_scores)"
   ]
  },
  {
   "cell_type": "code",
   "execution_count": 115,
   "metadata": {
    "collapsed": false
   },
   "outputs": [
    {
     "data": {
      "text/plain": [
       "KMeans(copy_x=True, init='k-means++', max_iter=300, n_clusters=6, n_init=10,\n",
       "    n_jobs=1, precompute_distances='auto', random_state=None, tol=0.0001,\n",
       "    verbose=0)"
      ]
     },
     "execution_count": 115,
     "metadata": {},
     "output_type": "execute_result"
    }
   ],
   "source": [
    "kmeans = KMeans(6)\n",
    "kmeans.fit(clus)"
   ]
  },
  {
   "cell_type": "code",
   "execution_count": 116,
   "metadata": {
    "collapsed": false
   },
   "outputs": [
    {
     "name": "stderr",
     "output_type": "stream",
     "text": [
      "/Users/joshuahiggins/tiyd/builditgreen/.direnv/python-3.4.3/lib/python3.4/site-packages/sklearn/cluster/k_means_.py:862: RuntimeWarning: Got data type int64, converted to float to avoid overflows\n",
      "  X = self._check_test_data(X)\n"
     ]
    }
   ],
   "source": [
    "clusters = kmeans.predict(clus)"
   ]
  },
  {
   "cell_type": "code",
   "execution_count": 117,
   "metadata": {
    "collapsed": false
   },
   "outputs": [
    {
     "data": {
      "text/plain": [
       "array([5, 5, 5, ..., 5, 5, 2], dtype=int32)"
      ]
     },
     "execution_count": 117,
     "metadata": {},
     "output_type": "execute_result"
    }
   ],
   "source": [
    "clusters"
   ]
  },
  {
   "cell_type": "code",
   "execution_count": 122,
   "metadata": {
    "collapsed": false
   },
   "outputs": [],
   "source": [
    "from collections import Counter"
   ]
  },
  {
   "cell_type": "code",
   "execution_count": 124,
   "metadata": {
    "collapsed": false
   },
   "outputs": [
    {
     "data": {
      "text/plain": [
       "Counter({5: 1902, 1: 304, 2: 292, 3: 3})"
      ]
     },
     "execution_count": 124,
     "metadata": {},
     "output_type": "execute_result"
    }
   ],
   "source": [
    "Counter(clusters)"
   ]
  },
  {
   "cell_type": "code",
   "execution_count": 127,
   "metadata": {
    "collapsed": false
   },
   "outputs": [
    {
     "name": "stderr",
     "output_type": "stream",
     "text": [
      "/Users/joshuahiggins/tiyd/builditgreen/.direnv/python-3.4.3/lib/python3.4/site-packages/sklearn/cluster/k_means_.py:862: RuntimeWarning: Got data type int64, converted to float to avoid overflows\n",
      "  X = self._check_test_data(X)\n"
     ]
    }
   ],
   "source": [
    "kmeans5 = KMeans(5)\n",
    "kmeans5.fit(clus)\n",
    "clusters5 = kmeans5.predict(clus)"
   ]
  },
  {
   "cell_type": "code",
   "execution_count": 128,
   "metadata": {
    "collapsed": false
   },
   "outputs": [
    {
     "data": {
      "text/plain": [
       "Counter({0: 1902, 1: 304, 2: 292, 3: 3})"
      ]
     },
     "execution_count": 128,
     "metadata": {},
     "output_type": "execute_result"
    }
   ],
   "source": [
    "Counter(clusters5)"
   ]
  },
  {
   "cell_type": "code",
   "execution_count": 129,
   "metadata": {
    "collapsed": false
   },
   "outputs": [
    {
     "name": "stderr",
     "output_type": "stream",
     "text": [
      "/Users/joshuahiggins/tiyd/builditgreen/.direnv/python-3.4.3/lib/python3.4/site-packages/sklearn/cluster/k_means_.py:862: RuntimeWarning: Got data type int64, converted to float to avoid overflows\n",
      "  X = self._check_test_data(X)\n"
     ]
    }
   ],
   "source": [
    "kmeans4 = KMeans(4)\n",
    "kmeans4.fit(clus)\n",
    "clusters4 = kmeans4.predict(clus)"
   ]
  },
  {
   "cell_type": "code",
   "execution_count": 130,
   "metadata": {
    "collapsed": false
   },
   "outputs": [
    {
     "data": {
      "text/plain": [
       "Counter({0: 1902, 1: 304, 2: 292, 3: 3})"
      ]
     },
     "execution_count": 130,
     "metadata": {},
     "output_type": "execute_result"
    }
   ],
   "source": [
    "Counter(clusters4)"
   ]
  },
  {
   "cell_type": "code",
   "execution_count": 131,
   "metadata": {
    "collapsed": false
   },
   "outputs": [
    {
     "name": "stderr",
     "output_type": "stream",
     "text": [
      "/Users/joshuahiggins/tiyd/builditgreen/.direnv/python-3.4.3/lib/python3.4/site-packages/sklearn/cluster/k_means_.py:862: RuntimeWarning: Got data type int64, converted to float to avoid overflows\n",
      "  X = self._check_test_data(X)\n"
     ]
    }
   ],
   "source": [
    "kmeans3 = KMeans(3)\n",
    "kmeans3.fit(clus)\n",
    "clusters3 = kmeans3.predict(clus)"
   ]
  },
  {
   "cell_type": "code",
   "execution_count": 132,
   "metadata": {
    "collapsed": false
   },
   "outputs": [
    {
     "data": {
      "text/plain": [
       "Counter({1: 1902, 2: 304, 0: 295})"
      ]
     },
     "execution_count": 132,
     "metadata": {},
     "output_type": "execute_result"
    }
   ],
   "source": [
    "Counter(clusters3)"
   ]
  },
  {
   "cell_type": "code",
   "execution_count": 133,
   "metadata": {
    "collapsed": false
   },
   "outputs": [
    {
     "data": {
      "text/plain": [
       "array([0, 0, 0, ..., 0, 0, 2], dtype=int32)"
      ]
     },
     "execution_count": 133,
     "metadata": {},
     "output_type": "execute_result"
    }
   ],
   "source": [
    "clusters4"
   ]
  },
  {
   "cell_type": "code",
   "execution_count": 134,
   "metadata": {
    "collapsed": true
   },
   "outputs": [],
   "source": [
    "merged_df_2009_small['clusters'] = clusters4"
   ]
  },
  {
   "cell_type": "code",
   "execution_count": 135,
   "metadata": {
    "collapsed": false
   },
   "outputs": [
    {
     "data": {
      "text/html": [
       "<div>\n",
       "<table border=\"1\" class=\"dataframe\">\n",
       "  <thead>\n",
       "    <tr style=\"text-align: right;\">\n",
       "      <th></th>\n",
       "      <th>ssc1</th>\n",
       "      <th>ssc2</th>\n",
       "      <th>ssc3</th>\n",
       "      <th>ssc4_1</th>\n",
       "      <th>ssc4_2</th>\n",
       "      <th>ssc4_3</th>\n",
       "      <th>ssc4_4</th>\n",
       "      <th>ssc5_1</th>\n",
       "      <th>ssc5_2</th>\n",
       "      <th>ssc6_1</th>\n",
       "      <th>...</th>\n",
       "      <th>leed_version</th>\n",
       "      <th>points_achieved</th>\n",
       "      <th>certification_level</th>\n",
       "      <th>certification_date</th>\n",
       "      <th>owner_types</th>\n",
       "      <th>gross_square_foot</th>\n",
       "      <th>total_property_area</th>\n",
       "      <th>project_types</th>\n",
       "      <th>registration_date</th>\n",
       "      <th>clusters</th>\n",
       "    </tr>\n",
       "    <tr>\n",
       "      <th>project_id</th>\n",
       "      <th></th>\n",
       "      <th></th>\n",
       "      <th></th>\n",
       "      <th></th>\n",
       "      <th></th>\n",
       "      <th></th>\n",
       "      <th></th>\n",
       "      <th></th>\n",
       "      <th></th>\n",
       "      <th></th>\n",
       "      <th></th>\n",
       "      <th></th>\n",
       "      <th></th>\n",
       "      <th></th>\n",
       "      <th></th>\n",
       "      <th></th>\n",
       "      <th></th>\n",
       "      <th></th>\n",
       "      <th></th>\n",
       "      <th></th>\n",
       "      <th></th>\n",
       "    </tr>\n",
       "  </thead>\n",
       "  <tbody>\n",
       "    <tr>\n",
       "      <th>1000000143</th>\n",
       "      <td>1</td>\n",
       "      <td>5</td>\n",
       "      <td>0</td>\n",
       "      <td>6</td>\n",
       "      <td>0</td>\n",
       "      <td>0</td>\n",
       "      <td>2</td>\n",
       "      <td>0</td>\n",
       "      <td>1</td>\n",
       "      <td>1</td>\n",
       "      <td>...</td>\n",
       "      <td>LEED-NC v2009</td>\n",
       "      <td>44</td>\n",
       "      <td>Certified</td>\n",
       "      <td>2013-09-20</td>\n",
       "      <td>Government Use: State</td>\n",
       "      <td>86580</td>\n",
       "      <td>53863</td>\n",
       "      <td>Health Care: Outpatient</td>\n",
       "      <td>2009-05-07</td>\n",
       "      <td>0</td>\n",
       "    </tr>\n",
       "    <tr>\n",
       "      <th>1000000174</th>\n",
       "      <td>0</td>\n",
       "      <td>0</td>\n",
       "      <td>0</td>\n",
       "      <td>6</td>\n",
       "      <td>1</td>\n",
       "      <td>0</td>\n",
       "      <td>0</td>\n",
       "      <td>0</td>\n",
       "      <td>1</td>\n",
       "      <td>0</td>\n",
       "      <td>...</td>\n",
       "      <td>LEED-NC v2009</td>\n",
       "      <td>65</td>\n",
       "      <td>Gold</td>\n",
       "      <td>2010-12-02</td>\n",
       "      <td>Educational: University, Private</td>\n",
       "      <td>11806</td>\n",
       "      <td>66000</td>\n",
       "      <td>Core Learning Space: College/University</td>\n",
       "      <td>2009-05-10</td>\n",
       "      <td>0</td>\n",
       "    </tr>\n",
       "    <tr>\n",
       "      <th>1000000194</th>\n",
       "      <td>1</td>\n",
       "      <td>5</td>\n",
       "      <td>0</td>\n",
       "      <td>0</td>\n",
       "      <td>1</td>\n",
       "      <td>3</td>\n",
       "      <td>2</td>\n",
       "      <td>0</td>\n",
       "      <td>0</td>\n",
       "      <td>0</td>\n",
       "      <td>...</td>\n",
       "      <td>LEED-NC v2009</td>\n",
       "      <td>44</td>\n",
       "      <td>Certified</td>\n",
       "      <td>2011-08-23</td>\n",
       "      <td>Corporate: Privately Held</td>\n",
       "      <td>3472</td>\n",
       "      <td>10905</td>\n",
       "      <td>Commercial Office</td>\n",
       "      <td>2009-05-12</td>\n",
       "      <td>0</td>\n",
       "    </tr>\n",
       "    <tr>\n",
       "      <th>1000000199</th>\n",
       "      <td>1</td>\n",
       "      <td>0</td>\n",
       "      <td>0</td>\n",
       "      <td>0</td>\n",
       "      <td>1</td>\n",
       "      <td>3</td>\n",
       "      <td>0</td>\n",
       "      <td>0</td>\n",
       "      <td>1</td>\n",
       "      <td>0</td>\n",
       "      <td>...</td>\n",
       "      <td>LEED-NC v2009</td>\n",
       "      <td>51</td>\n",
       "      <td>Silver</td>\n",
       "      <td>2012-03-26</td>\n",
       "      <td>Government Use: Local, City</td>\n",
       "      <td>48732</td>\n",
       "      <td>555823</td>\n",
       "      <td>Public Order and Safety: Other Public Order</td>\n",
       "      <td>2009-05-13</td>\n",
       "      <td>0</td>\n",
       "    </tr>\n",
       "    <tr>\n",
       "      <th>1000000222</th>\n",
       "      <td>1</td>\n",
       "      <td>5</td>\n",
       "      <td>0</td>\n",
       "      <td>6</td>\n",
       "      <td>1</td>\n",
       "      <td>3</td>\n",
       "      <td>2</td>\n",
       "      <td>0</td>\n",
       "      <td>0</td>\n",
       "      <td>0</td>\n",
       "      <td>...</td>\n",
       "      <td>LEED-NC v2009</td>\n",
       "      <td>70</td>\n",
       "      <td>Gold</td>\n",
       "      <td>2014-01-17</td>\n",
       "      <td>Educational: University, Public</td>\n",
       "      <td>212777</td>\n",
       "      <td>108563</td>\n",
       "      <td>Core Learning Space: College/University</td>\n",
       "      <td>2009-05-14</td>\n",
       "      <td>0</td>\n",
       "    </tr>\n",
       "  </tbody>\n",
       "</table>\n",
       "<p>5 rows × 68 columns</p>\n",
       "</div>"
      ],
      "text/plain": [
       "            ssc1  ssc2  ssc3  ssc4_1  ssc4_2  ssc4_3  ssc4_4  ssc5_1  ssc5_2  \\\n",
       "project_id                                                                     \n",
       "1000000143     1     5     0       6       0       0       2       0       1   \n",
       "1000000174     0     0     0       6       1       0       0       0       1   \n",
       "1000000194     1     5     0       0       1       3       2       0       0   \n",
       "1000000199     1     0     0       0       1       3       0       0       1   \n",
       "1000000222     1     5     0       6       1       3       2       0       0   \n",
       "\n",
       "            ssc6_1    ...      leed_version  points_achieved  \\\n",
       "project_id            ...                                      \n",
       "1000000143       1    ...     LEED-NC v2009               44   \n",
       "1000000174       0    ...     LEED-NC v2009               65   \n",
       "1000000194       0    ...     LEED-NC v2009               44   \n",
       "1000000199       0    ...     LEED-NC v2009               51   \n",
       "1000000222       0    ...     LEED-NC v2009               70   \n",
       "\n",
       "            certification_level  certification_date  \\\n",
       "project_id                                            \n",
       "1000000143            Certified          2013-09-20   \n",
       "1000000174                 Gold          2010-12-02   \n",
       "1000000194            Certified          2011-08-23   \n",
       "1000000199               Silver          2012-03-26   \n",
       "1000000222                 Gold          2014-01-17   \n",
       "\n",
       "                                 owner_types  gross_square_foot  \\\n",
       "project_id                                                        \n",
       "1000000143             Government Use: State              86580   \n",
       "1000000174  Educational: University, Private              11806   \n",
       "1000000194         Corporate: Privately Held               3472   \n",
       "1000000199       Government Use: Local, City              48732   \n",
       "1000000222   Educational: University, Public             212777   \n",
       "\n",
       "            total_property_area                                project_types  \\\n",
       "project_id                                                                     \n",
       "1000000143                53863                      Health Care: Outpatient   \n",
       "1000000174                66000      Core Learning Space: College/University   \n",
       "1000000194                10905                            Commercial Office   \n",
       "1000000199               555823  Public Order and Safety: Other Public Order   \n",
       "1000000222               108563      Core Learning Space: College/University   \n",
       "\n",
       "            registration_date  clusters  \n",
       "project_id                               \n",
       "1000000143         2009-05-07         0  \n",
       "1000000174         2009-05-10         0  \n",
       "1000000194         2009-05-12         0  \n",
       "1000000199         2009-05-13         0  \n",
       "1000000222         2009-05-14         0  \n",
       "\n",
       "[5 rows x 68 columns]"
      ]
     },
     "execution_count": 135,
     "metadata": {},
     "output_type": "execute_result"
    }
   ],
   "source": [
    "merged_df_2009_small.head()"
   ]
  },
  {
   "cell_type": "code",
   "execution_count": 139,
   "metadata": {
    "collapsed": false
   },
   "outputs": [],
   "source": [
    "cluster_0_2009 = merged_df_2009_small[(merged_df_2009_small['clusters'] == 0)]"
   ]
  },
  {
   "cell_type": "code",
   "execution_count": 141,
   "metadata": {
    "collapsed": false
   },
   "outputs": [
    {
     "data": {
      "text/html": [
       "<div>\n",
       "<table border=\"1\" class=\"dataframe\">\n",
       "  <thead>\n",
       "    <tr style=\"text-align: right;\">\n",
       "      <th></th>\n",
       "      <th>ssc1</th>\n",
       "      <th>ssc2</th>\n",
       "      <th>ssc3</th>\n",
       "      <th>ssc4_1</th>\n",
       "      <th>ssc4_2</th>\n",
       "      <th>ssc4_3</th>\n",
       "      <th>ssc4_4</th>\n",
       "      <th>ssc5_1</th>\n",
       "      <th>ssc5_2</th>\n",
       "      <th>ssc6_1</th>\n",
       "      <th>...</th>\n",
       "      <th>idc1</th>\n",
       "      <th>idc2</th>\n",
       "      <th>extra1</th>\n",
       "      <th>extra2</th>\n",
       "      <th>extra3</th>\n",
       "      <th>extra4</th>\n",
       "      <th>points_achieved</th>\n",
       "      <th>gross_square_foot</th>\n",
       "      <th>total_property_area</th>\n",
       "      <th>clusters</th>\n",
       "    </tr>\n",
       "  </thead>\n",
       "  <tbody>\n",
       "    <tr>\n",
       "      <th>count</th>\n",
       "      <td>1902.000000</td>\n",
       "      <td>1902.000000</td>\n",
       "      <td>1902.000000</td>\n",
       "      <td>1902.000000</td>\n",
       "      <td>1902.000000</td>\n",
       "      <td>1902.000000</td>\n",
       "      <td>1902.00000</td>\n",
       "      <td>1902.000000</td>\n",
       "      <td>1902.000000</td>\n",
       "      <td>1902.000000</td>\n",
       "      <td>...</td>\n",
       "      <td>1902.000000</td>\n",
       "      <td>1902.00000</td>\n",
       "      <td>1879.000000</td>\n",
       "      <td>1814.000000</td>\n",
       "      <td>1651.000000</td>\n",
       "      <td>1324.000000</td>\n",
       "      <td>1902.000000</td>\n",
       "      <td>1902.000000</td>\n",
       "      <td>1902.000000</td>\n",
       "      <td>1902</td>\n",
       "    </tr>\n",
       "    <tr>\n",
       "      <th>mean</th>\n",
       "      <td>0.862776</td>\n",
       "      <td>2.936383</td>\n",
       "      <td>0.203470</td>\n",
       "      <td>3.302839</td>\n",
       "      <td>0.653523</td>\n",
       "      <td>2.373817</td>\n",
       "      <td>1.42061</td>\n",
       "      <td>0.168244</td>\n",
       "      <td>0.659832</td>\n",
       "      <td>0.433228</td>\n",
       "      <td>...</td>\n",
       "      <td>2.906414</td>\n",
       "      <td>0.99632</td>\n",
       "      <td>0.475253</td>\n",
       "      <td>0.605292</td>\n",
       "      <td>0.653543</td>\n",
       "      <td>0.575529</td>\n",
       "      <td>55.240273</td>\n",
       "      <td>81821.396951</td>\n",
       "      <td>278547.140904</td>\n",
       "      <td>0</td>\n",
       "    </tr>\n",
       "    <tr>\n",
       "      <th>std</th>\n",
       "      <td>0.345699</td>\n",
       "      <td>2.462267</td>\n",
       "      <td>0.402685</td>\n",
       "      <td>2.985461</td>\n",
       "      <td>0.475973</td>\n",
       "      <td>1.219519</td>\n",
       "      <td>0.90748</td>\n",
       "      <td>0.374181</td>\n",
       "      <td>0.474999</td>\n",
       "      <td>0.496712</td>\n",
       "      <td>...</td>\n",
       "      <td>1.533999</td>\n",
       "      <td>0.06057</td>\n",
       "      <td>0.499520</td>\n",
       "      <td>0.488923</td>\n",
       "      <td>0.475985</td>\n",
       "      <td>0.494449</td>\n",
       "      <td>9.033668</td>\n",
       "      <td>149152.255171</td>\n",
       "      <td>666183.707286</td>\n",
       "      <td>0</td>\n",
       "    </tr>\n",
       "    <tr>\n",
       "      <th>min</th>\n",
       "      <td>0.000000</td>\n",
       "      <td>0.000000</td>\n",
       "      <td>0.000000</td>\n",
       "      <td>0.000000</td>\n",
       "      <td>0.000000</td>\n",
       "      <td>0.000000</td>\n",
       "      <td>0.00000</td>\n",
       "      <td>0.000000</td>\n",
       "      <td>0.000000</td>\n",
       "      <td>0.000000</td>\n",
       "      <td>...</td>\n",
       "      <td>0.000000</td>\n",
       "      <td>0.00000</td>\n",
       "      <td>0.000000</td>\n",
       "      <td>0.000000</td>\n",
       "      <td>0.000000</td>\n",
       "      <td>0.000000</td>\n",
       "      <td>33.000000</td>\n",
       "      <td>780.000000</td>\n",
       "      <td>0.000000</td>\n",
       "      <td>0</td>\n",
       "    </tr>\n",
       "    <tr>\n",
       "      <th>25%</th>\n",
       "      <td>1.000000</td>\n",
       "      <td>0.000000</td>\n",
       "      <td>0.000000</td>\n",
       "      <td>0.000000</td>\n",
       "      <td>0.000000</td>\n",
       "      <td>3.000000</td>\n",
       "      <td>0.00000</td>\n",
       "      <td>0.000000</td>\n",
       "      <td>0.000000</td>\n",
       "      <td>0.000000</td>\n",
       "      <td>...</td>\n",
       "      <td>2.000000</td>\n",
       "      <td>1.00000</td>\n",
       "      <td>0.000000</td>\n",
       "      <td>0.000000</td>\n",
       "      <td>0.000000</td>\n",
       "      <td>0.000000</td>\n",
       "      <td>50.000000</td>\n",
       "      <td>14916.000000</td>\n",
       "      <td>50376.500000</td>\n",
       "      <td>0</td>\n",
       "    </tr>\n",
       "    <tr>\n",
       "      <th>50%</th>\n",
       "      <td>1.000000</td>\n",
       "      <td>5.000000</td>\n",
       "      <td>0.000000</td>\n",
       "      <td>6.000000</td>\n",
       "      <td>1.000000</td>\n",
       "      <td>3.000000</td>\n",
       "      <td>2.00000</td>\n",
       "      <td>0.000000</td>\n",
       "      <td>1.000000</td>\n",
       "      <td>0.000000</td>\n",
       "      <td>...</td>\n",
       "      <td>3.000000</td>\n",
       "      <td>1.00000</td>\n",
       "      <td>0.000000</td>\n",
       "      <td>1.000000</td>\n",
       "      <td>1.000000</td>\n",
       "      <td>1.000000</td>\n",
       "      <td>54.000000</td>\n",
       "      <td>34893.000000</td>\n",
       "      <td>113331.500000</td>\n",
       "      <td>0</td>\n",
       "    </tr>\n",
       "    <tr>\n",
       "      <th>75%</th>\n",
       "      <td>1.000000</td>\n",
       "      <td>5.000000</td>\n",
       "      <td>0.000000</td>\n",
       "      <td>6.000000</td>\n",
       "      <td>1.000000</td>\n",
       "      <td>3.000000</td>\n",
       "      <td>2.00000</td>\n",
       "      <td>0.000000</td>\n",
       "      <td>1.000000</td>\n",
       "      <td>1.000000</td>\n",
       "      <td>...</td>\n",
       "      <td>4.000000</td>\n",
       "      <td>1.00000</td>\n",
       "      <td>1.000000</td>\n",
       "      <td>1.000000</td>\n",
       "      <td>1.000000</td>\n",
       "      <td>1.000000</td>\n",
       "      <td>61.000000</td>\n",
       "      <td>87671.750000</td>\n",
       "      <td>252516.750000</td>\n",
       "      <td>0</td>\n",
       "    </tr>\n",
       "    <tr>\n",
       "      <th>max</th>\n",
       "      <td>2.000000</td>\n",
       "      <td>5.000000</td>\n",
       "      <td>1.000000</td>\n",
       "      <td>6.000000</td>\n",
       "      <td>1.000000</td>\n",
       "      <td>3.000000</td>\n",
       "      <td>2.00000</td>\n",
       "      <td>1.000000</td>\n",
       "      <td>2.000000</td>\n",
       "      <td>2.000000</td>\n",
       "      <td>...</td>\n",
       "      <td>5.000000</td>\n",
       "      <td>1.00000</td>\n",
       "      <td>1.000000</td>\n",
       "      <td>1.000000</td>\n",
       "      <td>1.000000</td>\n",
       "      <td>1.000000</td>\n",
       "      <td>95.000000</td>\n",
       "      <td>1810248.000000</td>\n",
       "      <td>11064240.000000</td>\n",
       "      <td>0</td>\n",
       "    </tr>\n",
       "  </tbody>\n",
       "</table>\n",
       "<p>8 rows × 56 columns</p>\n",
       "</div>"
      ],
      "text/plain": [
       "              ssc1         ssc2         ssc3       ssc4_1       ssc4_2  \\\n",
       "count  1902.000000  1902.000000  1902.000000  1902.000000  1902.000000   \n",
       "mean      0.862776     2.936383     0.203470     3.302839     0.653523   \n",
       "std       0.345699     2.462267     0.402685     2.985461     0.475973   \n",
       "min       0.000000     0.000000     0.000000     0.000000     0.000000   \n",
       "25%       1.000000     0.000000     0.000000     0.000000     0.000000   \n",
       "50%       1.000000     5.000000     0.000000     6.000000     1.000000   \n",
       "75%       1.000000     5.000000     0.000000     6.000000     1.000000   \n",
       "max       2.000000     5.000000     1.000000     6.000000     1.000000   \n",
       "\n",
       "            ssc4_3      ssc4_4       ssc5_1       ssc5_2       ssc6_1  \\\n",
       "count  1902.000000  1902.00000  1902.000000  1902.000000  1902.000000   \n",
       "mean      2.373817     1.42061     0.168244     0.659832     0.433228   \n",
       "std       1.219519     0.90748     0.374181     0.474999     0.496712   \n",
       "min       0.000000     0.00000     0.000000     0.000000     0.000000   \n",
       "25%       3.000000     0.00000     0.000000     0.000000     0.000000   \n",
       "50%       3.000000     2.00000     0.000000     1.000000     0.000000   \n",
       "75%       3.000000     2.00000     0.000000     1.000000     1.000000   \n",
       "max       3.000000     2.00000     1.000000     2.000000     2.000000   \n",
       "\n",
       "         ...            idc1        idc2       extra1       extra2  \\\n",
       "count    ...     1902.000000  1902.00000  1879.000000  1814.000000   \n",
       "mean     ...        2.906414     0.99632     0.475253     0.605292   \n",
       "std      ...        1.533999     0.06057     0.499520     0.488923   \n",
       "min      ...        0.000000     0.00000     0.000000     0.000000   \n",
       "25%      ...        2.000000     1.00000     0.000000     0.000000   \n",
       "50%      ...        3.000000     1.00000     0.000000     1.000000   \n",
       "75%      ...        4.000000     1.00000     1.000000     1.000000   \n",
       "max      ...        5.000000     1.00000     1.000000     1.000000   \n",
       "\n",
       "            extra3       extra4  points_achieved  gross_square_foot  \\\n",
       "count  1651.000000  1324.000000      1902.000000        1902.000000   \n",
       "mean      0.653543     0.575529        55.240273       81821.396951   \n",
       "std       0.475985     0.494449         9.033668      149152.255171   \n",
       "min       0.000000     0.000000        33.000000         780.000000   \n",
       "25%       0.000000     0.000000        50.000000       14916.000000   \n",
       "50%       1.000000     1.000000        54.000000       34893.000000   \n",
       "75%       1.000000     1.000000        61.000000       87671.750000   \n",
       "max       1.000000     1.000000        95.000000     1810248.000000   \n",
       "\n",
       "       total_property_area  clusters  \n",
       "count          1902.000000      1902  \n",
       "mean         278547.140904         0  \n",
       "std          666183.707286         0  \n",
       "min               0.000000         0  \n",
       "25%           50376.500000         0  \n",
       "50%          113331.500000         0  \n",
       "75%          252516.750000         0  \n",
       "max        11064240.000000         0  \n",
       "\n",
       "[8 rows x 56 columns]"
      ]
     },
     "execution_count": 141,
     "metadata": {},
     "output_type": "execute_result"
    }
   ],
   "source": [
    "cluster_0_2009.describe()"
   ]
  },
  {
   "cell_type": "code",
   "execution_count": 192,
   "metadata": {
    "collapsed": true
   },
   "outputs": [],
   "source": [
    "cluster_1_2009 = merged_df_2009_small[(merged_df_2009_small['clusters'] == 1)]"
   ]
  },
  {
   "cell_type": "code",
   "execution_count": 193,
   "metadata": {
    "collapsed": false
   },
   "outputs": [
    {
     "data": {
      "text/html": [
       "<div>\n",
       "<table border=\"1\" class=\"dataframe\">\n",
       "  <thead>\n",
       "    <tr style=\"text-align: right;\">\n",
       "      <th></th>\n",
       "      <th>ssc1</th>\n",
       "      <th>ssc2</th>\n",
       "      <th>ssc3</th>\n",
       "      <th>ssc4_1</th>\n",
       "      <th>ssc4_2</th>\n",
       "      <th>ssc4_3</th>\n",
       "      <th>ssc4_4</th>\n",
       "      <th>ssc5_1</th>\n",
       "      <th>ssc5_2</th>\n",
       "      <th>ssc6_1</th>\n",
       "      <th>...</th>\n",
       "      <th>idc1</th>\n",
       "      <th>idc2</th>\n",
       "      <th>extra1</th>\n",
       "      <th>extra2</th>\n",
       "      <th>extra3</th>\n",
       "      <th>extra4</th>\n",
       "      <th>points_achieved</th>\n",
       "      <th>gross_square_foot</th>\n",
       "      <th>total_property_area</th>\n",
       "      <th>clusters</th>\n",
       "    </tr>\n",
       "  </thead>\n",
       "  <tbody>\n",
       "    <tr>\n",
       "      <th>count</th>\n",
       "      <td>304.000000</td>\n",
       "      <td>304.000000</td>\n",
       "      <td>304.000000</td>\n",
       "      <td>304.000000</td>\n",
       "      <td>304.000000</td>\n",
       "      <td>304.000000</td>\n",
       "      <td>304.000000</td>\n",
       "      <td>304.000000</td>\n",
       "      <td>304.000000</td>\n",
       "      <td>304.000000</td>\n",
       "      <td>...</td>\n",
       "      <td>304.000000</td>\n",
       "      <td>304.000000</td>\n",
       "      <td>299.000000</td>\n",
       "      <td>298.000000</td>\n",
       "      <td>289.000000</td>\n",
       "      <td>260.000000</td>\n",
       "      <td>304.000000</td>\n",
       "      <td>304.000000</td>\n",
       "      <td>304.000000</td>\n",
       "      <td>304</td>\n",
       "    </tr>\n",
       "    <tr>\n",
       "      <th>mean</th>\n",
       "      <td>0.812500</td>\n",
       "      <td>2.763158</td>\n",
       "      <td>0.164474</td>\n",
       "      <td>3.335526</td>\n",
       "      <td>0.595395</td>\n",
       "      <td>2.388158</td>\n",
       "      <td>1.302632</td>\n",
       "      <td>0.203947</td>\n",
       "      <td>0.634868</td>\n",
       "      <td>0.434211</td>\n",
       "      <td>...</td>\n",
       "      <td>3.332237</td>\n",
       "      <td>0.993421</td>\n",
       "      <td>0.842809</td>\n",
       "      <td>0.708054</td>\n",
       "      <td>0.636678</td>\n",
       "      <td>0.546154</td>\n",
       "      <td>69.855263</td>\n",
       "      <td>33069.631579</td>\n",
       "      <td>171121.779605</td>\n",
       "      <td>1</td>\n",
       "    </tr>\n",
       "    <tr>\n",
       "      <th>std</th>\n",
       "      <td>0.390956</td>\n",
       "      <td>2.490210</td>\n",
       "      <td>0.371316</td>\n",
       "      <td>2.986093</td>\n",
       "      <td>0.491625</td>\n",
       "      <td>1.210784</td>\n",
       "      <td>0.954679</td>\n",
       "      <td>0.403595</td>\n",
       "      <td>0.482261</td>\n",
       "      <td>0.496470</td>\n",
       "      <td>...</td>\n",
       "      <td>1.441310</td>\n",
       "      <td>0.080977</td>\n",
       "      <td>0.364591</td>\n",
       "      <td>0.455423</td>\n",
       "      <td>0.481791</td>\n",
       "      <td>0.498825</td>\n",
       "      <td>11.337259</td>\n",
       "      <td>55809.940151</td>\n",
       "      <td>272539.217634</td>\n",
       "      <td>0</td>\n",
       "    </tr>\n",
       "    <tr>\n",
       "      <th>min</th>\n",
       "      <td>0.000000</td>\n",
       "      <td>0.000000</td>\n",
       "      <td>0.000000</td>\n",
       "      <td>0.000000</td>\n",
       "      <td>0.000000</td>\n",
       "      <td>0.000000</td>\n",
       "      <td>0.000000</td>\n",
       "      <td>0.000000</td>\n",
       "      <td>0.000000</td>\n",
       "      <td>0.000000</td>\n",
       "      <td>...</td>\n",
       "      <td>0.000000</td>\n",
       "      <td>0.000000</td>\n",
       "      <td>0.000000</td>\n",
       "      <td>0.000000</td>\n",
       "      <td>0.000000</td>\n",
       "      <td>0.000000</td>\n",
       "      <td>42.000000</td>\n",
       "      <td>1072.000000</td>\n",
       "      <td>0.000000</td>\n",
       "      <td>1</td>\n",
       "    </tr>\n",
       "    <tr>\n",
       "      <th>25%</th>\n",
       "      <td>1.000000</td>\n",
       "      <td>0.000000</td>\n",
       "      <td>0.000000</td>\n",
       "      <td>0.000000</td>\n",
       "      <td>0.000000</td>\n",
       "      <td>3.000000</td>\n",
       "      <td>0.000000</td>\n",
       "      <td>0.000000</td>\n",
       "      <td>0.000000</td>\n",
       "      <td>0.000000</td>\n",
       "      <td>...</td>\n",
       "      <td>2.000000</td>\n",
       "      <td>1.000000</td>\n",
       "      <td>1.000000</td>\n",
       "      <td>0.000000</td>\n",
       "      <td>0.000000</td>\n",
       "      <td>0.000000</td>\n",
       "      <td>62.000000</td>\n",
       "      <td>5204.000000</td>\n",
       "      <td>37672.750000</td>\n",
       "      <td>1</td>\n",
       "    </tr>\n",
       "    <tr>\n",
       "      <th>50%</th>\n",
       "      <td>1.000000</td>\n",
       "      <td>5.000000</td>\n",
       "      <td>0.000000</td>\n",
       "      <td>6.000000</td>\n",
       "      <td>1.000000</td>\n",
       "      <td>3.000000</td>\n",
       "      <td>2.000000</td>\n",
       "      <td>0.000000</td>\n",
       "      <td>1.000000</td>\n",
       "      <td>0.000000</td>\n",
       "      <td>...</td>\n",
       "      <td>3.000000</td>\n",
       "      <td>1.000000</td>\n",
       "      <td>1.000000</td>\n",
       "      <td>1.000000</td>\n",
       "      <td>1.000000</td>\n",
       "      <td>1.000000</td>\n",
       "      <td>67.500000</td>\n",
       "      <td>12503.000000</td>\n",
       "      <td>79306.500000</td>\n",
       "      <td>1</td>\n",
       "    </tr>\n",
       "    <tr>\n",
       "      <th>75%</th>\n",
       "      <td>1.000000</td>\n",
       "      <td>5.000000</td>\n",
       "      <td>0.000000</td>\n",
       "      <td>6.000000</td>\n",
       "      <td>1.000000</td>\n",
       "      <td>3.000000</td>\n",
       "      <td>2.000000</td>\n",
       "      <td>0.000000</td>\n",
       "      <td>1.000000</td>\n",
       "      <td>1.000000</td>\n",
       "      <td>...</td>\n",
       "      <td>5.000000</td>\n",
       "      <td>1.000000</td>\n",
       "      <td>1.000000</td>\n",
       "      <td>1.000000</td>\n",
       "      <td>1.000000</td>\n",
       "      <td>1.000000</td>\n",
       "      <td>81.000000</td>\n",
       "      <td>37454.250000</td>\n",
       "      <td>174988.000000</td>\n",
       "      <td>1</td>\n",
       "    </tr>\n",
       "    <tr>\n",
       "      <th>max</th>\n",
       "      <td>1.000000</td>\n",
       "      <td>5.000000</td>\n",
       "      <td>1.000000</td>\n",
       "      <td>6.000000</td>\n",
       "      <td>1.000000</td>\n",
       "      <td>3.000000</td>\n",
       "      <td>2.000000</td>\n",
       "      <td>1.000000</td>\n",
       "      <td>1.000000</td>\n",
       "      <td>1.000000</td>\n",
       "      <td>...</td>\n",
       "      <td>5.000000</td>\n",
       "      <td>1.000000</td>\n",
       "      <td>1.000000</td>\n",
       "      <td>1.000000</td>\n",
       "      <td>1.000000</td>\n",
       "      <td>1.000000</td>\n",
       "      <td>97.000000</td>\n",
       "      <td>526050.000000</td>\n",
       "      <td>2945372.000000</td>\n",
       "      <td>1</td>\n",
       "    </tr>\n",
       "  </tbody>\n",
       "</table>\n",
       "<p>8 rows × 56 columns</p>\n",
       "</div>"
      ],
      "text/plain": [
       "             ssc1        ssc2        ssc3      ssc4_1      ssc4_2      ssc4_3  \\\n",
       "count  304.000000  304.000000  304.000000  304.000000  304.000000  304.000000   \n",
       "mean     0.812500    2.763158    0.164474    3.335526    0.595395    2.388158   \n",
       "std      0.390956    2.490210    0.371316    2.986093    0.491625    1.210784   \n",
       "min      0.000000    0.000000    0.000000    0.000000    0.000000    0.000000   \n",
       "25%      1.000000    0.000000    0.000000    0.000000    0.000000    3.000000   \n",
       "50%      1.000000    5.000000    0.000000    6.000000    1.000000    3.000000   \n",
       "75%      1.000000    5.000000    0.000000    6.000000    1.000000    3.000000   \n",
       "max      1.000000    5.000000    1.000000    6.000000    1.000000    3.000000   \n",
       "\n",
       "           ssc4_4      ssc5_1      ssc5_2      ssc6_1    ...           idc1  \\\n",
       "count  304.000000  304.000000  304.000000  304.000000    ...     304.000000   \n",
       "mean     1.302632    0.203947    0.634868    0.434211    ...       3.332237   \n",
       "std      0.954679    0.403595    0.482261    0.496470    ...       1.441310   \n",
       "min      0.000000    0.000000    0.000000    0.000000    ...       0.000000   \n",
       "25%      0.000000    0.000000    0.000000    0.000000    ...       2.000000   \n",
       "50%      2.000000    0.000000    1.000000    0.000000    ...       3.000000   \n",
       "75%      2.000000    0.000000    1.000000    1.000000    ...       5.000000   \n",
       "max      2.000000    1.000000    1.000000    1.000000    ...       5.000000   \n",
       "\n",
       "             idc2      extra1      extra2      extra3      extra4  \\\n",
       "count  304.000000  299.000000  298.000000  289.000000  260.000000   \n",
       "mean     0.993421    0.842809    0.708054    0.636678    0.546154   \n",
       "std      0.080977    0.364591    0.455423    0.481791    0.498825   \n",
       "min      0.000000    0.000000    0.000000    0.000000    0.000000   \n",
       "25%      1.000000    1.000000    0.000000    0.000000    0.000000   \n",
       "50%      1.000000    1.000000    1.000000    1.000000    1.000000   \n",
       "75%      1.000000    1.000000    1.000000    1.000000    1.000000   \n",
       "max      1.000000    1.000000    1.000000    1.000000    1.000000   \n",
       "\n",
       "       points_achieved  gross_square_foot  total_property_area  clusters  \n",
       "count       304.000000         304.000000           304.000000       304  \n",
       "mean         69.855263       33069.631579        171121.779605         1  \n",
       "std          11.337259       55809.940151        272539.217634         0  \n",
       "min          42.000000        1072.000000             0.000000         1  \n",
       "25%          62.000000        5204.000000         37672.750000         1  \n",
       "50%          67.500000       12503.000000         79306.500000         1  \n",
       "75%          81.000000       37454.250000        174988.000000         1  \n",
       "max          97.000000      526050.000000       2945372.000000         1  \n",
       "\n",
       "[8 rows x 56 columns]"
      ]
     },
     "execution_count": 193,
     "metadata": {},
     "output_type": "execute_result"
    }
   ],
   "source": [
    "cluster_1_2009.describe()"
   ]
  },
  {
   "cell_type": "code",
   "execution_count": 144,
   "metadata": {
    "collapsed": true
   },
   "outputs": [],
   "source": [
    "cluster_2_2009 = merged_df_2009_small[(merged_df_2009_small['clusters'] == 2)]"
   ]
  },
  {
   "cell_type": "code",
   "execution_count": 145,
   "metadata": {
    "collapsed": false
   },
   "outputs": [
    {
     "data": {
      "text/html": [
       "<div>\n",
       "<table border=\"1\" class=\"dataframe\">\n",
       "  <thead>\n",
       "    <tr style=\"text-align: right;\">\n",
       "      <th></th>\n",
       "      <th>ssc1</th>\n",
       "      <th>ssc2</th>\n",
       "      <th>ssc3</th>\n",
       "      <th>ssc4_1</th>\n",
       "      <th>ssc4_2</th>\n",
       "      <th>ssc4_3</th>\n",
       "      <th>ssc4_4</th>\n",
       "      <th>ssc5_1</th>\n",
       "      <th>ssc5_2</th>\n",
       "      <th>ssc6_1</th>\n",
       "      <th>...</th>\n",
       "      <th>idc1</th>\n",
       "      <th>idc2</th>\n",
       "      <th>extra1</th>\n",
       "      <th>extra2</th>\n",
       "      <th>extra3</th>\n",
       "      <th>extra4</th>\n",
       "      <th>points_achieved</th>\n",
       "      <th>gross_square_foot</th>\n",
       "      <th>total_property_area</th>\n",
       "      <th>clusters</th>\n",
       "    </tr>\n",
       "  </thead>\n",
       "  <tbody>\n",
       "    <tr>\n",
       "      <th>count</th>\n",
       "      <td>292.000000</td>\n",
       "      <td>292.000000</td>\n",
       "      <td>292.000000</td>\n",
       "      <td>292.000000</td>\n",
       "      <td>292.000000</td>\n",
       "      <td>292.000000</td>\n",
       "      <td>292.000000</td>\n",
       "      <td>292.000000</td>\n",
       "      <td>292.000000</td>\n",
       "      <td>292.000000</td>\n",
       "      <td>...</td>\n",
       "      <td>292.000000</td>\n",
       "      <td>292.000000</td>\n",
       "      <td>289.000000</td>\n",
       "      <td>280.000000</td>\n",
       "      <td>246.000000</td>\n",
       "      <td>193.000000</td>\n",
       "      <td>292.000000</td>\n",
       "      <td>292.000000</td>\n",
       "      <td>292.000000</td>\n",
       "      <td>292</td>\n",
       "    </tr>\n",
       "    <tr>\n",
       "      <th>mean</th>\n",
       "      <td>0.910959</td>\n",
       "      <td>3.561644</td>\n",
       "      <td>0.215753</td>\n",
       "      <td>4.356164</td>\n",
       "      <td>0.630137</td>\n",
       "      <td>2.445205</td>\n",
       "      <td>1.541096</td>\n",
       "      <td>0.154110</td>\n",
       "      <td>0.613014</td>\n",
       "      <td>0.407534</td>\n",
       "      <td>...</td>\n",
       "      <td>2.904110</td>\n",
       "      <td>0.982877</td>\n",
       "      <td>0.373702</td>\n",
       "      <td>0.592857</td>\n",
       "      <td>0.634146</td>\n",
       "      <td>0.637306</td>\n",
       "      <td>47.664384</td>\n",
       "      <td>76883.174658</td>\n",
       "      <td>187546.880137</td>\n",
       "      <td>2</td>\n",
       "    </tr>\n",
       "    <tr>\n",
       "      <th>std</th>\n",
       "      <td>0.285292</td>\n",
       "      <td>2.267271</td>\n",
       "      <td>0.412050</td>\n",
       "      <td>2.680564</td>\n",
       "      <td>0.483596</td>\n",
       "      <td>1.166726</td>\n",
       "      <td>0.842405</td>\n",
       "      <td>0.361674</td>\n",
       "      <td>0.487897</td>\n",
       "      <td>0.492219</td>\n",
       "      <td>...</td>\n",
       "      <td>1.512054</td>\n",
       "      <td>0.129954</td>\n",
       "      <td>0.484625</td>\n",
       "      <td>0.492182</td>\n",
       "      <td>0.482651</td>\n",
       "      <td>0.482028</td>\n",
       "      <td>6.831077</td>\n",
       "      <td>101768.934547</td>\n",
       "      <td>350571.532310</td>\n",
       "      <td>0</td>\n",
       "    </tr>\n",
       "    <tr>\n",
       "      <th>min</th>\n",
       "      <td>0.000000</td>\n",
       "      <td>0.000000</td>\n",
       "      <td>0.000000</td>\n",
       "      <td>0.000000</td>\n",
       "      <td>0.000000</td>\n",
       "      <td>0.000000</td>\n",
       "      <td>0.000000</td>\n",
       "      <td>0.000000</td>\n",
       "      <td>0.000000</td>\n",
       "      <td>0.000000</td>\n",
       "      <td>...</td>\n",
       "      <td>0.000000</td>\n",
       "      <td>0.000000</td>\n",
       "      <td>0.000000</td>\n",
       "      <td>0.000000</td>\n",
       "      <td>0.000000</td>\n",
       "      <td>0.000000</td>\n",
       "      <td>13.000000</td>\n",
       "      <td>1029.000000</td>\n",
       "      <td>4583.000000</td>\n",
       "      <td>2</td>\n",
       "    </tr>\n",
       "    <tr>\n",
       "      <th>25%</th>\n",
       "      <td>1.000000</td>\n",
       "      <td>0.000000</td>\n",
       "      <td>0.000000</td>\n",
       "      <td>0.000000</td>\n",
       "      <td>0.000000</td>\n",
       "      <td>3.000000</td>\n",
       "      <td>2.000000</td>\n",
       "      <td>0.000000</td>\n",
       "      <td>0.000000</td>\n",
       "      <td>0.000000</td>\n",
       "      <td>...</td>\n",
       "      <td>2.000000</td>\n",
       "      <td>1.000000</td>\n",
       "      <td>0.000000</td>\n",
       "      <td>0.000000</td>\n",
       "      <td>0.000000</td>\n",
       "      <td>0.000000</td>\n",
       "      <td>42.000000</td>\n",
       "      <td>17527.000000</td>\n",
       "      <td>41053.750000</td>\n",
       "      <td>2</td>\n",
       "    </tr>\n",
       "    <tr>\n",
       "      <th>50%</th>\n",
       "      <td>1.000000</td>\n",
       "      <td>5.000000</td>\n",
       "      <td>0.000000</td>\n",
       "      <td>6.000000</td>\n",
       "      <td>1.000000</td>\n",
       "      <td>3.000000</td>\n",
       "      <td>2.000000</td>\n",
       "      <td>0.000000</td>\n",
       "      <td>1.000000</td>\n",
       "      <td>0.000000</td>\n",
       "      <td>...</td>\n",
       "      <td>3.000000</td>\n",
       "      <td>1.000000</td>\n",
       "      <td>0.000000</td>\n",
       "      <td>1.000000</td>\n",
       "      <td>1.000000</td>\n",
       "      <td>1.000000</td>\n",
       "      <td>48.500000</td>\n",
       "      <td>43221.500000</td>\n",
       "      <td>81093.500000</td>\n",
       "      <td>2</td>\n",
       "    </tr>\n",
       "    <tr>\n",
       "      <th>75%</th>\n",
       "      <td>1.000000</td>\n",
       "      <td>5.000000</td>\n",
       "      <td>0.000000</td>\n",
       "      <td>6.000000</td>\n",
       "      <td>1.000000</td>\n",
       "      <td>3.000000</td>\n",
       "      <td>2.000000</td>\n",
       "      <td>0.000000</td>\n",
       "      <td>1.000000</td>\n",
       "      <td>1.000000</td>\n",
       "      <td>...</td>\n",
       "      <td>4.000000</td>\n",
       "      <td>1.000000</td>\n",
       "      <td>1.000000</td>\n",
       "      <td>1.000000</td>\n",
       "      <td>1.000000</td>\n",
       "      <td>1.000000</td>\n",
       "      <td>52.000000</td>\n",
       "      <td>92289.000000</td>\n",
       "      <td>188986.500000</td>\n",
       "      <td>2</td>\n",
       "    </tr>\n",
       "    <tr>\n",
       "      <th>max</th>\n",
       "      <td>1.000000</td>\n",
       "      <td>5.000000</td>\n",
       "      <td>1.000000</td>\n",
       "      <td>6.000000</td>\n",
       "      <td>1.000000</td>\n",
       "      <td>3.000000</td>\n",
       "      <td>2.000000</td>\n",
       "      <td>1.000000</td>\n",
       "      <td>1.000000</td>\n",
       "      <td>1.000000</td>\n",
       "      <td>...</td>\n",
       "      <td>5.000000</td>\n",
       "      <td>1.000000</td>\n",
       "      <td>1.000000</td>\n",
       "      <td>1.000000</td>\n",
       "      <td>1.000000</td>\n",
       "      <td>1.000000</td>\n",
       "      <td>64.000000</td>\n",
       "      <td>734030.000000</td>\n",
       "      <td>3429154.000000</td>\n",
       "      <td>2</td>\n",
       "    </tr>\n",
       "  </tbody>\n",
       "</table>\n",
       "<p>8 rows × 56 columns</p>\n",
       "</div>"
      ],
      "text/plain": [
       "             ssc1        ssc2        ssc3      ssc4_1      ssc4_2      ssc4_3  \\\n",
       "count  292.000000  292.000000  292.000000  292.000000  292.000000  292.000000   \n",
       "mean     0.910959    3.561644    0.215753    4.356164    0.630137    2.445205   \n",
       "std      0.285292    2.267271    0.412050    2.680564    0.483596    1.166726   \n",
       "min      0.000000    0.000000    0.000000    0.000000    0.000000    0.000000   \n",
       "25%      1.000000    0.000000    0.000000    0.000000    0.000000    3.000000   \n",
       "50%      1.000000    5.000000    0.000000    6.000000    1.000000    3.000000   \n",
       "75%      1.000000    5.000000    0.000000    6.000000    1.000000    3.000000   \n",
       "max      1.000000    5.000000    1.000000    6.000000    1.000000    3.000000   \n",
       "\n",
       "           ssc4_4      ssc5_1      ssc5_2      ssc6_1    ...           idc1  \\\n",
       "count  292.000000  292.000000  292.000000  292.000000    ...     292.000000   \n",
       "mean     1.541096    0.154110    0.613014    0.407534    ...       2.904110   \n",
       "std      0.842405    0.361674    0.487897    0.492219    ...       1.512054   \n",
       "min      0.000000    0.000000    0.000000    0.000000    ...       0.000000   \n",
       "25%      2.000000    0.000000    0.000000    0.000000    ...       2.000000   \n",
       "50%      2.000000    0.000000    1.000000    0.000000    ...       3.000000   \n",
       "75%      2.000000    0.000000    1.000000    1.000000    ...       4.000000   \n",
       "max      2.000000    1.000000    1.000000    1.000000    ...       5.000000   \n",
       "\n",
       "             idc2      extra1      extra2      extra3      extra4  \\\n",
       "count  292.000000  289.000000  280.000000  246.000000  193.000000   \n",
       "mean     0.982877    0.373702    0.592857    0.634146    0.637306   \n",
       "std      0.129954    0.484625    0.492182    0.482651    0.482028   \n",
       "min      0.000000    0.000000    0.000000    0.000000    0.000000   \n",
       "25%      1.000000    0.000000    0.000000    0.000000    0.000000   \n",
       "50%      1.000000    0.000000    1.000000    1.000000    1.000000   \n",
       "75%      1.000000    1.000000    1.000000    1.000000    1.000000   \n",
       "max      1.000000    1.000000    1.000000    1.000000    1.000000   \n",
       "\n",
       "       points_achieved  gross_square_foot  total_property_area  clusters  \n",
       "count       292.000000         292.000000           292.000000       292  \n",
       "mean         47.664384       76883.174658        187546.880137         2  \n",
       "std           6.831077      101768.934547        350571.532310         0  \n",
       "min          13.000000        1029.000000          4583.000000         2  \n",
       "25%          42.000000       17527.000000         41053.750000         2  \n",
       "50%          48.500000       43221.500000         81093.500000         2  \n",
       "75%          52.000000       92289.000000        188986.500000         2  \n",
       "max          64.000000      734030.000000       3429154.000000         2  \n",
       "\n",
       "[8 rows x 56 columns]"
      ]
     },
     "execution_count": 145,
     "metadata": {},
     "output_type": "execute_result"
    }
   ],
   "source": [
    "cluster_2_2009.describe()"
   ]
  },
  {
   "cell_type": "code",
   "execution_count": 146,
   "metadata": {
    "collapsed": true
   },
   "outputs": [],
   "source": [
    "cluster_3_2009 = merged_df_2009_small[(merged_df_2009_small['clusters'] == 3)]"
   ]
  },
  {
   "cell_type": "code",
   "execution_count": 148,
   "metadata": {
    "collapsed": false
   },
   "outputs": [
    {
     "data": {
      "text/html": [
       "<div>\n",
       "<table border=\"1\" class=\"dataframe\">\n",
       "  <thead>\n",
       "    <tr style=\"text-align: right;\">\n",
       "      <th></th>\n",
       "      <th>ssc1</th>\n",
       "      <th>ssc2</th>\n",
       "      <th>ssc3</th>\n",
       "      <th>ssc4_1</th>\n",
       "      <th>ssc4_2</th>\n",
       "      <th>ssc4_3</th>\n",
       "      <th>ssc4_4</th>\n",
       "      <th>ssc5_1</th>\n",
       "      <th>ssc5_2</th>\n",
       "      <th>ssc6_1</th>\n",
       "      <th>...</th>\n",
       "      <th>idc1</th>\n",
       "      <th>idc2</th>\n",
       "      <th>extra1</th>\n",
       "      <th>extra2</th>\n",
       "      <th>extra3</th>\n",
       "      <th>extra4</th>\n",
       "      <th>points_achieved</th>\n",
       "      <th>gross_square_foot</th>\n",
       "      <th>total_property_area</th>\n",
       "      <th>clusters</th>\n",
       "    </tr>\n",
       "  </thead>\n",
       "  <tbody>\n",
       "    <tr>\n",
       "      <th>count</th>\n",
       "      <td>3.000000</td>\n",
       "      <td>3.000000</td>\n",
       "      <td>3</td>\n",
       "      <td>3.000000</td>\n",
       "      <td>3.000000</td>\n",
       "      <td>3</td>\n",
       "      <td>3.000000</td>\n",
       "      <td>3</td>\n",
       "      <td>3.000000</td>\n",
       "      <td>3</td>\n",
       "      <td>...</td>\n",
       "      <td>3.000000</td>\n",
       "      <td>3</td>\n",
       "      <td>3.000000</td>\n",
       "      <td>3.000000</td>\n",
       "      <td>3.000000</td>\n",
       "      <td>3.000000</td>\n",
       "      <td>3.000000</td>\n",
       "      <td>3.000000</td>\n",
       "      <td>3.000000</td>\n",
       "      <td>3</td>\n",
       "    </tr>\n",
       "    <tr>\n",
       "      <th>mean</th>\n",
       "      <td>0.666667</td>\n",
       "      <td>1.666667</td>\n",
       "      <td>0</td>\n",
       "      <td>2.000000</td>\n",
       "      <td>0.666667</td>\n",
       "      <td>3</td>\n",
       "      <td>1.333333</td>\n",
       "      <td>0</td>\n",
       "      <td>0.333333</td>\n",
       "      <td>0</td>\n",
       "      <td>...</td>\n",
       "      <td>2.666667</td>\n",
       "      <td>1</td>\n",
       "      <td>0.666667</td>\n",
       "      <td>0.666667</td>\n",
       "      <td>0.666667</td>\n",
       "      <td>0.333333</td>\n",
       "      <td>48.333333</td>\n",
       "      <td>5291.666667</td>\n",
       "      <td>35661.666667</td>\n",
       "      <td>3</td>\n",
       "    </tr>\n",
       "    <tr>\n",
       "      <th>std</th>\n",
       "      <td>0.577350</td>\n",
       "      <td>2.886751</td>\n",
       "      <td>0</td>\n",
       "      <td>3.464102</td>\n",
       "      <td>0.577350</td>\n",
       "      <td>0</td>\n",
       "      <td>1.154701</td>\n",
       "      <td>0</td>\n",
       "      <td>0.577350</td>\n",
       "      <td>0</td>\n",
       "      <td>...</td>\n",
       "      <td>1.527525</td>\n",
       "      <td>0</td>\n",
       "      <td>0.577350</td>\n",
       "      <td>0.577350</td>\n",
       "      <td>0.577350</td>\n",
       "      <td>0.577350</td>\n",
       "      <td>2.886751</td>\n",
       "      <td>3329.742382</td>\n",
       "      <td>28024.741111</td>\n",
       "      <td>0</td>\n",
       "    </tr>\n",
       "    <tr>\n",
       "      <th>min</th>\n",
       "      <td>0.000000</td>\n",
       "      <td>0.000000</td>\n",
       "      <td>0</td>\n",
       "      <td>0.000000</td>\n",
       "      <td>0.000000</td>\n",
       "      <td>3</td>\n",
       "      <td>0.000000</td>\n",
       "      <td>0</td>\n",
       "      <td>0.000000</td>\n",
       "      <td>0</td>\n",
       "      <td>...</td>\n",
       "      <td>1.000000</td>\n",
       "      <td>1</td>\n",
       "      <td>0.000000</td>\n",
       "      <td>0.000000</td>\n",
       "      <td>0.000000</td>\n",
       "      <td>0.000000</td>\n",
       "      <td>45.000000</td>\n",
       "      <td>1464.000000</td>\n",
       "      <td>13746.000000</td>\n",
       "      <td>3</td>\n",
       "    </tr>\n",
       "    <tr>\n",
       "      <th>25%</th>\n",
       "      <td>0.500000</td>\n",
       "      <td>0.000000</td>\n",
       "      <td>0</td>\n",
       "      <td>0.000000</td>\n",
       "      <td>0.500000</td>\n",
       "      <td>3</td>\n",
       "      <td>1.000000</td>\n",
       "      <td>0</td>\n",
       "      <td>0.000000</td>\n",
       "      <td>0</td>\n",
       "      <td>...</td>\n",
       "      <td>2.000000</td>\n",
       "      <td>1</td>\n",
       "      <td>0.500000</td>\n",
       "      <td>0.500000</td>\n",
       "      <td>0.500000</td>\n",
       "      <td>0.000000</td>\n",
       "      <td>47.500000</td>\n",
       "      <td>4177.500000</td>\n",
       "      <td>19873.000000</td>\n",
       "      <td>3</td>\n",
       "    </tr>\n",
       "    <tr>\n",
       "      <th>50%</th>\n",
       "      <td>1.000000</td>\n",
       "      <td>0.000000</td>\n",
       "      <td>0</td>\n",
       "      <td>0.000000</td>\n",
       "      <td>1.000000</td>\n",
       "      <td>3</td>\n",
       "      <td>2.000000</td>\n",
       "      <td>0</td>\n",
       "      <td>0.000000</td>\n",
       "      <td>0</td>\n",
       "      <td>...</td>\n",
       "      <td>3.000000</td>\n",
       "      <td>1</td>\n",
       "      <td>1.000000</td>\n",
       "      <td>1.000000</td>\n",
       "      <td>1.000000</td>\n",
       "      <td>0.000000</td>\n",
       "      <td>50.000000</td>\n",
       "      <td>6891.000000</td>\n",
       "      <td>26000.000000</td>\n",
       "      <td>3</td>\n",
       "    </tr>\n",
       "    <tr>\n",
       "      <th>75%</th>\n",
       "      <td>1.000000</td>\n",
       "      <td>2.500000</td>\n",
       "      <td>0</td>\n",
       "      <td>3.000000</td>\n",
       "      <td>1.000000</td>\n",
       "      <td>3</td>\n",
       "      <td>2.000000</td>\n",
       "      <td>0</td>\n",
       "      <td>0.500000</td>\n",
       "      <td>0</td>\n",
       "      <td>...</td>\n",
       "      <td>3.500000</td>\n",
       "      <td>1</td>\n",
       "      <td>1.000000</td>\n",
       "      <td>1.000000</td>\n",
       "      <td>1.000000</td>\n",
       "      <td>0.500000</td>\n",
       "      <td>50.000000</td>\n",
       "      <td>7205.500000</td>\n",
       "      <td>46619.500000</td>\n",
       "      <td>3</td>\n",
       "    </tr>\n",
       "    <tr>\n",
       "      <th>max</th>\n",
       "      <td>1.000000</td>\n",
       "      <td>5.000000</td>\n",
       "      <td>0</td>\n",
       "      <td>6.000000</td>\n",
       "      <td>1.000000</td>\n",
       "      <td>3</td>\n",
       "      <td>2.000000</td>\n",
       "      <td>0</td>\n",
       "      <td>1.000000</td>\n",
       "      <td>0</td>\n",
       "      <td>...</td>\n",
       "      <td>4.000000</td>\n",
       "      <td>1</td>\n",
       "      <td>1.000000</td>\n",
       "      <td>1.000000</td>\n",
       "      <td>1.000000</td>\n",
       "      <td>1.000000</td>\n",
       "      <td>50.000000</td>\n",
       "      <td>7520.000000</td>\n",
       "      <td>67239.000000</td>\n",
       "      <td>3</td>\n",
       "    </tr>\n",
       "  </tbody>\n",
       "</table>\n",
       "<p>8 rows × 56 columns</p>\n",
       "</div>"
      ],
      "text/plain": [
       "           ssc1      ssc2  ssc3    ssc4_1    ssc4_2  ssc4_3    ssc4_4  ssc5_1  \\\n",
       "count  3.000000  3.000000     3  3.000000  3.000000       3  3.000000       3   \n",
       "mean   0.666667  1.666667     0  2.000000  0.666667       3  1.333333       0   \n",
       "std    0.577350  2.886751     0  3.464102  0.577350       0  1.154701       0   \n",
       "min    0.000000  0.000000     0  0.000000  0.000000       3  0.000000       0   \n",
       "25%    0.500000  0.000000     0  0.000000  0.500000       3  1.000000       0   \n",
       "50%    1.000000  0.000000     0  0.000000  1.000000       3  2.000000       0   \n",
       "75%    1.000000  2.500000     0  3.000000  1.000000       3  2.000000       0   \n",
       "max    1.000000  5.000000     0  6.000000  1.000000       3  2.000000       0   \n",
       "\n",
       "         ssc5_2  ssc6_1    ...         idc1  idc2    extra1    extra2  \\\n",
       "count  3.000000       3    ...     3.000000     3  3.000000  3.000000   \n",
       "mean   0.333333       0    ...     2.666667     1  0.666667  0.666667   \n",
       "std    0.577350       0    ...     1.527525     0  0.577350  0.577350   \n",
       "min    0.000000       0    ...     1.000000     1  0.000000  0.000000   \n",
       "25%    0.000000       0    ...     2.000000     1  0.500000  0.500000   \n",
       "50%    0.000000       0    ...     3.000000     1  1.000000  1.000000   \n",
       "75%    0.500000       0    ...     3.500000     1  1.000000  1.000000   \n",
       "max    1.000000       0    ...     4.000000     1  1.000000  1.000000   \n",
       "\n",
       "         extra3    extra4  points_achieved  gross_square_foot  \\\n",
       "count  3.000000  3.000000         3.000000           3.000000   \n",
       "mean   0.666667  0.333333        48.333333        5291.666667   \n",
       "std    0.577350  0.577350         2.886751        3329.742382   \n",
       "min    0.000000  0.000000        45.000000        1464.000000   \n",
       "25%    0.500000  0.000000        47.500000        4177.500000   \n",
       "50%    1.000000  0.000000        50.000000        6891.000000   \n",
       "75%    1.000000  0.500000        50.000000        7205.500000   \n",
       "max    1.000000  1.000000        50.000000        7520.000000   \n",
       "\n",
       "       total_property_area  clusters  \n",
       "count             3.000000         3  \n",
       "mean          35661.666667         3  \n",
       "std           28024.741111         0  \n",
       "min           13746.000000         3  \n",
       "25%           19873.000000         3  \n",
       "50%           26000.000000         3  \n",
       "75%           46619.500000         3  \n",
       "max           67239.000000         3  \n",
       "\n",
       "[8 rows x 56 columns]"
      ]
     },
     "execution_count": 148,
     "metadata": {},
     "output_type": "execute_result"
    }
   ],
   "source": [
    "cluster_3_2009.describe()"
   ]
  },
  {
   "cell_type": "code",
   "execution_count": 155,
   "metadata": {
    "collapsed": true
   },
   "outputs": [],
   "source": [
    "cluster_0_plot = cluster_0_2009[['gross_square_foot', 'total_property_area']]"
   ]
  },
  {
   "cell_type": "code",
   "execution_count": 156,
   "metadata": {
    "collapsed": false
   },
   "outputs": [
    {
     "data": {
      "text/html": [
       "<div>\n",
       "<table border=\"1\" class=\"dataframe\">\n",
       "  <thead>\n",
       "    <tr style=\"text-align: right;\">\n",
       "      <th></th>\n",
       "      <th>gross_square_foot</th>\n",
       "      <th>total_property_area</th>\n",
       "    </tr>\n",
       "    <tr>\n",
       "      <th>project_id</th>\n",
       "      <th></th>\n",
       "      <th></th>\n",
       "    </tr>\n",
       "  </thead>\n",
       "  <tbody>\n",
       "    <tr>\n",
       "      <th>1000000143</th>\n",
       "      <td>86580</td>\n",
       "      <td>53863</td>\n",
       "    </tr>\n",
       "    <tr>\n",
       "      <th>1000000174</th>\n",
       "      <td>11806</td>\n",
       "      <td>66000</td>\n",
       "    </tr>\n",
       "    <tr>\n",
       "      <th>1000000194</th>\n",
       "      <td>3472</td>\n",
       "      <td>10905</td>\n",
       "    </tr>\n",
       "    <tr>\n",
       "      <th>1000000199</th>\n",
       "      <td>48732</td>\n",
       "      <td>555823</td>\n",
       "    </tr>\n",
       "    <tr>\n",
       "      <th>1000000222</th>\n",
       "      <td>212777</td>\n",
       "      <td>108563</td>\n",
       "    </tr>\n",
       "  </tbody>\n",
       "</table>\n",
       "</div>"
      ],
      "text/plain": [
       "            gross_square_foot  total_property_area\n",
       "project_id                                        \n",
       "1000000143              86580                53863\n",
       "1000000174              11806                66000\n",
       "1000000194               3472                10905\n",
       "1000000199              48732               555823\n",
       "1000000222             212777               108563"
      ]
     },
     "execution_count": 156,
     "metadata": {},
     "output_type": "execute_result"
    }
   ],
   "source": [
    "cluster_0_plot.head()"
   ]
  },
  {
   "cell_type": "code",
   "execution_count": 157,
   "metadata": {
    "collapsed": true
   },
   "outputs": [],
   "source": [
    "%matplotlib inline"
   ]
  },
  {
   "cell_type": "code",
   "execution_count": 159,
   "metadata": {
    "collapsed": false
   },
   "outputs": [
    {
     "data": {
      "text/plain": [
       "<matplotlib.axes._subplots.AxesSubplot at 0x10b15f630>"
      ]
     },
     "execution_count": 159,
     "metadata": {},
     "output_type": "execute_result"
    },
    {
     "data": {
      "image/png": "[encoded data removed]",
      "text/plain": [
       "<matplotlib.figure.Figure at 0x10b40b128>"
      ]
     },
     "metadata": {},
     "output_type": "display_data"
    }
   ],
   "source": [
    "cluster_0_plot.mean().plot(kind = 'barh')"
   ]
  },
  {
   "cell_type": "code",
   "execution_count": 160,
   "metadata": {
    "collapsed": false
   },
   "outputs": [
    {
     "data": {
      "text/plain": [
       "<matplotlib.axes._subplots.AxesSubplot at 0x10b1ff4a8>"
      ]
     },
     "execution_count": 160,
     "metadata": {},
     "output_type": "execute_result"
    },
    {
     "data": {
      "image/png": "[encoded data removed]",
      "text/plain": [
       "<matplotlib.figure.Figure at 0x10ac3f438>"
      ]
     },
     "metadata": {},
     "output_type": "display_data"
    }
   ],
   "source": [
    "cluster_1_plot = cluster_1_2009[['gross_square_foot', 'total_property_area']]\n",
    "cluster_1_plot.mean().plot(kind = 'barh')"
   ]
  },
  {
   "cell_type": "code",
   "execution_count": 161,
   "metadata": {
    "collapsed": false
   },
   "outputs": [
    {
     "data": {
      "text/plain": [
       "<matplotlib.axes._subplots.AxesSubplot at 0x10ab9a7b8>"
      ]
     },
     "execution_count": 161,
     "metadata": {},
     "output_type": "execute_result"
    },
    {
     "data": {
      "image/png": "[encoded data removed]",
      "text/plain": [
       "<matplotlib.figure.Figure at 0x10aaab320>"
      ]
     },
     "metadata": {},
     "output_type": "display_data"
    }
   ],
   "source": [
    "cluster_2_plot = cluster_2_2009[['gross_square_foot', 'total_property_area']]\n",
    "cluster_2_plot.mean().plot(kind = 'barh')"
   ]
  },
  {
   "cell_type": "code",
   "execution_count": 162,
   "metadata": {
    "collapsed": false
   },
   "outputs": [
    {
     "data": {
      "text/plain": [
       "<matplotlib.axes._subplots.AxesSubplot at 0x10ad11470>"
      ]
     },
     "execution_count": 162,
     "metadata": {},
     "output_type": "execute_result"
    },
    {
     "data": {
      "image/png": "[encoded data removed]",
      "text/plain": [
       "<matplotlib.figure.Figure at 0x10a8e00f0>"
      ]
     },
     "metadata": {},
     "output_type": "display_data"
    }
   ],
   "source": [
    "cluster_2_2009[['points_achieved']].mean().plot(kind = 'barh')"
   ]
  },
  {
   "cell_type": "code",
   "execution_count": 163,
   "metadata": {
    "collapsed": false
   },
   "outputs": [
    {
     "data": {
      "text/plain": [
       "<matplotlib.axes._subplots.AxesSubplot at 0x10a2dcac8>"
      ]
     },
     "execution_count": 163,
     "metadata": {},
     "output_type": "execute_result"
    },
    {
     "data": {
      "image/png": "[encoded data removed]",
      "text/plain": [
       "<matplotlib.figure.Figure at 0x10a0a3748>"
      ]
     },
     "metadata": {},
     "output_type": "display_data"
    }
   ],
   "source": [
    "cluster_1_2009[['points_achieved']].mean().plot(kind = 'barh')"
   ]
  },
  {
   "cell_type": "code",
   "execution_count": 164,
   "metadata": {
    "collapsed": false
   },
   "outputs": [
    {
     "data": {
      "text/plain": [
       "<matplotlib.axes._subplots.AxesSubplot at 0x10abaea90>"
      ]
     },
     "execution_count": 164,
     "metadata": {},
     "output_type": "execute_result"
    },
    {
     "data": {
      "image/png": "[encoded data removed]",
      "text/plain": [
       "<matplotlib.figure.Figure at 0x109dca518>"
      ]
     },
     "metadata": {},
     "output_type": "display_data"
    }
   ],
   "source": [
    "cluster_0_2009[['points_achieved']].mean().plot(kind = 'barh')"
   ]
  },
  {
   "cell_type": "code",
   "execution_count": 183,
   "metadata": {
    "collapsed": false
   },
   "outputs": [],
   "source": [
    "cluster_0_2009_mean = cluster_0_2009.mean().to_frame()"
   ]
  },
  {
   "cell_type": "code",
   "execution_count": 195,
   "metadata": {
    "collapsed": false
   },
   "outputs": [],
   "source": [
    "cluster_1_2009_mean = cluster_1_2009.mean().to_frame()"
   ]
  },
  {
   "cell_type": "code",
   "execution_count": 197,
   "metadata": {
    "collapsed": false
   },
   "outputs": [],
   "source": [
    "cluster_2_2009_mean = cluster_2_2009.mean.to_frame()"
   ]
  },
  {
   "cell_type": "code",
   "execution_count": 205,
   "metadata": {
    "collapsed": false
   },
   "outputs": [],
   "source": [
    "cluster_2_2009_mean.columns = [\"cluster_2_mean\"]"
   ]
  },
  {
   "cell_type": "code",
   "execution_count": 206,
   "metadata": {
    "collapsed": false
   },
   "outputs": [],
   "source": [
    "cluster_1_2009_mean.columns = [\"cluster_1_mean\"]"
   ]
  },
  {
   "cell_type": "code",
   "execution_count": 207,
   "metadata": {
    "collapsed": true
   },
   "outputs": [],
   "source": [
    "cluster_0_2009_mean.columns = [\"cluster_0_mean\"]"
   ]
  },
  {
   "cell_type": "code",
   "execution_count": 208,
   "metadata": {
    "collapsed": true
   },
   "outputs": [],
   "source": [
    "cluster_0_and_1 = cluster_0_2009_mean.join(cluster_1_2009_mean)"
   ]
  },
  {
   "cell_type": "code",
   "execution_count": 212,
   "metadata": {
    "collapsed": false
   },
   "outputs": [],
   "source": [
    "cluster_0_1_2 = cluster_0_and_1.join(cluster_2_2009_mean)"
   ]
  },
  {
   "cell_type": "code",
   "execution_count": 215,
   "metadata": {
    "collapsed": false
   },
   "outputs": [
    {
     "data": {
      "text/html": [
       "<div>\n",
       "<table border=\"1\" class=\"dataframe\">\n",
       "  <thead>\n",
       "    <tr style=\"text-align: right;\">\n",
       "      <th></th>\n",
       "      <th>cluster_0_mean</th>\n",
       "      <th>cluster_1_mean</th>\n",
       "      <th>cluster_2_mean</th>\n",
       "    </tr>\n",
       "  </thead>\n",
       "  <tbody>\n",
       "    <tr>\n",
       "      <th>extra4</th>\n",
       "      <td>0.575529</td>\n",
       "      <td>0.546154</td>\n",
       "      <td>0.637306</td>\n",
       "    </tr>\n",
       "    <tr>\n",
       "      <th>points_achieved</th>\n",
       "      <td>55.240273</td>\n",
       "      <td>69.855263</td>\n",
       "      <td>47.664384</td>\n",
       "    </tr>\n",
       "    <tr>\n",
       "      <th>gross_square_foot</th>\n",
       "      <td>81821.396951</td>\n",
       "      <td>33069.631579</td>\n",
       "      <td>76883.174658</td>\n",
       "    </tr>\n",
       "    <tr>\n",
       "      <th>total_property_area</th>\n",
       "      <td>278547.140904</td>\n",
       "      <td>171121.779605</td>\n",
       "      <td>187546.880137</td>\n",
       "    </tr>\n",
       "    <tr>\n",
       "      <th>clusters</th>\n",
       "      <td>0.000000</td>\n",
       "      <td>1.000000</td>\n",
       "      <td>2.000000</td>\n",
       "    </tr>\n",
       "  </tbody>\n",
       "</table>\n",
       "</div>"
      ],
      "text/plain": [
       "                     cluster_0_mean  cluster_1_mean  cluster_2_mean\n",
       "extra4                     0.575529        0.546154        0.637306\n",
       "points_achieved           55.240273       69.855263       47.664384\n",
       "gross_square_foot      81821.396951    33069.631579    76883.174658\n",
       "total_property_area   278547.140904   171121.779605   187546.880137\n",
       "clusters                   0.000000        1.000000        2.000000"
      ]
     },
     "execution_count": 215,
     "metadata": {},
     "output_type": "execute_result"
    }
   ],
   "source": [
    "cluster_0_1_2.tail()"
   ]
  },
  {
   "cell_type": "code",
   "execution_count": 217,
   "metadata": {
    "collapsed": false
   },
   "outputs": [
    {
     "data": {
      "text/plain": [
       "Index(['ssc1', 'ssc2', 'ssc3', 'ssc4_1', 'ssc4_2', 'ssc4_3', 'ssc4_4',\n",
       "       'ssc5_1', 'ssc5_2', 'ssc6_1', 'ssc6_2', 'ssc7_1', 'ssc7_2', 'ssc8',\n",
       "       'wec1', 'wec2', 'wec3', 'eac1', 'eac2', 'eac3', 'eac4', 'eac5', 'eac6',\n",
       "       'mrc1_1', 'mrc1_2', 'mrc2', 'mrc3', 'mrc4', 'mrc5', 'mrc6', 'mrc7',\n",
       "       'eqc1', 'eqc2', 'eqc3_1', 'eqc3_2', 'eqc4_1', 'eqc4_2', 'eqc4_3',\n",
       "       'eqc4_4', 'eqc5', 'eqc6_1', 'eqc6_2', 'eqc7_1', 'eqc7_2', 'eqc8_1',\n",
       "       'eqc8_2', 'idc1', 'idc2', 'extra1', 'extra2', 'extra3', 'extra4',\n",
       "       'points_achieved', 'gross_square_foot', 'total_property_area',\n",
       "       'clusters'],\n",
       "      dtype='object')"
      ]
     },
     "execution_count": 217,
     "metadata": {},
     "output_type": "execute_result"
    }
   ],
   "source": [
    "cluster_0_1_2.index"
   ]
  },
  {
   "cell_type": "code",
   "execution_count": 227,
   "metadata": {
    "collapsed": false
   },
   "outputs": [],
   "source": [
    "cluster_score_plot = cluster_0_1_2.iloc[0:-4]"
   ]
  },
  {
   "cell_type": "code",
   "execution_count": 228,
   "metadata": {
    "collapsed": false
   },
   "outputs": [
    {
     "data": {
      "text/plain": [
       "<matplotlib.axes._subplots.AxesSubplot at 0x108416c88>"
      ]
     },
     "execution_count": 228,
     "metadata": {},
     "output_type": "execute_result"
    },
    {
     "data": {
      "image/png": "[encoded data removed]",
      "text/plain": [
       "<matplotlib.figure.Figure at 0x10844fb00>"
      ]
     },
     "metadata": {},
     "output_type": "display_data"
    }
   ],
   "source": [
    "cluster_score_plot.plot(kind=\"bar\", figsize=(19, 12))"
   ]
  },
  {
   "cell_type": "code",
   "execution_count": 233,
   "metadata": {
    "collapsed": true
   },
   "outputs": [],
   "source": [
    "cluster_score_plot_points = cluster_0_1_2.iloc[-4]"
   ]
  },
  {
   "cell_type": "code",
   "execution_count": 251,
   "metadata": {
    "collapsed": false
   },
   "outputs": [
    {
     "name": "stderr",
     "output_type": "stream",
     "text": [
      "/Users/joshuahiggins/tiyd/builditgreen/.direnv/python-3.4.3/lib/python3.4/site-packages/pandas/tools/plotting.py:856: UserWarning: 'colors' is being deprecated. Please use 'color'instead of 'colors'\n",
      "  warnings.warn((\"'colors' is being deprecated. Please use 'color'\"\n"
     ]
    },
    {
     "data": {
      "text/plain": [
       "<matplotlib.axes._subplots.AxesSubplot at 0x10a861d30>"
      ]
     },
     "execution_count": 251,
     "metadata": {},
     "output_type": "execute_result"
    },
    {
     "data": {
      "image/png": "[encoded data removed]",
      "text/plain": [
       "<matplotlib.figure.Figure at 0x10a863198>"
      ]
     },
     "metadata": {},
     "output_type": "display_data"
    }
   ],
   "source": [
    "cluster_score_plot_points.plot(kind=\"bar\", figsize=(19,12), colors=(\"r\",\"g\",\"b\"))"
   ]
  },
  {
   "cell_type": "code",
   "execution_count": 235,
   "metadata": {
    "collapsed": true
   },
   "outputs": [],
   "source": [
    "cluster_score_plot_size = cluster_0_1_2.iloc[-3:-1]"
   ]
  },
  {
   "cell_type": "code",
   "execution_count": 237,
   "metadata": {
    "collapsed": false
   },
   "outputs": [
    {
     "data": {
      "text/plain": [
       "<matplotlib.axes._subplots.AxesSubplot at 0x10844fb38>"
      ]
     },
     "execution_count": 237,
     "metadata": {},
     "output_type": "execute_result"
    },
    {
     "data": {
      "image/png": "[encoded data removed]",
      "text/plain": [
       "<matplotlib.figure.Figure at 0x10a858c50>"
      ]
     },
     "metadata": {},
     "output_type": "display_data"
    }
   ],
   "source": [
    "cluster_score_plot_size.plot(kind=\"bar\", figsize=(19,12))"
   ]
  },
  {
   "cell_type": "markdown",
   "metadata": {},
   "source": [
    "Try a Mean Shift"
   ]
  },
  {
   "cell_type": "code",
   "execution_count": 239,
   "metadata": {
    "collapsed": true
   },
   "outputs": [],
   "source": [
    "from sklearn.cluster import MeanShift"
   ]
  },
  {
   "cell_type": "code",
   "execution_count": 245,
   "metadata": {
    "collapsed": true
   },
   "outputs": [],
   "source": [
    "ms = MeanShift(.5)"
   ]
  },
  {
   "cell_type": "code",
   "execution_count": 246,
   "metadata": {
    "collapsed": false
   },
   "outputs": [
    {
     "data": {
      "text/plain": [
       "MeanShift(bandwidth=0.5, bin_seeding=False, cluster_all=True, min_bin_freq=1,\n",
       "     seeds=None)"
      ]
     },
     "execution_count": 246,
     "metadata": {},
     "output_type": "execute_result"
    }
   ],
   "source": [
    "ms.fit(clus)"
   ]
  },
  {
   "cell_type": "code",
   "execution_count": 247,
   "metadata": {
    "collapsed": true
   },
   "outputs": [],
   "source": [
    "ms_clusters = ms.predict(clus)"
   ]
  },
  {
   "cell_type": "code",
   "execution_count": 248,
   "metadata": {
    "collapsed": false
   },
   "outputs": [
    {
     "data": {
      "text/plain": [
       "array([0, 0, 0, ..., 0, 0, 2])"
      ]
     },
     "execution_count": 248,
     "metadata": {},
     "output_type": "execute_result"
    }
   ],
   "source": [
    "ms_clusters"
   ]
  },
  {
   "cell_type": "code",
   "execution_count": 249,
   "metadata": {
    "collapsed": false
   },
   "outputs": [
    {
     "data": {
      "text/plain": [
       "Counter({0: 1902, 1: 304, 2: 292, 3: 3})"
      ]
     },
     "execution_count": 249,
     "metadata": {},
     "output_type": "execute_result"
    }
   ],
   "source": [
    "Counter(ms_clusters)"
   ]
  },
  {
   "cell_type": "code",
   "execution_count": 250,
   "metadata": {
    "collapsed": false
   },
   "outputs": [
    {
     "data": {
      "text/plain": [
       "Counter({0: 1902, 1: 304, 2: 292, 3: 3})"
      ]
     },
     "execution_count": 250,
     "metadata": {},
     "output_type": "execute_result"
    }
   ],
   "source": [
    "ms_25 = MeanShift(.25)\n",
    "ms_25.fit(clus)\n",
    "ms_25_clusters = ms_25.predict(clus)\n",
    "Counter(ms_25_clusters)"
   ]
  },
  {
   "cell_type": "code",
   "execution_count": null,
   "metadata": {
    "collapsed": true
   },
   "outputs": [],
   "source": []
  }
 ],
 "metadata": {
  "kernelspec": {
   "display_name": "Python 3",
   "language": "python",
   "name": "python3"
  },
  "language_info": {
   "codemirror_mode": {
    "name": "ipython",
    "version": 3
   },
   "file_extension": ".py",
   "mimetype": "text/x-python",
   "name": "python",
   "nbconvert_exporter": "python",
   "pygments_lexer": "ipython3",
   "version": "3.4.3"
  }
 },
 "nbformat": 4,
 "nbformat_minor": 0
}
