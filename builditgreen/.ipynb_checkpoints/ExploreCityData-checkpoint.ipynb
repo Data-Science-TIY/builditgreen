{
 "cells": [
  {
   "cell_type": "code",
   "execution_count": 1,
   "metadata": {
    "collapsed": true
   },
   "outputs": [],
   "source": [
    "import pandas as pd\n",
    "import psycopg2\n"
   ]
  },
  {
   "cell_type": "code",
   "execution_count": 2,
   "metadata": {
    "collapsed": true
   },
   "outputs": [],
   "source": [
    "conn = psycopg2.connect(database=\"builditgreen\")"
   ]
  },
  {
   "cell_type": "code",
   "execution_count": 3,
   "metadata": {
    "collapsed": true
   },
   "outputs": [],
   "source": [
    "import pandas.io.sql as pdsql"
   ]
  },
  {
   "cell_type": "code",
   "execution_count": 5,
   "metadata": {
    "collapsed": false
   },
   "outputs": [
    {
     "name": "stderr",
     "output_type": "stream",
     "text": [
      "/Users/joshuahiggins/tiyd/builditgreen/.direnv/python-3.4.3/lib/python3.4/site-packages/pandas/io/sql.py:1630: FutureWarning: read_frame is deprecated, use read_sql\n",
      "  warnings.warn(\"read_frame is deprecated, use read_sql\", FutureWarning)\n"
     ]
    }
   ],
   "source": [
    "projects_df = pdsql.read_frame(\"SELECT * FROM %s;\" % 'api_project', conn)"
   ]
  },
  {
   "cell_type": "code",
   "execution_count": 12,
   "metadata": {
    "collapsed": false
   },
   "outputs": [],
   "source": [
    "projects_df=projects_df.rename(columns = {'id':'project_id'})"
   ]
  },
  {
   "cell_type": "code",
   "execution_count": 13,
   "metadata": {
    "collapsed": false
   },
   "outputs": [
    {
     "data": {
      "text/html": [
       "<div>\n",
       "<table border=\"1\" class=\"dataframe\">\n",
       "  <thead>\n",
       "    <tr style=\"text-align: right;\">\n",
       "      <th></th>\n",
       "      <th>project_id</th>\n",
       "      <th>is_confidential</th>\n",
       "      <th>name</th>\n",
       "      <th>street</th>\n",
       "      <th>city</th>\n",
       "      <th>zip_code</th>\n",
       "      <th>country</th>\n",
       "      <th>leed_version</th>\n",
       "      <th>points_achieved</th>\n",
       "      <th>certification_level</th>\n",
       "      <th>certification_date</th>\n",
       "      <th>owner_types</th>\n",
       "      <th>gross_square_foot</th>\n",
       "      <th>total_property_area</th>\n",
       "      <th>project_types</th>\n",
       "      <th>registration_date</th>\n",
       "      <th>state_id_id</th>\n",
       "    </tr>\n",
       "  </thead>\n",
       "  <tbody>\n",
       "    <tr>\n",
       "      <th>0</th>\n",
       "      <td>10000000</td>\n",
       "      <td>No</td>\n",
       "      <td>PNC Firstside Center</td>\n",
       "      <td>21 South Putt Corners Road</td>\n",
       "      <td>Pittsburgh</td>\n",
       "      <td>15219</td>\n",
       "      <td>US</td>\n",
       "      <td>LEED-NC 2.0</td>\n",
       "      <td>33</td>\n",
       "      <td>Silver</td>\n",
       "      <td>2000-10-01</td>\n",
       "      <td>Profit Org.</td>\n",
       "      <td>647000</td>\n",
       "      <td>202923</td>\n",
       "      <td>Commercial Office</td>\n",
       "      <td>2000-03-31</td>\n",
       "      <td>43</td>\n",
       "    </tr>\n",
       "    <tr>\n",
       "      <th>1</th>\n",
       "      <td>10000001</td>\n",
       "      <td>Yes</td>\n",
       "      <td>Confidential</td>\n",
       "      <td>Confidential</td>\n",
       "      <td>Confidential</td>\n",
       "      <td>Confidential</td>\n",
       "      <td>US</td>\n",
       "      <td>LEED-NC 2.0</td>\n",
       "      <td>NaN</td>\n",
       "      <td></td>\n",
       "      <td>None</td>\n",
       "      <td>Confidential</td>\n",
       "      <td>291000</td>\n",
       "      <td>130637</td>\n",
       "      <td>Commercial Office</td>\n",
       "      <td>2000-06-01</td>\n",
       "      <td>20</td>\n",
       "    </tr>\n",
       "    <tr>\n",
       "      <th>2</th>\n",
       "      <td>10000002</td>\n",
       "      <td>No</td>\n",
       "      <td>Bethel Commercial Center</td>\n",
       "      <td>53 W. Jackson</td>\n",
       "      <td>Chicago</td>\n",
       "      <td>60604</td>\n",
       "      <td>US</td>\n",
       "      <td>LEED-NC 2.0</td>\n",
       "      <td>45</td>\n",
       "      <td>Gold</td>\n",
       "      <td>2007-11-05</td>\n",
       "      <td>Non-Profit Org.</td>\n",
       "      <td>22592</td>\n",
       "      <td>27500</td>\n",
       "      <td>Commercial Office</td>\n",
       "      <td>2001-08-01</td>\n",
       "      <td>1</td>\n",
       "    </tr>\n",
       "    <tr>\n",
       "      <th>3</th>\n",
       "      <td>10000003</td>\n",
       "      <td>Yes</td>\n",
       "      <td>Confidential</td>\n",
       "      <td>Confidential</td>\n",
       "      <td>Confidential</td>\n",
       "      <td>Confidential</td>\n",
       "      <td>US</td>\n",
       "      <td>LEED-NC 2.1</td>\n",
       "      <td>NaN</td>\n",
       "      <td></td>\n",
       "      <td>None</td>\n",
       "      <td>Confidential</td>\n",
       "      <td>190000</td>\n",
       "      <td>NaN</td>\n",
       "      <td></td>\n",
       "      <td>2006-09-19</td>\n",
       "      <td>56</td>\n",
       "    </tr>\n",
       "    <tr>\n",
       "      <th>4</th>\n",
       "      <td>10000004</td>\n",
       "      <td>No</td>\n",
       "      <td>The Chicago Center for Green Technology</td>\n",
       "      <td>445 N. Sacramento Avenue</td>\n",
       "      <td>Chicago</td>\n",
       "      <td>60612</td>\n",
       "      <td>US</td>\n",
       "      <td>LEED-NC 1.0 Pilot</td>\n",
       "      <td>38</td>\n",
       "      <td>Platinum</td>\n",
       "      <td>2003-06-17</td>\n",
       "      <td>Local Government</td>\n",
       "      <td>28356</td>\n",
       "      <td>130637</td>\n",
       "      <td>Industrial</td>\n",
       "      <td>2000-06-01</td>\n",
       "      <td>1</td>\n",
       "    </tr>\n",
       "  </tbody>\n",
       "</table>\n",
       "</div>"
      ],
      "text/plain": [
       "   project_id is_confidential                                     name  \\\n",
       "0    10000000              No                     PNC Firstside Center   \n",
       "1    10000001             Yes                             Confidential   \n",
       "2    10000002              No                 Bethel Commercial Center   \n",
       "3    10000003             Yes                             Confidential   \n",
       "4    10000004              No  The Chicago Center for Green Technology   \n",
       "\n",
       "                       street          city      zip_code country  \\\n",
       "0  21 South Putt Corners Road    Pittsburgh         15219      US   \n",
       "1                Confidential  Confidential  Confidential      US   \n",
       "2               53 W. Jackson       Chicago         60604      US   \n",
       "3                Confidential  Confidential  Confidential      US   \n",
       "4    445 N. Sacramento Avenue       Chicago         60612      US   \n",
       "\n",
       "        leed_version  points_achieved certification_level certification_date  \\\n",
       "0        LEED-NC 2.0               33              Silver         2000-10-01   \n",
       "1        LEED-NC 2.0              NaN                                   None   \n",
       "2        LEED-NC 2.0               45                Gold         2007-11-05   \n",
       "3        LEED-NC 2.1              NaN                                   None   \n",
       "4  LEED-NC 1.0 Pilot               38            Platinum         2003-06-17   \n",
       "\n",
       "        owner_types  gross_square_foot  total_property_area  \\\n",
       "0       Profit Org.             647000               202923   \n",
       "1      Confidential             291000               130637   \n",
       "2   Non-Profit Org.              22592                27500   \n",
       "3      Confidential             190000                  NaN   \n",
       "4  Local Government              28356               130637   \n",
       "\n",
       "       project_types registration_date  state_id_id  \n",
       "0  Commercial Office        2000-03-31           43  \n",
       "1  Commercial Office        2000-06-01           20  \n",
       "2  Commercial Office        2001-08-01            1  \n",
       "3                           2006-09-19           56  \n",
       "4         Industrial        2000-06-01            1  "
      ]
     },
     "execution_count": 13,
     "metadata": {},
     "output_type": "execute_result"
    }
   ],
   "source": [
    "projects_df.head()"
   ]
  },
  {
   "cell_type": "code",
   "execution_count": 8,
   "metadata": {
    "collapsed": false
   },
   "outputs": [
    {
     "name": "stderr",
     "output_type": "stream",
     "text": [
      "/Users/joshuahiggins/tiyd/builditgreen/.direnv/python-3.4.3/lib/python3.4/site-packages/pandas/io/sql.py:1630: FutureWarning: read_frame is deprecated, use read_sql\n",
      "  warnings.warn(\"read_frame is deprecated, use read_sql\", FutureWarning)\n"
     ]
    }
   ],
   "source": [
    "scores_2009_df = pdsql.read_frame(\"SELECT * FROM %s;\" % 'api_score2009', conn)"
   ]
  },
  {
   "cell_type": "code",
   "execution_count": 11,
   "metadata": {
    "collapsed": false
   },
   "outputs": [
    {
     "data": {
      "text/plain": [
       "0       1000000143\n",
       "1       1000000174\n",
       "2       1000000194\n",
       "3       1000000199\n",
       "4       1000000222\n",
       "5       1000000224\n",
       "6       1000000244\n",
       "7       1000000262\n",
       "8       1000000292\n",
       "9       1000000301\n",
       "10      1000000322\n",
       "11      1000000353\n",
       "12      1000000386\n",
       "13      1000000387\n",
       "14      1000000388\n",
       "15      1000000394\n",
       "16      1000000422\n",
       "17      1000000451\n",
       "18      1000000457\n",
       "19      1000000477\n",
       "20      1000000497\n",
       "21      1000000507\n",
       "22      1000000517\n",
       "23      1000000558\n",
       "24      1000000579\n",
       "25      1000000651\n",
       "26      1000000677\n",
       "27      1000000680\n",
       "28      1000000707\n",
       "29      1000000708\n",
       "           ...    \n",
       "2471    1000035785\n",
       "2472    1000035828\n",
       "2473    1000035960\n",
       "2474    1000036206\n",
       "2475    1000036464\n",
       "2476    1000036689\n",
       "2477    1000036763\n",
       "2478    1000036775\n",
       "2479    1000036901\n",
       "2480    1000037001\n",
       "2481    1000037022\n",
       "2482    1000037031\n",
       "2483    1000037095\n",
       "2484    1000037306\n",
       "2485    1000037316\n",
       "2486    1000037537\n",
       "2487    1000037617\n",
       "2488    1000037911\n",
       "2489    1000037921\n",
       "2490    1000037954\n",
       "2491    1000038189\n",
       "2492    1000038285\n",
       "2493    1000038452\n",
       "2494    1000038887\n",
       "2495    1000038888\n",
       "2496    1000039133\n",
       "2497    1000039584\n",
       "2498    1000040528\n",
       "2499    1000040797\n",
       "2500    1000040800\n",
       "Name: project_id, dtype: int64"
      ]
     },
     "execution_count": 11,
     "metadata": {},
     "output_type": "execute_result"
    }
   ],
   "source": [
    "scores_2009_df['project_id']"
   ]
  },
  {
   "cell_type": "code",
   "execution_count": 14,
   "metadata": {
    "collapsed": true
   },
   "outputs": [],
   "source": [
    "merged_df_2009 = pd.merge(scores_2009_df,projects_df,on='project_id')"
   ]
  },
  {
   "cell_type": "code",
   "execution_count": 15,
   "metadata": {
    "collapsed": false
   },
   "outputs": [
    {
     "data": {
      "text/plain": [
       "(2501, 122)"
      ]
     },
     "execution_count": 15,
     "metadata": {},
     "output_type": "execute_result"
    }
   ],
   "source": [
    "merged_df_2009.shape"
   ]
  },
  {
   "cell_type": "code",
   "execution_count": 18,
   "metadata": {
    "collapsed": false
   },
   "outputs": [
    {
     "data": {
      "text/html": [
       "<div>\n",
       "<table border=\"1\" class=\"dataframe\">\n",
       "  <thead>\n",
       "    <tr style=\"text-align: right;\">\n",
       "      <th></th>\n",
       "      <th>id</th>\n",
       "      <th>ssc1</th>\n",
       "      <th>ssc2</th>\n",
       "      <th>ssc3</th>\n",
       "      <th>ssc4_1</th>\n",
       "      <th>ssc4_2</th>\n",
       "      <th>ssc4_3</th>\n",
       "      <th>ssc4_4</th>\n",
       "      <th>ssc5_1</th>\n",
       "      <th>ssc5_2</th>\n",
       "      <th>...</th>\n",
       "      <th>leed_version</th>\n",
       "      <th>points_achieved</th>\n",
       "      <th>certification_level</th>\n",
       "      <th>certification_date</th>\n",
       "      <th>owner_types</th>\n",
       "      <th>gross_square_foot</th>\n",
       "      <th>total_property_area</th>\n",
       "      <th>project_types</th>\n",
       "      <th>registration_date</th>\n",
       "      <th>state_id_id</th>\n",
       "    </tr>\n",
       "  </thead>\n",
       "  <tbody>\n",
       "    <tr>\n",
       "      <th>0</th>\n",
       "      <td>1</td>\n",
       "      <td>1</td>\n",
       "      <td>5</td>\n",
       "      <td>0</td>\n",
       "      <td>6</td>\n",
       "      <td>0</td>\n",
       "      <td>0</td>\n",
       "      <td>2</td>\n",
       "      <td>0</td>\n",
       "      <td>1</td>\n",
       "      <td>...</td>\n",
       "      <td>LEED-NC v2009</td>\n",
       "      <td>44</td>\n",
       "      <td>Certified</td>\n",
       "      <td>2013-09-20</td>\n",
       "      <td>Government Use: State</td>\n",
       "      <td>86580</td>\n",
       "      <td>53863</td>\n",
       "      <td>Health Care: Outpatient</td>\n",
       "      <td>2009-05-07</td>\n",
       "      <td>12</td>\n",
       "    </tr>\n",
       "    <tr>\n",
       "      <th>1</th>\n",
       "      <td>2</td>\n",
       "      <td>0</td>\n",
       "      <td>0</td>\n",
       "      <td>0</td>\n",
       "      <td>6</td>\n",
       "      <td>1</td>\n",
       "      <td>0</td>\n",
       "      <td>0</td>\n",
       "      <td>0</td>\n",
       "      <td>1</td>\n",
       "      <td>...</td>\n",
       "      <td>LEED-NC v2009</td>\n",
       "      <td>65</td>\n",
       "      <td>Gold</td>\n",
       "      <td>2010-12-02</td>\n",
       "      <td>Educational: University, Private</td>\n",
       "      <td>11806</td>\n",
       "      <td>66000</td>\n",
       "      <td>Core Learning Space: College/University</td>\n",
       "      <td>2009-05-10</td>\n",
       "      <td>20</td>\n",
       "    </tr>\n",
       "    <tr>\n",
       "      <th>2</th>\n",
       "      <td>3</td>\n",
       "      <td>1</td>\n",
       "      <td>5</td>\n",
       "      <td>0</td>\n",
       "      <td>0</td>\n",
       "      <td>1</td>\n",
       "      <td>3</td>\n",
       "      <td>2</td>\n",
       "      <td>0</td>\n",
       "      <td>0</td>\n",
       "      <td>...</td>\n",
       "      <td>LEED-NC v2009</td>\n",
       "      <td>44</td>\n",
       "      <td>Certified</td>\n",
       "      <td>2011-08-23</td>\n",
       "      <td>Corporate: Privately Held</td>\n",
       "      <td>3472</td>\n",
       "      <td>10905</td>\n",
       "      <td>Commercial Office</td>\n",
       "      <td>2009-05-12</td>\n",
       "      <td>41</td>\n",
       "    </tr>\n",
       "    <tr>\n",
       "      <th>3</th>\n",
       "      <td>4</td>\n",
       "      <td>1</td>\n",
       "      <td>0</td>\n",
       "      <td>0</td>\n",
       "      <td>0</td>\n",
       "      <td>1</td>\n",
       "      <td>3</td>\n",
       "      <td>0</td>\n",
       "      <td>0</td>\n",
       "      <td>1</td>\n",
       "      <td>...</td>\n",
       "      <td>LEED-NC v2009</td>\n",
       "      <td>51</td>\n",
       "      <td>Silver</td>\n",
       "      <td>2012-03-26</td>\n",
       "      <td>Government Use: Local, City</td>\n",
       "      <td>48732</td>\n",
       "      <td>555823</td>\n",
       "      <td>Public Order and Safety: Other Public Order</td>\n",
       "      <td>2009-05-13</td>\n",
       "      <td>15</td>\n",
       "    </tr>\n",
       "    <tr>\n",
       "      <th>4</th>\n",
       "      <td>5</td>\n",
       "      <td>1</td>\n",
       "      <td>5</td>\n",
       "      <td>0</td>\n",
       "      <td>6</td>\n",
       "      <td>1</td>\n",
       "      <td>3</td>\n",
       "      <td>2</td>\n",
       "      <td>0</td>\n",
       "      <td>0</td>\n",
       "      <td>...</td>\n",
       "      <td>LEED-NC v2009</td>\n",
       "      <td>70</td>\n",
       "      <td>Gold</td>\n",
       "      <td>2014-01-17</td>\n",
       "      <td>Educational: University, Public</td>\n",
       "      <td>212777</td>\n",
       "      <td>108563</td>\n",
       "      <td>Core Learning Space: College/University</td>\n",
       "      <td>2009-05-14</td>\n",
       "      <td>15</td>\n",
       "    </tr>\n",
       "  </tbody>\n",
       "</table>\n",
       "<p>5 rows × 122 columns</p>\n",
       "</div>"
      ],
      "text/plain": [
       "   id  ssc1  ssc2  ssc3  ssc4_1  ssc4_2  ssc4_3  ssc4_4  ssc5_1  ssc5_2  \\\n",
       "0   1     1     5     0       6       0       0       2       0       1   \n",
       "1   2     0     0     0       6       1       0       0       0       1   \n",
       "2   3     1     5     0       0       1       3       2       0       0   \n",
       "3   4     1     0     0       0       1       3       0       0       1   \n",
       "4   5     1     5     0       6       1       3       2       0       0   \n",
       "\n",
       "      ...        leed_version  points_achieved  certification_level  \\\n",
       "0     ...       LEED-NC v2009               44            Certified   \n",
       "1     ...       LEED-NC v2009               65                 Gold   \n",
       "2     ...       LEED-NC v2009               44            Certified   \n",
       "3     ...       LEED-NC v2009               51               Silver   \n",
       "4     ...       LEED-NC v2009               70                 Gold   \n",
       "\n",
       "   certification_date                       owner_types  gross_square_foot  \\\n",
       "0          2013-09-20             Government Use: State              86580   \n",
       "1          2010-12-02  Educational: University, Private              11806   \n",
       "2          2011-08-23         Corporate: Privately Held               3472   \n",
       "3          2012-03-26       Government Use: Local, City              48732   \n",
       "4          2014-01-17   Educational: University, Public             212777   \n",
       "\n",
       "   total_property_area                                project_types  \\\n",
       "0                53863                      Health Care: Outpatient   \n",
       "1                66000      Core Learning Space: College/University   \n",
       "2                10905                            Commercial Office   \n",
       "3               555823  Public Order and Safety: Other Public Order   \n",
       "4               108563      Core Learning Space: College/University   \n",
       "\n",
       "   registration_date  state_id_id  \n",
       "0         2009-05-07           12  \n",
       "1         2009-05-10           20  \n",
       "2         2009-05-12           41  \n",
       "3         2009-05-13           15  \n",
       "4         2009-05-14           15  \n",
       "\n",
       "[5 rows x 122 columns]"
      ]
     },
     "execution_count": 18,
     "metadata": {},
     "output_type": "execute_result"
    }
   ],
   "source": [
    "merged_df_2009.head()"
   ]
  },
  {
   "cell_type": "code",
   "execution_count": 21,
   "metadata": {
    "collapsed": false
   },
   "outputs": [],
   "source": [
    "columns_list = list(merged_df_2009)"
   ]
  },
  {
   "cell_type": "code",
   "execution_count": 23,
   "metadata": {
    "collapsed": false
   },
   "outputs": [],
   "source": [
    "columns_list = [column for column in columns_list if 'possible' not in column]"
   ]
  },
  {
   "cell_type": "code",
   "execution_count": 25,
   "metadata": {
    "collapsed": false
   },
   "outputs": [],
   "source": [
    "columns_list.remove('id')"
   ]
  },
  {
   "cell_type": "code",
   "execution_count": 27,
   "metadata": {
    "collapsed": false
   },
   "outputs": [],
   "source": [
    "columns_list.remove('state_id_id')"
   ]
  },
  {
   "cell_type": "code",
   "execution_count": 28,
   "metadata": {
    "collapsed": false
   },
   "outputs": [
    {
     "data": {
      "text/plain": [
       "['ssc1',\n",
       " 'ssc2',\n",
       " 'ssc3',\n",
       " 'ssc4_1',\n",
       " 'ssc4_2',\n",
       " 'ssc4_3',\n",
       " 'ssc4_4',\n",
       " 'ssc5_1',\n",
       " 'ssc5_2',\n",
       " 'ssc6_1',\n",
       " 'ssc6_2',\n",
       " 'ssc7_1',\n",
       " 'ssc7_2',\n",
       " 'ssc8',\n",
       " 'wec1',\n",
       " 'wec2',\n",
       " 'wec3',\n",
       " 'eac1',\n",
       " 'eac2',\n",
       " 'eac3',\n",
       " 'eac4',\n",
       " 'eac5',\n",
       " 'eac6',\n",
       " 'mrc1_1',\n",
       " 'mrc1_2',\n",
       " 'mrc2',\n",
       " 'mrc3',\n",
       " 'mrc4',\n",
       " 'mrc5',\n",
       " 'mrc6',\n",
       " 'mrc7',\n",
       " 'eqc1',\n",
       " 'eqc2',\n",
       " 'eqc3_1',\n",
       " 'eqc3_2',\n",
       " 'eqc4_1',\n",
       " 'eqc4_2',\n",
       " 'eqc4_3',\n",
       " 'eqc4_4',\n",
       " 'eqc5',\n",
       " 'eqc6_1',\n",
       " 'eqc6_2',\n",
       " 'eqc7_1',\n",
       " 'eqc7_2',\n",
       " 'eqc8_1',\n",
       " 'eqc8_2',\n",
       " 'idc1',\n",
       " 'idc2',\n",
       " 'extra1',\n",
       " 'extra2',\n",
       " 'extra3',\n",
       " 'extra4',\n",
       " 'project_id',\n",
       " 'is_confidential',\n",
       " 'name',\n",
       " 'street',\n",
       " 'city',\n",
       " 'zip_code',\n",
       " 'country',\n",
       " 'leed_version',\n",
       " 'points_achieved',\n",
       " 'certification_level',\n",
       " 'certification_date',\n",
       " 'owner_types',\n",
       " 'gross_square_foot',\n",
       " 'total_property_area',\n",
       " 'project_types',\n",
       " 'registration_date']"
      ]
     },
     "execution_count": 28,
     "metadata": {},
     "output_type": "execute_result"
    }
   ],
   "source": [
    "columns_list"
   ]
  },
  {
   "cell_type": "code",
   "execution_count": null,
   "metadata": {
    "collapsed": true
   },
   "outputs": [],
   "source": []
  }
 ],
 "metadata": {
  "kernelspec": {
   "display_name": "Python 3",
   "language": "python",
   "name": "python3"
  },
  "language_info": {
   "codemirror_mode": {
    "name": "ipython",
    "version": 3
   },
   "file_extension": ".py",
   "mimetype": "text/x-python",
   "name": "python",
   "nbconvert_exporter": "python",
   "pygments_lexer": "ipython3",
   "version": "3.4.3"
  }
 },
 "nbformat": 4,
 "nbformat_minor": 0
}
