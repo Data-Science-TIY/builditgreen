{
 "cells": [
  {
   "cell_type": "code",
   "execution_count": 1,
   "metadata": {
    "collapsed": true
   },
   "outputs": [],
   "source": [
    "import pandas as pd"
   ]
  },
  {
   "cell_type": "code",
   "execution_count": 2,
   "metadata": {
    "collapsed": false
   },
   "outputs": [],
   "source": [
    "LEED_energy_data_nyc = pd.read_csv('energy_data_nyc/Energy_and_Water_Data_for_LEED.csv')"
   ]
  },
  {
   "cell_type": "code",
   "execution_count": 3,
   "metadata": {
    "collapsed": false
   },
   "outputs": [
    {
     "data": {
      "text/html": [
       "<div>\n",
       "<table border=\"1\" class=\"dataframe\">\n",
       "  <thead>\n",
       "    <tr style=\"text-align: right;\">\n",
       "      <th></th>\n",
       "      <th>Record Number</th>\n",
       "      <th>NYC Borough, Block, and Lot (BBL)</th>\n",
       "      <th>Co-reported BBL Status</th>\n",
       "      <th>BBLs Co-reported</th>\n",
       "      <th>Reported NYC Building Identificaiton Numbers (BINs)</th>\n",
       "      <th>Street Number</th>\n",
       "      <th>Borough</th>\n",
       "      <th>Zip Code</th>\n",
       "      <th>DOF Benchmarking Submission Status</th>\n",
       "      <th>Site EUI(kBtu/ft2)</th>\n",
       "      <th>...</th>\n",
       "      <th>Automatic Water Benchmarking Eligible</th>\n",
       "      <th>Reported Water Method</th>\n",
       "      <th>ENERGY STAR Score</th>\n",
       "      <th>Total GHG Emissions(MtCO2e)</th>\n",
       "      <th>Direct GHG Emissions(MtCO2e)</th>\n",
       "      <th>Indirect GHG Emissions(MtCO2e)</th>\n",
       "      <th>Reported Property Floor Area (Building(s)) (ft²)</th>\n",
       "      <th>DOF Property Floor Area (Buildngs and Parking)(ft2)</th>\n",
       "      <th>Primary Property Type - Self Selected</th>\n",
       "      <th>DOF Number of Buildings</th>\n",
       "    </tr>\n",
       "  </thead>\n",
       "  <tbody>\n",
       "    <tr>\n",
       "      <th>0</th>\n",
       "      <td>15041</td>\n",
       "      <td>1011340025</td>\n",
       "      <td>NaN</td>\n",
       "      <td>1-01134-0025</td>\n",
       "      <td>1028832</td>\n",
       "      <td>NaN</td>\n",
       "      <td>Manhattan</td>\n",
       "      <td>NaN</td>\n",
       "      <td>Not on Covered Buildings List</td>\n",
       "      <td>233.8</td>\n",
       "      <td>...</td>\n",
       "      <td>NaN</td>\n",
       "      <td>None</td>\n",
       "      <td>Not Available</td>\n",
       "      <td>3475.9</td>\n",
       "      <td>0</td>\n",
       "      <td>3475.9</td>\n",
       "      <td>172422</td>\n",
       "      <td>NaN</td>\n",
       "      <td>Performing Arts</td>\n",
       "      <td>NaN</td>\n",
       "    </tr>\n",
       "    <tr>\n",
       "      <th>1</th>\n",
       "      <td>4572</td>\n",
       "      <td>1018950038</td>\n",
       "      <td>NaN</td>\n",
       "      <td>1-01895-0038</td>\n",
       "      <td>1057344</td>\n",
       "      <td>12/31/0403 12:00:00 AM</td>\n",
       "      <td>Manhattan</td>\n",
       "      <td>10025</td>\n",
       "      <td>Filed</td>\n",
       "      <td>71.8</td>\n",
       "      <td>...</td>\n",
       "      <td>No</td>\n",
       "      <td>None</td>\n",
       "      <td>Not Available</td>\n",
       "      <td>441.8</td>\n",
       "      <td>333.1</td>\n",
       "      <td>108.7</td>\n",
       "      <td>106039</td>\n",
       "      <td>102951</td>\n",
       "      <td>Multifamily Housing</td>\n",
       "      <td>1</td>\n",
       "    </tr>\n",
       "    <tr>\n",
       "      <th>2</th>\n",
       "      <td>1892</td>\n",
       "      <td>1009397501</td>\n",
       "      <td>NaN</td>\n",
       "      <td>1-00939-7501</td>\n",
       "      <td>1087841</td>\n",
       "      <td>12/31/0302 12:00:00 AM</td>\n",
       "      <td>Manhattan</td>\n",
       "      <td>10016</td>\n",
       "      <td>Filed</td>\n",
       "      <td>88.1</td>\n",
       "      <td>...</td>\n",
       "      <td>No</td>\n",
       "      <td>None</td>\n",
       "      <td>Not Available</td>\n",
       "      <td>749</td>\n",
       "      <td>201.2</td>\n",
       "      <td>547.79999999999995</td>\n",
       "      <td>119517</td>\n",
       "      <td>144225</td>\n",
       "      <td>Multifamily Housing</td>\n",
       "      <td>1</td>\n",
       "    </tr>\n",
       "    <tr>\n",
       "      <th>3</th>\n",
       "      <td>3924</td>\n",
       "      <td>1015147502</td>\n",
       "      <td>NaN</td>\n",
       "      <td>1015147502</td>\n",
       "      <td>1088463</td>\n",
       "      <td>01/02/0150 12:00:00 AM</td>\n",
       "      <td>Manhattan</td>\n",
       "      <td>10028</td>\n",
       "      <td>Filed</td>\n",
       "      <td>60.9</td>\n",
       "      <td>...</td>\n",
       "      <td>No</td>\n",
       "      <td>None</td>\n",
       "      <td>Not Available</td>\n",
       "      <td>2190.1999999999998</td>\n",
       "      <td>108.8</td>\n",
       "      <td>2081.4</td>\n",
       "      <td>453527</td>\n",
       "      <td>453927</td>\n",
       "      <td>Multifamily Housing</td>\n",
       "      <td>1</td>\n",
       "    </tr>\n",
       "    <tr>\n",
       "      <th>4</th>\n",
       "      <td>12254</td>\n",
       "      <td>5015147502</td>\n",
       "      <td>NaN</td>\n",
       "      <td>5-01514-7502</td>\n",
       "      <td>1088463</td>\n",
       "      <td>NaN</td>\n",
       "      <td>Staten Island</td>\n",
       "      <td>NaN</td>\n",
       "      <td>BBL not valid</td>\n",
       "      <td>41.8</td>\n",
       "      <td>...</td>\n",
       "      <td>NaN</td>\n",
       "      <td>NaN</td>\n",
       "      <td>Not Available</td>\n",
       "      <td>1251.4000000000001</td>\n",
       "      <td>109.6</td>\n",
       "      <td>1141.8</td>\n",
       "      <td>385000</td>\n",
       "      <td>NaN</td>\n",
       "      <td>Multifamily Housing</td>\n",
       "      <td>NaN</td>\n",
       "    </tr>\n",
       "    <tr>\n",
       "      <th>5</th>\n",
       "      <td>12103</td>\n",
       "      <td>1010851001</td>\n",
       "      <td>Primary</td>\n",
       "      <td>1010851001; 1010851011</td>\n",
       "      <td>1088726</td>\n",
       "      <td>NaN</td>\n",
       "      <td>Manhattan</td>\n",
       "      <td>NaN</td>\n",
       "      <td>BBL not valid</td>\n",
       "      <td>110.7</td>\n",
       "      <td>...</td>\n",
       "      <td>NaN</td>\n",
       "      <td>NaN</td>\n",
       "      <td>Not Available</td>\n",
       "      <td>2512.1</td>\n",
       "      <td>862.8</td>\n",
       "      <td>1649.3</td>\n",
       "      <td>330000</td>\n",
       "      <td>NaN</td>\n",
       "      <td>Automobile Dealership</td>\n",
       "      <td>NaN</td>\n",
       "    </tr>\n",
       "    <tr>\n",
       "      <th>6</th>\n",
       "      <td>12104</td>\n",
       "      <td>1010851011</td>\n",
       "      <td>Secondary</td>\n",
       "      <td>1010851001; 1010851011</td>\n",
       "      <td>1088726</td>\n",
       "      <td>NaN</td>\n",
       "      <td>Manhattan</td>\n",
       "      <td>NaN</td>\n",
       "      <td>BBL not valid</td>\n",
       "      <td>See Primary BBL</td>\n",
       "      <td>...</td>\n",
       "      <td>See Primary BBL</td>\n",
       "      <td>See Primary BBL</td>\n",
       "      <td>See Primary BBL</td>\n",
       "      <td>See Primary BBL</td>\n",
       "      <td>See Primary BBL</td>\n",
       "      <td>See Primary BBL</td>\n",
       "      <td>See Primary BBL</td>\n",
       "      <td>NaN</td>\n",
       "      <td>NaN</td>\n",
       "      <td>NaN</td>\n",
       "    </tr>\n",
       "    <tr>\n",
       "      <th>7</th>\n",
       "      <td>2178</td>\n",
       "      <td>1010827501</td>\n",
       "      <td>NaN</td>\n",
       "      <td>1010827501</td>\n",
       "      <td>1088726</td>\n",
       "      <td>12/28/0769 12:00:00 AM</td>\n",
       "      <td>Manhattan</td>\n",
       "      <td>10019</td>\n",
       "      <td>Filed</td>\n",
       "      <td>91.7</td>\n",
       "      <td>...</td>\n",
       "      <td>No</td>\n",
       "      <td>None</td>\n",
       "      <td>Not Available</td>\n",
       "      <td>6155.4</td>\n",
       "      <td>2491.9</td>\n",
       "      <td>3663.5</td>\n",
       "      <td>1003231</td>\n",
       "      <td>1082317</td>\n",
       "      <td>Multifamily Housing</td>\n",
       "      <td>1</td>\n",
       "    </tr>\n",
       "  </tbody>\n",
       "</table>\n",
       "<p>8 rows × 24 columns</p>\n",
       "</div>"
      ],
      "text/plain": [
       "   Record Number  NYC Borough, Block, and Lot (BBL) Co-reported BBL Status  \\\n",
       "0          15041                         1011340025                    NaN   \n",
       "1           4572                         1018950038                    NaN   \n",
       "2           1892                         1009397501                    NaN   \n",
       "3           3924                         1015147502                    NaN   \n",
       "4          12254                         5015147502                    NaN   \n",
       "5          12103                         1010851001                Primary   \n",
       "6          12104                         1010851011              Secondary   \n",
       "7           2178                         1010827501                    NaN   \n",
       "\n",
       "         BBLs Co-reported  \\\n",
       "0            1-01134-0025   \n",
       "1            1-01895-0038   \n",
       "2            1-00939-7501   \n",
       "3              1015147502   \n",
       "4            5-01514-7502   \n",
       "5  1010851001; 1010851011   \n",
       "6  1010851001; 1010851011   \n",
       "7              1010827501   \n",
       "\n",
       "   Reported NYC Building Identificaiton Numbers (BINs)  \\\n",
       "0                                            1028832     \n",
       "1                                            1057344     \n",
       "2                                            1087841     \n",
       "3                                            1088463     \n",
       "4                                            1088463     \n",
       "5                                            1088726     \n",
       "6                                            1088726     \n",
       "7                                            1088726     \n",
       "\n",
       "            Street Number        Borough  Zip Code  \\\n",
       "0                     NaN      Manhattan       NaN   \n",
       "1  12/31/0403 12:00:00 AM      Manhattan     10025   \n",
       "2  12/31/0302 12:00:00 AM      Manhattan     10016   \n",
       "3  01/02/0150 12:00:00 AM      Manhattan     10028   \n",
       "4                     NaN  Staten Island       NaN   \n",
       "5                     NaN      Manhattan       NaN   \n",
       "6                     NaN      Manhattan       NaN   \n",
       "7  12/28/0769 12:00:00 AM      Manhattan     10019   \n",
       "\n",
       "  DOF Benchmarking Submission Status Site EUI(kBtu/ft2)  \\\n",
       "0      Not on Covered Buildings List              233.8   \n",
       "1                              Filed               71.8   \n",
       "2                              Filed               88.1   \n",
       "3                              Filed               60.9   \n",
       "4                      BBL not valid               41.8   \n",
       "5                      BBL not valid              110.7   \n",
       "6                      BBL not valid    See Primary BBL   \n",
       "7                              Filed               91.7   \n",
       "\n",
       "            ...           Automatic Water Benchmarking Eligible  \\\n",
       "0           ...                                             NaN   \n",
       "1           ...                                              No   \n",
       "2           ...                                              No   \n",
       "3           ...                                              No   \n",
       "4           ...                                             NaN   \n",
       "5           ...                                             NaN   \n",
       "6           ...                                 See Primary BBL   \n",
       "7           ...                                              No   \n",
       "\n",
       "  Reported Water Method ENERGY STAR Score Total GHG Emissions(MtCO2e)  \\\n",
       "0                  None     Not Available                      3475.9   \n",
       "1                  None     Not Available                       441.8   \n",
       "2                  None     Not Available                         749   \n",
       "3                  None     Not Available          2190.1999999999998   \n",
       "4                   NaN     Not Available          1251.4000000000001   \n",
       "5                   NaN     Not Available                      2512.1   \n",
       "6       See Primary BBL   See Primary BBL             See Primary BBL   \n",
       "7                  None     Not Available                      6155.4   \n",
       "\n",
       "  Direct GHG Emissions(MtCO2e) Indirect GHG Emissions(MtCO2e)  \\\n",
       "0                            0                         3475.9   \n",
       "1                        333.1                          108.7   \n",
       "2                        201.2             547.79999999999995   \n",
       "3                        108.8                         2081.4   \n",
       "4                        109.6                         1141.8   \n",
       "5                        862.8                         1649.3   \n",
       "6              See Primary BBL                See Primary BBL   \n",
       "7                       2491.9                         3663.5   \n",
       "\n",
       "  Reported Property Floor Area (Building(s)) (ft²)  \\\n",
       "0                                           172422   \n",
       "1                                           106039   \n",
       "2                                           119517   \n",
       "3                                           453527   \n",
       "4                                           385000   \n",
       "5                                           330000   \n",
       "6                                  See Primary BBL   \n",
       "7                                          1003231   \n",
       "\n",
       "  DOF Property Floor Area (Buildngs and Parking)(ft2)  \\\n",
       "0                                                NaN    \n",
       "1                                             102951    \n",
       "2                                             144225    \n",
       "3                                             453927    \n",
       "4                                                NaN    \n",
       "5                                                NaN    \n",
       "6                                                NaN    \n",
       "7                                            1082317    \n",
       "\n",
       "  Primary Property Type - Self Selected DOF Number of Buildings  \n",
       "0                       Performing Arts                     NaN  \n",
       "1                   Multifamily Housing                       1  \n",
       "2                   Multifamily Housing                       1  \n",
       "3                   Multifamily Housing                       1  \n",
       "4                   Multifamily Housing                     NaN  \n",
       "5                 Automobile Dealership                     NaN  \n",
       "6                                   NaN                     NaN  \n",
       "7                   Multifamily Housing                       1  \n",
       "\n",
       "[8 rows x 24 columns]"
      ]
     },
     "execution_count": 3,
     "metadata": {},
     "output_type": "execute_result"
    }
   ],
   "source": [
    "LEED_energy_data_nyc"
   ]
  },
  {
   "cell_type": "markdown",
   "metadata": {},
   "source": [
    "##Column headers "
   ]
  },
  {
   "cell_type": "code",
   "execution_count": 4,
   "metadata": {
    "collapsed": false
   },
   "outputs": [
    {
     "data": {
      "text/plain": [
       "['Record Number',\n",
       " 'NYC Borough, Block, and Lot (BBL)',\n",
       " 'Co-reported BBL Status',\n",
       " 'BBLs Co-reported',\n",
       " 'Reported NYC Building Identificaiton Numbers (BINs)',\n",
       " 'Street Number',\n",
       " 'Borough',\n",
       " 'Zip Code',\n",
       " 'DOF Benchmarking Submission Status',\n",
       " 'Site EUI(kBtu/ft2)',\n",
       " 'Weather Normalized Site EUI(kBtu/ft2)',\n",
       " 'Source EUI(kBtu/ft2)',\n",
       " 'Weather Normalized Source EUI(kBtu/ft2)',\n",
       " 'Municipally Supplied Potable Water - Indoor Intensity (gal/ft²)',\n",
       " 'Automatic Water Benchmarking Eligible',\n",
       " 'Reported Water Method',\n",
       " 'ENERGY STAR Score',\n",
       " 'Total GHG Emissions(MtCO2e)',\n",
       " 'Direct GHG Emissions(MtCO2e)',\n",
       " 'Indirect GHG Emissions(MtCO2e)',\n",
       " 'Reported Property Floor Area (Building(s)) (ft²)',\n",
       " 'DOF Property Floor Area (Buildngs and Parking)(ft2)',\n",
       " 'Primary Property Type - Self Selected',\n",
       " 'DOF Number of Buildings']"
      ]
     },
     "execution_count": 4,
     "metadata": {},
     "output_type": "execute_result"
    }
   ],
   "source": [
    "columns_LEED_energy_data_nyc = list(LEED_energy_data_nyc.columns.values)\n",
    "columns_LEED_energy_data_nyc"
   ]
  },
  {
   "cell_type": "markdown",
   "metadata": {},
   "source": [
    "##About 4572: "
   ]
  },
  {
   "cell_type": "code",
   "execution_count": 5,
   "metadata": {
    "collapsed": true
   },
   "outputs": [],
   "source": [
    "four_57_two = LEED_energy_data_nyc[LEED_energy_data_nyc[\"Record Number\"] == 4572].squeeze()"
   ]
  },
  {
   "cell_type": "code",
   "execution_count": 6,
   "metadata": {
    "collapsed": false
   },
   "outputs": [
    {
     "data": {
      "text/plain": [
       "Record Number                                                                        4572\n",
       "NYC Borough, Block, and Lot (BBL)                                              1018950038\n",
       "Co-reported BBL Status                                                                NaN\n",
       "BBLs Co-reported                                                             1-01895-0038\n",
       "Reported NYC Building Identificaiton Numbers (BINs)                               1057344\n",
       "Street Number                                                      12/31/0403 12:00:00 AM\n",
       "Borough                                                                         Manhattan\n",
       "Zip Code                                                                            10025\n",
       "DOF Benchmarking Submission Status                                                  Filed\n",
       "Site EUI(kBtu/ft2)                                                                   71.8\n",
       "Weather Normalized Site EUI(kBtu/ft2)                                                71.2\n",
       "Source EUI(kBtu/ft2)                                                                101.7\n",
       "Weather Normalized Source EUI(kBtu/ft2)                                             100.9\n",
       "Municipally Supplied Potable Water - Indoor Intensity (gal/ft²)             Not Available\n",
       "Automatic Water Benchmarking Eligible                                                  No\n",
       "Reported Water Method                                                                None\n",
       "ENERGY STAR Score                                                           Not Available\n",
       "Total GHG Emissions(MtCO2e)                                                         441.8\n",
       "Direct GHG Emissions(MtCO2e)                                                        333.1\n",
       "Indirect GHG Emissions(MtCO2e)                                                      108.7\n",
       "Reported Property Floor Area (Building(s)) (ft²)                                   106039\n",
       "DOF Property Floor Area (Buildngs and Parking)(ft2)                                102951\n",
       "Primary Property Type - Self Selected                                 Multifamily Housing\n",
       "DOF Number of Buildings                                                                 1\n",
       "Name: 1, dtype: object"
      ]
     },
     "execution_count": 6,
     "metadata": {},
     "output_type": "execute_result"
    }
   ],
   "source": [
    "four_57_two"
   ]
  },
  {
   "cell_type": "markdown",
   "metadata": {},
   "source": [
    "##Similar Building Types Criteria:\n",
    "Property type and Floor Area"
   ]
  },
  {
   "cell_type": "markdown",
   "metadata": {},
   "source": [
    "'Primary Property Type - Self Selected'= 'Multifamily Housing'"
   ]
  },
  {
   "cell_type": "markdown",
   "metadata": {},
   "source": [
    "'Reported Property Floor Area (Building(s)) (ft²)' = 106039"
   ]
  },
  {
   "cell_type": "markdown",
   "metadata": {},
   "source": [
    "##All Energy Data for NYC"
   ]
  },
  {
   "cell_type": "code",
   "execution_count": 7,
   "metadata": {
    "collapsed": true
   },
   "outputs": [],
   "source": [
    "all_energy_data_nyc = pd.read_csv('energy_data_nyc/Energy_and_Water_Data_Disclosure_for_Local_Law_84__2013.csv')"
   ]
  },
  {
   "cell_type": "code",
   "execution_count": 8,
   "metadata": {
    "collapsed": false
   },
   "outputs": [
    {
     "data": {
      "text/html": [
       "<div>\n",
       "<table border=\"1\" class=\"dataframe\">\n",
       "  <thead>\n",
       "    <tr style=\"text-align: right;\">\n",
       "      <th></th>\n",
       "      <th>Record Number</th>\n",
       "      <th>NYC Borough, Block, and Lot (BBL)</th>\n",
       "      <th>Co-reported BBL Status</th>\n",
       "      <th>BBLs Co-reported</th>\n",
       "      <th>Reported NYC Building Identificaiton Numbers (BINs)</th>\n",
       "      <th>Street Number</th>\n",
       "      <th>Borough</th>\n",
       "      <th>Zip Code</th>\n",
       "      <th>DOF Benchmarking Submission Status</th>\n",
       "      <th>Site EUI(kBtu/ft2)</th>\n",
       "      <th>...</th>\n",
       "      <th>Automatic Water Benchmarking Eligible</th>\n",
       "      <th>Reported Water Method</th>\n",
       "      <th>ENERGY STAR Score</th>\n",
       "      <th>Total GHG Emissions(MtCO2e)</th>\n",
       "      <th>Direct GHG Emissions(MtCO2e)</th>\n",
       "      <th>Indirect GHG Emissions(MtCO2e)</th>\n",
       "      <th>Reported Property Floor Area (Building(s)) (ft²)</th>\n",
       "      <th>DOF Property Floor Area (Buildngs and Parking)(ft2)</th>\n",
       "      <th>Primary Property Type - Self Selected</th>\n",
       "      <th>DOF Number of Buildings</th>\n",
       "    </tr>\n",
       "  </thead>\n",
       "  <tbody>\n",
       "    <tr>\n",
       "      <th>0</th>\n",
       "      <td>16099</td>\n",
       "      <td>4084010096</td>\n",
       "      <td>NaN</td>\n",
       "      <td>4084010096</td>\n",
       "      <td>4453435</td>\n",
       "      <td>NaN</td>\n",
       "      <td>Queens</td>\n",
       "      <td>NaN</td>\n",
       "      <td>Not on Covered Buildings List</td>\n",
       "      <td>180.5</td>\n",
       "      <td>...</td>\n",
       "      <td>NaN</td>\n",
       "      <td>None</td>\n",
       "      <td>Not Available</td>\n",
       "      <td>966.7</td>\n",
       "      <td>806.6</td>\n",
       "      <td>160.1</td>\n",
       "      <td>91968</td>\n",
       "      <td>NaN</td>\n",
       "      <td>Multifamily Housing</td>\n",
       "      <td>NaN</td>\n",
       "    </tr>\n",
       "    <tr>\n",
       "      <th>1</th>\n",
       "      <td>500</td>\n",
       "      <td>1005050001</td>\n",
       "      <td>NaN</td>\n",
       "      <td>1005050001</td>\n",
       "      <td>1007817</td>\n",
       "      <td>01/02/0150 12:00:00 AM</td>\n",
       "      <td>Manhattan</td>\n",
       "      <td>10013</td>\n",
       "      <td>Filed</td>\n",
       "      <td>82.1</td>\n",
       "      <td>...</td>\n",
       "      <td>Yes</td>\n",
       "      <td>ABS</td>\n",
       "      <td>44</td>\n",
       "      <td>1392.3</td>\n",
       "      <td>337.9</td>\n",
       "      <td>1054.4000000000001</td>\n",
       "      <td>235370</td>\n",
       "      <td>214110</td>\n",
       "      <td>Distribution Center</td>\n",
       "      <td>1</td>\n",
       "    </tr>\n",
       "    <tr>\n",
       "      <th>2</th>\n",
       "      <td>5017</td>\n",
       "      <td>1021420100</td>\n",
       "      <td>NaN</td>\n",
       "      <td>1021420100</td>\n",
       "      <td>1063495</td>\n",
       "      <td>01/01/4079 12:00:00 AM</td>\n",
       "      <td>Manhattan</td>\n",
       "      <td>10032</td>\n",
       "      <td>Filed</td>\n",
       "      <td>137.69999999999999</td>\n",
       "      <td>...</td>\n",
       "      <td>No</td>\n",
       "      <td>None</td>\n",
       "      <td>Not Available</td>\n",
       "      <td>673.6</td>\n",
       "      <td>541.79999999999995</td>\n",
       "      <td>131.80000000000001</td>\n",
       "      <td>64806</td>\n",
       "      <td>64816</td>\n",
       "      <td>Multifamily Housing</td>\n",
       "      <td>1</td>\n",
       "    </tr>\n",
       "    <tr>\n",
       "      <th>3</th>\n",
       "      <td>5116</td>\n",
       "      <td>1021750080</td>\n",
       "      <td>NaN</td>\n",
       "      <td>1021750080</td>\n",
       "      <td>1064235</td>\n",
       "      <td>01/03/0060 12:00:00 AM</td>\n",
       "      <td>Manhattan</td>\n",
       "      <td>10040</td>\n",
       "      <td>Filed</td>\n",
       "      <td>103.2</td>\n",
       "      <td>...</td>\n",
       "      <td>No</td>\n",
       "      <td>None</td>\n",
       "      <td>Not Available</td>\n",
       "      <td>485</td>\n",
       "      <td>403</td>\n",
       "      <td>82</td>\n",
       "      <td>62839</td>\n",
       "      <td>62847</td>\n",
       "      <td>Multifamily Housing</td>\n",
       "      <td>1</td>\n",
       "    </tr>\n",
       "    <tr>\n",
       "      <th>4</th>\n",
       "      <td>363</td>\n",
       "      <td>1003360005</td>\n",
       "      <td>NaN</td>\n",
       "      <td>1003360005</td>\n",
       "      <td>1088884</td>\n",
       "      <td>01/03/0016 12:00:00 AM</td>\n",
       "      <td>Manhattan</td>\n",
       "      <td>10002</td>\n",
       "      <td>Filed</td>\n",
       "      <td>74</td>\n",
       "      <td>...</td>\n",
       "      <td>No</td>\n",
       "      <td>None</td>\n",
       "      <td>Not Available</td>\n",
       "      <td>435.5</td>\n",
       "      <td>290</td>\n",
       "      <td>145.5</td>\n",
       "      <td>98000</td>\n",
       "      <td>98052</td>\n",
       "      <td>Multifamily Housing</td>\n",
       "      <td>1</td>\n",
       "    </tr>\n",
       "  </tbody>\n",
       "</table>\n",
       "<p>5 rows × 24 columns</p>\n",
       "</div>"
      ],
      "text/plain": [
       "   Record Number  NYC Borough, Block, and Lot (BBL) Co-reported BBL Status  \\\n",
       "0          16099                         4084010096                    NaN   \n",
       "1            500                         1005050001                    NaN   \n",
       "2           5017                         1021420100                    NaN   \n",
       "3           5116                         1021750080                    NaN   \n",
       "4            363                         1003360005                    NaN   \n",
       "\n",
       "  BBLs Co-reported Reported NYC Building Identificaiton Numbers (BINs)  \\\n",
       "0       4084010096                                            4453435    \n",
       "1       1005050001                                            1007817    \n",
       "2       1021420100                                            1063495    \n",
       "3       1021750080                                            1064235    \n",
       "4       1003360005                                            1088884    \n",
       "\n",
       "            Street Number    Borough  Zip Code  \\\n",
       "0                     NaN     Queens       NaN   \n",
       "1  01/02/0150 12:00:00 AM  Manhattan     10013   \n",
       "2  01/01/4079 12:00:00 AM  Manhattan     10032   \n",
       "3  01/03/0060 12:00:00 AM  Manhattan     10040   \n",
       "4  01/03/0016 12:00:00 AM  Manhattan     10002   \n",
       "\n",
       "  DOF Benchmarking Submission Status  Site EUI(kBtu/ft2)  \\\n",
       "0      Not on Covered Buildings List               180.5   \n",
       "1                              Filed                82.1   \n",
       "2                              Filed  137.69999999999999   \n",
       "3                              Filed               103.2   \n",
       "4                              Filed                  74   \n",
       "\n",
       "            ...           Automatic Water Benchmarking Eligible  \\\n",
       "0           ...                                             NaN   \n",
       "1           ...                                             Yes   \n",
       "2           ...                                              No   \n",
       "3           ...                                              No   \n",
       "4           ...                                              No   \n",
       "\n",
       "  Reported Water Method ENERGY STAR Score Total GHG Emissions(MtCO2e)  \\\n",
       "0                  None     Not Available                       966.7   \n",
       "1                   ABS                44                      1392.3   \n",
       "2                  None     Not Available                       673.6   \n",
       "3                  None     Not Available                         485   \n",
       "4                  None     Not Available                       435.5   \n",
       "\n",
       "  Direct GHG Emissions(MtCO2e) Indirect GHG Emissions(MtCO2e)  \\\n",
       "0                        806.6                          160.1   \n",
       "1                        337.9             1054.4000000000001   \n",
       "2           541.79999999999995             131.80000000000001   \n",
       "3                          403                             82   \n",
       "4                          290                          145.5   \n",
       "\n",
       "  Reported Property Floor Area (Building(s)) (ft²)  \\\n",
       "0                                            91968   \n",
       "1                                           235370   \n",
       "2                                            64806   \n",
       "3                                            62839   \n",
       "4                                            98000   \n",
       "\n",
       "  DOF Property Floor Area (Buildngs and Parking)(ft2)  \\\n",
       "0                                                NaN    \n",
       "1                                             214110    \n",
       "2                                              64816    \n",
       "3                                              62847    \n",
       "4                                              98052    \n",
       "\n",
       "  Primary Property Type - Self Selected DOF Number of Buildings  \n",
       "0                   Multifamily Housing                     NaN  \n",
       "1                   Distribution Center                       1  \n",
       "2                   Multifamily Housing                       1  \n",
       "3                   Multifamily Housing                       1  \n",
       "4                   Multifamily Housing                       1  \n",
       "\n",
       "[5 rows x 24 columns]"
      ]
     },
     "execution_count": 8,
     "metadata": {},
     "output_type": "execute_result"
    }
   ],
   "source": [
    "all_energy_data_nyc.head()"
   ]
  },
  {
   "cell_type": "markdown",
   "metadata": {},
   "source": [
    "##Comparing average to the LEED record number 4572"
   ]
  },
  {
   "cell_type": "code",
   "execution_count": 10,
   "metadata": {
    "collapsed": false
   },
   "outputs": [
    {
     "data": {
      "text/plain": [
       "(95435.1, 116642.90000000001)"
      ]
     },
     "execution_count": 10,
     "metadata": {},
     "output_type": "execute_result"
    }
   ],
   "source": [
    "#Comparing to buidlings with +/- 10 percent similar sqfoot\n",
    "minus_10_percent_area = 106039*.9\n",
    "plus_10_percent_area = 106039*1.1\n",
    "minus_10_percent_area, plus_10_percent_area"
   ]
  },
  {
   "cell_type": "markdown",
   "metadata": {},
   "source": [
    "Reported Propeorty and Floor area are strings. Need to convert to int"
   ]
  },
  {
   "cell_type": "code",
   "execution_count": 11,
   "metadata": {
    "collapsed": false
   },
   "outputs": [],
   "source": [
    "all_energy_data_nyc['Site EUI(kBtu/ft2)'] = all_energy_data_nyc['Site EUI(kBtu/ft2)'].convert_objects(convert_numeric=True)\n",
    "all_energy_data_nyc['Weather Normalized Site EUI(kBtu/ft2)'] = all_energy_data_nyc['Weather Normalized Site EUI(kBtu/ft2)'].convert_objects(convert_numeric=True)\n",
    "all_energy_data_nyc['Source EUI(kBtu/ft2)'] = all_energy_data_nyc['Source EUI(kBtu/ft2)'].convert_objects(convert_numeric=True)\n",
    "all_energy_data_nyc['Weather Normalized Source EUI(kBtu/ft2)'] = all_energy_data_nyc['Weather Normalized Source EUI(kBtu/ft2)'].convert_objects(convert_numeric=True)\n",
    "all_energy_data_nyc['Municipally Supplied Potable Water - Indoor Intensity (gal/ft²)'] = all_energy_data_nyc['Municipally Supplied Potable Water - Indoor Intensity (gal/ft²)'].convert_objects(convert_numeric=True)\n",
    "all_energy_data_nyc['Automatic Water Benchmarking Eligible'] = all_energy_data_nyc['Automatic Water Benchmarking Eligible'].convert_objects(convert_numeric=True)\n",
    "all_energy_data_nyc['Reported Water Method'] = all_energy_data_nyc['Reported Water Method'].convert_objects(convert_numeric=True)\n",
    "all_energy_data_nyc['ENERGY STAR Score'] = all_energy_data_nyc['ENERGY STAR Score'].convert_objects(convert_numeric=True)\n",
    "all_energy_data_nyc['Total GHG Emissions(MtCO2e)'] = all_energy_data_nyc['Total GHG Emissions(MtCO2e)'].convert_objects(convert_numeric=True)\n",
    "all_energy_data_nyc['Direct GHG Emissions(MtCO2e)'] = all_energy_data_nyc['Direct GHG Emissions(MtCO2e)'].convert_objects(convert_numeric=True)\n",
    "all_energy_data_nyc['Indirect GHG Emissions(MtCO2e)'] = all_energy_data_nyc['Indirect GHG Emissions(MtCO2e)'].convert_objects(convert_numeric=True)\n",
    "all_energy_data_nyc['Reported Property Floor Area (Building(s)) (ft²)'] = all_energy_data_nyc['Reported Property Floor Area (Building(s)) (ft²)'].convert_objects(convert_numeric=True)\n",
    "all_energy_data_nyc['DOF Property Floor Area (Buildngs and Parking)(ft2)'] = all_energy_data_nyc['DOF Property Floor Area (Buildngs and Parking)(ft2)'].convert_objects(convert_numeric=True)\n",
    "all_energy_data_nyc['DOF Number of Buildings'] = all_energy_data_nyc['DOF Number of Buildings'].convert_objects(convert_numeric=True)"
   ]
  },
  {
   "cell_type": "code",
   "execution_count": 12,
   "metadata": {
    "collapsed": false
   },
   "outputs": [
    {
     "data": {
      "text/plain": [
       "1    82.1\n",
       "Name: Site EUI(kBtu/ft2), dtype: float64"
      ]
     },
     "execution_count": 12,
     "metadata": {},
     "output_type": "execute_result"
    }
   ],
   "source": [
    "#checking for float type and not string \n",
    "all_energy_data_nyc['Site EUI(kBtu/ft2)'].iloc[1:2,]"
   ]
  },
  {
   "cell_type": "code",
   "execution_count": 14,
   "metadata": {
    "collapsed": false
   },
   "outputs": [],
   "source": [
    "compare_to_four_57_two = all_energy_data_nyc[(all_energy_data_nyc['Primary Property Type - Self Selected'] == 'Multifamily Housing') & (all_energy_data_nyc['Reported Property Floor Area (Building(s)) (ft²)'] > 95435) & (all_energy_data_nyc['Reported Property Floor Area (Building(s)) (ft²)'] < 116642)]"
   ]
  },
  {
   "cell_type": "code",
   "execution_count": 15,
   "metadata": {
    "collapsed": false
   },
   "outputs": [
    {
     "data": {
      "text/plain": [
       "(1054, 24)"
      ]
     },
     "execution_count": 15,
     "metadata": {},
     "output_type": "execute_result"
    }
   ],
   "source": [
    "compare_to_four_57_two.shape"
   ]
  },
  {
   "cell_type": "code",
   "execution_count": 55,
   "metadata": {
    "collapsed": false,
    "scrolled": true
   },
   "outputs": [
    {
     "data": {
      "text/plain": [
       "Record Number                                                      6.963611e+03\n",
       "NYC Borough, Block, and Lot (BBL)                                  2.274368e+09\n",
       "Zip Code                                                           1.063562e+04\n",
       "Site EUI(kBtu/ft2)                                                 1.816045e+02\n",
       "Weather Normalized Site EUI(kBtu/ft2)                              1.931855e+02\n",
       "Source EUI(kBtu/ft2)                                               2.784299e+02\n",
       "Weather Normalized Source EUI(kBtu/ft2)                            2.982737e+02\n",
       "Municipally Supplied Potable Water - Indoor Intensity (gal/ft²)    5.622922e+01\n",
       "ENERGY STAR Score                                                           NaN\n",
       "Total GHG Emissions(MtCO2e)                                        1.438748e+03\n",
       "Direct GHG Emissions(MtCO2e)                                       3.931972e+02\n",
       "Indirect GHG Emissions(MtCO2e)                                     1.012587e+03\n",
       "Reported Property Floor Area (Building(s)) (ft²)                   1.053267e+05\n",
       "DOF Property Floor Area (Buildngs and Parking)(ft2)                1.098551e+05\n",
       "DOF Number of Buildings                                            1.567485e+00\n",
       "dtype: float64"
      ]
     },
     "execution_count": 55,
     "metadata": {},
     "output_type": "execute_result"
    }
   ],
   "source": [
    "mean_compare_to_four_57_two = compare_to_four_57_two.mean()\n",
    "mean_compare_to_four_57_two"
   ]
  },
  {
   "cell_type": "code",
   "execution_count": 28,
   "metadata": {
    "collapsed": false
   },
   "outputs": [
    {
     "data": {
      "text/html": [
       "<div>\n",
       "<table border=\"1\" class=\"dataframe\">\n",
       "  <thead>\n",
       "    <tr style=\"text-align: right;\">\n",
       "      <th></th>\n",
       "      <th>Record Number</th>\n",
       "      <th>NYC Borough, Block, and Lot (BBL)</th>\n",
       "      <th>Co-reported BBL Status</th>\n",
       "      <th>BBLs Co-reported</th>\n",
       "      <th>Reported NYC Building Identificaiton Numbers (BINs)</th>\n",
       "      <th>Street Number</th>\n",
       "      <th>Borough</th>\n",
       "      <th>Zip Code</th>\n",
       "      <th>DOF Benchmarking Submission Status</th>\n",
       "      <th>Site EUI(kBtu/ft2)</th>\n",
       "      <th>...</th>\n",
       "      <th>Automatic Water Benchmarking Eligible</th>\n",
       "      <th>Reported Water Method</th>\n",
       "      <th>ENERGY STAR Score</th>\n",
       "      <th>Total GHG Emissions(MtCO2e)</th>\n",
       "      <th>Direct GHG Emissions(MtCO2e)</th>\n",
       "      <th>Indirect GHG Emissions(MtCO2e)</th>\n",
       "      <th>Reported Property Floor Area (Building(s)) (ft²)</th>\n",
       "      <th>DOF Property Floor Area (Buildngs and Parking)(ft2)</th>\n",
       "      <th>Primary Property Type - Self Selected</th>\n",
       "      <th>DOF Number of Buildings</th>\n",
       "    </tr>\n",
       "  </thead>\n",
       "  <tbody>\n",
       "    <tr>\n",
       "      <th>3776</th>\n",
       "      <td>4572</td>\n",
       "      <td>1018950038</td>\n",
       "      <td>NaN</td>\n",
       "      <td>1-01895-0038</td>\n",
       "      <td>1057344</td>\n",
       "      <td>12/31/0403 12:00:00 AM</td>\n",
       "      <td>Manhattan</td>\n",
       "      <td>10025</td>\n",
       "      <td>Filed</td>\n",
       "      <td>71.8</td>\n",
       "      <td>...</td>\n",
       "      <td>No</td>\n",
       "      <td>None</td>\n",
       "      <td>NaN</td>\n",
       "      <td>441.8</td>\n",
       "      <td>333.1</td>\n",
       "      <td>108.7</td>\n",
       "      <td>106039</td>\n",
       "      <td>102951</td>\n",
       "      <td>Multifamily Housing</td>\n",
       "      <td>1</td>\n",
       "    </tr>\n",
       "  </tbody>\n",
       "</table>\n",
       "<p>1 rows × 24 columns</p>\n",
       "</div>"
      ],
      "text/plain": [
       "      Record Number  NYC Borough, Block, and Lot (BBL) Co-reported BBL Status  \\\n",
       "3776           4572                         1018950038                    NaN   \n",
       "\n",
       "     BBLs Co-reported Reported NYC Building Identificaiton Numbers (BINs)  \\\n",
       "3776     1-01895-0038                                            1057344    \n",
       "\n",
       "               Street Number    Borough  Zip Code  \\\n",
       "3776  12/31/0403 12:00:00 AM  Manhattan     10025   \n",
       "\n",
       "     DOF Benchmarking Submission Status  Site EUI(kBtu/ft2)  \\\n",
       "3776                              Filed                71.8   \n",
       "\n",
       "               ...             Automatic Water Benchmarking Eligible  \\\n",
       "3776           ...                                                No   \n",
       "\n",
       "      Reported Water Method  ENERGY STAR Score  Total GHG Emissions(MtCO2e)  \\\n",
       "3776                   None                NaN                        441.8   \n",
       "\n",
       "     Direct GHG Emissions(MtCO2e) Indirect GHG Emissions(MtCO2e)  \\\n",
       "3776                        333.1                          108.7   \n",
       "\n",
       "      Reported Property Floor Area (Building(s)) (ft²)  \\\n",
       "3776                                            106039   \n",
       "\n",
       "      DOF Property Floor Area (Buildngs and Parking)(ft2)  \\\n",
       "3776                                             102951     \n",
       "\n",
       "      Primary Property Type - Self Selected  DOF Number of Buildings  \n",
       "3776                    Multifamily Housing                        1  \n",
       "\n",
       "[1 rows x 24 columns]"
      ]
     },
     "execution_count": 28,
     "metadata": {},
     "output_type": "execute_result"
    }
   ],
   "source": [
    "#checking 4572\n",
    "checking_four_57_two = all_energy_data_nyc[all_energy_data_nyc['Record Number'] == 4572] \n",
    "checking_four_57_two"
   ]
  },
  {
   "cell_type": "code",
   "execution_count": 18,
   "metadata": {
    "collapsed": false
   },
   "outputs": [],
   "source": [
    "import matplotlib.pyplot as plt\n",
    "%matplotlib inline"
   ]
  },
  {
   "cell_type": "code",
   "execution_count": 57,
   "metadata": {
    "collapsed": false
   },
   "outputs": [
    {
     "name": "stderr",
     "output_type": "stream",
     "text": [
      "/Users/trippshealy/iron_yard/week10/builditgreen/.direnv/python-3.4.3/lib/python3.4/site-packages/pandas/tools/plotting.py:856: UserWarning: 'colors' is being deprecated. Please use 'color'instead of 'colors'\n",
      "  warnings.warn((\"'colors' is being deprecated. Please use 'color'\"\n"
     ]
    },
    {
     "data": {
      "text/plain": [
       "<matplotlib.axes._subplots.AxesSubplot at 0x10dfdc7b8>"
      ]
     },
     "execution_count": 57,
     "metadata": {},
     "output_type": "execute_result"
    },
    {
     "data": {
      "image/png": "[encoded data removed]",
      "text/plain": [
       "<matplotlib.figure.Figure at 0x10bc75d68>"
      ]
     },
     "metadata": {},
     "output_type": "display_data"
    }
   ],
   "source": [
    "mean_compare_to_four_57_two[9:12].plot(kind=\"bar\", figsize=(19, 12), colors=['#CED9DE', '#C4C497', '#D9D9D4'])"
   ]
  },
  {
   "cell_type": "code",
   "execution_count": 53,
   "metadata": {
    "collapsed": false
   },
   "outputs": [
    {
     "name": "stderr",
     "output_type": "stream",
     "text": [
      "/Users/trippshealy/iron_yard/week10/builditgreen/.direnv/python-3.4.3/lib/python3.4/site-packages/pandas/tools/plotting.py:856: UserWarning: 'colors' is being deprecated. Please use 'color'instead of 'colors'\n",
      "  warnings.warn((\"'colors' is being deprecated. Please use 'color'\"\n"
     ]
    },
    {
     "data": {
      "text/plain": [
       "<matplotlib.axes._subplots.AxesSubplot at 0x10e2da160>"
      ]
     },
     "execution_count": 53,
     "metadata": {},
     "output_type": "execute_result"
    },
    {
     "data": {
      "image/png": "[encoded data removed]",
      "text/plain": [
       "<matplotlib.figure.Figure at 0x10e1332e8>"
      ]
     },
     "metadata": {},
     "output_type": "display_data"
    }
   ],
   "source": [
    "checking_four_57_two.iloc[:,17:20].plot(kind=\"bar\", figsize=(19, 12), colors=['#CED9DE', '#C4C497', '#D9D9D4'])"
   ]
  }
 ],
 "metadata": {
  "kernelspec": {
   "display_name": "Python 3",
   "language": "python",
   "name": "python3"
  }
 },
 "nbformat": 4,
 "nbformat_minor": 0
}
