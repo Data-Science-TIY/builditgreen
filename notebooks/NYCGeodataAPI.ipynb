{
 "cells": [
  {
   "cell_type": "code",
   "execution_count": 30,
   "metadata": {
    "collapsed": false
   },
   "outputs": [
    {
     "name": "stdout",
     "output_type": "stream",
     "text": [
      "200\n",
      "application/json;charset=UTF-8\n"
     ]
    }
   ],
   "source": [
    "import requests\n",
    "payload = {'input': '314 west 100 st, ny, ny 10025', 'app_id': 'fe1a9426', 'app_key': '924b0f3f628da953b6186d1bd1277e2b'}\n",
    "r = requests.get('https://api.cityofnewyork.us/geoclient/v1/search.json', params=payload)\n",
    " \n",
    "print(r.status_code)\n",
    "print(r.headers['content-type'])"
   ]
  },
  {
   "cell_type": "code",
   "execution_count": 31,
   "metadata": {
    "collapsed": false
   },
   "outputs": [
    {
     "data": {
      "text/plain": [
       "{'id': 'ip-10-119-99-116-25035-1437070281827',\n",
       " 'input': '314 west 100 st, ny, ny 10025',\n",
       " 'parseTree': None,\n",
       " 'policy': None,\n",
       " 'results': [{'level': '0',\n",
       "   'request': 'address [houseNumber=314, street=west 100 st, borough=null, zip=10025]',\n",
       "   'response': {'assemblyDistrict': '69',\n",
       "    'bbl': '1018887502',\n",
       "    'bblBoroughCode': '1',\n",
       "    'bblTaxBlock': '01888',\n",
       "    'bblTaxLot': '7502',\n",
       "    'boardOfElectionsPreferredLgc': '1',\n",
       "    'boePreferredStreetName': 'WEST  100 STREET',\n",
       "    'boePreferredstreetCode': '13577001',\n",
       "    'buildingIdentificationNumber': '1057093',\n",
       "    'censusBlock2000': '6000',\n",
       "    'censusBlock2010': '2000',\n",
       "    'censusTract1990': ' 187  ',\n",
       "    'censusTract2000': ' 187  ',\n",
       "    'censusTract2010': ' 187  ',\n",
       "    'cityCouncilDistrict': '06',\n",
       "    'civilCourtDistrict': '05',\n",
       "    'coincidentSegmentCount': '1',\n",
       "    'communityDistrict': '107',\n",
       "    'communityDistrictBoroughCode': '1',\n",
       "    'communityDistrictNumber': '07',\n",
       "    'communitySchoolDistrict': '03',\n",
       "    'condominiumBillingBbl': '1018887502',\n",
       "    'condominiumFlag': 'C',\n",
       "    'congressionalDistrict': '10',\n",
       "    'cooperativeIdNumber': '0000',\n",
       "    'crossStreetNamesFlagIn': 'E',\n",
       "    'dcpPreferredLgc': '01',\n",
       "    'dofCondominiumIdentificationNumber': '1981',\n",
       "    'dotStreetLightContractorArea': '1',\n",
       "    'dynamicBlock': '601',\n",
       "    'electionDistrict': '049',\n",
       "    'fireBattalion': '11',\n",
       "    'fireCompanyNumber': '022',\n",
       "    'fireCompanyType': 'L',\n",
       "    'fireDivision': '03',\n",
       "    'firstBoroughName': 'MANHATTAN',\n",
       "    'firstStreetCode': '13577001010',\n",
       "    'firstStreetNameNormalized': 'WEST  100 STREET',\n",
       "    'fromLionNodeId': '0023422',\n",
       "    'fromPreferredLgcsFirstSetOf5': '01',\n",
       "    'genericId': '0060351',\n",
       "    'geosupportFunctionCode': '1B',\n",
       "    'geosupportReturnCode': '00',\n",
       "    'geosupportReturnCode2': '00',\n",
       "    'gi5DigitStreetCode1': '35770',\n",
       "    'giBoroughCode1': '1',\n",
       "    'giBuildingIdentificationNumber1': '1057093',\n",
       "    'giDcpPreferredLgc1': '01',\n",
       "    'giHighHouseNumber1': '316',\n",
       "    'giLowHouseNumber1': '314',\n",
       "    'giSideOfStreetIndicator1': 'L',\n",
       "    'giStreetCode1': '13577001',\n",
       "    'giStreetName1': 'WEST  100 STREET',\n",
       "    'healthArea': '3110',\n",
       "    'healthCenterDistrict': '16',\n",
       "    'highBblOfThisBuildingsCondominiumUnits': '1018881233',\n",
       "    'highCrossStreetB5SC1': '129690',\n",
       "    'highCrossStreetCode1': '12969001',\n",
       "    'highCrossStreetName1': 'RIVERSIDE DRIVE',\n",
       "    'highHouseNumberOfBlockfaceSortFormat': '000398000AA',\n",
       "    'houseNumber': '314',\n",
       "    'houseNumberIn': '314',\n",
       "    'houseNumberSortFormat': '000314000AA',\n",
       "    'hurricaneEvacuationZone': 'X',\n",
       "    'instructionalRegion': 'MN',\n",
       "    'interimAssistanceEligibilityIndicator': 'I',\n",
       "    'internalLabelXCoordinate': '0991892',\n",
       "    'internalLabelYCoordinate': '0230017',\n",
       "    'latitude': 40.797999580902456,\n",
       "    'latitudeInternalLabel': 40.79801619527459,\n",
       "    'legacySegmentId': '0037349',\n",
       "    'lionBoroughCode': '1',\n",
       "    'lionBoroughCodeForVanityAddress': '1',\n",
       "    'lionFaceCode': '5345',\n",
       "    'lionFaceCodeForVanityAddress': '5345',\n",
       "    'lionKey': '1534500060',\n",
       "    'lionKeyForVanityAddress': '1534500060',\n",
       "    'lionSequenceNumber': '00060',\n",
       "    'lionSequenceNumberForVanityAddress': '00060',\n",
       "    'listOf4Lgcs': '01',\n",
       "    'longitude': -73.971795756051,\n",
       "    'longitudeInternalLabel': -73.97239891331863,\n",
       "    'lowBblOfThisBuildingsCondominiumUnits': '1018881201',\n",
       "    'lowCrossStreetB5SC1': '144990',\n",
       "    'lowCrossStreetCode1': '14499001',\n",
       "    'lowCrossStreetName1': 'WEST END AVENUE',\n",
       "    'lowHouseNumberOfBlockfaceSortFormat': '000300000AA',\n",
       "    'lowHouseNumberOfDefiningAddressRange': '000314000AA',\n",
       "    'nta': 'MN12',\n",
       "    'ntaName': 'Upper West Side',\n",
       "    'numberOfCrossStreetB5SCsHighAddressEnd': '1',\n",
       "    'numberOfCrossStreetB5SCsLowAddressEnd': '1',\n",
       "    'numberOfCrossStreetsHighAddressEnd': '1',\n",
       "    'numberOfCrossStreetsLowAddressEnd': '1',\n",
       "    'numberOfEntriesInListOfGeographicIdentifiers': '0001',\n",
       "    'numberOfExistingStructuresOnLot': '0001',\n",
       "    'numberOfStreetFrontagesOfLot': '01',\n",
       "    'physicalId': '0069454',\n",
       "    'policePatrolBoroughCommand': '2',\n",
       "    'policePrecinct': '024',\n",
       "    'returnCode1a': '00',\n",
       "    'returnCode1e': '00',\n",
       "    'roadwayType': '1',\n",
       "    'rpadBuildingClassificationCode': 'R4',\n",
       "    'rpadSelfCheckCodeForBbl': '5',\n",
       "    'sanbornBoroughCode': '1',\n",
       "    'sanbornPageNumber': '034',\n",
       "    'sanbornVolumeNumber': '07',\n",
       "    'sanbornVolumeNumberSuffix': 'S',\n",
       "    'sanitationCollectionSchedulingSectionAndSubsection': '5B',\n",
       "    'sanitationDistrict': '107',\n",
       "    'sanitationRecyclingCollectionSchedule': 'ET',\n",
       "    'sanitationRegularCollectionSchedule': 'TTHS',\n",
       "    'sanitationSnowPriorityCode': 'P',\n",
       "    'segmentAzimuth': '151',\n",
       "    'segmentIdentifier': '0037349',\n",
       "    'segmentLengthInFeet': '00574',\n",
       "    'segmentOrientation': 'W',\n",
       "    'segmentTypeCode': 'U',\n",
       "    'selfCheckCodeOfBillingBbl': '5',\n",
       "    'sideOfStreetIndicator': 'L',\n",
       "    'sideOfStreetOfVanityAddress': 'L',\n",
       "    'splitLowHouseNumber': '000300000AA',\n",
       "    'stateSenatorialDistrict': '31',\n",
       "    'streetName1In': 'WEST 100 ST',\n",
       "    'streetStatus': '2',\n",
       "    'taxMapNumberSectionAndVolume': '10703',\n",
       "    'toLionNodeId': '0023852',\n",
       "    'toPreferredLgcsFirstSetOf5': '01',\n",
       "    'trafficDirection': 'A',\n",
       "    'underlyingStreetCode': '13577001',\n",
       "    'uspsPreferredCityName': 'NEW YORK',\n",
       "    'workAreaFormatIndicatorIn': 'C',\n",
       "    'xCoordinate': '0992059',\n",
       "    'xCoordinateHighAddressEnd': '0991683',\n",
       "    'xCoordinateLowAddressEnd': '0992186',\n",
       "    'xCoordinateOfCenterofCurvature': '0000000',\n",
       "    'yCoordinate': '0230011',\n",
       "    'yCoordinateHighAddressEnd': '0230221',\n",
       "    'yCoordinateLowAddressEnd': '0229944',\n",
       "    'yCoordinateOfCenterofCurvature': '0000000',\n",
       "    'zipCode': '10025',\n",
       "    'zipCodeIn': '10025'},\n",
       "   'status': 'EXACT_MATCH'}],\n",
       " 'status': 'OK'}"
      ]
     },
     "execution_count": 31,
     "metadata": {},
     "output_type": "execute_result"
    }
   ],
   "source": [
    "r.json()"
   ]
  },
  {
   "cell_type": "code",
   "execution_count": 27,
   "metadata": {
    "collapsed": false
   },
   "outputs": [
    {
     "data": {
      "text/plain": [
       "1057093"
      ]
     },
     "execution_count": 27,
     "metadata": {},
     "output_type": "execute_result"
    }
   ],
   "source": [
    "import json\n",
    "int(r.json()['results'][0]['response']['buildingIdentificationNumber'])"
   ]
  },
  {
   "cell_type": "code",
   "execution_count": 32,
   "metadata": {
    "collapsed": true
   },
   "outputs": [],
   "source": [
    "address_list = ['162 Huntington St, 11231', '126 Douglass Street, 11217']\n",
    "payload_list = [{'input': address, 'app_id': 'fe1a9426', 'app_key': \n",
    "                 '924b0f3f628da953b6186d1bd1277e2b'} for address in address_list]\n",
    "results_list = [requests.get('https://api.cityofnewyork.us/geoclient/v1/search.json', params=payload)\n",
    "               for payload in payload_list]\n",
    "building_list = [int(result.json()['results'][0]['response']['buildingIdentificationNumber'])\n",
    "                for result in results_list]\n",
    "\n",
    "    "
   ]
  },
  {
   "cell_type": "code",
   "execution_count": 33,
   "metadata": {
    "collapsed": false
   },
   "outputs": [
    {
     "data": {
      "text/plain": [
       "[3005669, 3006767]"
      ]
     },
     "execution_count": 33,
     "metadata": {},
     "output_type": "execute_result"
    }
   ],
   "source": [
    "building_list"
   ]
  },
  {
   "cell_type": "code",
   "execution_count": null,
   "metadata": {
    "collapsed": true
   },
   "outputs": [],
   "source": []
  }
 ],
 "metadata": {
  "kernelspec": {
   "display_name": "Python 3",
   "language": "python",
   "name": "python3"
  },
  "language_info": {
   "codemirror_mode": {
    "name": "ipython",
    "version": 3
   },
   "file_extension": ".py",
   "mimetype": "text/x-python",
   "name": "python",
   "nbconvert_exporter": "python",
   "pygments_lexer": "ipython3",
   "version": "3.4.3"
  }
 },
 "nbformat": 4,
 "nbformat_minor": 0
}
