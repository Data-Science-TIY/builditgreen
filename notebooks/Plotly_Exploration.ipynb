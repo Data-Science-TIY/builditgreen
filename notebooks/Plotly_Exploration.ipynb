{
 "cells": [
  {
   "cell_type": "code",
   "execution_count": 1,
   "metadata": {
    "collapsed": true
   },
   "outputs": [],
   "source": [
    "import plotly.plotly as py\n",
    "from plotly.graph_objs import *"
   ]
  },
  {
   "cell_type": "code",
   "execution_count": 9,
   "metadata": {
    "collapsed": false
   },
   "outputs": [
    {
     "data": {
      "text/html": [
       "<iframe id=\"igraph\" scrolling=\"no\" style=\"border:none;\"seamless=\"seamless\" src=\"https://plot.ly/~jdhiggins/28.embed\" height=\"525\" width=\"100%\"></iframe>"
      ],
      "text/plain": [
       "<plotly.tools.PlotlyDisplay object>"
      ]
     },
     "execution_count": 9,
     "metadata": {},
     "output_type": "execute_result"
    }
   ],
   "source": [
    "trace0 = Scatter(\n",
    "    x=[1, 2, 3, 4],\n",
    "    y=[10, 15, 13, 17],\n",
    "    fill='tozeroy',\n",
    ")\n",
    "trace1 = Scatter(\n",
    "    x=[1, 2, 3, 4],\n",
    "    y=[16, 5, 11, 9],\n",
    "    fill='tonexty',\n",
    ")\n",
    "data = Data([trace0, trace1])\n",
    "\n",
    "py.iplot(data, filename = 'basic-area')"
   ]
  },
  {
   "cell_type": "code",
   "execution_count": 10,
   "metadata": {
    "collapsed": false
   },
   "outputs": [
    {
     "data": {
      "text/html": [
       "<iframe id=\"igraph\" scrolling=\"no\" style=\"border:none;\"seamless=\"seamless\" src=\"https://plot.ly/~jdhiggins/30.embed\" height=\"525\" width=\"100%\"></iframe>"
      ],
      "text/plain": [
       "<plotly.tools.PlotlyDisplay object>"
      ]
     },
     "execution_count": 10,
     "metadata": {},
     "output_type": "execute_result"
    }
   ],
   "source": [
    "import plotly.plotly as py\n",
    "import pandas as pd\n",
    "\n",
    "df = pd.read_csv('https://raw.githubusercontent.com/plotly/datasets/master/2014_us_cities.csv')\n",
    "df.head()\n",
    "\n",
    "df['text'] = df['name'] + '<br>Population ' + (df['pop']/1e6).astype(str)+' million'\n",
    "limits = [(0,2),(3,10),(11,20),(21,50),(50,3000)]\n",
    "colors = [\"rgb(0,116,217)\",\"rgb(255,65,54)\",\"rgb(133,20,75)\",\"rgb(255,133,27)\",\"rgb(255,220,0)\"]\n",
    "cities = []\n",
    "scale = 50000\n",
    "\n",
    "for i in range(len(limits)):\n",
    "    lim = limits[i]\n",
    "    df_sub = df[lim[0]:lim[1]]\n",
    "    city = dict(\n",
    "        type = 'scattergeo',\n",
    "        locationmode = 'USA-states',\n",
    "        lon = df_sub['lon'],\n",
    "        lat = df_sub['lat'],\n",
    "        text = df_sub['text'],\n",
    "        sizemode = 'diameter',\n",
    "        marker = dict( \n",
    "            size = df_sub['pop']/scale, \n",
    "            color = colors[i],\n",
    "            line = dict(width = 2,color = 'black')\n",
    "        ),\n",
    "        name = '{0} - {1}'.format(lim[0],lim[1]) )\n",
    "    cities.append(city)\n",
    "\n",
    "layout = dict(\n",
    "        title = '2014 US city populations<br>(Click legend to toggle traces)',\n",
    "        showlegend = True,\n",
    "        geo = dict(\n",
    "            scope='usa',\n",
    "            projection=dict( type='albers usa' ),\n",
    "            showland = True,\n",
    "            landcolor = 'rgb(217, 217, 217)',       \n",
    "            subunitwidth=1,\n",
    "            countrywidth=1,\n",
    "            subunitcolor=\"rgb(255, 255, 255)\",\n",
    "            countrycolor=\"rgb(255, 255, 255)\"           \n",
    "        ),  \n",
    "    )\n",
    "    \n",
    "fig = dict( data=cities, layout=layout )\n",
    "py.iplot( fig, validate=False, filename='d3-bubble-map-populations' )"
   ]
  },
  {
   "cell_type": "code",
   "execution_count": 68,
   "metadata": {
    "collapsed": false
   },
   "outputs": [
    {
     "data": {
      "text/html": [
       "<div>\n",
       "<table border=\"1\" class=\"dataframe\">\n",
       "  <thead>\n",
       "    <tr style=\"text-align: right;\">\n",
       "      <th></th>\n",
       "      <th>pop</th>\n",
       "      <th>lat</th>\n",
       "      <th>lon</th>\n",
       "      <th>text</th>\n",
       "    </tr>\n",
       "    <tr>\n",
       "      <th>name</th>\n",
       "      <th></th>\n",
       "      <th></th>\n",
       "      <th></th>\n",
       "      <th></th>\n",
       "    </tr>\n",
       "  </thead>\n",
       "  <tbody>\n",
       "    <tr>\n",
       "      <th>New York</th>\n",
       "      <td>8287238</td>\n",
       "      <td>40.730599</td>\n",
       "      <td>-73.986581</td>\n",
       "      <td>New York &lt;br&gt;Population 8.287238 million</td>\n",
       "    </tr>\n",
       "    <tr>\n",
       "      <th>Los Angeles</th>\n",
       "      <td>3826423</td>\n",
       "      <td>34.053717</td>\n",
       "      <td>-118.242727</td>\n",
       "      <td>Los Angeles &lt;br&gt;Population 3.826423 million</td>\n",
       "    </tr>\n",
       "    <tr>\n",
       "      <th>Chicago</th>\n",
       "      <td>2705627</td>\n",
       "      <td>41.875555</td>\n",
       "      <td>-87.624421</td>\n",
       "      <td>Chicago &lt;br&gt;Population 2.705627 million</td>\n",
       "    </tr>\n",
       "    <tr>\n",
       "      <th>Houston</th>\n",
       "      <td>2129784</td>\n",
       "      <td>29.758938</td>\n",
       "      <td>-95.367697</td>\n",
       "      <td>Houston &lt;br&gt;Population 2.129784 million</td>\n",
       "    </tr>\n",
       "    <tr>\n",
       "      <th>Philadelphia</th>\n",
       "      <td>1539313</td>\n",
       "      <td>39.952335</td>\n",
       "      <td>-75.163789</td>\n",
       "      <td>Philadelphia &lt;br&gt;Population 1.539313 million</td>\n",
       "    </tr>\n",
       "    <tr>\n",
       "      <th>Phoenix</th>\n",
       "      <td>1465114</td>\n",
       "      <td>33.446768</td>\n",
       "      <td>-112.075672</td>\n",
       "      <td>Phoenix &lt;br&gt;Population 1.465114 million</td>\n",
       "    </tr>\n",
       "    <tr>\n",
       "      <th>San Antonio</th>\n",
       "      <td>1359174</td>\n",
       "      <td>29.424600</td>\n",
       "      <td>-98.495141</td>\n",
       "      <td>San Antonio &lt;br&gt;Population 1.359174 million</td>\n",
       "    </tr>\n",
       "    <tr>\n",
       "      <th>San Diego</th>\n",
       "      <td>1321016</td>\n",
       "      <td>32.717421</td>\n",
       "      <td>-117.162771</td>\n",
       "      <td>San Diego &lt;br&gt;Population 1.321016 million</td>\n",
       "    </tr>\n",
       "    <tr>\n",
       "      <th>Dallas</th>\n",
       "      <td>1219399</td>\n",
       "      <td>32.776196</td>\n",
       "      <td>-96.796899</td>\n",
       "      <td>Dallas &lt;br&gt;Population 1.219399 million</td>\n",
       "    </tr>\n",
       "    <tr>\n",
       "      <th>San Jose</th>\n",
       "      <td>971495</td>\n",
       "      <td>37.343850</td>\n",
       "      <td>-121.883135</td>\n",
       "      <td>San Jose &lt;br&gt;Population 0.971495 million</td>\n",
       "    </tr>\n",
       "    <tr>\n",
       "      <th>Austin</th>\n",
       "      <td>839714</td>\n",
       "      <td>30.271129</td>\n",
       "      <td>-97.743700</td>\n",
       "      <td>Austin &lt;br&gt;Population 0.839714 million</td>\n",
       "    </tr>\n",
       "    <tr>\n",
       "      <th>Jacksonville</th>\n",
       "      <td>829543</td>\n",
       "      <td>30.332184</td>\n",
       "      <td>-81.655651</td>\n",
       "      <td>Jacksonville &lt;br&gt;Population 0.829543 million</td>\n",
       "    </tr>\n",
       "    <tr>\n",
       "      <th>Indianapolis</th>\n",
       "      <td>827346</td>\n",
       "      <td>39.768333</td>\n",
       "      <td>-86.158350</td>\n",
       "      <td>Indianapolis  &lt;br&gt;Population 0.827346 million</td>\n",
       "    </tr>\n",
       "    <tr>\n",
       "      <th>San Francisco</th>\n",
       "      <td>816239</td>\n",
       "      <td>37.779277</td>\n",
       "      <td>-122.419270</td>\n",
       "      <td>San Francisco &lt;br&gt;Population 0.816239 million</td>\n",
       "    </tr>\n",
       "    <tr>\n",
       "      <th>Columbus</th>\n",
       "      <td>799270</td>\n",
       "      <td>39.962260</td>\n",
       "      <td>-83.000706</td>\n",
       "      <td>Columbus &lt;br&gt;Population 0.79927 million</td>\n",
       "    </tr>\n",
       "    <tr>\n",
       "      <th>Fort Worth</th>\n",
       "      <td>761895</td>\n",
       "      <td>32.753177</td>\n",
       "      <td>-97.332746</td>\n",
       "      <td>Fort Worth &lt;br&gt;Population 0.761895 million</td>\n",
       "    </tr>\n",
       "    <tr>\n",
       "      <th>Charlotte</th>\n",
       "      <td>756204</td>\n",
       "      <td>35.227087</td>\n",
       "      <td>-80.843127</td>\n",
       "      <td>Charlotte &lt;br&gt;Population 0.756204 million</td>\n",
       "    </tr>\n",
       "    <tr>\n",
       "      <th>Detroit</th>\n",
       "      <td>702149</td>\n",
       "      <td>42.348664</td>\n",
       "      <td>-83.056737</td>\n",
       "      <td>Detroit &lt;br&gt;Population 0.702149 million</td>\n",
       "    </tr>\n",
       "    <tr>\n",
       "      <th>El Paso</th>\n",
       "      <td>665503</td>\n",
       "      <td>31.811131</td>\n",
       "      <td>-106.501349</td>\n",
       "      <td>El Paso &lt;br&gt;Population 0.665503 million</td>\n",
       "    </tr>\n",
       "    <tr>\n",
       "      <th>Memphis</th>\n",
       "      <td>655975</td>\n",
       "      <td>35.149022</td>\n",
       "      <td>-90.051629</td>\n",
       "      <td>Memphis &lt;br&gt;Population 0.655975 million</td>\n",
       "    </tr>\n",
       "    <tr>\n",
       "      <th>Boston</th>\n",
       "      <td>630645</td>\n",
       "      <td>42.360482</td>\n",
       "      <td>-71.059568</td>\n",
       "      <td>Boston &lt;br&gt;Population 0.630645 million</td>\n",
       "    </tr>\n",
       "    <tr>\n",
       "      <th>Seattle</th>\n",
       "      <td>622175</td>\n",
       "      <td>47.603832</td>\n",
       "      <td>-122.330062</td>\n",
       "      <td>Seattle &lt;br&gt;Population 0.622175 million</td>\n",
       "    </tr>\n",
       "    <tr>\n",
       "      <th>Baltimore</th>\n",
       "      <td>620889</td>\n",
       "      <td>39.290861</td>\n",
       "      <td>-76.610807</td>\n",
       "      <td>Baltimore &lt;br&gt;Population 0.620889 million</td>\n",
       "    </tr>\n",
       "    <tr>\n",
       "      <th>Washington</th>\n",
       "      <td>620427</td>\n",
       "      <td>38.894955</td>\n",
       "      <td>-77.036646</td>\n",
       "      <td>Washington &lt;br&gt;Population 0.620427 million</td>\n",
       "    </tr>\n",
       "    <tr>\n",
       "      <th>Denver</th>\n",
       "      <td>619390</td>\n",
       "      <td>39.739154</td>\n",
       "      <td>-104.984703</td>\n",
       "      <td>Denver &lt;br&gt;Population 0.61939 million</td>\n",
       "    </tr>\n",
       "    <tr>\n",
       "      <th>Nashville-Davidson</th>\n",
       "      <td>612243</td>\n",
       "      <td>36.187025</td>\n",
       "      <td>-86.780862</td>\n",
       "      <td>Nashville-Davidson   &lt;br&gt;Population 0.612243 m...</td>\n",
       "    </tr>\n",
       "    <tr>\n",
       "      <th>Louisville/Jefferson County</th>\n",
       "      <td>601709</td>\n",
       "      <td>38.209237</td>\n",
       "      <td>-85.703850</td>\n",
       "      <td>Louisville/Jefferson County   &lt;br&gt;Population 0...</td>\n",
       "    </tr>\n",
       "    <tr>\n",
       "      <th>Milwaukee</th>\n",
       "      <td>597435</td>\n",
       "      <td>43.034993</td>\n",
       "      <td>-87.922497</td>\n",
       "      <td>Milwaukee &lt;br&gt;Population 0.597435 million</td>\n",
       "    </tr>\n",
       "    <tr>\n",
       "      <th>Portland</th>\n",
       "      <td>593859</td>\n",
       "      <td>45.520247</td>\n",
       "      <td>-122.674195</td>\n",
       "      <td>Portland &lt;br&gt;Population 0.593859 million</td>\n",
       "    </tr>\n",
       "    <tr>\n",
       "      <th>Oklahoma City</th>\n",
       "      <td>589896</td>\n",
       "      <td>35.472989</td>\n",
       "      <td>-97.517054</td>\n",
       "      <td>Oklahoma City &lt;br&gt;Population 0.589896 million</td>\n",
       "    </tr>\n",
       "    <tr>\n",
       "      <th>...</th>\n",
       "      <td>...</td>\n",
       "      <td>...</td>\n",
       "      <td>...</td>\n",
       "      <td>...</td>\n",
       "    </tr>\n",
       "    <tr>\n",
       "      <th>Dearborn</th>\n",
       "      <td>97326</td>\n",
       "      <td>42.322260</td>\n",
       "      <td>-83.176315</td>\n",
       "      <td>Dearborn &lt;br&gt;Population 0.097326 million</td>\n",
       "    </tr>\n",
       "    <tr>\n",
       "      <th>Sandy Springs</th>\n",
       "      <td>97011</td>\n",
       "      <td>33.924269</td>\n",
       "      <td>-84.378538</td>\n",
       "      <td>Sandy Springs &lt;br&gt;Population 0.097011 million</td>\n",
       "    </tr>\n",
       "    <tr>\n",
       "      <th>Roanoke</th>\n",
       "      <td>96810</td>\n",
       "      <td>37.270973</td>\n",
       "      <td>-79.941431</td>\n",
       "      <td>Roanoke &lt;br&gt;Population 0.09681 million</td>\n",
       "    </tr>\n",
       "    <tr>\n",
       "      <th>Jurupa Valley</th>\n",
       "      <td>96460</td>\n",
       "      <td>33.979847</td>\n",
       "      <td>-117.451575</td>\n",
       "      <td>Jurupa Valley &lt;br&gt;Population 0.09646 million</td>\n",
       "    </tr>\n",
       "    <tr>\n",
       "      <th>Livonia</th>\n",
       "      <td>96315</td>\n",
       "      <td>42.368370</td>\n",
       "      <td>-83.352710</td>\n",
       "      <td>Livonia &lt;br&gt;Population 0.096315 million</td>\n",
       "    </tr>\n",
       "    <tr>\n",
       "      <th>College Station</th>\n",
       "      <td>95703</td>\n",
       "      <td>30.626262</td>\n",
       "      <td>-96.334725</td>\n",
       "      <td>College Station &lt;br&gt;Population 0.095703 million</td>\n",
       "    </tr>\n",
       "    <tr>\n",
       "      <th>Vista</th>\n",
       "      <td>95168</td>\n",
       "      <td>33.200037</td>\n",
       "      <td>-117.242536</td>\n",
       "      <td>Vista &lt;br&gt;Population 0.095168 million</td>\n",
       "    </tr>\n",
       "    <tr>\n",
       "      <th>South Gate</th>\n",
       "      <td>95079</td>\n",
       "      <td>33.946346</td>\n",
       "      <td>-118.200981</td>\n",
       "      <td>South Gate &lt;br&gt;Population 0.095079 million</td>\n",
       "    </tr>\n",
       "    <tr>\n",
       "      <th>New Bedford</th>\n",
       "      <td>94798</td>\n",
       "      <td>41.636215</td>\n",
       "      <td>-70.934205</td>\n",
       "      <td>New Bedford &lt;br&gt;Population 0.094798 million</td>\n",
       "    </tr>\n",
       "    <tr>\n",
       "      <th>San Angelo</th>\n",
       "      <td>94651</td>\n",
       "      <td>31.431992</td>\n",
       "      <td>-100.454580</td>\n",
       "      <td>San Angelo &lt;br&gt;Population 0.094651 million</td>\n",
       "    </tr>\n",
       "    <tr>\n",
       "      <th>Greeley</th>\n",
       "      <td>94318</td>\n",
       "      <td>40.423314</td>\n",
       "      <td>-104.709132</td>\n",
       "      <td>Greeley &lt;br&gt;Population 0.094318 million</td>\n",
       "    </tr>\n",
       "    <tr>\n",
       "      <th>Davie</th>\n",
       "      <td>94283</td>\n",
       "      <td>26.075729</td>\n",
       "      <td>-80.284109</td>\n",
       "      <td>Davie &lt;br&gt;Population 0.094283 million</td>\n",
       "    </tr>\n",
       "    <tr>\n",
       "      <th>Mission Viejo</th>\n",
       "      <td>94209</td>\n",
       "      <td>33.596568</td>\n",
       "      <td>-117.659405</td>\n",
       "      <td>Mission Viejo &lt;br&gt;Population 0.094209 million</td>\n",
       "    </tr>\n",
       "    <tr>\n",
       "      <th>Yuma</th>\n",
       "      <td>94174</td>\n",
       "      <td>32.665167</td>\n",
       "      <td>-114.475905</td>\n",
       "      <td>Yuma &lt;br&gt;Population 0.094174 million</td>\n",
       "    </tr>\n",
       "    <tr>\n",
       "      <th>Brockton</th>\n",
       "      <td>94147</td>\n",
       "      <td>42.083434</td>\n",
       "      <td>-71.018379</td>\n",
       "      <td>Brockton &lt;br&gt;Population 0.094147 million</td>\n",
       "    </tr>\n",
       "    <tr>\n",
       "      <th>Hillsboro</th>\n",
       "      <td>94095</td>\n",
       "      <td>45.522894</td>\n",
       "      <td>-122.989827</td>\n",
       "      <td>Hillsboro &lt;br&gt;Population 0.094095 million</td>\n",
       "    </tr>\n",
       "    <tr>\n",
       "      <th>Renton</th>\n",
       "      <td>94030</td>\n",
       "      <td>47.479908</td>\n",
       "      <td>-122.203450</td>\n",
       "      <td>Renton &lt;br&gt;Population 0.09403 million</td>\n",
       "    </tr>\n",
       "    <tr>\n",
       "      <th>Vacaville</th>\n",
       "      <td>93356</td>\n",
       "      <td>38.376044</td>\n",
       "      <td>-121.995470</td>\n",
       "      <td>Vacaville &lt;br&gt;Population 0.093356 million</td>\n",
       "    </tr>\n",
       "    <tr>\n",
       "      <th>Pearland</th>\n",
       "      <td>93252</td>\n",
       "      <td>29.563976</td>\n",
       "      <td>-95.286430</td>\n",
       "      <td>Pearland &lt;br&gt;Population 0.093252 million</td>\n",
       "    </tr>\n",
       "    <tr>\n",
       "      <th>Yakima</th>\n",
       "      <td>92787</td>\n",
       "      <td>46.601557</td>\n",
       "      <td>-120.510842</td>\n",
       "      <td>Yakima &lt;br&gt;Population 0.092787 million</td>\n",
       "    </tr>\n",
       "    <tr>\n",
       "      <th>Quincy</th>\n",
       "      <td>92551</td>\n",
       "      <td>39.935602</td>\n",
       "      <td>-91.409873</td>\n",
       "      <td>Quincy &lt;br&gt;Population 0.092551 million</td>\n",
       "    </tr>\n",
       "    <tr>\n",
       "      <th>Carson</th>\n",
       "      <td>91940</td>\n",
       "      <td>33.832204</td>\n",
       "      <td>-118.251755</td>\n",
       "      <td>Carson &lt;br&gt;Population 0.09194 million</td>\n",
       "    </tr>\n",
       "    <tr>\n",
       "      <th>Lee's Summit</th>\n",
       "      <td>91920</td>\n",
       "      <td>38.910841</td>\n",
       "      <td>-94.382172</td>\n",
       "      <td>Lee's Summit &lt;br&gt;Population 0.09192 million</td>\n",
       "    </tr>\n",
       "    <tr>\n",
       "      <th>Tuscaloosa</th>\n",
       "      <td>91739</td>\n",
       "      <td>33.266840</td>\n",
       "      <td>-87.486218</td>\n",
       "      <td>Tuscaloosa &lt;br&gt;Population 0.091739 million</td>\n",
       "    </tr>\n",
       "    <tr>\n",
       "      <th>Hesperia</th>\n",
       "      <td>91418</td>\n",
       "      <td>34.426389</td>\n",
       "      <td>-117.300878</td>\n",
       "      <td>Hesperia &lt;br&gt;Population 0.091418 million</td>\n",
       "    </tr>\n",
       "    <tr>\n",
       "      <th>Beaverton</th>\n",
       "      <td>91406</td>\n",
       "      <td>45.487172</td>\n",
       "      <td>-122.803780</td>\n",
       "      <td>Beaverton &lt;br&gt;Population 0.091406 million</td>\n",
       "    </tr>\n",
       "    <tr>\n",
       "      <th>Roswell</th>\n",
       "      <td>91196</td>\n",
       "      <td>33.394266</td>\n",
       "      <td>-104.523024</td>\n",
       "      <td>Roswell &lt;br&gt;Population 0.091196 million</td>\n",
       "    </tr>\n",
       "    <tr>\n",
       "      <th>Sparks</th>\n",
       "      <td>91010</td>\n",
       "      <td>39.534843</td>\n",
       "      <td>-119.752768</td>\n",
       "      <td>Sparks &lt;br&gt;Population 0.09101 million</td>\n",
       "    </tr>\n",
       "    <tr>\n",
       "      <th>Lynn</th>\n",
       "      <td>90778</td>\n",
       "      <td>42.466763</td>\n",
       "      <td>-70.949494</td>\n",
       "      <td>Lynn &lt;br&gt;Population 0.090778 million</td>\n",
       "    </tr>\n",
       "    <tr>\n",
       "      <th>Santa Monica</th>\n",
       "      <td>90749</td>\n",
       "      <td>34.019560</td>\n",
       "      <td>-118.486974</td>\n",
       "      <td>Santa Monica &lt;br&gt;Population 0.090749 million</td>\n",
       "    </tr>\n",
       "  </tbody>\n",
       "</table>\n",
       "<p>300 rows × 4 columns</p>\n",
       "</div>"
      ],
      "text/plain": [
       "                                    pop        lat         lon  \\\n",
       "name                                                             \n",
       "New York                        8287238  40.730599  -73.986581   \n",
       "Los Angeles                     3826423  34.053717 -118.242727   \n",
       "Chicago                         2705627  41.875555  -87.624421   \n",
       "Houston                         2129784  29.758938  -95.367697   \n",
       "Philadelphia                    1539313  39.952335  -75.163789   \n",
       "Phoenix                         1465114  33.446768 -112.075672   \n",
       "San Antonio                     1359174  29.424600  -98.495141   \n",
       "San Diego                       1321016  32.717421 -117.162771   \n",
       "Dallas                          1219399  32.776196  -96.796899   \n",
       "San Jose                         971495  37.343850 -121.883135   \n",
       "Austin                           839714  30.271129  -97.743700   \n",
       "Jacksonville                     829543  30.332184  -81.655651   \n",
       "Indianapolis                     827346  39.768333  -86.158350   \n",
       "San Francisco                    816239  37.779277 -122.419270   \n",
       "Columbus                         799270  39.962260  -83.000706   \n",
       "Fort Worth                       761895  32.753177  -97.332746   \n",
       "Charlotte                        756204  35.227087  -80.843127   \n",
       "Detroit                          702149  42.348664  -83.056737   \n",
       "El Paso                          665503  31.811131 -106.501349   \n",
       "Memphis                          655975  35.149022  -90.051629   \n",
       "Boston                           630645  42.360482  -71.059568   \n",
       "Seattle                          622175  47.603832 -122.330062   \n",
       "Baltimore                        620889  39.290861  -76.610807   \n",
       "Washington                       620427  38.894955  -77.036646   \n",
       "Denver                           619390  39.739154 -104.984703   \n",
       "Nashville-Davidson               612243  36.187025  -86.780862   \n",
       "Louisville/Jefferson County      601709  38.209237  -85.703850   \n",
       "Milwaukee                        597435  43.034993  -87.922497   \n",
       "Portland                         593859  45.520247 -122.674195   \n",
       "Oklahoma City                    589896  35.472989  -97.517054   \n",
       "...                                 ...        ...         ...   \n",
       "Dearborn                          97326  42.322260  -83.176315   \n",
       "Sandy Springs                     97011  33.924269  -84.378538   \n",
       "Roanoke                           96810  37.270973  -79.941431   \n",
       "Jurupa Valley                     96460  33.979847 -117.451575   \n",
       "Livonia                           96315  42.368370  -83.352710   \n",
       "College Station                   95703  30.626262  -96.334725   \n",
       "Vista                             95168  33.200037 -117.242536   \n",
       "South Gate                        95079  33.946346 -118.200981   \n",
       "New Bedford                       94798  41.636215  -70.934205   \n",
       "San Angelo                        94651  31.431992 -100.454580   \n",
       "Greeley                           94318  40.423314 -104.709132   \n",
       "Davie                             94283  26.075729  -80.284109   \n",
       "Mission Viejo                     94209  33.596568 -117.659405   \n",
       "Yuma                              94174  32.665167 -114.475905   \n",
       "Brockton                          94147  42.083434  -71.018379   \n",
       "Hillsboro                         94095  45.522894 -122.989827   \n",
       "Renton                            94030  47.479908 -122.203450   \n",
       "Vacaville                         93356  38.376044 -121.995470   \n",
       "Pearland                          93252  29.563976  -95.286430   \n",
       "Yakima                            92787  46.601557 -120.510842   \n",
       "Quincy                            92551  39.935602  -91.409873   \n",
       "Carson                            91940  33.832204 -118.251755   \n",
       "Lee's Summit                      91920  38.910841  -94.382172   \n",
       "Tuscaloosa                        91739  33.266840  -87.486218   \n",
       "Hesperia                          91418  34.426389 -117.300878   \n",
       "Beaverton                         91406  45.487172 -122.803780   \n",
       "Roswell                           91196  33.394266 -104.523024   \n",
       "Sparks                            91010  39.534843 -119.752768   \n",
       "Lynn                              90778  42.466763  -70.949494   \n",
       "Santa Monica                      90749  34.019560 -118.486974   \n",
       "\n",
       "                                                                             text  \n",
       "name                                                                               \n",
       "New York                                 New York <br>Population 8.287238 million  \n",
       "Los Angeles                           Los Angeles <br>Population 3.826423 million  \n",
       "Chicago                                   Chicago <br>Population 2.705627 million  \n",
       "Houston                                   Houston <br>Population 2.129784 million  \n",
       "Philadelphia                         Philadelphia <br>Population 1.539313 million  \n",
       "Phoenix                                   Phoenix <br>Population 1.465114 million  \n",
       "San Antonio                           San Antonio <br>Population 1.359174 million  \n",
       "San Diego                               San Diego <br>Population 1.321016 million  \n",
       "Dallas                                     Dallas <br>Population 1.219399 million  \n",
       "San Jose                                 San Jose <br>Population 0.971495 million  \n",
       "Austin                                     Austin <br>Population 0.839714 million  \n",
       "Jacksonville                         Jacksonville <br>Population 0.829543 million  \n",
       "Indianapolis                        Indianapolis  <br>Population 0.827346 million  \n",
       "San Francisco                       San Francisco <br>Population 0.816239 million  \n",
       "Columbus                                  Columbus <br>Population 0.79927 million  \n",
       "Fort Worth                             Fort Worth <br>Population 0.761895 million  \n",
       "Charlotte                               Charlotte <br>Population 0.756204 million  \n",
       "Detroit                                   Detroit <br>Population 0.702149 million  \n",
       "El Paso                                   El Paso <br>Population 0.665503 million  \n",
       "Memphis                                   Memphis <br>Population 0.655975 million  \n",
       "Boston                                     Boston <br>Population 0.630645 million  \n",
       "Seattle                                   Seattle <br>Population 0.622175 million  \n",
       "Baltimore                               Baltimore <br>Population 0.620889 million  \n",
       "Washington                             Washington <br>Population 0.620427 million  \n",
       "Denver                                      Denver <br>Population 0.61939 million  \n",
       "Nashville-Davidson              Nashville-Davidson   <br>Population 0.612243 m...  \n",
       "Louisville/Jefferson County     Louisville/Jefferson County   <br>Population 0...  \n",
       "Milwaukee                               Milwaukee <br>Population 0.597435 million  \n",
       "Portland                                 Portland <br>Population 0.593859 million  \n",
       "Oklahoma City                       Oklahoma City <br>Population 0.589896 million  \n",
       "...                                                                           ...  \n",
       "Dearborn                                 Dearborn <br>Population 0.097326 million  \n",
       "Sandy Springs                       Sandy Springs <br>Population 0.097011 million  \n",
       "Roanoke                                    Roanoke <br>Population 0.09681 million  \n",
       "Jurupa Valley                        Jurupa Valley <br>Population 0.09646 million  \n",
       "Livonia                                   Livonia <br>Population 0.096315 million  \n",
       "College Station                   College Station <br>Population 0.095703 million  \n",
       "Vista                                       Vista <br>Population 0.095168 million  \n",
       "South Gate                             South Gate <br>Population 0.095079 million  \n",
       "New Bedford                           New Bedford <br>Population 0.094798 million  \n",
       "San Angelo                             San Angelo <br>Population 0.094651 million  \n",
       "Greeley                                   Greeley <br>Population 0.094318 million  \n",
       "Davie                                       Davie <br>Population 0.094283 million  \n",
       "Mission Viejo                       Mission Viejo <br>Population 0.094209 million  \n",
       "Yuma                                         Yuma <br>Population 0.094174 million  \n",
       "Brockton                                 Brockton <br>Population 0.094147 million  \n",
       "Hillsboro                               Hillsboro <br>Population 0.094095 million  \n",
       "Renton                                      Renton <br>Population 0.09403 million  \n",
       "Vacaville                               Vacaville <br>Population 0.093356 million  \n",
       "Pearland                                 Pearland <br>Population 0.093252 million  \n",
       "Yakima                                     Yakima <br>Population 0.092787 million  \n",
       "Quincy                                     Quincy <br>Population 0.092551 million  \n",
       "Carson                                      Carson <br>Population 0.09194 million  \n",
       "Lee's Summit                          Lee's Summit <br>Population 0.09192 million  \n",
       "Tuscaloosa                             Tuscaloosa <br>Population 0.091739 million  \n",
       "Hesperia                                 Hesperia <br>Population 0.091418 million  \n",
       "Beaverton                               Beaverton <br>Population 0.091406 million  \n",
       "Roswell                                   Roswell <br>Population 0.091196 million  \n",
       "Sparks                                      Sparks <br>Population 0.09101 million  \n",
       "Lynn                                         Lynn <br>Population 0.090778 million  \n",
       "Santa Monica                         Santa Monica <br>Population 0.090749 million  \n",
       "\n",
       "[300 rows x 4 columns]"
      ]
     },
     "execution_count": 68,
     "metadata": {},
     "output_type": "execute_result"
    }
   ],
   "source": [
    "df.head(300)"
   ]
  },
  {
   "cell_type": "code",
   "execution_count": 37,
   "metadata": {
    "collapsed": false
   },
   "outputs": [],
   "source": [
    "leed_data = pd.read_csv('PublicLEEDProjectDirectory.csv', encoding=\"ISO-8859-1\", header=3, low_memory=False)"
   ]
  },
  {
   "cell_type": "code",
   "execution_count": 40,
   "metadata": {
    "collapsed": false
   },
   "outputs": [],
   "source": [
    "city_data = leed_data['City'].value_counts()"
   ]
  },
  {
   "cell_type": "code",
   "execution_count": 72,
   "metadata": {
    "collapsed": false
   },
   "outputs": [],
   "source": [
    "small_city_data = city_data[:300]"
   ]
  },
  {
   "cell_type": "code",
   "execution_count": 73,
   "metadata": {
    "collapsed": false
   },
   "outputs": [],
   "source": [
    "small_long_data = df[:300]"
   ]
  },
  {
   "cell_type": "code",
   "execution_count": 80,
   "metadata": {
    "collapsed": false
   },
   "outputs": [],
   "source": [
    "small_city_data = small_city_data.to_frame()"
   ]
  },
  {
   "cell_type": "code",
   "execution_count": 76,
   "metadata": {
    "collapsed": false
   },
   "outputs": [],
   "source": [
    "small_long_data=small_long_data.reset_index()"
   ]
  },
  {
   "cell_type": "code",
   "execution_count": 81,
   "metadata": {
    "collapsed": false
   },
   "outputs": [],
   "source": [
    "small_city_data.columns = ['name']"
   ]
  },
  {
   "cell_type": "code",
   "execution_count": 84,
   "metadata": {
    "collapsed": false
   },
   "outputs": [],
   "source": [
    "small_city_data = small_city_data.reset_index()"
   ]
  },
  {
   "cell_type": "code",
   "execution_count": 85,
   "metadata": {
    "collapsed": true
   },
   "outputs": [],
   "source": [
    "small_city_data.columns = ['name', \"number of projects\"]"
   ]
  },
  {
   "cell_type": "code",
   "execution_count": 83,
   "metadata": {
    "collapsed": false
   },
   "outputs": [
    {
     "data": {
      "text/html": [
       "<div>\n",
       "<table border=\"1\" class=\"dataframe\">\n",
       "  <thead>\n",
       "    <tr style=\"text-align: right;\">\n",
       "      <th></th>\n",
       "      <th>name</th>\n",
       "      <th>pop</th>\n",
       "      <th>lat</th>\n",
       "      <th>lon</th>\n",
       "      <th>text</th>\n",
       "    </tr>\n",
       "  </thead>\n",
       "  <tbody>\n",
       "    <tr>\n",
       "      <th>0</th>\n",
       "      <td>New York</td>\n",
       "      <td>8287238</td>\n",
       "      <td>40.730599</td>\n",
       "      <td>-73.986581</td>\n",
       "      <td>New York &lt;br&gt;Population 8.287238 million</td>\n",
       "    </tr>\n",
       "    <tr>\n",
       "      <th>1</th>\n",
       "      <td>Los Angeles</td>\n",
       "      <td>3826423</td>\n",
       "      <td>34.053717</td>\n",
       "      <td>-118.242727</td>\n",
       "      <td>Los Angeles &lt;br&gt;Population 3.826423 million</td>\n",
       "    </tr>\n",
       "    <tr>\n",
       "      <th>2</th>\n",
       "      <td>Chicago</td>\n",
       "      <td>2705627</td>\n",
       "      <td>41.875555</td>\n",
       "      <td>-87.624421</td>\n",
       "      <td>Chicago &lt;br&gt;Population 2.705627 million</td>\n",
       "    </tr>\n",
       "    <tr>\n",
       "      <th>3</th>\n",
       "      <td>Houston</td>\n",
       "      <td>2129784</td>\n",
       "      <td>29.758938</td>\n",
       "      <td>-95.367697</td>\n",
       "      <td>Houston &lt;br&gt;Population 2.129784 million</td>\n",
       "    </tr>\n",
       "    <tr>\n",
       "      <th>4</th>\n",
       "      <td>Philadelphia</td>\n",
       "      <td>1539313</td>\n",
       "      <td>39.952335</td>\n",
       "      <td>-75.163789</td>\n",
       "      <td>Philadelphia &lt;br&gt;Population 1.539313 million</td>\n",
       "    </tr>\n",
       "  </tbody>\n",
       "</table>\n",
       "</div>"
      ],
      "text/plain": [
       "            name      pop        lat         lon  \\\n",
       "0      New York   8287238  40.730599  -73.986581   \n",
       "1   Los Angeles   3826423  34.053717 -118.242727   \n",
       "2       Chicago   2705627  41.875555  -87.624421   \n",
       "3       Houston   2129784  29.758938  -95.367697   \n",
       "4  Philadelphia   1539313  39.952335  -75.163789   \n",
       "\n",
       "                                           text  \n",
       "0      New York <br>Population 8.287238 million  \n",
       "1   Los Angeles <br>Population 3.826423 million  \n",
       "2       Chicago <br>Population 2.705627 million  \n",
       "3       Houston <br>Population 2.129784 million  \n",
       "4  Philadelphia <br>Population 1.539313 million  "
      ]
     },
     "execution_count": 83,
     "metadata": {},
     "output_type": "execute_result"
    }
   ],
   "source": [
    "small_long_data.head()"
   ]
  },
  {
   "cell_type": "code",
   "execution_count": 87,
   "metadata": {
    "collapsed": false
   },
   "outputs": [
    {
     "data": {
      "text/html": [
       "<div>\n",
       "<table border=\"1\" class=\"dataframe\">\n",
       "  <thead>\n",
       "    <tr style=\"text-align: right;\">\n",
       "      <th></th>\n",
       "      <th>name</th>\n",
       "      <th>number of projects</th>\n",
       "    </tr>\n",
       "  </thead>\n",
       "  <tbody>\n",
       "    <tr>\n",
       "      <th>0</th>\n",
       "      <td>Confidential</td>\n",
       "      <td>23503</td>\n",
       "    </tr>\n",
       "    <tr>\n",
       "      <th>1</th>\n",
       "      <td>Washington</td>\n",
       "      <td>1537</td>\n",
       "    </tr>\n",
       "    <tr>\n",
       "      <th>2</th>\n",
       "      <td>Dallas</td>\n",
       "      <td>945</td>\n",
       "    </tr>\n",
       "    <tr>\n",
       "      <th>3</th>\n",
       "      <td>Houston</td>\n",
       "      <td>879</td>\n",
       "    </tr>\n",
       "    <tr>\n",
       "      <th>4</th>\n",
       "      <td>Chicago</td>\n",
       "      <td>865</td>\n",
       "    </tr>\n",
       "  </tbody>\n",
       "</table>\n",
       "</div>"
      ],
      "text/plain": [
       "           name  number of projects\n",
       "0  Confidential               23503\n",
       "1    Washington                1537\n",
       "2        Dallas                 945\n",
       "3       Houston                 879\n",
       "4       Chicago                 865"
      ]
     },
     "execution_count": 87,
     "metadata": {},
     "output_type": "execute_result"
    }
   ],
   "source": [
    "small_city_data.head()"
   ]
  },
  {
   "cell_type": "code",
   "execution_count": 93,
   "metadata": {
    "collapsed": false
   },
   "outputs": [
    {
     "data": {
      "text/html": [
       "<div>\n",
       "<table border=\"1\" class=\"dataframe\">\n",
       "  <thead>\n",
       "    <tr style=\"text-align: right;\">\n",
       "      <th></th>\n",
       "      <th>name</th>\n",
       "      <th>number of projects</th>\n",
       "      <th>pop</th>\n",
       "      <th>lat</th>\n",
       "      <th>lon</th>\n",
       "      <th>text</th>\n",
       "    </tr>\n",
       "  </thead>\n",
       "  <tbody>\n",
       "  </tbody>\n",
       "</table>\n",
       "</div>"
      ],
      "text/plain": [
       "Empty DataFrame\n",
       "Columns: [name, number of projects, pop, lat, lon, text]\n",
       "Index: []"
      ]
     },
     "execution_count": 93,
     "metadata": {},
     "output_type": "execute_result"
    }
   ],
   "source": [
    "small_city_data.merge(small_long_data, on = 'name')"
   ]
  },
  {
   "cell_type": "code",
   "execution_count": 98,
   "metadata": {
    "collapsed": false
   },
   "outputs": [
    {
     "data": {
      "text/html": [
       "<div>\n",
       "<table border=\"1\" class=\"dataframe\">\n",
       "  <thead>\n",
       "    <tr style=\"text-align: right;\">\n",
       "      <th></th>\n",
       "      <th>name</th>\n",
       "      <th>number of projects</th>\n",
       "    </tr>\n",
       "  </thead>\n",
       "  <tbody>\n",
       "    <tr>\n",
       "      <th>2</th>\n",
       "      <td>Dallas</td>\n",
       "      <td>945</td>\n",
       "    </tr>\n",
       "  </tbody>\n",
       "</table>\n",
       "</div>"
      ],
      "text/plain": [
       "     name  number of projects\n",
       "2  Dallas                 945"
      ]
     },
     "execution_count": 98,
     "metadata": {},
     "output_type": "execute_result"
    }
   ],
   "source": [
    "small_city_data[small_city_data['name'] == \"Dallas\"]"
   ]
  },
  {
   "cell_type": "code",
   "execution_count": 101,
   "metadata": {
    "collapsed": false
   },
   "outputs": [
    {
     "data": {
      "text/html": [
       "<div>\n",
       "<table border=\"1\" class=\"dataframe\">\n",
       "  <thead>\n",
       "    <tr style=\"text-align: right;\">\n",
       "      <th></th>\n",
       "      <th>name</th>\n",
       "      <th>pop</th>\n",
       "      <th>lat</th>\n",
       "      <th>lon</th>\n",
       "      <th>text</th>\n",
       "    </tr>\n",
       "  </thead>\n",
       "  <tbody>\n",
       "    <tr>\n",
       "      <th>2</th>\n",
       "      <td>Chicago</td>\n",
       "      <td>2705627</td>\n",
       "      <td>41.875555</td>\n",
       "      <td>-87.624421</td>\n",
       "      <td>Chicago &lt;br&gt;Population 2.705627 million</td>\n",
       "    </tr>\n",
       "  </tbody>\n",
       "</table>\n",
       "</div>"
      ],
      "text/plain": [
       "       name      pop        lat        lon  \\\n",
       "2  Chicago   2705627  41.875555 -87.624421   \n",
       "\n",
       "                                      text  \n",
       "2  Chicago <br>Population 2.705627 million  "
      ]
     },
     "execution_count": 101,
     "metadata": {},
     "output_type": "execute_result"
    }
   ],
   "source": [
    "small_long_data[small_long_data['name'] == \"Chicago \"]"
   ]
  },
  {
   "cell_type": "code",
   "execution_count": 102,
   "metadata": {
    "collapsed": true
   },
   "outputs": [],
   "source": [
    "small_city_data['new_name'] = small_city_data['name'].map(lambda x: x +\" \")"
   ]
  },
  {
   "cell_type": "code",
   "execution_count": 104,
   "metadata": {
    "collapsed": false
   },
   "outputs": [
    {
     "data": {
      "text/html": [
       "<div>\n",
       "<table border=\"1\" class=\"dataframe\">\n",
       "  <thead>\n",
       "    <tr style=\"text-align: right;\">\n",
       "      <th></th>\n",
       "      <th>name</th>\n",
       "      <th>number of projects</th>\n",
       "      <th>new_name</th>\n",
       "    </tr>\n",
       "  </thead>\n",
       "  <tbody>\n",
       "    <tr>\n",
       "      <th>4</th>\n",
       "      <td>Chicago</td>\n",
       "      <td>865</td>\n",
       "      <td>Chicago</td>\n",
       "    </tr>\n",
       "  </tbody>\n",
       "</table>\n",
       "</div>"
      ],
      "text/plain": [
       "      name  number of projects  new_name\n",
       "4  Chicago                 865  Chicago "
      ]
     },
     "execution_count": 104,
     "metadata": {},
     "output_type": "execute_result"
    }
   ],
   "source": [
    "small_city_data[small_city_data['new_name'] == \"Chicago \"]"
   ]
  },
  {
   "cell_type": "code",
   "execution_count": 105,
   "metadata": {
    "collapsed": true
   },
   "outputs": [],
   "source": [
    "small_city_data = small_city_data[['number of projects', 'new_name']]"
   ]
  },
  {
   "cell_type": "code",
   "execution_count": 107,
   "metadata": {
    "collapsed": false
   },
   "outputs": [],
   "source": [
    "small_city_data.columns = ['number of projects', 'name']"
   ]
  },
  {
   "cell_type": "code",
   "execution_count": 110,
   "metadata": {
    "collapsed": false,
    "scrolled": false
   },
   "outputs": [],
   "source": [
    "df = small_long_data.merge(small_city_data, on='name')"
   ]
  },
  {
   "cell_type": "code",
   "execution_count": 123,
   "metadata": {
    "collapsed": false
   },
   "outputs": [],
   "source": [
    "df = df.sort(['number of projects'], ascending=False)"
   ]
  },
  {
   "cell_type": "code",
   "execution_count": 124,
   "metadata": {
    "collapsed": false
   },
   "outputs": [
    {
     "data": {
      "text/html": [
       "<div>\n",
       "<table border=\"1\" class=\"dataframe\">\n",
       "  <thead>\n",
       "    <tr style=\"text-align: right;\">\n",
       "      <th></th>\n",
       "      <th>name</th>\n",
       "      <th>pop</th>\n",
       "      <th>lat</th>\n",
       "      <th>lon</th>\n",
       "      <th>text</th>\n",
       "      <th>number of projects</th>\n",
       "    </tr>\n",
       "  </thead>\n",
       "  <tbody>\n",
       "    <tr>\n",
       "      <th>23</th>\n",
       "      <td>Washington</td>\n",
       "      <td>620427</td>\n",
       "      <td>38.894955</td>\n",
       "      <td>-77.036646</td>\n",
       "      <td>Washington &lt;br&gt;Number of Projects 1537</td>\n",
       "      <td>1537</td>\n",
       "    </tr>\n",
       "    <tr>\n",
       "      <th>8</th>\n",
       "      <td>Dallas</td>\n",
       "      <td>1219399</td>\n",
       "      <td>32.776196</td>\n",
       "      <td>-96.796899</td>\n",
       "      <td>Dallas &lt;br&gt;Number of Projects 945</td>\n",
       "      <td>945</td>\n",
       "    </tr>\n",
       "    <tr>\n",
       "      <th>3</th>\n",
       "      <td>Houston</td>\n",
       "      <td>2129784</td>\n",
       "      <td>29.758938</td>\n",
       "      <td>-95.367697</td>\n",
       "      <td>Houston &lt;br&gt;Number of Projects 879</td>\n",
       "      <td>879</td>\n",
       "    </tr>\n",
       "    <tr>\n",
       "      <th>2</th>\n",
       "      <td>Chicago</td>\n",
       "      <td>2705627</td>\n",
       "      <td>41.875555</td>\n",
       "      <td>-87.624421</td>\n",
       "      <td>Chicago &lt;br&gt;Number of Projects 865</td>\n",
       "      <td>865</td>\n",
       "    </tr>\n",
       "    <tr>\n",
       "      <th>0</th>\n",
       "      <td>New York</td>\n",
       "      <td>8287238</td>\n",
       "      <td>40.730599</td>\n",
       "      <td>-73.986581</td>\n",
       "      <td>New York &lt;br&gt;Number of Projects 816</td>\n",
       "      <td>816</td>\n",
       "    </tr>\n",
       "  </tbody>\n",
       "</table>\n",
       "</div>"
      ],
      "text/plain": [
       "           name      pop        lat        lon  \\\n",
       "23  Washington    620427  38.894955 -77.036646   \n",
       "8       Dallas   1219399  32.776196 -96.796899   \n",
       "3      Houston   2129784  29.758938 -95.367697   \n",
       "2      Chicago   2705627  41.875555 -87.624421   \n",
       "0     New York   8287238  40.730599 -73.986581   \n",
       "\n",
       "                                      text  number of projects  \n",
       "23  Washington <br>Number of Projects 1537                1537  \n",
       "8        Dallas <br>Number of Projects 945                 945  \n",
       "3       Houston <br>Number of Projects 879                 879  \n",
       "2       Chicago <br>Number of Projects 865                 865  \n",
       "0      New York <br>Number of Projects 816                 816  "
      ]
     },
     "execution_count": 124,
     "metadata": {},
     "output_type": "execute_result"
    }
   ],
   "source": [
    "df.head()"
   ]
  },
  {
   "cell_type": "code",
   "execution_count": 134,
   "metadata": {
    "collapsed": false
   },
   "outputs": [
    {
     "data": {
      "text/html": [
       "<iframe id=\"igraph\" scrolling=\"no\" style=\"border:none;\"seamless=\"seamless\" src=\"https://plot.ly/~jdhiggins/32.embed\" height=\"525\" width=\"100%\"></iframe>"
      ],
      "text/plain": [
       "<plotly.tools.PlotlyDisplay object>"
      ]
     },
     "execution_count": 134,
     "metadata": {},
     "output_type": "execute_result"
    }
   ],
   "source": [
    "\n",
    "df['text'] = df['name'] + '<br>Number of Projects ' + (df['number of projects']).astype(str)\n",
    "limits = [(0,5),(6,12),(13,20),(21,30),(31,120)]\n",
    "colors = [\"rgb(0,116,217)\",\"rgb(255,65,54)\",\"rgb(133,20,75)\",\"rgb(255,133,27)\",\"rgb(255,220,0)\"]\n",
    "cities = []\n",
    "scale = 15\n",
    "\n",
    "for i in range(len(limits)):\n",
    "    lim = limits[i]\n",
    "    df_sub = df[lim[0]:lim[1]]\n",
    "    city = dict(\n",
    "        type = 'scattergeo',\n",
    "        locationmode = 'USA-states',\n",
    "        lon = df_sub['lon'],\n",
    "        lat = df_sub['lat'],\n",
    "        text = df_sub['text'],\n",
    "        sizemode = 'diameter',\n",
    "        marker = dict( \n",
    "            size = df_sub['number of projects']/scale, \n",
    "            color = colors[i],\n",
    "            line = dict(width = 2,color = 'black')\n",
    "        ),\n",
    "        name = 'LEED Projects: {0} - {1}'.format(df.iloc[lim[0],5],\n",
    "                                            df.iloc[lim[1],5]))\n",
    "    cities.append(city)\n",
    "\n",
    "layout = dict(\n",
    "        title = 'Total LEED Certified Projects<br>(Click legend to toggle traces)',\n",
    "        showlegend = True,\n",
    "        geo = dict(\n",
    "            scope='usa',\n",
    "            projection=dict( type='albers usa' ),\n",
    "            showland = True,\n",
    "            landcolor = 'rgb(217, 217, 217)',       \n",
    "            subunitwidth=1,\n",
    "            countrywidth=1,\n",
    "            subunitcolor=\"rgb(255, 255, 255)\",\n",
    "            countrycolor=\"rgb(255, 255, 255)\"           \n",
    "        ),  \n",
    "    )\n",
    "    \n",
    "fig = dict( data=cities, layout=layout )\n",
    "py.iplot( fig, validate=False, filename='d3-bubble-map-leed' )"
   ]
  },
  {
   "cell_type": "code",
   "execution_count": 132,
   "metadata": {
    "collapsed": false
   },
   "outputs": [
    {
     "data": {
      "text/plain": [
       "945"
      ]
     },
     "execution_count": 132,
     "metadata": {},
     "output_type": "execute_result"
    }
   ],
   "source": [
    "df.iloc[1,5]"
   ]
  },
  {
   "cell_type": "markdown",
   "metadata": {},
   "source": [
    "Do one with all of them, then do one population adjusted"
   ]
  },
  {
   "cell_type": "code",
   "execution_count": null,
   "metadata": {
    "collapsed": true
   },
   "outputs": [],
   "source": []
  }
 ],
 "metadata": {
  "kernelspec": {
   "display_name": "Python 3",
   "language": "python",
   "name": "python3"
  },
  "language_info": {
   "codemirror_mode": {
    "name": "ipython",
    "version": 3
   },
   "file_extension": ".py",
   "mimetype": "text/x-python",
   "name": "python",
   "nbconvert_exporter": "python",
   "pygments_lexer": "ipython3",
   "version": "3.4.3"
  }
 },
 "nbformat": 4,
 "nbformat_minor": 0
}
