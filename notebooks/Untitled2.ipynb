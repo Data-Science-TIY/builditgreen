{
 "cells": [
  {
   "cell_type": "code",
   "execution_count": null,
   "metadata": {
    "collapsed": true
   },
   "outputs": [],
   "source": [
    "list_scores=\"ssc1 = models.IntegerField(null=True)\n",
    "ssc2 = models.IntegerField(null=True)\n",
    "    ssc3 = models.IntegerField(null=True)\n",
    "    ssc4_1 = models.IntegerField(null=True)\n",
    "    ssc4_2 = models.IntegerField(null=True)\n",
    "    ssc4_3 = models.IntegerField(null=True)\n",
    "    ssc4_4 = models.IntegerField(null=True)\n",
    "    ssc5_1 = models.IntegerField(null=True)\n",
    "    ssc5_2 = models.IntegerField(null=True)\n",
    "    ssc6_1 = models.IntegerField(null=True)\n",
    "    ssc6_2 = models.IntegerField(null=True)\n",
    "    ssc7_1 = models.IntegerField(null=True)\n",
    "    ssc7_2 = models.IntegerField(null=True)\n",
    "    ssc8 = models.IntegerField(null=True)\n",
    "    wec1 = models.IntegerField(null=True)\n",
    "    wec2 = models.IntegerField(null=True)\n",
    "    wec3 = models.IntegerField(null=True)\n",
    "    eac1 = models.IntegerField(null=True)\n",
    "    eac2 = models.IntegerField(null=True)\n",
    "    eac3 = models.IntegerField(null=True)\n",
    "    eac4 = models.IntegerField(null=True)\n",
    "    eac5 = models.IntegerField(null=True)\n",
    "    eac6 = models.IntegerField(null=True)\n",
    "    mrc1_1 = models.IntegerField(null=True)\n",
    "    mrc1_2 = models.IntegerField(null=True)\n",
    "    mrc2 = models.IntegerField(null=True)\n",
    "    mrc3 = models.IntegerField(null=True)\n",
    "    mrc4 = models.IntegerField(null=True)\n",
    "    mrc5 = models.IntegerField(null=True)\n",
    "    mrc6 = models.IntegerField(null=True)\n",
    "    mrc7 = models.IntegerField(null=True)\n",
    "    eqc1 = models.IntegerField(null=True)\n",
    "    eqc2 = models.IntegerField(null=True)\n",
    "    eqc3_1 = models.IntegerField(null=True)\n",
    "    eqc3_2 = models.IntegerField(null=True)\n",
    "    eqc4_1 = models.IntegerField(null=True)\n",
    "    eqc4_2 = models.IntegerField(null=True)\n",
    "    eqc4_3 = models.IntegerField(null=True)\n",
    "    eqc4_4 = models.IntegerField(null=True)\n",
    "    eqc5 = models.IntegerField(null=True)\n",
    "    eqc6_1 = models.IntegerField(null=True)\n",
    "    eqc6_2 = models.IntegerField(null=True)\n",
    "    eqc7_1 = models.IntegerField(null=True)\n",
    "    eqc7_2 = models.IntegerField(null=True)\n",
    "    eqc8_1 = models.IntegerField(null=True)\n",
    "    eqc8_2 = models.IntegerField(null=True)\n",
    "    idc1 = models.IntegerField(null=True)\n",
    "    idc2 = models.IntegerField(null=True)\n",
    "    extra1 = models.IntegerField(null=True)\n",
    "    extra2 = models.IntegerField(null=True)\n",
    "    extra3 = models.IntegerField(null=True)\n",
    "    extra4 = models.IntegerField(null=True)\""
   ]
  }
 ],
 "metadata": {
  "kernelspec": {
   "display_name": "Python 3",
   "language": "python",
   "name": "python3"
  },
  "language_info": {
   "codemirror_mode": {
    "name": "ipython",
    "version": 3
   },
   "file_extension": ".py",
   "mimetype": "text/x-python",
   "name": "python",
   "nbconvert_exporter": "python",
   "pygments_lexer": "ipython3",
   "version": "3.4.3"
  }
 },
 "nbformat": 4,
 "nbformat_minor": 0
}
