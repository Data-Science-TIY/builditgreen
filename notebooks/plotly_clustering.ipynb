{
 "cells": [
  {
   "cell_type": "code",
   "execution_count": 22,
   "metadata": {
    "collapsed": true
   },
   "outputs": [],
   "source": [
    "import plotly.plotly as py\n",
    "from plotly.graph_objs import *\n",
    "import pandas as pd"
   ]
  },
  {
   "cell_type": "code",
   "execution_count": 23,
   "metadata": {
    "collapsed": false
   },
   "outputs": [
    {
     "data": {
      "text/html": [
       "<div>\n",
       "<table border=\"1\" class=\"dataframe\">\n",
       "  <thead>\n",
       "    <tr style=\"text-align: right;\">\n",
       "      <th></th>\n",
       "      <th>Cluster 0</th>\n",
       "      <th>Cluster 1</th>\n",
       "      <th>Cluster 2</th>\n",
       "    </tr>\n",
       "  </thead>\n",
       "  <tbody>\n",
       "    <tr>\n",
       "      <th>SSC1</th>\n",
       "      <td>0.862776</td>\n",
       "      <td>0.812500</td>\n",
       "      <td>0.910959</td>\n",
       "    </tr>\n",
       "    <tr>\n",
       "      <th>SSC2</th>\n",
       "      <td>2.936383</td>\n",
       "      <td>2.763158</td>\n",
       "      <td>3.561644</td>\n",
       "    </tr>\n",
       "    <tr>\n",
       "      <th>SSC3</th>\n",
       "      <td>0.203470</td>\n",
       "      <td>0.164474</td>\n",
       "      <td>0.215753</td>\n",
       "    </tr>\n",
       "    <tr>\n",
       "      <th>SSC4.1</th>\n",
       "      <td>3.302839</td>\n",
       "      <td>3.335526</td>\n",
       "      <td>4.356164</td>\n",
       "    </tr>\n",
       "    <tr>\n",
       "      <th>SSC4.2</th>\n",
       "      <td>0.653523</td>\n",
       "      <td>0.595395</td>\n",
       "      <td>0.630137</td>\n",
       "    </tr>\n",
       "  </tbody>\n",
       "</table>\n",
       "</div>"
      ],
      "text/plain": [
       "        Cluster 0  Cluster 1  Cluster 2\n",
       "SSC1     0.862776   0.812500   0.910959\n",
       "SSC2     2.936383   2.763158   3.561644\n",
       "SSC3     0.203470   0.164474   0.215753\n",
       "SSC4.1   3.302839   3.335526   4.356164\n",
       "SSC4.2   0.653523   0.595395   0.630137"
      ]
     },
     "execution_count": 23,
     "metadata": {},
     "output_type": "execute_result"
    }
   ],
   "source": [
    "cluster_credit_scores = pd.read_pickle('cluster_credit_scores.pickle')\n",
    "cluster_credit_scores.head()"
   ]
  },
  {
   "cell_type": "code",
   "execution_count": 24,
   "metadata": {
    "collapsed": false,
    "scrolled": false
   },
   "outputs": [
    {
     "data": {
      "text/html": [
       "<iframe id=\"igraph\" scrolling=\"no\" style=\"border:none;\"seamless=\"seamless\" src=\"https://plot.ly/~trippshealy/43.embed\" height=\"525\" width=\"100%\"></iframe>"
      ],
      "text/plain": [
       "<plotly.tools.PlotlyDisplay object>"
      ]
     },
     "execution_count": 24,
     "metadata": {},
     "output_type": "execute_result"
    }
   ],
   "source": [
    "trace1 = Bar(\n",
    "    x=cluster_credit_scores.index,\n",
    "    y=cluster_credit_scores.loc[:,'Cluster 0'],\n",
    "    name='Large Building/Large Property',\n",
    "    marker = Marker(\n",
    "        color = 'RGB(255, 224, 0)'\n",
    "))\n",
    "trace2 = Bar(\n",
    "    x=cluster_credit_scores.index,\n",
    "    y=cluster_credit_scores.loc[:,'Cluster 1'],\n",
    "    name='Small Building/Small Property',\n",
    "    marker = Marker(\n",
    "        color = 'RGB(0, 255, 181)', \n",
    "))\n",
    "trace3 = Bar(\n",
    "    x=cluster_credit_scores.index,\n",
    "    y=cluster_credit_scores.loc[:,'Cluster 2'],\n",
    "    name='Large Building/Small Property',\n",
    "    marker = Marker(\n",
    "        color = 'RGB(30, 111, 255)'\n",
    "))\n",
    "data = Data([trace1, trace2, trace3])\n",
    "layout = Layout(\n",
    "#     width=5000,\n",
    "#     height=1000,\n",
    "    xaxis=XAxis(\n",
    "        tickfont=Font(\n",
    "        size=10),\n",
    "        # set x-axis' labels direction at 45 degree angle\n",
    "        tickangle=-45),\n",
    "    barmode='group'\n",
    ")\n",
    "fig = Figure(data=data, layout=layout)\n",
    "py.iplot(fig, filename='cluster_kmeans_bar')"
   ]
  },
  {
   "cell_type": "code",
   "execution_count": 25,
   "metadata": {
    "collapsed": false
   },
   "outputs": [
    {
     "data": {
      "text/html": [
       "<iframe id=\"igraph\" scrolling=\"no\" style=\"border:none;\"seamless=\"seamless\" src=\"https://plot.ly/~trippshealy/45.embed\" height=\"525\" width=\"100%\"></iframe>"
      ],
      "text/plain": [
       "<plotly.tools.PlotlyDisplay object>"
      ]
     },
     "execution_count": 25,
     "metadata": {},
     "output_type": "execute_result"
    }
   ],
   "source": [
    "data = Data([\n",
    "    Bar(\n",
    "    x=['Large Building/Large Property', 'Small Building/Small Property', 'Large Building/Small Property'],\n",
    "    y=[55.24, 69.86, 47.66],\n",
    "    marker = Marker(\n",
    "        color = ['RGB(255, 224, 0)', 'RGB(0, 255, 181)', 'RGB(30, 111, 255)']\n",
    "))\n",
    "])\n",
    "fig = Figure(data=data)\n",
    "py.iplot(fig, filename='cluster_avg_points_bar')"
   ]
  },
  {
   "cell_type": "code",
   "execution_count": 26,
   "metadata": {
    "collapsed": false
   },
   "outputs": [
    {
     "data": {
      "text/html": [
       "<div>\n",
       "<table border=\"1\" class=\"dataframe\">\n",
       "  <thead>\n",
       "    <tr style=\"text-align: right;\">\n",
       "      <th></th>\n",
       "      <th>Cluster 0</th>\n",
       "      <th>Cluster 1</th>\n",
       "      <th>Cluster 2</th>\n",
       "    </tr>\n",
       "  </thead>\n",
       "  <tbody>\n",
       "    <tr>\n",
       "      <th>GROSS.SQUARE.FOOT</th>\n",
       "      <td>81821.396951</td>\n",
       "      <td>33069.631579</td>\n",
       "      <td>76883.174658</td>\n",
       "    </tr>\n",
       "    <tr>\n",
       "      <th>TOTAL.PROPERTY.AREA</th>\n",
       "      <td>278547.140904</td>\n",
       "      <td>171121.779605</td>\n",
       "      <td>187546.880137</td>\n",
       "    </tr>\n",
       "  </tbody>\n",
       "</table>\n",
       "</div>"
      ],
      "text/plain": [
       "                         Cluster 0      Cluster 1      Cluster 2\n",
       "GROSS.SQUARE.FOOT     81821.396951   33069.631579   76883.174658\n",
       "TOTAL.PROPERTY.AREA  278547.140904  171121.779605  187546.880137"
      ]
     },
     "execution_count": 26,
     "metadata": {},
     "output_type": "execute_result"
    }
   ],
   "source": [
    "cluster_building_size = pd.read_pickle('cluster_building_size.pickle')\n",
    "cluster_building_size"
   ]
  },
  {
   "cell_type": "code",
   "execution_count": 27,
   "metadata": {
    "collapsed": false
   },
   "outputs": [
    {
     "data": {
      "text/html": [
       "<iframe id=\"igraph\" scrolling=\"no\" style=\"border:none;\"seamless=\"seamless\" src=\"https://plot.ly/~trippshealy/47.embed\" height=\"525\" width=\"100%\"></iframe>"
      ],
      "text/plain": [
       "<plotly.tools.PlotlyDisplay object>"
      ]
     },
     "execution_count": 27,
     "metadata": {},
     "output_type": "execute_result"
    }
   ],
   "source": [
    "trace1 = Bar(\n",
    "    x=['Gross SQFT', 'Total Property Area'],\n",
    "    y=cluster_building_size.loc[:,'Cluster 0'],\n",
    "    name='Large Building/Large Property',\n",
    "    marker = Marker(\n",
    "        color = 'RGB(255, 224, 0)'\n",
    "))\n",
    "trace2 = Bar(\n",
    "    x=['Gross SQFT', 'Total Property Area'],\n",
    "    y=cluster_building_size.loc[:,'Cluster 1'],\n",
    "    name='Small Building/Small Property',\n",
    "    marker = Marker(\n",
    "        color = 'RGB(0, 255, 181)'\n",
    "))\n",
    "trace3 = Bar(\n",
    "    x=['Gross SQFT', 'Total Property Area'],\n",
    "    y=cluster_building_size.loc[:,'Cluster 2'],\n",
    "    name='Large Building/Small Property',\n",
    "    marker = Marker(\n",
    "        color = 'RGB(30, 111, 255)'\n",
    "))\n",
    "data = Data([trace1, trace2, trace3])\n",
    "layout = Layout(\n",
    "    barmode='group'\n",
    ")\n",
    "fig = Figure(data=data, layout=layout)\n",
    "py.iplot(fig, filename='cluster_building_size_bar')"
   ]
  },
  {
   "cell_type": "code",
   "execution_count": null,
   "metadata": {
    "collapsed": true
   },
   "outputs": [],
   "source": []
  }
 ],
 "metadata": {
  "kernelspec": {
   "display_name": "Python 3",
   "language": "python",
   "name": "python3"
  },
  "language_info": {
   "codemirror_mode": {
    "name": "ipython",
    "version": 3
   },
   "file_extension": ".py",
   "mimetype": "text/x-python",
   "name": "python",
   "nbconvert_exporter": "python",
   "pygments_lexer": "ipython3",
   "version": "3.4.3"
  }
 },
 "nbformat": 4,
 "nbformat_minor": 0
}
