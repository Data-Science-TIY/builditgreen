{
 "cells": [
  {
   "cell_type": "code",
   "execution_count": 2,
   "metadata": {
    "collapsed": true
   },
   "outputs": [],
   "source": [
    "import plotly.plotly as py\n",
    "from plotly.graph_objs import *\n",
    "import pandas as pd"
   ]
  },
  {
   "cell_type": "markdown",
   "metadata": {},
   "source": [
    "#The descrition below is for the top part of the webpage. "
   ]
  },
  {
   "cell_type": "code",
   "execution_count": null,
   "metadata": {
    "collapsed": true
   },
   "outputs": [],
   "source": []
  },
  {
   "cell_type": "markdown",
   "metadata": {},
   "source": [
    "#Description \n",
    "NYC Open Data provides anual energy consumption for all city buildings. We compared the green house gas emissions, one measure of energy consumption, for buildings built to LEED standards and similar buildings. Similar buildings are those within +/- 10% square foot and of the same use type, in these case studies all multifamily buildings. The unit of measure is MtCO2e, or Million metric tons of carbon dioxide equivalent. MtCO2e aggregates different green house gases into a single measure, using global warming potentials.\n",
    "\n",
    "Three measurements are used in the analysis - total, direct and indirect emissions. Direct emissions are from on-site fossil fuel combustion. Indirect are from energy generated in one location, but consumed in another, such as electricity and district steam. Total emissions are the cumulative direct and indirect. "
   ]
  },
  {
   "cell_type": "code",
   "execution_count": 3,
   "metadata": {
    "collapsed": false
   },
   "outputs": [
    {
     "data": {
      "text/html": [
       "<div>\n",
       "<table border=\"1\" class=\"dataframe\">\n",
       "  <thead>\n",
       "    <tr style=\"text-align: right;\">\n",
       "      <th></th>\n",
       "      <th>Emissions Type</th>\n",
       "      <th>Building 4572</th>\n",
       "      <th>Average_Adjusted_4572</th>\n",
       "      <th>Building 3924</th>\n",
       "      <th>Average_Adjusted_3924</th>\n",
       "      <th>Building 1892</th>\n",
       "      <th>Average_Adjusted_1892</th>\n",
       "      <th>Building 12254</th>\n",
       "      <th>Average_Adjusted_12254</th>\n",
       "      <th>Building 2178</th>\n",
       "      <th>Average_Adjusted_2178</th>\n",
       "    </tr>\n",
       "  </thead>\n",
       "  <tbody>\n",
       "    <tr>\n",
       "      <th>0</th>\n",
       "      <td>Total GHG Emissions(MtCO2e)</td>\n",
       "      <td>441.8</td>\n",
       "      <td>563.687015</td>\n",
       "      <td>2190.2</td>\n",
       "      <td>2320.844481</td>\n",
       "      <td>749</td>\n",
       "      <td>641.414408</td>\n",
       "      <td>1251.4</td>\n",
       "      <td>2182.825226</td>\n",
       "      <td>6155.4</td>\n",
       "      <td>6135.610191</td>\n",
       "    </tr>\n",
       "    <tr>\n",
       "      <th>1</th>\n",
       "      <td>Direct GHG Emissions(MtCO2e)</td>\n",
       "      <td>333.1</td>\n",
       "      <td>382.924905</td>\n",
       "      <td>108.8</td>\n",
       "      <td>1337.644673</td>\n",
       "      <td>201.2</td>\n",
       "      <td>429.495523</td>\n",
       "      <td>109.6</td>\n",
       "      <td>1293.879671</td>\n",
       "      <td>2491.9</td>\n",
       "      <td>3932.948755</td>\n",
       "    </tr>\n",
       "    <tr>\n",
       "      <th>2</th>\n",
       "      <td>Indirect GHG Emissions(MtCO2e)</td>\n",
       "      <td>108.7</td>\n",
       "      <td>180.762110</td>\n",
       "      <td>2081.4</td>\n",
       "      <td>983.199807</td>\n",
       "      <td>547.8</td>\n",
       "      <td>211.918884</td>\n",
       "      <td>1141.8</td>\n",
       "      <td>888.945555</td>\n",
       "      <td>3663.5</td>\n",
       "      <td>2202.661436</td>\n",
       "    </tr>\n",
       "  </tbody>\n",
       "</table>\n",
       "</div>"
      ],
      "text/plain": [
       "                   Emissions Type Building 4572  Average_Adjusted_4572  \\\n",
       "0     Total GHG Emissions(MtCO2e)         441.8             563.687015   \n",
       "1    Direct GHG Emissions(MtCO2e)         333.1             382.924905   \n",
       "2  Indirect GHG Emissions(MtCO2e)         108.7             180.762110   \n",
       "\n",
       "  Building 3924  Average_Adjusted_3924 Building 1892  Average_Adjusted_1892  \\\n",
       "0        2190.2            2320.844481           749             641.414408   \n",
       "1         108.8            1337.644673         201.2             429.495523   \n",
       "2        2081.4             983.199807         547.8             211.918884   \n",
       "\n",
       "  Building 12254  Average_Adjusted_12254 Building 2178  Average_Adjusted_2178  \n",
       "0         1251.4             2182.825226        6155.4            6135.610191  \n",
       "1          109.6             1293.879671        2491.9            3932.948755  \n",
       "2         1141.8              888.945555        3663.5            2202.661436  "
      ]
     },
     "execution_count": 3,
     "metadata": {},
     "output_type": "execute_result"
    }
   ],
   "source": [
    "energy_multifamily = pd.read_pickle('energy_multifamily_no_outliers.pickle')\n",
    "energy_multifamily"
   ]
  },
  {
   "cell_type": "markdown",
   "metadata": {},
   "source": [
    "#Building 4572"
   ]
  },
  {
   "cell_type": "markdown",
   "metadata": {},
   "source": [
    "##Title: Greenhouse Gas Emmisions (MtCO2e) "
   ]
  },
  {
   "cell_type": "code",
   "execution_count": 4,
   "metadata": {
    "collapsed": false,
    "scrolled": false
   },
   "outputs": [
    {
     "data": {
      "text/html": [
       "<iframe id=\"igraph\" scrolling=\"no\" style=\"border:none;\"seamless=\"seamless\" src=\"https://plot.ly/~trippshealy/31.embed\" height=\"525\" width=\"100%\"></iframe>"
      ],
      "text/plain": [
       "<plotly.tools.PlotlyDisplay object>"
      ]
     },
     "execution_count": 4,
     "metadata": {},
     "output_type": "execute_result"
    }
   ],
   "source": [
    "trace1 = Bar(\n",
    "    x=['Total (MtCO2e)', 'Direct (MtCO2e)', 'Indirect (MtCO2e)'],\n",
    "    y=energy_multifamily.loc[:, 'Building 4572'],\n",
    "    name='Building 628 West 113th Street',\n",
    "    marker = Marker(\n",
    "        color = 'RGB(30, 111, 255)'\n",
    "))\n",
    "trace2 = Bar(\n",
    "    x=['Total (MtCO2e)', 'Direct (MtCO2e)', 'Indirect (MtCO2e)'],\n",
    "    y=energy_multifamily.loc[:, 'Average_Adjusted_4572'],\n",
    "    name='Average Similar Buildings',\n",
    "    marker = Marker(\n",
    "        color = 'RGB(0, 255, 181)'\n",
    "))\n",
    "data = Data([trace1, trace2])\n",
    "layout = Layout(\n",
    "    xaxis=XAxis(\n",
    "        tickfont=Font(\n",
    "        size=14),\n",
    "        # set x-axis' labels direction at 45 degree angle\n",
    "        tickangle=0),\n",
    "    barmode='group'\n",
    ")\n",
    "layout.update(margin=Margin(l=50,r=50,b=50,t=0,pad=0,autoexpand=True))\n",
    "fig = Figure(data=data, layout=layout)\n",
    "py.iplot(fig, filename='building_4572_energy_bar')"
   ]
  },
  {
   "cell_type": "code",
   "execution_count": 5,
   "metadata": {
    "collapsed": true
   },
   "outputs": [],
   "source": [
    "# compared to 966 buildings originally 1053 buildings, used a 10% range in size"
   ]
  },
  {
   "cell_type": "markdown",
   "metadata": {},
   "source": [
    "#Analysis\n",
    "Description: Greenhouse gas emissions for Building located at 628 West 113th Street, New York City compared to the average of 966 other similar buidlings in NYC. \n",
    "\n",
    "Intersting Findings: The LEED designed buidling produces less greenhouse gas emissions.\n",
    "\n",
    "Further analysis: Consider density of the buidling use in comparison that of the similar buidlings compared."
   ]
  },
  {
   "cell_type": "markdown",
   "metadata": {},
   "source": [
    "#Building 3924"
   ]
  },
  {
   "cell_type": "markdown",
   "metadata": {},
   "source": [
    "##Title: Greenhouse Gas Emmisions (MtCO2e) "
   ]
  },
  {
   "cell_type": "code",
   "execution_count": 6,
   "metadata": {
    "collapsed": false,
    "scrolled": false
   },
   "outputs": [
    {
     "data": {
      "text/html": [
       "<iframe id=\"igraph\" scrolling=\"no\" style=\"border:none;\"seamless=\"seamless\" src=\"https://plot.ly/~trippshealy/33.embed\" height=\"525\" width=\"100%\"></iframe>"
      ],
      "text/plain": [
       "<plotly.tools.PlotlyDisplay object>"
      ]
     },
     "execution_count": 6,
     "metadata": {},
     "output_type": "execute_result"
    }
   ],
   "source": [
    "trace1 = Bar(\n",
    "    x=['Total (MtCO2e)', 'Direct (MtCO2e)', 'Indirect (MtCO2e)'],\n",
    "    y=energy_multifamily.loc[:, 'Building 3924'],\n",
    "    name='Building 149 East 85 Street',\n",
    "    marker = Marker(\n",
    "        color = 'RGB(30, 111, 255)'\n",
    "))\n",
    "trace2 = Bar(\n",
    "    x=['Total (MtCO2e)', 'Direct (MtCO2e)', 'Indirect (MtCO2e)'],\n",
    "    y=energy_multifamily.loc[:, 'Average_Adjusted_3924'],\n",
    "    name='Average Similar Buildings to 3924',\n",
    "    marker = Marker(\n",
    "        color = 'RGB(0, 255, 181)'\n",
    "))\n",
    "data = Data([trace1, trace2])\n",
    "layout = Layout(\n",
    "    xaxis=XAxis(\n",
    "    tickfont=Font(\n",
    "        size=14),\n",
    "        # set x-axis' labels direction at 45 degree angle\n",
    "        tickangle=0),\n",
    "    barmode='group'\n",
    ")\n",
    "layout.update(margin=Margin(l=50,r=50,b=50,t=0,pad=0,autoexpand=True))\n",
    "fig = Figure(data=data, layout=layout)\n",
    "py.iplot(fig, filename='building_3924_energy_bar')"
   ]
  },
  {
   "cell_type": "markdown",
   "metadata": {},
   "source": [
    "#Analysis\n",
    "Description: Greenhouse gas emissions for Building located at 149 East 85 Street, New York City compared to an average of 145 similar buidlings in NYC. \n",
    "\n",
    "Intersting Findings: The indirect emissions are extremely high and direct emission extremely low for the LEED designed building compared to the average similar building. We expected the LEED designed buidlings to use less indrect energy. \n",
    "\n",
    "Further analysis: Is this an outlier or a trend? On average do LEED buildings produce more inderect emissions?   "
   ]
  },
  {
   "cell_type": "code",
   "execution_count": 7,
   "metadata": {
    "collapsed": true
   },
   "outputs": [],
   "source": [
    "#compared to 145, originally 175 buildings"
   ]
  },
  {
   "cell_type": "markdown",
   "metadata": {},
   "source": [
    "#Building 1892"
   ]
  },
  {
   "cell_type": "markdown",
   "metadata": {},
   "source": [
    "##Title: Greenhouse Gas Emmisions (MtCO2e) "
   ]
  },
  {
   "cell_type": "code",
   "execution_count": 8,
   "metadata": {
    "collapsed": false,
    "scrolled": false
   },
   "outputs": [
    {
     "data": {
      "text/html": [
       "<iframe id=\"igraph\" scrolling=\"no\" style=\"border:none;\"seamless=\"seamless\" src=\"https://plot.ly/~trippshealy/35.embed\" height=\"525\" width=\"100%\"></iframe>"
      ],
      "text/plain": [
       "<plotly.tools.PlotlyDisplay object>"
      ]
     },
     "execution_count": 8,
     "metadata": {},
     "output_type": "execute_result"
    }
   ],
   "source": [
    "trace1 = Bar(\n",
    "    x=['Total (MtCO2e)', 'Direct (MtCO2e)', 'Indirect (MtCO2e)'],\n",
    "    y=energy_multifamily.loc[:, 'Building 1892'],\n",
    "    name='Building 303 East 33 Street',\n",
    "    marker = Marker(\n",
    "        color = 'RGB(30, 111, 255)'\n",
    "))\n",
    "trace2 = Bar(\n",
    "    x=['Total (MtCO2e)', 'Direct (MtCO2e)', 'Indirect (MtCO2e)'],\n",
    "    y=energy_multifamily.loc[:, 'Average_Adjusted_1892'],\n",
    "    name='Average Similar Buildings to 1892',\n",
    "    marker = Marker(\n",
    "        color = 'RGB(0, 255, 181)'\n",
    "))\n",
    "data = Data([trace1, trace2])\n",
    "layout = Layout(\n",
    "    xaxis=XAxis(\n",
    "        tickfont=Font(\n",
    "        size=14),\n",
    "        # set x-axis' labels direction at 45 degree angle\n",
    "        tickangle=0),\n",
    "    barmode='group'\n",
    ")\n",
    "layout.update(margin=Margin(l=50,r=50,b=50,t=0,pad=0,autoexpand=True))\n",
    "fig = Figure(data=data, layout=layout)\n",
    "py.iplot(fig, filename='building_1892_energy_bar')"
   ]
  },
  {
   "cell_type": "markdown",
   "metadata": {},
   "source": [
    "#Analysis\n",
    "Description: Greenhouse gas emissions for Building located at 303 East 33rd Street, New York City compared to an average of 830 other similar buidlings in NYC. \n",
    "\n",
    "Intersting Findings: We expected the LEED designed buidlings to use less direct and indrect energy. However, the indirect emissions are more than double for the LEED designed buidling.\n",
    "\n",
    "Further analysis: Is this an outlier or a trend? How many more LEED designed buidlings produce greater emissions than the avaerage of similar buidlings? "
   ]
  },
  {
   "cell_type": "code",
   "execution_count": 36,
   "metadata": {
    "collapsed": true
   },
   "outputs": [],
   "source": [
    "#compared to 830, originaly 912 buildings "
   ]
  },
  {
   "cell_type": "markdown",
   "metadata": {},
   "source": [
    "#Building 12254"
   ]
  },
  {
   "cell_type": "markdown",
   "metadata": {},
   "source": [
    "##Title: Greenhouse Gas Emmisions (MtCO2e) "
   ]
  },
  {
   "cell_type": "code",
   "execution_count": 42,
   "metadata": {
    "collapsed": false,
    "scrolled": false
   },
   "outputs": [
    {
     "data": {
      "text/html": [
       "<iframe id=\"igraph\" scrolling=\"no\" style=\"border:none;\"seamless=\"seamless\" src=\"https://plot.ly/~trippshealy/37.embed\" height=\"525\" width=\"100%\"></iframe>"
      ],
      "text/plain": [
       "<plotly.tools.PlotlyDisplay object>"
      ]
     },
     "execution_count": 42,
     "metadata": {},
     "output_type": "execute_result"
    }
   ],
   "source": [
    "trace1 = Bar(\n",
    "    x=['Total', 'Direct', 'Indirect'],\n",
    "    y=energy_multifamily.loc[:, 'Building 12254'],\n",
    "    name='Building 12254',\n",
    "    marker = Marker(\n",
    "        color = 'RGB(30, 111, 255)'       \n",
    "))\n",
    "trace2 = Bar(\n",
    "    x=['Total', 'Direct', 'Indirect'],\n",
    "    y=energy_multifamily.loc[:, 'Average_Adjusted_12254'],\n",
    "    name='Average Similar Buildings to 12254',\n",
    "    marker = Marker(\n",
    "        color = 'RGB(0, 255, 181)'\n",
    "))\n",
    "\n",
    "data = Data([trace1, trace2])\n",
    "layout = Layout(\n",
    "    xaxis=XAxis(\n",
    "        tickfont=Font(\n",
    "        size=14),\n",
    "        # set x-axis' labels direction at 45 degree angle\n",
    "        tickangle=0),\n",
    "    barmode='group'\n",
    ")\n",
    "fig = Figure(data=data, layout=layout)\n",
    "py.iplot(fig, filename='building_12254_energy_bar')"
   ]
  },
  {
   "cell_type": "code",
   "execution_count": 38,
   "metadata": {
    "collapsed": true
   },
   "outputs": [],
   "source": [
    "#compared to 178, originally 209 buildings"
   ]
  },
  {
   "cell_type": "markdown",
   "metadata": {},
   "source": [
    "#Building 2178"
   ]
  },
  {
   "cell_type": "markdown",
   "metadata": {},
   "source": [
    "##Title: Greenhouse Gas Emmisions (MtCO2e) "
   ]
  },
  {
   "cell_type": "code",
   "execution_count": 41,
   "metadata": {
    "collapsed": false
   },
   "outputs": [
    {
     "data": {
      "text/html": [
       "<iframe id=\"igraph\" scrolling=\"no\" style=\"border:none;\"seamless=\"seamless\" src=\"https://plot.ly/~trippshealy/39.embed\" height=\"525\" width=\"100%\"></iframe>"
      ],
      "text/plain": [
       "<plotly.tools.PlotlyDisplay object>"
      ]
     },
     "execution_count": 41,
     "metadata": {},
     "output_type": "execute_result"
    }
   ],
   "source": [
    "trace1 = Bar(\n",
    "    x=['Total', 'Direct', 'Indirect'],\n",
    "    y=energy_multifamily.loc[:, 'Building 2178'],\n",
    "    name='Building 2178',\n",
    "    marker = Marker(\n",
    "        color = 'RGB(30, 111, 255)'\n",
    "        \n",
    "))\n",
    "# RGB(255, 224, 0)RGB(0, 255, 181)RGB(30, 111, 255)RGB(235, 108, 72)RGB(93, 0, 169)\n",
    "trace2 = Bar(\n",
    "    x=['Total', 'Direct', 'Indirect'],\n",
    "    y=energy_multifamily.loc[:, 'Average_Adjusted_2178'],\n",
    "    name='Average Similar Buildings to 2178',\n",
    "    marker = Marker(\n",
    "        color = 'RGB(0, 255, 181)'\n",
    "))\n",
    "data = Data([trace1, trace2])\n",
    "layout = Layout(\n",
    "    xaxis=XAxis(\n",
    "        tickfont=Font(\n",
    "        size=14),\n",
    "        # set x-axis' labels direction at 45 degree angle\n",
    "        tickangle=0),\n",
    "    barmode='group'\n",
    ")\n",
    "fig = Figure(data=data, layout=layout)\n",
    "py.iplot(fig, filename='building_2178_energy_bar')"
   ]
  },
  {
   "cell_type": "code",
   "execution_count": null,
   "metadata": {
    "collapsed": true
   },
   "outputs": [],
   "source": [
    "#comapred to 24, originally 40 buildings"
   ]
  }
 ],
 "metadata": {
  "kernelspec": {
   "display_name": "Python 3",
   "language": "python",
   "name": "python3"
  },
  "language_info": {
   "codemirror_mode": {
    "name": "ipython",
    "version": 3
   },
   "file_extension": ".py",
   "mimetype": "text/x-python",
   "name": "python",
   "nbconvert_exporter": "python",
   "pygments_lexer": "ipython3",
   "version": "3.4.3"
  }
 },
 "nbformat": 4,
 "nbformat_minor": 0
}
