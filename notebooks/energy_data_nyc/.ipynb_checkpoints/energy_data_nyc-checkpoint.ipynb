{
 "cells": [
  {
   "cell_type": "code",
   "execution_count": 168,
   "metadata": {
    "collapsed": true
   },
   "outputs": [],
   "source": [
    "import pandas as pd"
   ]
  },
  {
   "cell_type": "code",
   "execution_count": 169,
   "metadata": {
    "collapsed": false
   },
   "outputs": [],
   "source": [
    "LEED_energy_data_nyc = pd.read_csv('Energy_and_Water_Data_for_LEED.csv')"
   ]
  },
  {
   "cell_type": "code",
   "execution_count": 170,
   "metadata": {
    "collapsed": false
   },
   "outputs": [
    {
     "data": {
      "text/html": [
       "<div>\n",
       "<table border=\"1\" class=\"dataframe\">\n",
       "  <thead>\n",
       "    <tr style=\"text-align: right;\">\n",
       "      <th></th>\n",
       "      <th>Record Number</th>\n",
       "      <th>NYC Borough, Block, and Lot (BBL)</th>\n",
       "      <th>Co-reported BBL Status</th>\n",
       "      <th>BBLs Co-reported</th>\n",
       "      <th>Reported NYC Building Identificaiton Numbers (BINs)</th>\n",
       "      <th>Street Number</th>\n",
       "      <th>Borough</th>\n",
       "      <th>Zip Code</th>\n",
       "      <th>DOF Benchmarking Submission Status</th>\n",
       "      <th>Site EUI(kBtu/ft2)</th>\n",
       "      <th>...</th>\n",
       "      <th>Automatic Water Benchmarking Eligible</th>\n",
       "      <th>Reported Water Method</th>\n",
       "      <th>ENERGY STAR Score</th>\n",
       "      <th>Total GHG Emissions(MtCO2e)</th>\n",
       "      <th>Direct GHG Emissions(MtCO2e)</th>\n",
       "      <th>Indirect GHG Emissions(MtCO2e)</th>\n",
       "      <th>Reported Property Floor Area (Building(s)) (ft²)</th>\n",
       "      <th>DOF Property Floor Area (Buildngs and Parking)(ft2)</th>\n",
       "      <th>Primary Property Type - Self Selected</th>\n",
       "      <th>DOF Number of Buildings</th>\n",
       "    </tr>\n",
       "  </thead>\n",
       "  <tbody>\n",
       "    <tr>\n",
       "      <th>0</th>\n",
       "      <td>15041</td>\n",
       "      <td>1011340025</td>\n",
       "      <td>NaN</td>\n",
       "      <td>1-01134-0025</td>\n",
       "      <td>1028832</td>\n",
       "      <td>NaN</td>\n",
       "      <td>Manhattan</td>\n",
       "      <td>NaN</td>\n",
       "      <td>Not on Covered Buildings List</td>\n",
       "      <td>233.8</td>\n",
       "      <td>...</td>\n",
       "      <td>NaN</td>\n",
       "      <td>None</td>\n",
       "      <td>Not Available</td>\n",
       "      <td>3475.9</td>\n",
       "      <td>0</td>\n",
       "      <td>3475.9</td>\n",
       "      <td>172422</td>\n",
       "      <td>NaN</td>\n",
       "      <td>Performing Arts</td>\n",
       "      <td>NaN</td>\n",
       "    </tr>\n",
       "    <tr>\n",
       "      <th>1</th>\n",
       "      <td>4572</td>\n",
       "      <td>1018950038</td>\n",
       "      <td>NaN</td>\n",
       "      <td>1-01895-0038</td>\n",
       "      <td>1057344</td>\n",
       "      <td>12/31/0403 12:00:00 AM</td>\n",
       "      <td>Manhattan</td>\n",
       "      <td>10025</td>\n",
       "      <td>Filed</td>\n",
       "      <td>71.8</td>\n",
       "      <td>...</td>\n",
       "      <td>No</td>\n",
       "      <td>None</td>\n",
       "      <td>Not Available</td>\n",
       "      <td>441.8</td>\n",
       "      <td>333.1</td>\n",
       "      <td>108.7</td>\n",
       "      <td>106039</td>\n",
       "      <td>102951</td>\n",
       "      <td>Multifamily Housing</td>\n",
       "      <td>1</td>\n",
       "    </tr>\n",
       "    <tr>\n",
       "      <th>2</th>\n",
       "      <td>1892</td>\n",
       "      <td>1009397501</td>\n",
       "      <td>NaN</td>\n",
       "      <td>1-00939-7501</td>\n",
       "      <td>1087841</td>\n",
       "      <td>12/31/0302 12:00:00 AM</td>\n",
       "      <td>Manhattan</td>\n",
       "      <td>10016</td>\n",
       "      <td>Filed</td>\n",
       "      <td>88.1</td>\n",
       "      <td>...</td>\n",
       "      <td>No</td>\n",
       "      <td>None</td>\n",
       "      <td>Not Available</td>\n",
       "      <td>749</td>\n",
       "      <td>201.2</td>\n",
       "      <td>547.79999999999995</td>\n",
       "      <td>119517</td>\n",
       "      <td>144225</td>\n",
       "      <td>Multifamily Housing</td>\n",
       "      <td>1</td>\n",
       "    </tr>\n",
       "    <tr>\n",
       "      <th>3</th>\n",
       "      <td>3924</td>\n",
       "      <td>1015147502</td>\n",
       "      <td>NaN</td>\n",
       "      <td>1015147502</td>\n",
       "      <td>1088463</td>\n",
       "      <td>01/02/0150 12:00:00 AM</td>\n",
       "      <td>Manhattan</td>\n",
       "      <td>10028</td>\n",
       "      <td>Filed</td>\n",
       "      <td>60.9</td>\n",
       "      <td>...</td>\n",
       "      <td>No</td>\n",
       "      <td>None</td>\n",
       "      <td>Not Available</td>\n",
       "      <td>2190.1999999999998</td>\n",
       "      <td>108.8</td>\n",
       "      <td>2081.4</td>\n",
       "      <td>453527</td>\n",
       "      <td>453927</td>\n",
       "      <td>Multifamily Housing</td>\n",
       "      <td>1</td>\n",
       "    </tr>\n",
       "    <tr>\n",
       "      <th>4</th>\n",
       "      <td>12254</td>\n",
       "      <td>5015147502</td>\n",
       "      <td>NaN</td>\n",
       "      <td>5-01514-7502</td>\n",
       "      <td>1088463</td>\n",
       "      <td>NaN</td>\n",
       "      <td>Staten Island</td>\n",
       "      <td>NaN</td>\n",
       "      <td>BBL not valid</td>\n",
       "      <td>41.8</td>\n",
       "      <td>...</td>\n",
       "      <td>NaN</td>\n",
       "      <td>NaN</td>\n",
       "      <td>Not Available</td>\n",
       "      <td>1251.4000000000001</td>\n",
       "      <td>109.6</td>\n",
       "      <td>1141.8</td>\n",
       "      <td>385000</td>\n",
       "      <td>NaN</td>\n",
       "      <td>Multifamily Housing</td>\n",
       "      <td>NaN</td>\n",
       "    </tr>\n",
       "    <tr>\n",
       "      <th>5</th>\n",
       "      <td>12103</td>\n",
       "      <td>1010851001</td>\n",
       "      <td>Primary</td>\n",
       "      <td>1010851001; 1010851011</td>\n",
       "      <td>1088726</td>\n",
       "      <td>NaN</td>\n",
       "      <td>Manhattan</td>\n",
       "      <td>NaN</td>\n",
       "      <td>BBL not valid</td>\n",
       "      <td>110.7</td>\n",
       "      <td>...</td>\n",
       "      <td>NaN</td>\n",
       "      <td>NaN</td>\n",
       "      <td>Not Available</td>\n",
       "      <td>2512.1</td>\n",
       "      <td>862.8</td>\n",
       "      <td>1649.3</td>\n",
       "      <td>330000</td>\n",
       "      <td>NaN</td>\n",
       "      <td>Automobile Dealership</td>\n",
       "      <td>NaN</td>\n",
       "    </tr>\n",
       "    <tr>\n",
       "      <th>6</th>\n",
       "      <td>12104</td>\n",
       "      <td>1010851011</td>\n",
       "      <td>Secondary</td>\n",
       "      <td>1010851001; 1010851011</td>\n",
       "      <td>1088726</td>\n",
       "      <td>NaN</td>\n",
       "      <td>Manhattan</td>\n",
       "      <td>NaN</td>\n",
       "      <td>BBL not valid</td>\n",
       "      <td>See Primary BBL</td>\n",
       "      <td>...</td>\n",
       "      <td>See Primary BBL</td>\n",
       "      <td>See Primary BBL</td>\n",
       "      <td>See Primary BBL</td>\n",
       "      <td>See Primary BBL</td>\n",
       "      <td>See Primary BBL</td>\n",
       "      <td>See Primary BBL</td>\n",
       "      <td>See Primary BBL</td>\n",
       "      <td>NaN</td>\n",
       "      <td>NaN</td>\n",
       "      <td>NaN</td>\n",
       "    </tr>\n",
       "    <tr>\n",
       "      <th>7</th>\n",
       "      <td>2178</td>\n",
       "      <td>1010827501</td>\n",
       "      <td>NaN</td>\n",
       "      <td>1010827501</td>\n",
       "      <td>1088726</td>\n",
       "      <td>12/28/0769 12:00:00 AM</td>\n",
       "      <td>Manhattan</td>\n",
       "      <td>10019</td>\n",
       "      <td>Filed</td>\n",
       "      <td>91.7</td>\n",
       "      <td>...</td>\n",
       "      <td>No</td>\n",
       "      <td>None</td>\n",
       "      <td>Not Available</td>\n",
       "      <td>6155.4</td>\n",
       "      <td>2491.9</td>\n",
       "      <td>3663.5</td>\n",
       "      <td>1003231</td>\n",
       "      <td>1082317</td>\n",
       "      <td>Multifamily Housing</td>\n",
       "      <td>1</td>\n",
       "    </tr>\n",
       "  </tbody>\n",
       "</table>\n",
       "<p>8 rows × 24 columns</p>\n",
       "</div>"
      ],
      "text/plain": [
       "   Record Number  NYC Borough, Block, and Lot (BBL) Co-reported BBL Status  \\\n",
       "0          15041                         1011340025                    NaN   \n",
       "1           4572                         1018950038                    NaN   \n",
       "2           1892                         1009397501                    NaN   \n",
       "3           3924                         1015147502                    NaN   \n",
       "4          12254                         5015147502                    NaN   \n",
       "5          12103                         1010851001                Primary   \n",
       "6          12104                         1010851011              Secondary   \n",
       "7           2178                         1010827501                    NaN   \n",
       "\n",
       "         BBLs Co-reported  \\\n",
       "0            1-01134-0025   \n",
       "1            1-01895-0038   \n",
       "2            1-00939-7501   \n",
       "3              1015147502   \n",
       "4            5-01514-7502   \n",
       "5  1010851001; 1010851011   \n",
       "6  1010851001; 1010851011   \n",
       "7              1010827501   \n",
       "\n",
       "   Reported NYC Building Identificaiton Numbers (BINs)  \\\n",
       "0                                            1028832     \n",
       "1                                            1057344     \n",
       "2                                            1087841     \n",
       "3                                            1088463     \n",
       "4                                            1088463     \n",
       "5                                            1088726     \n",
       "6                                            1088726     \n",
       "7                                            1088726     \n",
       "\n",
       "            Street Number        Borough  Zip Code  \\\n",
       "0                     NaN      Manhattan       NaN   \n",
       "1  12/31/0403 12:00:00 AM      Manhattan     10025   \n",
       "2  12/31/0302 12:00:00 AM      Manhattan     10016   \n",
       "3  01/02/0150 12:00:00 AM      Manhattan     10028   \n",
       "4                     NaN  Staten Island       NaN   \n",
       "5                     NaN      Manhattan       NaN   \n",
       "6                     NaN      Manhattan       NaN   \n",
       "7  12/28/0769 12:00:00 AM      Manhattan     10019   \n",
       "\n",
       "  DOF Benchmarking Submission Status Site EUI(kBtu/ft2)  \\\n",
       "0      Not on Covered Buildings List              233.8   \n",
       "1                              Filed               71.8   \n",
       "2                              Filed               88.1   \n",
       "3                              Filed               60.9   \n",
       "4                      BBL not valid               41.8   \n",
       "5                      BBL not valid              110.7   \n",
       "6                      BBL not valid    See Primary BBL   \n",
       "7                              Filed               91.7   \n",
       "\n",
       "            ...           Automatic Water Benchmarking Eligible  \\\n",
       "0           ...                                             NaN   \n",
       "1           ...                                              No   \n",
       "2           ...                                              No   \n",
       "3           ...                                              No   \n",
       "4           ...                                             NaN   \n",
       "5           ...                                             NaN   \n",
       "6           ...                                 See Primary BBL   \n",
       "7           ...                                              No   \n",
       "\n",
       "  Reported Water Method ENERGY STAR Score Total GHG Emissions(MtCO2e)  \\\n",
       "0                  None     Not Available                      3475.9   \n",
       "1                  None     Not Available                       441.8   \n",
       "2                  None     Not Available                         749   \n",
       "3                  None     Not Available          2190.1999999999998   \n",
       "4                   NaN     Not Available          1251.4000000000001   \n",
       "5                   NaN     Not Available                      2512.1   \n",
       "6       See Primary BBL   See Primary BBL             See Primary BBL   \n",
       "7                  None     Not Available                      6155.4   \n",
       "\n",
       "  Direct GHG Emissions(MtCO2e) Indirect GHG Emissions(MtCO2e)  \\\n",
       "0                            0                         3475.9   \n",
       "1                        333.1                          108.7   \n",
       "2                        201.2             547.79999999999995   \n",
       "3                        108.8                         2081.4   \n",
       "4                        109.6                         1141.8   \n",
       "5                        862.8                         1649.3   \n",
       "6              See Primary BBL                See Primary BBL   \n",
       "7                       2491.9                         3663.5   \n",
       "\n",
       "  Reported Property Floor Area (Building(s)) (ft²)  \\\n",
       "0                                           172422   \n",
       "1                                           106039   \n",
       "2                                           119517   \n",
       "3                                           453527   \n",
       "4                                           385000   \n",
       "5                                           330000   \n",
       "6                                  See Primary BBL   \n",
       "7                                          1003231   \n",
       "\n",
       "  DOF Property Floor Area (Buildngs and Parking)(ft2)  \\\n",
       "0                                                NaN    \n",
       "1                                             102951    \n",
       "2                                             144225    \n",
       "3                                             453927    \n",
       "4                                                NaN    \n",
       "5                                                NaN    \n",
       "6                                                NaN    \n",
       "7                                            1082317    \n",
       "\n",
       "  Primary Property Type - Self Selected DOF Number of Buildings  \n",
       "0                       Performing Arts                     NaN  \n",
       "1                   Multifamily Housing                       1  \n",
       "2                   Multifamily Housing                       1  \n",
       "3                   Multifamily Housing                       1  \n",
       "4                   Multifamily Housing                     NaN  \n",
       "5                 Automobile Dealership                     NaN  \n",
       "6                                   NaN                     NaN  \n",
       "7                   Multifamily Housing                       1  \n",
       "\n",
       "[8 rows x 24 columns]"
      ]
     },
     "execution_count": 170,
     "metadata": {},
     "output_type": "execute_result"
    }
   ],
   "source": [
    "LEED_energy_data_nyc"
   ]
  },
  {
   "cell_type": "markdown",
   "metadata": {},
   "source": [
    "##Column headers "
   ]
  },
  {
   "cell_type": "code",
   "execution_count": 171,
   "metadata": {
    "collapsed": false
   },
   "outputs": [
    {
     "data": {
      "text/plain": [
       "['Record Number',\n",
       " 'NYC Borough, Block, and Lot (BBL)',\n",
       " 'Co-reported BBL Status',\n",
       " 'BBLs Co-reported',\n",
       " 'Reported NYC Building Identificaiton Numbers (BINs)',\n",
       " 'Street Number',\n",
       " 'Borough',\n",
       " 'Zip Code',\n",
       " 'DOF Benchmarking Submission Status',\n",
       " 'Site EUI(kBtu/ft2)',\n",
       " 'Weather Normalized Site EUI(kBtu/ft2)',\n",
       " 'Source EUI(kBtu/ft2)',\n",
       " 'Weather Normalized Source EUI(kBtu/ft2)',\n",
       " 'Municipally Supplied Potable Water - Indoor Intensity (gal/ft²)',\n",
       " 'Automatic Water Benchmarking Eligible',\n",
       " 'Reported Water Method',\n",
       " 'ENERGY STAR Score',\n",
       " 'Total GHG Emissions(MtCO2e)',\n",
       " 'Direct GHG Emissions(MtCO2e)',\n",
       " 'Indirect GHG Emissions(MtCO2e)',\n",
       " 'Reported Property Floor Area (Building(s)) (ft²)',\n",
       " 'DOF Property Floor Area (Buildngs and Parking)(ft2)',\n",
       " 'Primary Property Type - Self Selected',\n",
       " 'DOF Number of Buildings']"
      ]
     },
     "execution_count": 171,
     "metadata": {},
     "output_type": "execute_result"
    }
   ],
   "source": [
    "columns_LEED_energy_data_nyc = list(LEED_energy_data_nyc.columns.values)\n",
    "columns_LEED_energy_data_nyc"
   ]
  },
  {
   "cell_type": "markdown",
   "metadata": {},
   "source": [
    "##About 4572: "
   ]
  },
  {
   "cell_type": "code",
   "execution_count": 172,
   "metadata": {
    "collapsed": true
   },
   "outputs": [],
   "source": [
    "four_57_two = LEED_energy_data_nyc[LEED_energy_data_nyc[\"Record Number\"] == 4572].squeeze()"
   ]
  },
  {
   "cell_type": "code",
   "execution_count": 173,
   "metadata": {
    "collapsed": false
   },
   "outputs": [
    {
     "data": {
      "text/plain": [
       "Record Number                                                                        4572\n",
       "NYC Borough, Block, and Lot (BBL)                                              1018950038\n",
       "Co-reported BBL Status                                                                NaN\n",
       "BBLs Co-reported                                                             1-01895-0038\n",
       "Reported NYC Building Identificaiton Numbers (BINs)                               1057344\n",
       "Street Number                                                      12/31/0403 12:00:00 AM\n",
       "Borough                                                                         Manhattan\n",
       "Zip Code                                                                            10025\n",
       "DOF Benchmarking Submission Status                                                  Filed\n",
       "Site EUI(kBtu/ft2)                                                                   71.8\n",
       "Weather Normalized Site EUI(kBtu/ft2)                                                71.2\n",
       "Source EUI(kBtu/ft2)                                                                101.7\n",
       "Weather Normalized Source EUI(kBtu/ft2)                                             100.9\n",
       "Municipally Supplied Potable Water - Indoor Intensity (gal/ft²)             Not Available\n",
       "Automatic Water Benchmarking Eligible                                                  No\n",
       "Reported Water Method                                                                None\n",
       "ENERGY STAR Score                                                           Not Available\n",
       "Total GHG Emissions(MtCO2e)                                                         441.8\n",
       "Direct GHG Emissions(MtCO2e)                                                        333.1\n",
       "Indirect GHG Emissions(MtCO2e)                                                      108.7\n",
       "Reported Property Floor Area (Building(s)) (ft²)                                   106039\n",
       "DOF Property Floor Area (Buildngs and Parking)(ft2)                                102951\n",
       "Primary Property Type - Self Selected                                 Multifamily Housing\n",
       "DOF Number of Buildings                                                                 1\n",
       "Name: 1, dtype: object"
      ]
     },
     "execution_count": 173,
     "metadata": {},
     "output_type": "execute_result"
    }
   ],
   "source": [
    "four_57_two"
   ]
  },
  {
   "cell_type": "markdown",
   "metadata": {},
   "source": [
    "##Similar Building Types Criteria:\n",
    "Property type and Floor Area"
   ]
  },
  {
   "cell_type": "markdown",
   "metadata": {},
   "source": [
    "'Primary Property Type - Self Selected'= 'Multifamily Housing'"
   ]
  },
  {
   "cell_type": "markdown",
   "metadata": {},
   "source": [
    "'Reported Property Floor Area (Building(s)) (ft²)' = 106039"
   ]
  },
  {
   "cell_type": "markdown",
   "metadata": {},
   "source": [
    "##All Energy Data for NYC"
   ]
  },
  {
   "cell_type": "code",
   "execution_count": 174,
   "metadata": {
    "collapsed": true
   },
   "outputs": [],
   "source": [
    "all_energy_data_nyc = pd.read_csv('Energy_and_Water_Data_Disclosure_for_Local_Law_84__2013.csv')"
   ]
  },
  {
   "cell_type": "code",
   "execution_count": 175,
   "metadata": {
    "collapsed": false
   },
   "outputs": [
    {
     "data": {
      "text/html": [
       "<div>\n",
       "<table border=\"1\" class=\"dataframe\">\n",
       "  <thead>\n",
       "    <tr style=\"text-align: right;\">\n",
       "      <th></th>\n",
       "      <th>Record Number</th>\n",
       "      <th>NYC Borough, Block, and Lot (BBL)</th>\n",
       "      <th>Co-reported BBL Status</th>\n",
       "      <th>BBLs Co-reported</th>\n",
       "      <th>Reported NYC Building Identificaiton Numbers (BINs)</th>\n",
       "      <th>Street Number</th>\n",
       "      <th>Borough</th>\n",
       "      <th>Zip Code</th>\n",
       "      <th>DOF Benchmarking Submission Status</th>\n",
       "      <th>Site EUI(kBtu/ft2)</th>\n",
       "      <th>...</th>\n",
       "      <th>Automatic Water Benchmarking Eligible</th>\n",
       "      <th>Reported Water Method</th>\n",
       "      <th>ENERGY STAR Score</th>\n",
       "      <th>Total GHG Emissions(MtCO2e)</th>\n",
       "      <th>Direct GHG Emissions(MtCO2e)</th>\n",
       "      <th>Indirect GHG Emissions(MtCO2e)</th>\n",
       "      <th>Reported Property Floor Area (Building(s)) (ft²)</th>\n",
       "      <th>DOF Property Floor Area (Buildngs and Parking)(ft2)</th>\n",
       "      <th>Primary Property Type - Self Selected</th>\n",
       "      <th>DOF Number of Buildings</th>\n",
       "    </tr>\n",
       "  </thead>\n",
       "  <tbody>\n",
       "    <tr>\n",
       "      <th>0</th>\n",
       "      <td>16099</td>\n",
       "      <td>4084010096</td>\n",
       "      <td>NaN</td>\n",
       "      <td>4084010096</td>\n",
       "      <td>4453435</td>\n",
       "      <td>NaN</td>\n",
       "      <td>Queens</td>\n",
       "      <td>NaN</td>\n",
       "      <td>Not on Covered Buildings List</td>\n",
       "      <td>180.5</td>\n",
       "      <td>...</td>\n",
       "      <td>NaN</td>\n",
       "      <td>None</td>\n",
       "      <td>Not Available</td>\n",
       "      <td>966.7</td>\n",
       "      <td>806.6</td>\n",
       "      <td>160.1</td>\n",
       "      <td>91968</td>\n",
       "      <td>NaN</td>\n",
       "      <td>Multifamily Housing</td>\n",
       "      <td>NaN</td>\n",
       "    </tr>\n",
       "    <tr>\n",
       "      <th>1</th>\n",
       "      <td>500</td>\n",
       "      <td>1005050001</td>\n",
       "      <td>NaN</td>\n",
       "      <td>1005050001</td>\n",
       "      <td>1007817</td>\n",
       "      <td>01/02/0150 12:00:00 AM</td>\n",
       "      <td>Manhattan</td>\n",
       "      <td>10013</td>\n",
       "      <td>Filed</td>\n",
       "      <td>82.1</td>\n",
       "      <td>...</td>\n",
       "      <td>Yes</td>\n",
       "      <td>ABS</td>\n",
       "      <td>44</td>\n",
       "      <td>1392.3</td>\n",
       "      <td>337.9</td>\n",
       "      <td>1054.4000000000001</td>\n",
       "      <td>235370</td>\n",
       "      <td>214110</td>\n",
       "      <td>Distribution Center</td>\n",
       "      <td>1</td>\n",
       "    </tr>\n",
       "    <tr>\n",
       "      <th>2</th>\n",
       "      <td>5017</td>\n",
       "      <td>1021420100</td>\n",
       "      <td>NaN</td>\n",
       "      <td>1021420100</td>\n",
       "      <td>1063495</td>\n",
       "      <td>01/01/4079 12:00:00 AM</td>\n",
       "      <td>Manhattan</td>\n",
       "      <td>10032</td>\n",
       "      <td>Filed</td>\n",
       "      <td>137.69999999999999</td>\n",
       "      <td>...</td>\n",
       "      <td>No</td>\n",
       "      <td>None</td>\n",
       "      <td>Not Available</td>\n",
       "      <td>673.6</td>\n",
       "      <td>541.79999999999995</td>\n",
       "      <td>131.80000000000001</td>\n",
       "      <td>64806</td>\n",
       "      <td>64816</td>\n",
       "      <td>Multifamily Housing</td>\n",
       "      <td>1</td>\n",
       "    </tr>\n",
       "    <tr>\n",
       "      <th>3</th>\n",
       "      <td>5116</td>\n",
       "      <td>1021750080</td>\n",
       "      <td>NaN</td>\n",
       "      <td>1021750080</td>\n",
       "      <td>1064235</td>\n",
       "      <td>01/03/0060 12:00:00 AM</td>\n",
       "      <td>Manhattan</td>\n",
       "      <td>10040</td>\n",
       "      <td>Filed</td>\n",
       "      <td>103.2</td>\n",
       "      <td>...</td>\n",
       "      <td>No</td>\n",
       "      <td>None</td>\n",
       "      <td>Not Available</td>\n",
       "      <td>485</td>\n",
       "      <td>403</td>\n",
       "      <td>82</td>\n",
       "      <td>62839</td>\n",
       "      <td>62847</td>\n",
       "      <td>Multifamily Housing</td>\n",
       "      <td>1</td>\n",
       "    </tr>\n",
       "    <tr>\n",
       "      <th>4</th>\n",
       "      <td>363</td>\n",
       "      <td>1003360005</td>\n",
       "      <td>NaN</td>\n",
       "      <td>1003360005</td>\n",
       "      <td>1088884</td>\n",
       "      <td>01/03/0016 12:00:00 AM</td>\n",
       "      <td>Manhattan</td>\n",
       "      <td>10002</td>\n",
       "      <td>Filed</td>\n",
       "      <td>74</td>\n",
       "      <td>...</td>\n",
       "      <td>No</td>\n",
       "      <td>None</td>\n",
       "      <td>Not Available</td>\n",
       "      <td>435.5</td>\n",
       "      <td>290</td>\n",
       "      <td>145.5</td>\n",
       "      <td>98000</td>\n",
       "      <td>98052</td>\n",
       "      <td>Multifamily Housing</td>\n",
       "      <td>1</td>\n",
       "    </tr>\n",
       "  </tbody>\n",
       "</table>\n",
       "<p>5 rows × 24 columns</p>\n",
       "</div>"
      ],
      "text/plain": [
       "   Record Number  NYC Borough, Block, and Lot (BBL) Co-reported BBL Status  \\\n",
       "0          16099                         4084010096                    NaN   \n",
       "1            500                         1005050001                    NaN   \n",
       "2           5017                         1021420100                    NaN   \n",
       "3           5116                         1021750080                    NaN   \n",
       "4            363                         1003360005                    NaN   \n",
       "\n",
       "  BBLs Co-reported Reported NYC Building Identificaiton Numbers (BINs)  \\\n",
       "0       4084010096                                            4453435    \n",
       "1       1005050001                                            1007817    \n",
       "2       1021420100                                            1063495    \n",
       "3       1021750080                                            1064235    \n",
       "4       1003360005                                            1088884    \n",
       "\n",
       "            Street Number    Borough  Zip Code  \\\n",
       "0                     NaN     Queens       NaN   \n",
       "1  01/02/0150 12:00:00 AM  Manhattan     10013   \n",
       "2  01/01/4079 12:00:00 AM  Manhattan     10032   \n",
       "3  01/03/0060 12:00:00 AM  Manhattan     10040   \n",
       "4  01/03/0016 12:00:00 AM  Manhattan     10002   \n",
       "\n",
       "  DOF Benchmarking Submission Status  Site EUI(kBtu/ft2)  \\\n",
       "0      Not on Covered Buildings List               180.5   \n",
       "1                              Filed                82.1   \n",
       "2                              Filed  137.69999999999999   \n",
       "3                              Filed               103.2   \n",
       "4                              Filed                  74   \n",
       "\n",
       "            ...           Automatic Water Benchmarking Eligible  \\\n",
       "0           ...                                             NaN   \n",
       "1           ...                                             Yes   \n",
       "2           ...                                              No   \n",
       "3           ...                                              No   \n",
       "4           ...                                              No   \n",
       "\n",
       "  Reported Water Method ENERGY STAR Score Total GHG Emissions(MtCO2e)  \\\n",
       "0                  None     Not Available                       966.7   \n",
       "1                   ABS                44                      1392.3   \n",
       "2                  None     Not Available                       673.6   \n",
       "3                  None     Not Available                         485   \n",
       "4                  None     Not Available                       435.5   \n",
       "\n",
       "  Direct GHG Emissions(MtCO2e) Indirect GHG Emissions(MtCO2e)  \\\n",
       "0                        806.6                          160.1   \n",
       "1                        337.9             1054.4000000000001   \n",
       "2           541.79999999999995             131.80000000000001   \n",
       "3                          403                             82   \n",
       "4                          290                          145.5   \n",
       "\n",
       "  Reported Property Floor Area (Building(s)) (ft²)  \\\n",
       "0                                            91968   \n",
       "1                                           235370   \n",
       "2                                            64806   \n",
       "3                                            62839   \n",
       "4                                            98000   \n",
       "\n",
       "  DOF Property Floor Area (Buildngs and Parking)(ft2)  \\\n",
       "0                                                NaN    \n",
       "1                                             214110    \n",
       "2                                              64816    \n",
       "3                                              62847    \n",
       "4                                              98052    \n",
       "\n",
       "  Primary Property Type - Self Selected DOF Number of Buildings  \n",
       "0                   Multifamily Housing                     NaN  \n",
       "1                   Distribution Center                       1  \n",
       "2                   Multifamily Housing                       1  \n",
       "3                   Multifamily Housing                       1  \n",
       "4                   Multifamily Housing                       1  \n",
       "\n",
       "[5 rows x 24 columns]"
      ]
     },
     "execution_count": 175,
     "metadata": {},
     "output_type": "execute_result"
    }
   ],
   "source": [
    "all_energy_data_nyc.head()"
   ]
  },
  {
   "cell_type": "markdown",
   "metadata": {},
   "source": [
    "##Comparing average to the LEED record number 4572"
   ]
  },
  {
   "cell_type": "code",
   "execution_count": 176,
   "metadata": {
    "collapsed": false
   },
   "outputs": [
    {
     "data": {
      "text/plain": [
       "(95435.1, 116642.90000000001)"
      ]
     },
     "execution_count": 176,
     "metadata": {},
     "output_type": "execute_result"
    }
   ],
   "source": [
    "#Comparing to buidlings with +/- 10 percent similar sqfoot\n",
    "minus_10_percent_area = 106039*.9\n",
    "plus_10_percent_area = 106039*1.1\n",
    "minus_10_percent_area, plus_10_percent_area"
   ]
  },
  {
   "cell_type": "markdown",
   "metadata": {},
   "source": [
    "Reported Propeorty and Floor area are strings. Need to convert to int"
   ]
  },
  {
   "cell_type": "code",
   "execution_count": 177,
   "metadata": {
    "collapsed": false
   },
   "outputs": [],
   "source": [
    "all_energy_data_nyc['Site EUI(kBtu/ft2)'] = all_energy_data_nyc['Site EUI(kBtu/ft2)'].convert_objects(convert_numeric=True)\n",
    "all_energy_data_nyc['Weather Normalized Site EUI(kBtu/ft2)'] = all_energy_data_nyc['Weather Normalized Site EUI(kBtu/ft2)'].convert_objects(convert_numeric=True)\n",
    "all_energy_data_nyc['Source EUI(kBtu/ft2)'] = all_energy_data_nyc['Source EUI(kBtu/ft2)'].convert_objects(convert_numeric=True)\n",
    "all_energy_data_nyc['Weather Normalized Source EUI(kBtu/ft2)'] = all_energy_data_nyc['Weather Normalized Source EUI(kBtu/ft2)'].convert_objects(convert_numeric=True)\n",
    "all_energy_data_nyc['Municipally Supplied Potable Water - Indoor Intensity (gal/ft²)'] = all_energy_data_nyc['Municipally Supplied Potable Water - Indoor Intensity (gal/ft²)'].convert_objects(convert_numeric=True)\n",
    "all_energy_data_nyc['Automatic Water Benchmarking Eligible'] = all_energy_data_nyc['Automatic Water Benchmarking Eligible'].convert_objects(convert_numeric=True)\n",
    "all_energy_data_nyc['Reported Water Method'] = all_energy_data_nyc['Reported Water Method'].convert_objects(convert_numeric=True)\n",
    "all_energy_data_nyc['ENERGY STAR Score'] = all_energy_data_nyc['ENERGY STAR Score'].convert_objects(convert_numeric=True)\n",
    "all_energy_data_nyc['Total GHG Emissions(MtCO2e)'] = all_energy_data_nyc['Total GHG Emissions(MtCO2e)'].convert_objects(convert_numeric=True)\n",
    "all_energy_data_nyc['Direct GHG Emissions(MtCO2e)'] = all_energy_data_nyc['Direct GHG Emissions(MtCO2e)'].convert_objects(convert_numeric=True)\n",
    "all_energy_data_nyc['Indirect GHG Emissions(MtCO2e)'] = all_energy_data_nyc['Indirect GHG Emissions(MtCO2e)'].convert_objects(convert_numeric=True)\n",
    "all_energy_data_nyc['Reported Property Floor Area (Building(s)) (ft²)'] = all_energy_data_nyc['Reported Property Floor Area (Building(s)) (ft²)'].convert_objects(convert_numeric=True)\n",
    "all_energy_data_nyc['DOF Property Floor Area (Buildngs and Parking)(ft2)'] = all_energy_data_nyc['DOF Property Floor Area (Buildngs and Parking)(ft2)'].convert_objects(convert_numeric=True)\n",
    "all_energy_data_nyc['DOF Number of Buildings'] = all_energy_data_nyc['DOF Number of Buildings'].convert_objects(convert_numeric=True)"
   ]
  },
  {
   "cell_type": "code",
   "execution_count": 178,
   "metadata": {
    "collapsed": false
   },
   "outputs": [
    {
     "data": {
      "text/plain": [
       "1    82.1\n",
       "Name: Site EUI(kBtu/ft2), dtype: float64"
      ]
     },
     "execution_count": 178,
     "metadata": {},
     "output_type": "execute_result"
    }
   ],
   "source": [
    "#checking for float type and not string \n",
    "all_energy_data_nyc['Site EUI(kBtu/ft2)'].iloc[1:2,]"
   ]
  },
  {
   "cell_type": "code",
   "execution_count": 179,
   "metadata": {
    "collapsed": false
   },
   "outputs": [],
   "source": [
    "compare_to_four_57_two = all_energy_data_nyc[(all_energy_data_nyc['Primary Property Type - Self Selected'] == 'Multifamily Housing') & (all_energy_data_nyc['Reported Property Floor Area (Building(s)) (ft²)'] > 95435) & (all_energy_data_nyc['Reported Property Floor Area (Building(s)) (ft²)'] < 116642) & (all_energy_data_nyc['Record Number'] != 4572)]"
   ]
  },
  {
   "cell_type": "code",
   "execution_count": 180,
   "metadata": {
    "collapsed": false
   },
   "outputs": [
    {
     "data": {
      "text/plain": [
       "(1053, 24)"
      ]
     },
     "execution_count": 180,
     "metadata": {},
     "output_type": "execute_result"
    }
   ],
   "source": [
    "compare_to_four_57_two.shape"
   ]
  },
  {
   "cell_type": "code",
   "execution_count": 181,
   "metadata": {
    "collapsed": false,
    "scrolled": true
   },
   "outputs": [
    {
     "data": {
      "text/plain": [
       "Record Number                                                      6.965882e+03\n",
       "NYC Borough, Block, and Lot (BBL)                                  2.275563e+09\n",
       "Zip Code                                                           1.063625e+04\n",
       "Site EUI(kBtu/ft2)                                                 1.817177e+02\n",
       "Weather Normalized Site EUI(kBtu/ft2)                              1.933286e+02\n",
       "Source EUI(kBtu/ft2)                                               2.786121e+02\n",
       "Weather Normalized Source EUI(kBtu/ft2)                            2.985054e+02\n",
       "Municipally Supplied Potable Water - Indoor Intensity (gal/ft²)    5.622922e+01\n",
       "ENERGY STAR Score                                                           NaN\n",
       "Total GHG Emissions(MtCO2e)                                        1.439773e+03\n",
       "Direct GHG Emissions(MtCO2e)                                       3.932581e+02\n",
       "Indirect GHG Emissions(MtCO2e)                                     1.013484e+03\n",
       "Reported Property Floor Area (Building(s)) (ft²)                   1.053260e+05\n",
       "DOF Property Floor Area (Buildngs and Parking)(ft2)                1.098622e+05\n",
       "DOF Number of Buildings                                            1.568066e+00\n",
       "dtype: float64"
      ]
     },
     "execution_count": 181,
     "metadata": {},
     "output_type": "execute_result"
    }
   ],
   "source": [
    "mean_compare_to_four_57_two = compare_to_four_57_two.mean()\n",
    "mean_compare_to_four_57_two"
   ]
  },
  {
   "cell_type": "code",
   "execution_count": 182,
   "metadata": {
    "collapsed": false
   },
   "outputs": [
    {
     "data": {
      "text/plain": [
       "Record Number                                                                        4572\n",
       "NYC Borough, Block, and Lot (BBL)                                             1.01895e+09\n",
       "Co-reported BBL Status                                                                NaN\n",
       "BBLs Co-reported                                                             1-01895-0038\n",
       "Reported NYC Building Identificaiton Numbers (BINs)                               1057344\n",
       "Street Number                                                      12/31/0403 12:00:00 AM\n",
       "Borough                                                                         Manhattan\n",
       "Zip Code                                                                            10025\n",
       "DOF Benchmarking Submission Status                                                  Filed\n",
       "Site EUI(kBtu/ft2)                                                                   71.8\n",
       "Weather Normalized Site EUI(kBtu/ft2)                                                71.2\n",
       "Source EUI(kBtu/ft2)                                                                101.7\n",
       "Weather Normalized Source EUI(kBtu/ft2)                                             100.9\n",
       "Municipally Supplied Potable Water - Indoor Intensity (gal/ft²)                       NaN\n",
       "Automatic Water Benchmarking Eligible                                                  No\n",
       "Reported Water Method                                                                None\n",
       "ENERGY STAR Score                                                                     NaN\n",
       "Total GHG Emissions(MtCO2e)                                                         441.8\n",
       "Direct GHG Emissions(MtCO2e)                                                        333.1\n",
       "Indirect GHG Emissions(MtCO2e)                                                      108.7\n",
       "Reported Property Floor Area (Building(s)) (ft²)                                   106039\n",
       "DOF Property Floor Area (Buildngs and Parking)(ft2)                                102951\n",
       "Primary Property Type - Self Selected                                 Multifamily Housing\n",
       "DOF Number of Buildings                                                                 1\n",
       "Name: 3776, dtype: object"
      ]
     },
     "execution_count": 182,
     "metadata": {},
     "output_type": "execute_result"
    }
   ],
   "source": [
    "#checking 4572\n",
    "checking_four_57_two = all_energy_data_nyc[all_energy_data_nyc['Record Number'] == 4572] \n",
    "checking_four_57_two.squeeze()"
   ]
  },
  {
   "cell_type": "code",
   "execution_count": 183,
   "metadata": {
    "collapsed": false
   },
   "outputs": [],
   "source": [
    "import matplotlib.pyplot as plt\n",
    "%matplotlib inline"
   ]
  },
  {
   "cell_type": "code",
   "execution_count": 184,
   "metadata": {
    "collapsed": false
   },
   "outputs": [
    {
     "name": "stderr",
     "output_type": "stream",
     "text": [
      "/Users/trippshealy/iron_yard/week10/builditgreen/.direnv/python-3.4.3/lib/python3.4/site-packages/pandas/tools/plotting.py:856: UserWarning: 'colors' is being deprecated. Please use 'color'instead of 'colors'\n",
      "  warnings.warn((\"'colors' is being deprecated. Please use 'color'\"\n"
     ]
    },
    {
     "data": {
      "text/plain": [
       "<matplotlib.axes._subplots.AxesSubplot at 0x119047cc0>"
      ]
     },
     "execution_count": 184,
     "metadata": {},
     "output_type": "execute_result"
    },
    {
     "data": {
      "image/png": "[encoded data removed]",
      "text/plain": [
       "<matplotlib.figure.Figure at 0x1197d96a0>"
      ]
     },
     "metadata": {},
     "output_type": "display_data"
    }
   ],
   "source": [
    "mean_compare_to_four_57_two[9:12].plot(kind=\"bar\", figsize=(19, 12), colors=['#CED9DE', '#C4C497', '#D9D9D4'])"
   ]
  },
  {
   "cell_type": "code",
   "execution_count": 185,
   "metadata": {
    "collapsed": false
   },
   "outputs": [
    {
     "data": {
      "text/plain": [
       "<matplotlib.axes._subplots.AxesSubplot at 0x115de3470>"
      ]
     },
     "execution_count": 185,
     "metadata": {},
     "output_type": "execute_result"
    },
    {
     "data": {
      "image/png": "[encoded data removed]",
      "text/plain": [
       "<matplotlib.figure.Figure at 0x115ddc048>"
      ]
     },
     "metadata": {},
     "output_type": "display_data"
    }
   ],
   "source": [
    "checking_four_57_two.iloc[:,17:20].plot(kind='bar', figsize=(19, 12))"
   ]
  },
  {
   "cell_type": "markdown",
   "metadata": {},
   "source": [
    "##Normalizing the Data and Plotting on same graph"
   ]
  },
  {
   "cell_type": "code",
   "execution_count": 186,
   "metadata": {
    "collapsed": false
   },
   "outputs": [
    {
     "data": {
      "text/html": [
       "<div>\n",
       "<table border=\"1\" class=\"dataframe\">\n",
       "  <thead>\n",
       "    <tr style=\"text-align: right;\">\n",
       "      <th></th>\n",
       "      <th>0</th>\n",
       "    </tr>\n",
       "  </thead>\n",
       "  <tbody>\n",
       "    <tr>\n",
       "      <th>Reported Property Floor Area (Building(s)) (ft²)</th>\n",
       "      <td>105326.033238</td>\n",
       "    </tr>\n",
       "  </tbody>\n",
       "</table>\n",
       "</div>"
      ],
      "text/plain": [
       "                                                              0\n",
       "Reported Property Floor Area (Building(s)) (ft²)  105326.033238"
      ]
     },
     "execution_count": 186,
     "metadata": {},
     "output_type": "execute_result"
    }
   ],
   "source": [
    "pd.DataFrame(compare_to_four_57_two.mean()).iloc[12:13, :]"
   ]
  },
  {
   "cell_type": "code",
   "execution_count": 187,
   "metadata": {
    "collapsed": false
   },
   "outputs": [
    {
     "data": {
      "text/plain": [
       "105326.03323836657"
      ]
     },
     "execution_count": 187,
     "metadata": {},
     "output_type": "execute_result"
    }
   ],
   "source": [
    "#Reported Property Floor Area (Building(s)) (ft²)\n",
    "compare_to_four_57_two.mean()[12]"
   ]
  },
  {
   "cell_type": "code",
   "execution_count": 188,
   "metadata": {
    "collapsed": false
   },
   "outputs": [
    {
     "data": {
      "text/plain": [
       "106039.0"
      ]
     },
     "execution_count": 188,
     "metadata": {},
     "output_type": "execute_result"
    }
   ],
   "source": [
    "#Reported Property Floor Area (Building(s)) (ft²)\n",
    "checking_four_57_two.squeeze()[20]"
   ]
  },
  {
   "cell_type": "code",
   "execution_count": 189,
   "metadata": {
    "collapsed": false
   },
   "outputs": [
    {
     "data": {
      "text/plain": [
       "0.99327637226272003"
      ]
     },
     "execution_count": 189,
     "metadata": {},
     "output_type": "execute_result"
    }
   ],
   "source": [
    "#Normalized by the Reported Property Floor Area (Building(s)) (ft²)\n",
    "norm_mean_to_compare_energy = compare_to_four_57_two\n",
    "norm_mean_to_compare_energy = norm_mean_to_compare_energy.mean()\n",
    "norm_mean_to_compare_energy = pd.DataFrame(norm_mean_to_compare_energy)\n",
    "norm_mean_to_compare_energy\n",
    "percent_normalize = compare_to_four_57_two.mean()[12] / checking_four_57_two.squeeze()[20]\n",
    "percent_normalize"
   ]
  },
  {
   "cell_type": "code",
   "execution_count": 190,
   "metadata": {
    "collapsed": false
   },
   "outputs": [
    {
     "data": {
      "text/plain": [
       "(1053, 24)"
      ]
     },
     "execution_count": 190,
     "metadata": {},
     "output_type": "execute_result"
    }
   ],
   "source": [
    "compare_to_four_57_two.shape"
   ]
  },
  {
   "cell_type": "markdown",
   "metadata": {},
   "source": [
    "##Checking for outliers"
   ]
  },
  {
   "cell_type": "code",
   "execution_count": 191,
   "metadata": {
    "collapsed": false
   },
   "outputs": [
    {
     "data": {
      "text/plain": [
       "<matplotlib.collections.PathCollection at 0x115ed2cf8>"
      ]
     },
     "execution_count": 191,
     "metadata": {},
     "output_type": "execute_result"
    },
    {
     "data": {
      "image/png": "[encoded data removed]",
      "text/plain": [
       "<matplotlib.figure.Figure at 0x119295b70>"
      ]
     },
     "metadata": {},
     "output_type": "display_data"
    }
   ],
   "source": [
    "plt.scatter(compare_to_four_57_two['Reported Property Floor Area (Building(s)) (ft²)'], compare_to_four_57_two['Total GHG Emissions(MtCO2e)'])"
   ]
  },
  {
   "cell_type": "markdown",
   "metadata": {},
   "source": [
    "##Remvoing the outliers"
   ]
  },
  {
   "cell_type": "code",
   "execution_count": 192,
   "metadata": {
    "collapsed": true
   },
   "outputs": [],
   "source": [
    "compare_to_four_57_two = compare_to_four_57_two[compare_to_four_57_two['Total GHG Emissions(MtCO2e)'] < 2000]"
   ]
  },
  {
   "cell_type": "markdown",
   "metadata": {},
   "source": [
    "##Checking removal of outliers"
   ]
  },
  {
   "cell_type": "code",
   "execution_count": 193,
   "metadata": {
    "collapsed": false
   },
   "outputs": [
    {
     "data": {
      "text/plain": [
       "<matplotlib.collections.PathCollection at 0x11965b4a8>"
      ]
     },
     "execution_count": 193,
     "metadata": {},
     "output_type": "execute_result"
    },
    {
     "data": {
      "image/png": "[encoded data removed]",
      "text/plain": [
       "<matplotlib.figure.Figure at 0x115ef2668>"
      ]
     },
     "metadata": {},
     "output_type": "display_data"
    }
   ],
   "source": [
    "plt.scatter(compare_to_four_57_two['Reported Property Floor Area (Building(s)) (ft²)'], compare_to_four_57_two['Total GHG Emissions(MtCO2e)'])"
   ]
  },
  {
   "cell_type": "code",
   "execution_count": 194,
   "metadata": {
    "collapsed": false
   },
   "outputs": [
    {
     "data": {
      "text/plain": [
       "(966, 24)"
      ]
     },
     "execution_count": 194,
     "metadata": {},
     "output_type": "execute_result"
    }
   ],
   "source": [
    "compare_to_four_57_two.shape"
   ]
  },
  {
   "cell_type": "code",
   "execution_count": 195,
   "metadata": {
    "collapsed": false
   },
   "outputs": [
    {
     "data": {
      "text/html": [
       "<div>\n",
       "<table border=\"1\" class=\"dataframe\">\n",
       "  <thead>\n",
       "    <tr style=\"text-align: right;\">\n",
       "      <th></th>\n",
       "      <th>Average</th>\n",
       "    </tr>\n",
       "  </thead>\n",
       "  <tbody>\n",
       "    <tr>\n",
       "      <th>Total GHG Emissions(MtCO2e)</th>\n",
       "      <td>567.502692</td>\n",
       "    </tr>\n",
       "    <tr>\n",
       "      <th>Direct GHG Emissions(MtCO2e)</th>\n",
       "      <td>385.516977</td>\n",
       "    </tr>\n",
       "    <tr>\n",
       "      <th>Indirect GHG Emissions(MtCO2e)</th>\n",
       "      <td>181.985714</td>\n",
       "    </tr>\n",
       "  </tbody>\n",
       "</table>\n",
       "</div>"
      ],
      "text/plain": [
       "                                   Average\n",
       "Total GHG Emissions(MtCO2e)     567.502692\n",
       "Direct GHG Emissions(MtCO2e)    385.516977\n",
       "Indirect GHG Emissions(MtCO2e)  181.985714"
      ]
     },
     "execution_count": 195,
     "metadata": {},
     "output_type": "execute_result"
    }
   ],
   "source": [
    "mean_to_compare_energy = compare_to_four_57_two.mean().squeeze()[9:12]\n",
    "mean_to_compare_energy = pd.DataFrame(mean_to_compare_energy)\n",
    "mean_to_compare_energy.columns=['Average']\n",
    "mean_to_compare_energy"
   ]
  },
  {
   "cell_type": "code",
   "execution_count": 196,
   "metadata": {
    "collapsed": false
   },
   "outputs": [
    {
     "data": {
      "text/html": [
       "<div>\n",
       "<table border=\"1\" class=\"dataframe\">\n",
       "  <thead>\n",
       "    <tr style=\"text-align: right;\">\n",
       "      <th></th>\n",
       "      <th>Average</th>\n",
       "      <th>Average_Adjusted</th>\n",
       "    </tr>\n",
       "  </thead>\n",
       "  <tbody>\n",
       "    <tr>\n",
       "      <th>Total GHG Emissions(MtCO2e)</th>\n",
       "      <td>567.502692</td>\n",
       "      <td>563.687015</td>\n",
       "    </tr>\n",
       "    <tr>\n",
       "      <th>Direct GHG Emissions(MtCO2e)</th>\n",
       "      <td>385.516977</td>\n",
       "      <td>382.924905</td>\n",
       "    </tr>\n",
       "    <tr>\n",
       "      <th>Indirect GHG Emissions(MtCO2e)</th>\n",
       "      <td>181.985714</td>\n",
       "      <td>180.762110</td>\n",
       "    </tr>\n",
       "  </tbody>\n",
       "</table>\n",
       "</div>"
      ],
      "text/plain": [
       "                                   Average  Average_Adjusted\n",
       "Total GHG Emissions(MtCO2e)     567.502692        563.687015\n",
       "Direct GHG Emissions(MtCO2e)    385.516977        382.924905\n",
       "Indirect GHG Emissions(MtCO2e)  181.985714        180.762110"
      ]
     },
     "execution_count": 196,
     "metadata": {},
     "output_type": "execute_result"
    }
   ],
   "source": [
    "#Multiplying by percent_normalize in each row\n",
    "mean_to_compare_energy['Average_Adjusted'] = mean_to_compare_energy['Average'] * percent_normalize\n",
    "mean_to_compare_energy"
   ]
  },
  {
   "cell_type": "markdown",
   "metadata": {},
   "source": [
    "##Joining Average_adjusted to Building 4572"
   ]
  },
  {
   "cell_type": "code",
   "execution_count": 197,
   "metadata": {
    "collapsed": false
   },
   "outputs": [
    {
     "data": {
      "text/html": [
       "<div>\n",
       "<table border=\"1\" class=\"dataframe\">\n",
       "  <thead>\n",
       "    <tr style=\"text-align: right;\">\n",
       "      <th></th>\n",
       "      <th>Building 4572</th>\n",
       "    </tr>\n",
       "  </thead>\n",
       "  <tbody>\n",
       "    <tr>\n",
       "      <th>Total GHG Emissions(MtCO2e)</th>\n",
       "      <td>441.8</td>\n",
       "    </tr>\n",
       "    <tr>\n",
       "      <th>Direct GHG Emissions(MtCO2e)</th>\n",
       "      <td>333.1</td>\n",
       "    </tr>\n",
       "    <tr>\n",
       "      <th>Indirect GHG Emissions(MtCO2e)</th>\n",
       "      <td>108.7</td>\n",
       "    </tr>\n",
       "  </tbody>\n",
       "</table>\n",
       "</div>"
      ],
      "text/plain": [
       "                               Building 4572\n",
       "Total GHG Emissions(MtCO2e)            441.8\n",
       "Direct GHG Emissions(MtCO2e)           333.1\n",
       "Indirect GHG Emissions(MtCO2e)         108.7"
      ]
     },
     "execution_count": 197,
     "metadata": {},
     "output_type": "execute_result"
    }
   ],
   "source": [
    "checking_four_57_two = checking_four_57_two.squeeze()\n",
    "four_57_two_energy = checking_four_57_two[17:20]\n",
    "four_57_two_energy = pd.DataFrame(four_57_two_energy)\n",
    "four_57_two_energy.columns=['Building 4572']\n",
    "four_57_two_energy"
   ]
  },
  {
   "cell_type": "code",
   "execution_count": 198,
   "metadata": {
    "collapsed": false,
    "scrolled": true
   },
   "outputs": [
    {
     "data": {
      "text/html": [
       "<div>\n",
       "<table border=\"1\" class=\"dataframe\">\n",
       "  <thead>\n",
       "    <tr style=\"text-align: right;\">\n",
       "      <th></th>\n",
       "      <th>Building 4572</th>\n",
       "      <th>Average_Adjusted</th>\n",
       "    </tr>\n",
       "  </thead>\n",
       "  <tbody>\n",
       "    <tr>\n",
       "      <th>Total GHG Emissions(MtCO2e)</th>\n",
       "      <td>441.8</td>\n",
       "      <td>563.687015</td>\n",
       "    </tr>\n",
       "    <tr>\n",
       "      <th>Direct GHG Emissions(MtCO2e)</th>\n",
       "      <td>333.1</td>\n",
       "      <td>382.924905</td>\n",
       "    </tr>\n",
       "    <tr>\n",
       "      <th>Indirect GHG Emissions(MtCO2e)</th>\n",
       "      <td>108.7</td>\n",
       "      <td>180.762110</td>\n",
       "    </tr>\n",
       "  </tbody>\n",
       "</table>\n",
       "</div>"
      ],
      "text/plain": [
       "                               Building 4572  Average_Adjusted\n",
       "Total GHG Emissions(MtCO2e)            441.8        563.687015\n",
       "Direct GHG Emissions(MtCO2e)           333.1        382.924905\n",
       "Indirect GHG Emissions(MtCO2e)         108.7        180.762110"
      ]
     },
     "execution_count": 198,
     "metadata": {},
     "output_type": "execute_result"
    }
   ],
   "source": [
    "four_57_two_energy_comparison = four_57_two_energy.join(mean_to_compare_energy.iloc[:,1:2])\n",
    "four_57_two_energy_comparison"
   ]
  },
  {
   "cell_type": "code",
   "execution_count": 199,
   "metadata": {
    "collapsed": true
   },
   "outputs": [],
   "source": [
    "import seaborn"
   ]
  },
  {
   "cell_type": "code",
   "execution_count": 200,
   "metadata": {
    "collapsed": false
   },
   "outputs": [
    {
     "data": {
      "text/plain": [
       "<matplotlib.axes._subplots.AxesSubplot at 0x11965be80>"
      ]
     },
     "execution_count": 200,
     "metadata": {},
     "output_type": "execute_result"
    },
    {
     "data": {
      "image/png": "[encoded data removed]",
      "text/plain": [
       "<matplotlib.figure.Figure at 0x115f15240>"
      ]
     },
     "metadata": {},
     "output_type": "display_data"
    }
   ],
   "source": [
    "four_57_two_energy_comparison.plot(kind='bar', figsize=(19,12))"
   ]
  },
  {
   "cell_type": "code",
   "execution_count": 201,
   "metadata": {
    "collapsed": false
   },
   "outputs": [
    {
     "data": {
      "text/html": [
       "<div>\n",
       "<table border=\"1\" class=\"dataframe\">\n",
       "  <thead>\n",
       "    <tr style=\"text-align: right;\">\n",
       "      <th></th>\n",
       "      <th>Building 4572</th>\n",
       "      <th>Average_Adjusted</th>\n",
       "    </tr>\n",
       "  </thead>\n",
       "  <tbody>\n",
       "    <tr>\n",
       "      <th>Total GHG Emissions(MtCO2e)</th>\n",
       "      <td>441.8</td>\n",
       "      <td>563.687015</td>\n",
       "    </tr>\n",
       "    <tr>\n",
       "      <th>Direct GHG Emissions(MtCO2e)</th>\n",
       "      <td>333.1</td>\n",
       "      <td>382.924905</td>\n",
       "    </tr>\n",
       "    <tr>\n",
       "      <th>Indirect GHG Emissions(MtCO2e)</th>\n",
       "      <td>108.7</td>\n",
       "      <td>180.762110</td>\n",
       "    </tr>\n",
       "  </tbody>\n",
       "</table>\n",
       "</div>"
      ],
      "text/plain": [
       "                               Building 4572  Average_Adjusted\n",
       "Total GHG Emissions(MtCO2e)            441.8        563.687015\n",
       "Direct GHG Emissions(MtCO2e)           333.1        382.924905\n",
       "Indirect GHG Emissions(MtCO2e)         108.7        180.762110"
      ]
     },
     "execution_count": 201,
     "metadata": {},
     "output_type": "execute_result"
    }
   ],
   "source": [
    "four_57_two_energy_comparison"
   ]
  },
  {
   "cell_type": "markdown",
   "metadata": {},
   "source": [
    "#Building 1892"
   ]
  },
  {
   "cell_type": "code",
   "execution_count": 202,
   "metadata": {
    "collapsed": false
   },
   "outputs": [
    {
     "data": {
      "text/plain": [
       "Record Number                                                                        1892\n",
       "NYC Borough, Block, and Lot (BBL)                                            1.009398e+09\n",
       "Co-reported BBL Status                                                                NaN\n",
       "BBLs Co-reported                                                             1-00939-7501\n",
       "Reported NYC Building Identificaiton Numbers (BINs)                               1087841\n",
       "Street Number                                                      12/31/0302 12:00:00 AM\n",
       "Borough                                                                         Manhattan\n",
       "Zip Code                                                                            10016\n",
       "DOF Benchmarking Submission Status                                                  Filed\n",
       "Site EUI(kBtu/ft2)                                                                   88.1\n",
       "Weather Normalized Site EUI(kBtu/ft2)                                                  87\n",
       "Source EUI(kBtu/ft2)                                                                210.2\n",
       "Weather Normalized Source EUI(kBtu/ft2)                                             208.5\n",
       "Municipally Supplied Potable Water - Indoor Intensity (gal/ft²)                       NaN\n",
       "Automatic Water Benchmarking Eligible                                                  No\n",
       "Reported Water Method                                                                None\n",
       "ENERGY STAR Score                                                                     NaN\n",
       "Total GHG Emissions(MtCO2e)                                                           749\n",
       "Direct GHG Emissions(MtCO2e)                                                        201.2\n",
       "Indirect GHG Emissions(MtCO2e)                                                      547.8\n",
       "Reported Property Floor Area (Building(s)) (ft²)                                   119517\n",
       "DOF Property Floor Area (Buildngs and Parking)(ft2)                                144225\n",
       "Primary Property Type - Self Selected                                 Multifamily Housing\n",
       "DOF Number of Buildings                                                                 1\n",
       "Name: 5581, dtype: object"
      ]
     },
     "execution_count": 202,
     "metadata": {},
     "output_type": "execute_result"
    }
   ],
   "source": [
    "one_89_two = all_energy_data_nyc[all_energy_data_nyc['Record Number'] == 1892] \n",
    "one_89_two = one_89_two.squeeze()\n",
    "one_89_two"
   ]
  },
  {
   "cell_type": "code",
   "execution_count": 203,
   "metadata": {
    "collapsed": false
   },
   "outputs": [
    {
     "data": {
      "text/html": [
       "<div>\n",
       "<table border=\"1\" class=\"dataframe\">\n",
       "  <thead>\n",
       "    <tr style=\"text-align: right;\">\n",
       "      <th></th>\n",
       "      <th>Building 1892</th>\n",
       "    </tr>\n",
       "  </thead>\n",
       "  <tbody>\n",
       "    <tr>\n",
       "      <th>Total GHG Emissions(MtCO2e)</th>\n",
       "      <td>749</td>\n",
       "    </tr>\n",
       "    <tr>\n",
       "      <th>Direct GHG Emissions(MtCO2e)</th>\n",
       "      <td>201.2</td>\n",
       "    </tr>\n",
       "    <tr>\n",
       "      <th>Indirect GHG Emissions(MtCO2e)</th>\n",
       "      <td>547.8</td>\n",
       "    </tr>\n",
       "  </tbody>\n",
       "</table>\n",
       "</div>"
      ],
      "text/plain": [
       "                               Building 1892\n",
       "Total GHG Emissions(MtCO2e)              749\n",
       "Direct GHG Emissions(MtCO2e)           201.2\n",
       "Indirect GHG Emissions(MtCO2e)         547.8"
      ]
     },
     "execution_count": 203,
     "metadata": {},
     "output_type": "execute_result"
    }
   ],
   "source": [
    "one_89_two_energy = one_89_two[17:20]\n",
    "one_89_two_energy = pd.DataFrame(one_89_two_energy)\n",
    "one_89_two_energy.columns=['Building 1892']\n",
    "one_89_two_energy"
   ]
  },
  {
   "cell_type": "markdown",
   "metadata": {},
   "source": [
    "##Average buildings, similar to 1892"
   ]
  },
  {
   "cell_type": "code",
   "execution_count": 204,
   "metadata": {
    "collapsed": false
   },
   "outputs": [
    {
     "data": {
      "text/plain": [
       "(107565.3, 131468.7)"
      ]
     },
     "execution_count": 204,
     "metadata": {},
     "output_type": "execute_result"
    }
   ],
   "source": [
    "#Comparing to buidlings with +/- 10 percent similar sqfoot\n",
    "minus_10_percent_area = 119517*.9\n",
    "plus_10_percent_area = 119517*1.1\n",
    "minus_10_percent_area, plus_10_percent_area"
   ]
  },
  {
   "cell_type": "code",
   "execution_count": 205,
   "metadata": {
    "collapsed": true
   },
   "outputs": [],
   "source": [
    "compare_to_one_89_two = all_energy_data_nyc[(all_energy_data_nyc['Primary Property Type - Self Selected'] == 'Multifamily Housing') & (all_energy_data_nyc['Reported Property Floor Area (Building(s)) (ft²)'] > 107565.3) & (all_energy_data_nyc['Reported Property Floor Area (Building(s)) (ft²)'] < 131468.7) & (all_energy_data_nyc['Record Number'] != 1892)]"
   ]
  },
  {
   "cell_type": "code",
   "execution_count": 206,
   "metadata": {
    "collapsed": false
   },
   "outputs": [
    {
     "data": {
      "text/plain": [
       "(912, 24)"
      ]
     },
     "execution_count": 206,
     "metadata": {},
     "output_type": "execute_result"
    }
   ],
   "source": [
    "#total projects to compare to the 1892\n",
    "compare_to_one_89_two.shape"
   ]
  },
  {
   "cell_type": "markdown",
   "metadata": {},
   "source": [
    "##Checking for outliers"
   ]
  },
  {
   "cell_type": "code",
   "execution_count": 207,
   "metadata": {
    "collapsed": false
   },
   "outputs": [
    {
     "data": {
      "text/plain": [
       "<matplotlib.collections.PathCollection at 0x11a9bfcc0>"
      ]
     },
     "execution_count": 207,
     "metadata": {},
     "output_type": "execute_result"
    },
    {
     "data": {
      "image/png": "[encoded data removed]",
      "text/plain": [
       "<matplotlib.figure.Figure at 0x11a5c1278>"
      ]
     },
     "metadata": {},
     "output_type": "display_data"
    }
   ],
   "source": [
    "plt.scatter(compare_to_one_89_two['Reported Property Floor Area (Building(s)) (ft²)'], compare_to_one_89_two['Total GHG Emissions(MtCO2e)'])"
   ]
  },
  {
   "cell_type": "markdown",
   "metadata": {},
   "source": [
    "#Removing outliers"
   ]
  },
  {
   "cell_type": "code",
   "execution_count": 208,
   "metadata": {
    "collapsed": true
   },
   "outputs": [],
   "source": [
    "compare_to_one_89_two = compare_to_one_89_two[compare_to_one_89_two['Total GHG Emissions(MtCO2e)'] < 4000]"
   ]
  },
  {
   "cell_type": "markdown",
   "metadata": {},
   "source": [
    "##Checking for removal of outliers"
   ]
  },
  {
   "cell_type": "code",
   "execution_count": 209,
   "metadata": {
    "collapsed": false
   },
   "outputs": [
    {
     "data": {
      "text/plain": [
       "<matplotlib.collections.PathCollection at 0x11a9ea2b0>"
      ]
     },
     "execution_count": 209,
     "metadata": {},
     "output_type": "execute_result"
    },
    {
     "data": {
      "image/png": "[encoded data removed]",
      "text/plain": [
       "<matplotlib.figure.Figure at 0x11a9cbfd0>"
      ]
     },
     "metadata": {},
     "output_type": "display_data"
    }
   ],
   "source": [
    "plt.scatter(compare_to_one_89_two['Reported Property Floor Area (Building(s)) (ft²)'], compare_to_one_89_two['Total GHG Emissions(MtCO2e)'])"
   ]
  },
  {
   "cell_type": "code",
   "execution_count": 275,
   "metadata": {
    "collapsed": false
   },
   "outputs": [
    {
     "data": {
      "text/plain": [
       "(830, 24)"
      ]
     },
     "execution_count": 275,
     "metadata": {},
     "output_type": "execute_result"
    }
   ],
   "source": [
    "compare_to_one_89_two.shape"
   ]
  },
  {
   "cell_type": "code",
   "execution_count": 210,
   "metadata": {
    "collapsed": false
   },
   "outputs": [
    {
     "data": {
      "text/plain": [
       "Record Number                                                      6.770760e+03\n",
       "NYC Borough, Block, and Lot (BBL)                                  2.306754e+09\n",
       "Zip Code                                                           1.062573e+04\n",
       "Site EUI(kBtu/ft2)                                                 8.210085e+01\n",
       "Weather Normalized Site EUI(kBtu/ft2)                              8.080494e+01\n",
       "Source EUI(kBtu/ft2)                                               1.263564e+02\n",
       "Weather Normalized Source EUI(kBtu/ft2)                            1.258176e+02\n",
       "Municipally Supplied Potable Water - Indoor Intensity (gal/ft²)    5.974925e+01\n",
       "ENERGY STAR Score                                                           NaN\n",
       "Total GHG Emissions(MtCO2e)                                        6.455345e+02\n",
       "Direct GHG Emissions(MtCO2e)                                       4.322543e+02\n",
       "Indirect GHG Emissions(MtCO2e)                                     2.132801e+02\n",
       "Reported Property Floor Area (Building(s)) (ft²)                   1.187542e+05\n",
       "DOF Property Floor Area (Buildngs and Parking)(ft2)                1.331605e+05\n",
       "DOF Number of Buildings                                            2.042984e+00\n",
       "dtype: float64"
      ]
     },
     "execution_count": 210,
     "metadata": {},
     "output_type": "execute_result"
    }
   ],
   "source": [
    "mean_compare_to_one_89_two = compare_to_one_89_two.mean()\n",
    "mean_compare_to_one_89_two"
   ]
  },
  {
   "cell_type": "code",
   "execution_count": 211,
   "metadata": {
    "collapsed": false
   },
   "outputs": [
    {
     "data": {
      "text/plain": [
       "118754.19638554216"
      ]
     },
     "execution_count": 211,
     "metadata": {},
     "output_type": "execute_result"
    }
   ],
   "source": [
    "mean_compare_to_one_89_two[12]"
   ]
  },
  {
   "cell_type": "code",
   "execution_count": 212,
   "metadata": {
    "collapsed": false
   },
   "outputs": [
    {
     "data": {
      "text/plain": [
       "119517.0"
      ]
     },
     "execution_count": 212,
     "metadata": {},
     "output_type": "execute_result"
    }
   ],
   "source": [
    "one_89_two.squeeze()[20]"
   ]
  },
  {
   "cell_type": "code",
   "execution_count": 213,
   "metadata": {
    "collapsed": false
   },
   "outputs": [
    {
     "data": {
      "text/plain": [
       "0.99361761410964267"
      ]
     },
     "execution_count": 213,
     "metadata": {},
     "output_type": "execute_result"
    }
   ],
   "source": [
    "percent_normalize_1892 = mean_compare_to_one_89_two[12] / one_89_two.squeeze()[20]\n",
    "percent_normalize_1892"
   ]
  },
  {
   "cell_type": "code",
   "execution_count": 214,
   "metadata": {
    "collapsed": false
   },
   "outputs": [
    {
     "data": {
      "text/html": [
       "<div>\n",
       "<table border=\"1\" class=\"dataframe\">\n",
       "  <thead>\n",
       "    <tr style=\"text-align: right;\">\n",
       "      <th></th>\n",
       "      <th>Building 1892</th>\n",
       "    </tr>\n",
       "  </thead>\n",
       "  <tbody>\n",
       "    <tr>\n",
       "      <th>Total GHG Emissions(MtCO2e)</th>\n",
       "      <td>749</td>\n",
       "    </tr>\n",
       "    <tr>\n",
       "      <th>Direct GHG Emissions(MtCO2e)</th>\n",
       "      <td>201.2</td>\n",
       "    </tr>\n",
       "    <tr>\n",
       "      <th>Indirect GHG Emissions(MtCO2e)</th>\n",
       "      <td>547.8</td>\n",
       "    </tr>\n",
       "  </tbody>\n",
       "</table>\n",
       "</div>"
      ],
      "text/plain": [
       "                               Building 1892\n",
       "Total GHG Emissions(MtCO2e)              749\n",
       "Direct GHG Emissions(MtCO2e)           201.2\n",
       "Indirect GHG Emissions(MtCO2e)         547.8"
      ]
     },
     "execution_count": 214,
     "metadata": {},
     "output_type": "execute_result"
    }
   ],
   "source": [
    "one_89_two_energy = one_89_two[17:20]\n",
    "one_89_two_energy = pd.DataFrame(one_89_two_energy)\n",
    "one_89_two_energy.columns=['Building 1892']\n",
    "one_89_two_energy"
   ]
  },
  {
   "cell_type": "code",
   "execution_count": 215,
   "metadata": {
    "collapsed": false
   },
   "outputs": [
    {
     "data": {
      "text/html": [
       "<div>\n",
       "<table border=\"1\" class=\"dataframe\">\n",
       "  <thead>\n",
       "    <tr style=\"text-align: right;\">\n",
       "      <th></th>\n",
       "      <th>Average</th>\n",
       "    </tr>\n",
       "  </thead>\n",
       "  <tbody>\n",
       "    <tr>\n",
       "      <th>Total GHG Emissions(MtCO2e)</th>\n",
       "      <td>645.534458</td>\n",
       "    </tr>\n",
       "    <tr>\n",
       "      <th>Direct GHG Emissions(MtCO2e)</th>\n",
       "      <td>432.254337</td>\n",
       "    </tr>\n",
       "    <tr>\n",
       "      <th>Indirect GHG Emissions(MtCO2e)</th>\n",
       "      <td>213.280120</td>\n",
       "    </tr>\n",
       "  </tbody>\n",
       "</table>\n",
       "</div>"
      ],
      "text/plain": [
       "                                   Average\n",
       "Total GHG Emissions(MtCO2e)     645.534458\n",
       "Direct GHG Emissions(MtCO2e)    432.254337\n",
       "Indirect GHG Emissions(MtCO2e)  213.280120"
      ]
     },
     "execution_count": 215,
     "metadata": {},
     "output_type": "execute_result"
    }
   ],
   "source": [
    "mean_compare_to_one_89_two_energy = mean_compare_to_one_89_two[9:12]\n",
    "mean_compare_to_one_89_two_energy = pd.DataFrame(mean_compare_to_one_89_two_energy)\n",
    "mean_compare_to_one_89_two_energy.columns=['Average']\n",
    "mean_compare_to_one_89_two_energy"
   ]
  },
  {
   "cell_type": "code",
   "execution_count": 216,
   "metadata": {
    "collapsed": false
   },
   "outputs": [
    {
     "data": {
      "text/html": [
       "<div>\n",
       "<table border=\"1\" class=\"dataframe\">\n",
       "  <thead>\n",
       "    <tr style=\"text-align: right;\">\n",
       "      <th></th>\n",
       "      <th>Average</th>\n",
       "      <th>Average_Adjusted</th>\n",
       "    </tr>\n",
       "  </thead>\n",
       "  <tbody>\n",
       "    <tr>\n",
       "      <th>Total GHG Emissions(MtCO2e)</th>\n",
       "      <td>567.502692</td>\n",
       "      <td>563.687015</td>\n",
       "    </tr>\n",
       "    <tr>\n",
       "      <th>Direct GHG Emissions(MtCO2e)</th>\n",
       "      <td>385.516977</td>\n",
       "      <td>382.924905</td>\n",
       "    </tr>\n",
       "    <tr>\n",
       "      <th>Indirect GHG Emissions(MtCO2e)</th>\n",
       "      <td>181.985714</td>\n",
       "      <td>180.762110</td>\n",
       "    </tr>\n",
       "  </tbody>\n",
       "</table>\n",
       "</div>"
      ],
      "text/plain": [
       "                                   Average  Average_Adjusted\n",
       "Total GHG Emissions(MtCO2e)     567.502692        563.687015\n",
       "Direct GHG Emissions(MtCO2e)    385.516977        382.924905\n",
       "Indirect GHG Emissions(MtCO2e)  181.985714        180.762110"
      ]
     },
     "execution_count": 216,
     "metadata": {},
     "output_type": "execute_result"
    }
   ],
   "source": [
    "mean_compare_to_one_89_two_energy['Average_Adjusted'] = mean_compare_to_one_89_two_energy['Average'] * percent_normalize_1892\n",
    "mean_to_compare_energy"
   ]
  },
  {
   "cell_type": "code",
   "execution_count": 217,
   "metadata": {
    "collapsed": false
   },
   "outputs": [
    {
     "data": {
      "text/html": [
       "<div>\n",
       "<table border=\"1\" class=\"dataframe\">\n",
       "  <thead>\n",
       "    <tr style=\"text-align: right;\">\n",
       "      <th></th>\n",
       "      <th>Building 1892</th>\n",
       "      <th>Average_Adjusted</th>\n",
       "    </tr>\n",
       "  </thead>\n",
       "  <tbody>\n",
       "    <tr>\n",
       "      <th>Total GHG Emissions(MtCO2e)</th>\n",
       "      <td>749</td>\n",
       "      <td>641.414408</td>\n",
       "    </tr>\n",
       "    <tr>\n",
       "      <th>Direct GHG Emissions(MtCO2e)</th>\n",
       "      <td>201.2</td>\n",
       "      <td>429.495523</td>\n",
       "    </tr>\n",
       "    <tr>\n",
       "      <th>Indirect GHG Emissions(MtCO2e)</th>\n",
       "      <td>547.8</td>\n",
       "      <td>211.918884</td>\n",
       "    </tr>\n",
       "  </tbody>\n",
       "</table>\n",
       "</div>"
      ],
      "text/plain": [
       "                               Building 1892  Average_Adjusted\n",
       "Total GHG Emissions(MtCO2e)              749        641.414408\n",
       "Direct GHG Emissions(MtCO2e)           201.2        429.495523\n",
       "Indirect GHG Emissions(MtCO2e)         547.8        211.918884"
      ]
     },
     "execution_count": 217,
     "metadata": {},
     "output_type": "execute_result"
    }
   ],
   "source": [
    "one_89_two_energy_comparison = one_89_two_energy.join(mean_compare_to_one_89_two_energy.iloc[:,1:2])\n",
    "one_89_two_energy_comparison"
   ]
  },
  {
   "cell_type": "code",
   "execution_count": 218,
   "metadata": {
    "collapsed": false
   },
   "outputs": [
    {
     "data": {
      "text/plain": [
       "<matplotlib.axes._subplots.AxesSubplot at 0x11a9f0630>"
      ]
     },
     "execution_count": 218,
     "metadata": {},
     "output_type": "execute_result"
    },
    {
     "data": {
      "image/png": "[encoded data removed]",
      "text/plain": [
       "<matplotlib.figure.Figure at 0x116b95668>"
      ]
     },
     "metadata": {},
     "output_type": "display_data"
    }
   ],
   "source": [
    "one_89_two_energy_comparison.plot(kind='bar', figsize=(19,12))"
   ]
  },
  {
   "cell_type": "markdown",
   "metadata": {},
   "source": [
    "#Building 3924"
   ]
  },
  {
   "cell_type": "code",
   "execution_count": 219,
   "metadata": {
    "collapsed": false
   },
   "outputs": [
    {
     "data": {
      "text/plain": [
       "Record Number                                                                        3924\n",
       "NYC Borough, Block, and Lot (BBL)                                            1.015148e+09\n",
       "Co-reported BBL Status                                                                NaN\n",
       "BBLs Co-reported                                                               1015147502\n",
       "Reported NYC Building Identificaiton Numbers (BINs)                               1088463\n",
       "Street Number                                                      01/02/0150 12:00:00 AM\n",
       "Borough                                                                         Manhattan\n",
       "Zip Code                                                                            10028\n",
       "DOF Benchmarking Submission Status                                                  Filed\n",
       "Site EUI(kBtu/ft2)                                                                   60.9\n",
       "Weather Normalized Site EUI(kBtu/ft2)                                                  61\n",
       "Source EUI(kBtu/ft2)                                                                181.9\n",
       "Weather Normalized Source EUI(kBtu/ft2)                                               182\n",
       "Municipally Supplied Potable Water - Indoor Intensity (gal/ft²)                       NaN\n",
       "Automatic Water Benchmarking Eligible                                                  No\n",
       "Reported Water Method                                                                None\n",
       "ENERGY STAR Score                                                                     NaN\n",
       "Total GHG Emissions(MtCO2e)                                                        2190.2\n",
       "Direct GHG Emissions(MtCO2e)                                                        108.8\n",
       "Indirect GHG Emissions(MtCO2e)                                                     2081.4\n",
       "Reported Property Floor Area (Building(s)) (ft²)                                   453527\n",
       "DOF Property Floor Area (Buildngs and Parking)(ft2)                                453927\n",
       "Primary Property Type - Self Selected                                 Multifamily Housing\n",
       "DOF Number of Buildings                                                                 1\n",
       "Name: 5668, dtype: object"
      ]
     },
     "execution_count": 219,
     "metadata": {},
     "output_type": "execute_result"
    }
   ],
   "source": [
    "three_92_four = all_energy_data_nyc[all_energy_data_nyc['Record Number'] == 3924] \n",
    "three_92_four = three_92_four.squeeze()\n",
    "three_92_four"
   ]
  },
  {
   "cell_type": "code",
   "execution_count": 220,
   "metadata": {
    "collapsed": false
   },
   "outputs": [
    {
     "data": {
      "text/html": [
       "<div>\n",
       "<table border=\"1\" class=\"dataframe\">\n",
       "  <thead>\n",
       "    <tr style=\"text-align: right;\">\n",
       "      <th></th>\n",
       "      <th>Building 3924</th>\n",
       "    </tr>\n",
       "  </thead>\n",
       "  <tbody>\n",
       "    <tr>\n",
       "      <th>Total GHG Emissions(MtCO2e)</th>\n",
       "      <td>2190.2</td>\n",
       "    </tr>\n",
       "    <tr>\n",
       "      <th>Direct GHG Emissions(MtCO2e)</th>\n",
       "      <td>108.8</td>\n",
       "    </tr>\n",
       "    <tr>\n",
       "      <th>Indirect GHG Emissions(MtCO2e)</th>\n",
       "      <td>2081.4</td>\n",
       "    </tr>\n",
       "  </tbody>\n",
       "</table>\n",
       "</div>"
      ],
      "text/plain": [
       "                               Building 3924\n",
       "Total GHG Emissions(MtCO2e)           2190.2\n",
       "Direct GHG Emissions(MtCO2e)           108.8\n",
       "Indirect GHG Emissions(MtCO2e)        2081.4"
      ]
     },
     "execution_count": 220,
     "metadata": {},
     "output_type": "execute_result"
    }
   ],
   "source": [
    "three_92_four_energy = three_92_four[17:20]\n",
    "three_92_four_energy = pd.DataFrame(three_92_four_energy)\n",
    "three_92_four_energy.columns=['Building 3924']\n",
    "three_92_four_energy"
   ]
  },
  {
   "cell_type": "code",
   "execution_count": 221,
   "metadata": {
    "collapsed": false
   },
   "outputs": [
    {
     "data": {
      "text/plain": [
       "(408174.3, 498879.7)"
      ]
     },
     "execution_count": 221,
     "metadata": {},
     "output_type": "execute_result"
    }
   ],
   "source": [
    "#Average Buildings similar to 3924\n",
    "#Comparing to buidlings with +/- 10 percent similar sqfoot\n",
    "minus_10_percent_area = 453527*.9\n",
    "plus_10_percent_area = 453527*1.1\n",
    "minus_10_percent_area, plus_10_percent_area"
   ]
  },
  {
   "cell_type": "code",
   "execution_count": 222,
   "metadata": {
    "collapsed": true
   },
   "outputs": [],
   "source": [
    "compare_to_three_92_four = all_energy_data_nyc[(all_energy_data_nyc['Primary Property Type - Self Selected'] == 'Multifamily Housing') & (all_energy_data_nyc['Reported Property Floor Area (Building(s)) (ft²)'] > 408174.3) & (all_energy_data_nyc['Reported Property Floor Area (Building(s)) (ft²)'] < 498879.7) & (all_energy_data_nyc['Record Number'] != 3924)]"
   ]
  },
  {
   "cell_type": "code",
   "execution_count": 223,
   "metadata": {
    "collapsed": false
   },
   "outputs": [
    {
     "data": {
      "text/plain": [
       "(175, 24)"
      ]
     },
     "execution_count": 223,
     "metadata": {},
     "output_type": "execute_result"
    }
   ],
   "source": [
    "compare_to_three_92_four.shape"
   ]
  },
  {
   "cell_type": "markdown",
   "metadata": {},
   "source": [
    "##Checking for Outliers"
   ]
  },
  {
   "cell_type": "code",
   "execution_count": 224,
   "metadata": {
    "collapsed": false
   },
   "outputs": [
    {
     "data": {
      "text/plain": [
       "<matplotlib.collections.PathCollection at 0x11aff5780>"
      ]
     },
     "execution_count": 224,
     "metadata": {},
     "output_type": "execute_result"
    },
    {
     "data": {
      "image/png": "[encoded data removed]",
      "text/plain": [
       "<matplotlib.figure.Figure at 0x11ab1dc50>"
      ]
     },
     "metadata": {},
     "output_type": "display_data"
    }
   ],
   "source": [
    "plt.scatter(compare_to_three_92_four['Reported Property Floor Area (Building(s)) (ft²)'], compare_to_three_92_four['Total GHG Emissions(MtCO2e)'])"
   ]
  },
  {
   "cell_type": "markdown",
   "metadata": {},
   "source": [
    "##Removing Outliers"
   ]
  },
  {
   "cell_type": "code",
   "execution_count": 225,
   "metadata": {
    "collapsed": true
   },
   "outputs": [],
   "source": [
    "compare_to_three_92_four = compare_to_three_92_four[compare_to_three_92_four['Total GHG Emissions(MtCO2e)'] < 4000]"
   ]
  },
  {
   "cell_type": "markdown",
   "metadata": {},
   "source": [
    "##Checking removal of outliers"
   ]
  },
  {
   "cell_type": "code",
   "execution_count": 226,
   "metadata": {
    "collapsed": false
   },
   "outputs": [
    {
     "data": {
      "text/plain": [
       "<matplotlib.collections.PathCollection at 0x11b058128>"
      ]
     },
     "execution_count": 226,
     "metadata": {},
     "output_type": "execute_result"
    },
    {
     "data": {
      "image/png": "[encoded data removed]",
      "text/plain": [
       "<matplotlib.figure.Figure at 0x11b0162e8>"
      ]
     },
     "metadata": {},
     "output_type": "display_data"
    }
   ],
   "source": [
    "plt.scatter(compare_to_three_92_four['Reported Property Floor Area (Building(s)) (ft²)'], compare_to_three_92_four['Total GHG Emissions(MtCO2e)'])"
   ]
  },
  {
   "cell_type": "code",
   "execution_count": 276,
   "metadata": {
    "collapsed": false
   },
   "outputs": [
    {
     "data": {
      "text/plain": [
       "(145, 24)"
      ]
     },
     "execution_count": 276,
     "metadata": {},
     "output_type": "execute_result"
    }
   ],
   "source": [
    "compare_to_three_92_four.shape"
   ]
  },
  {
   "cell_type": "code",
   "execution_count": 227,
   "metadata": {
    "collapsed": false
   },
   "outputs": [
    {
     "data": {
      "text/plain": [
       "Record Number                                                      5.758710e+03\n",
       "NYC Borough, Block, and Lot (BBL)                                  1.900985e+09\n",
       "Zip Code                                                           1.045953e+04\n",
       "Site EUI(kBtu/ft2)                                                 7.913264e+01\n",
       "Weather Normalized Site EUI(kBtu/ft2)                              7.731270e+01\n",
       "Source EUI(kBtu/ft2)                                               1.299924e+02\n",
       "Weather Normalized Source EUI(kBtu/ft2)                            1.306151e+02\n",
       "Municipally Supplied Potable Water - Indoor Intensity (gal/ft²)    5.259522e+01\n",
       "ENERGY STAR Score                                                           NaN\n",
       "Total GHG Emissions(MtCO2e)                                        2.342028e+03\n",
       "Direct GHG Emissions(MtCO2e)                                       1.349854e+03\n",
       "Indirect GHG Emissions(MtCO2e)                                     9.921738e+02\n",
       "Reported Property Floor Area (Building(s)) (ft²)                   4.494250e+05\n",
       "DOF Property Floor Area (Buildngs and Parking)(ft2)                4.545279e+05\n",
       "DOF Number of Buildings                                            2.134328e+00\n",
       "dtype: float64"
      ]
     },
     "execution_count": 227,
     "metadata": {},
     "output_type": "execute_result"
    }
   ],
   "source": [
    "mean_compare_to_three_92_four = compare_to_three_92_four.mean()\n",
    "mean_compare_to_three_92_four"
   ]
  },
  {
   "cell_type": "code",
   "execution_count": 228,
   "metadata": {
    "collapsed": false
   },
   "outputs": [
    {
     "data": {
      "text/plain": [
       "449424.95172413794"
      ]
     },
     "execution_count": 228,
     "metadata": {},
     "output_type": "execute_result"
    }
   ],
   "source": [
    "mean_compare_to_three_92_four[12]"
   ]
  },
  {
   "cell_type": "code",
   "execution_count": 229,
   "metadata": {
    "collapsed": false
   },
   "outputs": [
    {
     "data": {
      "text/plain": [
       "453527.0"
      ]
     },
     "execution_count": 229,
     "metadata": {},
     "output_type": "execute_result"
    }
   ],
   "source": [
    "three_92_four[20]"
   ]
  },
  {
   "cell_type": "code",
   "execution_count": 230,
   "metadata": {
    "collapsed": false
   },
   "outputs": [
    {
     "data": {
      "text/plain": [
       "0.9909552280771331"
      ]
     },
     "execution_count": 230,
     "metadata": {},
     "output_type": "execute_result"
    }
   ],
   "source": [
    "percent_normalize_3924 = mean_compare_to_three_92_four[12] / three_92_four[20]\n",
    "percent_normalize_3924"
   ]
  },
  {
   "cell_type": "code",
   "execution_count": 231,
   "metadata": {
    "collapsed": false
   },
   "outputs": [
    {
     "data": {
      "text/html": [
       "<div>\n",
       "<table border=\"1\" class=\"dataframe\">\n",
       "  <thead>\n",
       "    <tr style=\"text-align: right;\">\n",
       "      <th></th>\n",
       "      <th>Building 3924</th>\n",
       "    </tr>\n",
       "  </thead>\n",
       "  <tbody>\n",
       "    <tr>\n",
       "      <th>Total GHG Emissions(MtCO2e)</th>\n",
       "      <td>2190.2</td>\n",
       "    </tr>\n",
       "    <tr>\n",
       "      <th>Direct GHG Emissions(MtCO2e)</th>\n",
       "      <td>108.8</td>\n",
       "    </tr>\n",
       "    <tr>\n",
       "      <th>Indirect GHG Emissions(MtCO2e)</th>\n",
       "      <td>2081.4</td>\n",
       "    </tr>\n",
       "  </tbody>\n",
       "</table>\n",
       "</div>"
      ],
      "text/plain": [
       "                               Building 3924\n",
       "Total GHG Emissions(MtCO2e)           2190.2\n",
       "Direct GHG Emissions(MtCO2e)           108.8\n",
       "Indirect GHG Emissions(MtCO2e)        2081.4"
      ]
     },
     "execution_count": 231,
     "metadata": {},
     "output_type": "execute_result"
    }
   ],
   "source": [
    "three_92_four_energy"
   ]
  },
  {
   "cell_type": "code",
   "execution_count": 232,
   "metadata": {
    "collapsed": false
   },
   "outputs": [
    {
     "data": {
      "text/html": [
       "<div>\n",
       "<table border=\"1\" class=\"dataframe\">\n",
       "  <thead>\n",
       "    <tr style=\"text-align: right;\">\n",
       "      <th></th>\n",
       "      <th>Average</th>\n",
       "    </tr>\n",
       "  </thead>\n",
       "  <tbody>\n",
       "    <tr>\n",
       "      <th>Total GHG Emissions(MtCO2e)</th>\n",
       "      <td>2342.027586</td>\n",
       "    </tr>\n",
       "    <tr>\n",
       "      <th>Direct GHG Emissions(MtCO2e)</th>\n",
       "      <td>1349.853793</td>\n",
       "    </tr>\n",
       "    <tr>\n",
       "      <th>Indirect GHG Emissions(MtCO2e)</th>\n",
       "      <td>992.173793</td>\n",
       "    </tr>\n",
       "  </tbody>\n",
       "</table>\n",
       "</div>"
      ],
      "text/plain": [
       "                                    Average\n",
       "Total GHG Emissions(MtCO2e)     2342.027586\n",
       "Direct GHG Emissions(MtCO2e)    1349.853793\n",
       "Indirect GHG Emissions(MtCO2e)   992.173793"
      ]
     },
     "execution_count": 232,
     "metadata": {},
     "output_type": "execute_result"
    }
   ],
   "source": [
    "mean_compare_to_three_92_four_energy = mean_compare_to_three_92_four[9:12]\n",
    "mean_compare_to_three_92_four_energy = pd.DataFrame(mean_compare_to_three_92_four_energy)\n",
    "mean_compare_to_three_92_four_energy.columns=['Average']\n",
    "mean_compare_to_three_92_four_energy"
   ]
  },
  {
   "cell_type": "code",
   "execution_count": 233,
   "metadata": {
    "collapsed": false
   },
   "outputs": [
    {
     "data": {
      "text/html": [
       "<div>\n",
       "<table border=\"1\" class=\"dataframe\">\n",
       "  <thead>\n",
       "    <tr style=\"text-align: right;\">\n",
       "      <th></th>\n",
       "      <th>Average</th>\n",
       "      <th>Average_Adjusted</th>\n",
       "    </tr>\n",
       "  </thead>\n",
       "  <tbody>\n",
       "    <tr>\n",
       "      <th>Total GHG Emissions(MtCO2e)</th>\n",
       "      <td>2342.027586</td>\n",
       "      <td>2320.844481</td>\n",
       "    </tr>\n",
       "    <tr>\n",
       "      <th>Direct GHG Emissions(MtCO2e)</th>\n",
       "      <td>1349.853793</td>\n",
       "      <td>1337.644673</td>\n",
       "    </tr>\n",
       "    <tr>\n",
       "      <th>Indirect GHG Emissions(MtCO2e)</th>\n",
       "      <td>992.173793</td>\n",
       "      <td>983.199807</td>\n",
       "    </tr>\n",
       "  </tbody>\n",
       "</table>\n",
       "</div>"
      ],
      "text/plain": [
       "                                    Average  Average_Adjusted\n",
       "Total GHG Emissions(MtCO2e)     2342.027586       2320.844481\n",
       "Direct GHG Emissions(MtCO2e)    1349.853793       1337.644673\n",
       "Indirect GHG Emissions(MtCO2e)   992.173793        983.199807"
      ]
     },
     "execution_count": 233,
     "metadata": {},
     "output_type": "execute_result"
    }
   ],
   "source": [
    "mean_compare_to_three_92_four_energy['Average_Adjusted'] = mean_compare_to_three_92_four_energy['Average'] * percent_normalize_3924\n",
    "mean_compare_to_three_92_four_energy"
   ]
  },
  {
   "cell_type": "code",
   "execution_count": 234,
   "metadata": {
    "collapsed": false
   },
   "outputs": [
    {
     "data": {
      "text/html": [
       "<div>\n",
       "<table border=\"1\" class=\"dataframe\">\n",
       "  <thead>\n",
       "    <tr style=\"text-align: right;\">\n",
       "      <th></th>\n",
       "      <th>Building 3924</th>\n",
       "      <th>Average_Adjusted</th>\n",
       "    </tr>\n",
       "  </thead>\n",
       "  <tbody>\n",
       "    <tr>\n",
       "      <th>Total GHG Emissions(MtCO2e)</th>\n",
       "      <td>2190.2</td>\n",
       "      <td>2320.844481</td>\n",
       "    </tr>\n",
       "    <tr>\n",
       "      <th>Direct GHG Emissions(MtCO2e)</th>\n",
       "      <td>108.8</td>\n",
       "      <td>1337.644673</td>\n",
       "    </tr>\n",
       "    <tr>\n",
       "      <th>Indirect GHG Emissions(MtCO2e)</th>\n",
       "      <td>2081.4</td>\n",
       "      <td>983.199807</td>\n",
       "    </tr>\n",
       "  </tbody>\n",
       "</table>\n",
       "</div>"
      ],
      "text/plain": [
       "                               Building 3924  Average_Adjusted\n",
       "Total GHG Emissions(MtCO2e)           2190.2       2320.844481\n",
       "Direct GHG Emissions(MtCO2e)           108.8       1337.644673\n",
       "Indirect GHG Emissions(MtCO2e)        2081.4        983.199807"
      ]
     },
     "execution_count": 234,
     "metadata": {},
     "output_type": "execute_result"
    }
   ],
   "source": [
    "three_92_four_energy_comparison = three_92_four_energy.join(mean_compare_to_three_92_four_energy.iloc[:,1:2])\n",
    "three_92_four_energy_comparison"
   ]
  },
  {
   "cell_type": "code",
   "execution_count": 235,
   "metadata": {
    "collapsed": false
   },
   "outputs": [
    {
     "data": {
      "text/plain": [
       "<matplotlib.axes._subplots.AxesSubplot at 0x11ac28048>"
      ]
     },
     "execution_count": 235,
     "metadata": {},
     "output_type": "execute_result"
    },
    {
     "data": {
      "image/png": "[encoded data removed]",
      "text/plain": [
       "<matplotlib.figure.Figure at 0x11b02db70>"
      ]
     },
     "metadata": {},
     "output_type": "display_data"
    }
   ],
   "source": [
    "three_92_four_energy_comparison.plot(kind='bar', figsize=(19,12))"
   ]
  },
  {
   "cell_type": "markdown",
   "metadata": {},
   "source": [
    "#Building 12254"
   ]
  },
  {
   "cell_type": "code",
   "execution_count": 236,
   "metadata": {
    "collapsed": false
   },
   "outputs": [
    {
     "data": {
      "text/plain": [
       "Record Number                                                                    12254\n",
       "NYC Borough, Block, and Lot (BBL)                                         5.015148e+09\n",
       "Co-reported BBL Status                                                             NaN\n",
       "BBLs Co-reported                                                          5-01514-7502\n",
       "Reported NYC Building Identificaiton Numbers (BINs)                            1088463\n",
       "Street Number                                                                      NaN\n",
       "Borough                                                                  Staten Island\n",
       "Zip Code                                                                           NaN\n",
       "DOF Benchmarking Submission Status                                       BBL not valid\n",
       "Site EUI(kBtu/ft2)                                                                41.8\n",
       "Weather Normalized Site EUI(kBtu/ft2)                                             41.9\n",
       "Source EUI(kBtu/ft2)                                                             120.1\n",
       "Weather Normalized Source EUI(kBtu/ft2)                                          120.3\n",
       "Municipally Supplied Potable Water - Indoor Intensity (gal/ft²)                    NaN\n",
       "Automatic Water Benchmarking Eligible                                              NaN\n",
       "Reported Water Method                                                              NaN\n",
       "ENERGY STAR Score                                                                  NaN\n",
       "Total GHG Emissions(MtCO2e)                                                     1251.4\n",
       "Direct GHG Emissions(MtCO2e)                                                     109.6\n",
       "Indirect GHG Emissions(MtCO2e)                                                  1141.8\n",
       "Reported Property Floor Area (Building(s)) (ft²)                                385000\n",
       "DOF Property Floor Area (Buildngs and Parking)(ft2)                                NaN\n",
       "Primary Property Type - Self Selected                              Multifamily Housing\n",
       "DOF Number of Buildings                                                            NaN\n",
       "Name: 5669, dtype: object"
      ]
     },
     "execution_count": 236,
     "metadata": {},
     "output_type": "execute_result"
    }
   ],
   "source": [
    "one_225_four = all_energy_data_nyc[all_energy_data_nyc['Record Number'] == 12254] \n",
    "one_225_four = one_225_four.squeeze()\n",
    "one_225_four"
   ]
  },
  {
   "cell_type": "code",
   "execution_count": 237,
   "metadata": {
    "collapsed": false
   },
   "outputs": [
    {
     "data": {
      "text/html": [
       "<div>\n",
       "<table border=\"1\" class=\"dataframe\">\n",
       "  <thead>\n",
       "    <tr style=\"text-align: right;\">\n",
       "      <th></th>\n",
       "      <th>Building 12254</th>\n",
       "    </tr>\n",
       "  </thead>\n",
       "  <tbody>\n",
       "    <tr>\n",
       "      <th>Total GHG Emissions(MtCO2e)</th>\n",
       "      <td>1251.4</td>\n",
       "    </tr>\n",
       "    <tr>\n",
       "      <th>Direct GHG Emissions(MtCO2e)</th>\n",
       "      <td>109.6</td>\n",
       "    </tr>\n",
       "    <tr>\n",
       "      <th>Indirect GHG Emissions(MtCO2e)</th>\n",
       "      <td>1141.8</td>\n",
       "    </tr>\n",
       "  </tbody>\n",
       "</table>\n",
       "</div>"
      ],
      "text/plain": [
       "                               Building 12254\n",
       "Total GHG Emissions(MtCO2e)            1251.4\n",
       "Direct GHG Emissions(MtCO2e)            109.6\n",
       "Indirect GHG Emissions(MtCO2e)         1141.8"
      ]
     },
     "execution_count": 237,
     "metadata": {},
     "output_type": "execute_result"
    }
   ],
   "source": [
    "one_225_four_energy = one_225_four[17:20]\n",
    "one_225_four_energy = pd.DataFrame(one_225_four_energy)\n",
    "one_225_four_energy.columns=['Building 12254']\n",
    "one_225_four_energy"
   ]
  },
  {
   "cell_type": "code",
   "execution_count": 238,
   "metadata": {
    "collapsed": false
   },
   "outputs": [
    {
     "data": {
      "text/plain": [
       "(346500.0, 423500.00000000006)"
      ]
     },
     "execution_count": 238,
     "metadata": {},
     "output_type": "execute_result"
    }
   ],
   "source": [
    "#Comparing to buidlings with +/- 10 percent similar sqfoot\n",
    "minus_10_percent_area = 385000*.9\n",
    "plus_10_percent_area = 385000*1.1\n",
    "minus_10_percent_area, plus_10_percent_area"
   ]
  },
  {
   "cell_type": "code",
   "execution_count": 239,
   "metadata": {
    "collapsed": true
   },
   "outputs": [],
   "source": [
    "compare_to_one_225_four = all_energy_data_nyc[(all_energy_data_nyc['Primary Property Type - Self Selected'] == 'Multifamily Housing') & (all_energy_data_nyc['Reported Property Floor Area (Building(s)) (ft²)'] > 346500) & (all_energy_data_nyc['Reported Property Floor Area (Building(s)) (ft²)'] < 423500) & (all_energy_data_nyc['Record Number'] != 12254)]"
   ]
  },
  {
   "cell_type": "code",
   "execution_count": 240,
   "metadata": {
    "collapsed": false
   },
   "outputs": [
    {
     "data": {
      "text/plain": [
       "(209, 24)"
      ]
     },
     "execution_count": 240,
     "metadata": {},
     "output_type": "execute_result"
    }
   ],
   "source": [
    "compare_to_one_225_four.shape"
   ]
  },
  {
   "cell_type": "markdown",
   "metadata": {},
   "source": [
    "##Checking for Outliers"
   ]
  },
  {
   "cell_type": "code",
   "execution_count": 241,
   "metadata": {
    "collapsed": false
   },
   "outputs": [
    {
     "data": {
      "text/plain": [
       "<matplotlib.collections.PathCollection at 0x11b61edd8>"
      ]
     },
     "execution_count": 241,
     "metadata": {},
     "output_type": "execute_result"
    },
    {
     "data": {
      "image/png": "[encoded data removed]",
      "text/plain": [
       "<matplotlib.figure.Figure at 0x11b149278>"
      ]
     },
     "metadata": {},
     "output_type": "display_data"
    }
   ],
   "source": [
    "plt.scatter(compare_to_one_225_four['Reported Property Floor Area (Building(s)) (ft²)'], compare_to_one_225_four['Total GHG Emissions(MtCO2e)'])"
   ]
  },
  {
   "cell_type": "markdown",
   "metadata": {},
   "source": [
    "##Removing Outliers"
   ]
  },
  {
   "cell_type": "code",
   "execution_count": 242,
   "metadata": {
    "collapsed": true
   },
   "outputs": [],
   "source": [
    "compare_to_one_225_four = compare_to_one_225_four[compare_to_one_225_four['Total GHG Emissions(MtCO2e)'] < 6000]"
   ]
  },
  {
   "cell_type": "markdown",
   "metadata": {},
   "source": [
    "##Checking removal worked"
   ]
  },
  {
   "cell_type": "code",
   "execution_count": 243,
   "metadata": {
    "collapsed": false
   },
   "outputs": [
    {
     "data": {
      "text/plain": [
       "<matplotlib.collections.PathCollection at 0x11b76beb8>"
      ]
     },
     "execution_count": 243,
     "metadata": {},
     "output_type": "execute_result"
    },
    {
     "data": {
      "image/png": "[encoded data removed]",
      "text/plain": [
       "<matplotlib.figure.Figure at 0x11b6315f8>"
      ]
     },
     "metadata": {},
     "output_type": "display_data"
    }
   ],
   "source": [
    "plt.scatter(compare_to_one_225_four['Reported Property Floor Area (Building(s)) (ft²)'], compare_to_one_225_four['Total GHG Emissions(MtCO2e)'])"
   ]
  },
  {
   "cell_type": "code",
   "execution_count": 277,
   "metadata": {
    "collapsed": false
   },
   "outputs": [
    {
     "data": {
      "text/plain": [
       "(178, 24)"
      ]
     },
     "execution_count": 277,
     "metadata": {},
     "output_type": "execute_result"
    }
   ],
   "source": [
    "compare_to_one_225_four.shape"
   ]
  },
  {
   "cell_type": "code",
   "execution_count": 244,
   "metadata": {
    "collapsed": false
   },
   "outputs": [
    {
     "data": {
      "text/plain": [
       "Record Number                                                      5.779893e+03\n",
       "NYC Borough, Block, and Lot (BBL)                                  1.987087e+09\n",
       "Zip Code                                                           1.049564e+04\n",
       "Site EUI(kBtu/ft2)                                                 8.667472e+01\n",
       "Weather Normalized Site EUI(kBtu/ft2)                              8.364333e+01\n",
       "Source EUI(kBtu/ft2)                                               1.410152e+02\n",
       "Weather Normalized Source EUI(kBtu/ft2)                            1.400667e+02\n",
       "Municipally Supplied Potable Water - Indoor Intensity (gal/ft²)    5.625375e+01\n",
       "ENERGY STAR Score                                                           NaN\n",
       "Total GHG Emissions(MtCO2e)                                        2.206899e+03\n",
       "Direct GHG Emissions(MtCO2e)                                       1.308149e+03\n",
       "Indirect GHG Emissions(MtCO2e)                                     8.987494e+02\n",
       "Reported Property Floor Area (Building(s)) (ft²)                   3.808003e+05\n",
       "DOF Property Floor Area (Buildngs and Parking)(ft2)                4.413469e+05\n",
       "DOF Number of Buildings                                            2.438596e+00\n",
       "dtype: float64"
      ]
     },
     "execution_count": 244,
     "metadata": {},
     "output_type": "execute_result"
    }
   ],
   "source": [
    "mean_compare_to_one_225_four = compare_to_one_225_four.mean()\n",
    "mean_compare_to_one_225_four"
   ]
  },
  {
   "cell_type": "code",
   "execution_count": 245,
   "metadata": {
    "collapsed": false
   },
   "outputs": [
    {
     "data": {
      "text/plain": [
       "0.98909163869838035"
      ]
     },
     "execution_count": 245,
     "metadata": {},
     "output_type": "execute_result"
    }
   ],
   "source": [
    "percent_normalize_12254 = mean_compare_to_one_225_four[12] / one_225_four[20]\n",
    "percent_normalize_12254"
   ]
  },
  {
   "cell_type": "code",
   "execution_count": 246,
   "metadata": {
    "collapsed": false
   },
   "outputs": [
    {
     "data": {
      "text/html": [
       "<div>\n",
       "<table border=\"1\" class=\"dataframe\">\n",
       "  <thead>\n",
       "    <tr style=\"text-align: right;\">\n",
       "      <th></th>\n",
       "      <th>Building 3924</th>\n",
       "    </tr>\n",
       "  </thead>\n",
       "  <tbody>\n",
       "    <tr>\n",
       "      <th>Total GHG Emissions(MtCO2e)</th>\n",
       "      <td>2190.2</td>\n",
       "    </tr>\n",
       "    <tr>\n",
       "      <th>Direct GHG Emissions(MtCO2e)</th>\n",
       "      <td>108.8</td>\n",
       "    </tr>\n",
       "    <tr>\n",
       "      <th>Indirect GHG Emissions(MtCO2e)</th>\n",
       "      <td>2081.4</td>\n",
       "    </tr>\n",
       "  </tbody>\n",
       "</table>\n",
       "</div>"
      ],
      "text/plain": [
       "                               Building 3924\n",
       "Total GHG Emissions(MtCO2e)           2190.2\n",
       "Direct GHG Emissions(MtCO2e)           108.8\n",
       "Indirect GHG Emissions(MtCO2e)        2081.4"
      ]
     },
     "execution_count": 246,
     "metadata": {},
     "output_type": "execute_result"
    }
   ],
   "source": [
    "three_92_four_energy"
   ]
  },
  {
   "cell_type": "code",
   "execution_count": 247,
   "metadata": {
    "collapsed": false
   },
   "outputs": [
    {
     "data": {
      "text/html": [
       "<div>\n",
       "<table border=\"1\" class=\"dataframe\">\n",
       "  <thead>\n",
       "    <tr style=\"text-align: right;\">\n",
       "      <th></th>\n",
       "      <th>Average</th>\n",
       "    </tr>\n",
       "  </thead>\n",
       "  <tbody>\n",
       "    <tr>\n",
       "      <th>Total GHG Emissions(MtCO2e)</th>\n",
       "      <td>2206.898876</td>\n",
       "    </tr>\n",
       "    <tr>\n",
       "      <th>Direct GHG Emissions(MtCO2e)</th>\n",
       "      <td>1308.149438</td>\n",
       "    </tr>\n",
       "    <tr>\n",
       "      <th>Indirect GHG Emissions(MtCO2e)</th>\n",
       "      <td>898.749438</td>\n",
       "    </tr>\n",
       "  </tbody>\n",
       "</table>\n",
       "</div>"
      ],
      "text/plain": [
       "                                    Average\n",
       "Total GHG Emissions(MtCO2e)     2206.898876\n",
       "Direct GHG Emissions(MtCO2e)    1308.149438\n",
       "Indirect GHG Emissions(MtCO2e)   898.749438"
      ]
     },
     "execution_count": 247,
     "metadata": {},
     "output_type": "execute_result"
    }
   ],
   "source": [
    "mean_compare_to_one_225_four_energy = mean_compare_to_one_225_four[9:12]\n",
    "mean_compare_to_one_225_four_energy = pd.DataFrame(mean_compare_to_one_225_four_energy)\n",
    "mean_compare_to_one_225_four_energy.columns=['Average']\n",
    "mean_compare_to_one_225_four_energy"
   ]
  },
  {
   "cell_type": "code",
   "execution_count": 248,
   "metadata": {
    "collapsed": false
   },
   "outputs": [
    {
     "data": {
      "text/html": [
       "<div>\n",
       "<table border=\"1\" class=\"dataframe\">\n",
       "  <thead>\n",
       "    <tr style=\"text-align: right;\">\n",
       "      <th></th>\n",
       "      <th>Average</th>\n",
       "      <th>Average_Adjusted</th>\n",
       "    </tr>\n",
       "  </thead>\n",
       "  <tbody>\n",
       "    <tr>\n",
       "      <th>Total GHG Emissions(MtCO2e)</th>\n",
       "      <td>2206.898876</td>\n",
       "      <td>2182.825226</td>\n",
       "    </tr>\n",
       "    <tr>\n",
       "      <th>Direct GHG Emissions(MtCO2e)</th>\n",
       "      <td>1308.149438</td>\n",
       "      <td>1293.879671</td>\n",
       "    </tr>\n",
       "    <tr>\n",
       "      <th>Indirect GHG Emissions(MtCO2e)</th>\n",
       "      <td>898.749438</td>\n",
       "      <td>888.945555</td>\n",
       "    </tr>\n",
       "  </tbody>\n",
       "</table>\n",
       "</div>"
      ],
      "text/plain": [
       "                                    Average  Average_Adjusted\n",
       "Total GHG Emissions(MtCO2e)     2206.898876       2182.825226\n",
       "Direct GHG Emissions(MtCO2e)    1308.149438       1293.879671\n",
       "Indirect GHG Emissions(MtCO2e)   898.749438        888.945555"
      ]
     },
     "execution_count": 248,
     "metadata": {},
     "output_type": "execute_result"
    }
   ],
   "source": [
    "mean_compare_to_one_225_four_energy['Average_Adjusted'] = mean_compare_to_one_225_four_energy['Average'] * percent_normalize_12254\n",
    "mean_compare_to_one_225_four_energy"
   ]
  },
  {
   "cell_type": "code",
   "execution_count": 249,
   "metadata": {
    "collapsed": false
   },
   "outputs": [
    {
     "data": {
      "text/html": [
       "<div>\n",
       "<table border=\"1\" class=\"dataframe\">\n",
       "  <thead>\n",
       "    <tr style=\"text-align: right;\">\n",
       "      <th></th>\n",
       "      <th>Building 12254</th>\n",
       "      <th>Average_Adjusted</th>\n",
       "    </tr>\n",
       "  </thead>\n",
       "  <tbody>\n",
       "    <tr>\n",
       "      <th>Total GHG Emissions(MtCO2e)</th>\n",
       "      <td>1251.4</td>\n",
       "      <td>2182.825226</td>\n",
       "    </tr>\n",
       "    <tr>\n",
       "      <th>Direct GHG Emissions(MtCO2e)</th>\n",
       "      <td>109.6</td>\n",
       "      <td>1293.879671</td>\n",
       "    </tr>\n",
       "    <tr>\n",
       "      <th>Indirect GHG Emissions(MtCO2e)</th>\n",
       "      <td>1141.8</td>\n",
       "      <td>888.945555</td>\n",
       "    </tr>\n",
       "  </tbody>\n",
       "</table>\n",
       "</div>"
      ],
      "text/plain": [
       "                               Building 12254  Average_Adjusted\n",
       "Total GHG Emissions(MtCO2e)            1251.4       2182.825226\n",
       "Direct GHG Emissions(MtCO2e)            109.6       1293.879671\n",
       "Indirect GHG Emissions(MtCO2e)         1141.8        888.945555"
      ]
     },
     "execution_count": 249,
     "metadata": {},
     "output_type": "execute_result"
    }
   ],
   "source": [
    "one_225_four_energy_comparison = one_225_four_energy.join(mean_compare_to_one_225_four_energy.iloc[:,1:2])\n",
    "one_225_four_energy_comparison"
   ]
  },
  {
   "cell_type": "code",
   "execution_count": 250,
   "metadata": {
    "collapsed": false
   },
   "outputs": [
    {
     "data": {
      "text/plain": [
       "<matplotlib.axes._subplots.AxesSubplot at 0x11b742710>"
      ]
     },
     "execution_count": 250,
     "metadata": {},
     "output_type": "execute_result"
    },
    {
     "data": {
      "image/png": "[encoded data removed]",
      "text/plain": [
       "<matplotlib.figure.Figure at 0x11b02d0b8>"
      ]
     },
     "metadata": {},
     "output_type": "display_data"
    }
   ],
   "source": [
    "one_225_four_energy_comparison.plot(kind='bar', figsize=(19,12))"
   ]
  },
  {
   "cell_type": "markdown",
   "metadata": {},
   "source": [
    "#Building 2178"
   ]
  },
  {
   "cell_type": "code",
   "execution_count": 251,
   "metadata": {
    "collapsed": false
   },
   "outputs": [
    {
     "data": {
      "text/plain": [
       "Record Number                                                                        2178\n",
       "NYC Borough, Block, and Lot (BBL)                                            1.010828e+09\n",
       "Co-reported BBL Status                                                                NaN\n",
       "BBLs Co-reported                                                               1010827501\n",
       "Reported NYC Building Identificaiton Numbers (BINs)                               1088726\n",
       "Street Number                                                      12/28/0769 12:00:00 AM\n",
       "Borough                                                                         Manhattan\n",
       "Zip Code                                                                            10019\n",
       "DOF Benchmarking Submission Status                                                  Filed\n",
       "Site EUI(kBtu/ft2)                                                                   91.7\n",
       "Weather Normalized Site EUI(kBtu/ft2)                                                91.4\n",
       "Source EUI(kBtu/ft2)                                                                190.1\n",
       "Weather Normalized Source EUI(kBtu/ft2)                                             189.8\n",
       "Municipally Supplied Potable Water - Indoor Intensity (gal/ft²)                       NaN\n",
       "Automatic Water Benchmarking Eligible                                                  No\n",
       "Reported Water Method                                                                None\n",
       "ENERGY STAR Score                                                                     NaN\n",
       "Total GHG Emissions(MtCO2e)                                                        6155.4\n",
       "Direct GHG Emissions(MtCO2e)                                                       2491.9\n",
       "Indirect GHG Emissions(MtCO2e)                                                     3663.5\n",
       "Reported Property Floor Area (Building(s)) (ft²)                                  1003231\n",
       "DOF Property Floor Area (Buildngs and Parking)(ft2)                               1082317\n",
       "Primary Property Type - Self Selected                                 Multifamily Housing\n",
       "DOF Number of Buildings                                                                 1\n",
       "Name: 5703, dtype: object"
      ]
     },
     "execution_count": 251,
     "metadata": {},
     "output_type": "execute_result"
    }
   ],
   "source": [
    "two_17_eight = all_energy_data_nyc[all_energy_data_nyc['Record Number'] == 2178] \n",
    "two_17_eight = two_17_eight.squeeze()\n",
    "two_17_eight"
   ]
  },
  {
   "cell_type": "code",
   "execution_count": 252,
   "metadata": {
    "collapsed": false
   },
   "outputs": [
    {
     "data": {
      "text/html": [
       "<div>\n",
       "<table border=\"1\" class=\"dataframe\">\n",
       "  <thead>\n",
       "    <tr style=\"text-align: right;\">\n",
       "      <th></th>\n",
       "      <th>Building 2178</th>\n",
       "    </tr>\n",
       "  </thead>\n",
       "  <tbody>\n",
       "    <tr>\n",
       "      <th>Total GHG Emissions(MtCO2e)</th>\n",
       "      <td>6155.4</td>\n",
       "    </tr>\n",
       "    <tr>\n",
       "      <th>Direct GHG Emissions(MtCO2e)</th>\n",
       "      <td>2491.9</td>\n",
       "    </tr>\n",
       "    <tr>\n",
       "      <th>Indirect GHG Emissions(MtCO2e)</th>\n",
       "      <td>3663.5</td>\n",
       "    </tr>\n",
       "  </tbody>\n",
       "</table>\n",
       "</div>"
      ],
      "text/plain": [
       "                               Building 2178\n",
       "Total GHG Emissions(MtCO2e)           6155.4\n",
       "Direct GHG Emissions(MtCO2e)          2491.9\n",
       "Indirect GHG Emissions(MtCO2e)        3663.5"
      ]
     },
     "execution_count": 252,
     "metadata": {},
     "output_type": "execute_result"
    }
   ],
   "source": [
    "two_17_eight_energy = two_17_eight[17:20]\n",
    "two_17_eight_energy = pd.DataFrame(two_17_eight_energy)\n",
    "two_17_eight_energy.columns=['Building 2178']\n",
    "two_17_eight_energy"
   ]
  },
  {
   "cell_type": "code",
   "execution_count": 253,
   "metadata": {
    "collapsed": false
   },
   "outputs": [
    {
     "data": {
      "text/plain": [
       "(902907.9, 1103554.1)"
      ]
     },
     "execution_count": 253,
     "metadata": {},
     "output_type": "execute_result"
    }
   ],
   "source": [
    "#Comparing to buidlings with +/- 10 percent similar sqfoot\n",
    "minus_10_percent_area = 1003231*.9\n",
    "plus_10_percent_area = 1003231*1.1\n",
    "minus_10_percent_area, plus_10_percent_area"
   ]
  },
  {
   "cell_type": "code",
   "execution_count": 254,
   "metadata": {
    "collapsed": true
   },
   "outputs": [],
   "source": [
    "compare_to_two_17_eight = all_energy_data_nyc[(all_energy_data_nyc['Primary Property Type - Self Selected'] == 'Multifamily Housing') & (all_energy_data_nyc['Reported Property Floor Area (Building(s)) (ft²)'] > 902907.9) & (all_energy_data_nyc['Reported Property Floor Area (Building(s)) (ft²)'] < 1103554.1) & (all_energy_data_nyc['Record Number'] != 2178)]"
   ]
  },
  {
   "cell_type": "code",
   "execution_count": 255,
   "metadata": {
    "collapsed": false
   },
   "outputs": [
    {
     "data": {
      "text/plain": [
       "(40, 24)"
      ]
     },
     "execution_count": 255,
     "metadata": {},
     "output_type": "execute_result"
    }
   ],
   "source": [
    "compare_to_two_17_eight.shape"
   ]
  },
  {
   "cell_type": "markdown",
   "metadata": {},
   "source": [
    "##Plotting to remove outliers"
   ]
  },
  {
   "cell_type": "code",
   "execution_count": 256,
   "metadata": {
    "collapsed": false
   },
   "outputs": [
    {
     "data": {
      "text/plain": [
       "<matplotlib.collections.PathCollection at 0x11bc210f0>"
      ]
     },
     "execution_count": 256,
     "metadata": {},
     "output_type": "execute_result"
    },
    {
     "data": {
      "image/png": "[encoded data removed]",
      "text/plain": [
       "<matplotlib.figure.Figure at 0x11b82a748>"
      ]
     },
     "metadata": {},
     "output_type": "display_data"
    }
   ],
   "source": [
    "plt.scatter(compare_to_two_17_eight['Reported Property Floor Area (Building(s)) (ft²)'], compare_to_two_17_eight['Total GHG Emissions(MtCO2e)'])"
   ]
  },
  {
   "cell_type": "code",
   "execution_count": 257,
   "metadata": {
    "collapsed": false
   },
   "outputs": [],
   "source": [
    "#removing the one outlier\n",
    "compare_to_two_17_eight = compare_to_two_17_eight[compare_to_two_17_eight['Total GHG Emissions(MtCO2e)'] < 15000]"
   ]
  },
  {
   "cell_type": "markdown",
   "metadata": {},
   "source": [
    "##checking removal of outlier worked"
   ]
  },
  {
   "cell_type": "code",
   "execution_count": 258,
   "metadata": {
    "collapsed": false
   },
   "outputs": [
    {
     "data": {
      "text/plain": [
       "<matplotlib.collections.PathCollection at 0x11bcfb390>"
      ]
     },
     "execution_count": 258,
     "metadata": {},
     "output_type": "execute_result"
    },
    {
     "data": {
      "image/png": "[encoded data removed]",
      "text/plain": [
       "<matplotlib.figure.Figure at 0x11bc32390>"
      ]
     },
     "metadata": {},
     "output_type": "display_data"
    }
   ],
   "source": [
    "plt.scatter(compare_to_two_17_eight['Reported Property Floor Area (Building(s)) (ft²)'], compare_to_two_17_eight['Total GHG Emissions(MtCO2e)'])"
   ]
  },
  {
   "cell_type": "code",
   "execution_count": 274,
   "metadata": {
    "collapsed": false
   },
   "outputs": [
    {
     "data": {
      "text/plain": [
       "(24, 24)"
      ]
     },
     "execution_count": 274,
     "metadata": {},
     "output_type": "execute_result"
    }
   ],
   "source": [
    "compare_to_two_17_eight.shape"
   ]
  },
  {
   "cell_type": "code",
   "execution_count": 259,
   "metadata": {
    "collapsed": false
   },
   "outputs": [
    {
     "data": {
      "text/plain": [
       "Record Number                                                      5.127792e+03\n",
       "NYC Borough, Block, and Lot (BBL)                                  1.683944e+09\n",
       "Zip Code                                                           1.034600e+04\n",
       "Site EUI(kBtu/ft2)                                                 1.034625e+02\n",
       "Weather Normalized Site EUI(kBtu/ft2)                              1.004227e+02\n",
       "Source EUI(kBtu/ft2)                                               1.590292e+02\n",
       "Weather Normalized Source EUI(kBtu/ft2)                            1.562591e+02\n",
       "Municipally Supplied Potable Water - Indoor Intensity (gal/ft²)    4.224750e+01\n",
       "ENERGY STAR Score                                                           NaN\n",
       "Total GHG Emissions(MtCO2e)                                        6.292300e+03\n",
       "Direct GHG Emissions(MtCO2e)                                       4.033387e+03\n",
       "Indirect GHG Emissions(MtCO2e)                                     2.258913e+03\n",
       "Reported Property Floor Area (Building(s)) (ft²)                   9.782487e+05\n",
       "DOF Property Floor Area (Buildngs and Parking)(ft2)                7.900749e+05\n",
       "DOF Number of Buildings                                            2.863636e+00\n",
       "dtype: float64"
      ]
     },
     "execution_count": 259,
     "metadata": {},
     "output_type": "execute_result"
    }
   ],
   "source": [
    "mean_compare_to_two_17_eight = compare_to_two_17_eight.mean()\n",
    "mean_compare_to_two_17_eight"
   ]
  },
  {
   "cell_type": "code",
   "execution_count": 260,
   "metadata": {
    "collapsed": false
   },
   "outputs": [
    {
     "data": {
      "text/plain": [
       "0.97509816615847533"
      ]
     },
     "execution_count": 260,
     "metadata": {},
     "output_type": "execute_result"
    }
   ],
   "source": [
    "percent_normalize_2178 = mean_compare_to_two_17_eight[12] / two_17_eight[20]\n",
    "percent_normalize_2178"
   ]
  },
  {
   "cell_type": "code",
   "execution_count": 261,
   "metadata": {
    "collapsed": false
   },
   "outputs": [
    {
     "data": {
      "text/html": [
       "<div>\n",
       "<table border=\"1\" class=\"dataframe\">\n",
       "  <thead>\n",
       "    <tr style=\"text-align: right;\">\n",
       "      <th></th>\n",
       "      <th>Building 2178</th>\n",
       "    </tr>\n",
       "  </thead>\n",
       "  <tbody>\n",
       "    <tr>\n",
       "      <th>Total GHG Emissions(MtCO2e)</th>\n",
       "      <td>6155.4</td>\n",
       "    </tr>\n",
       "    <tr>\n",
       "      <th>Direct GHG Emissions(MtCO2e)</th>\n",
       "      <td>2491.9</td>\n",
       "    </tr>\n",
       "    <tr>\n",
       "      <th>Indirect GHG Emissions(MtCO2e)</th>\n",
       "      <td>3663.5</td>\n",
       "    </tr>\n",
       "  </tbody>\n",
       "</table>\n",
       "</div>"
      ],
      "text/plain": [
       "                               Building 2178\n",
       "Total GHG Emissions(MtCO2e)           6155.4\n",
       "Direct GHG Emissions(MtCO2e)          2491.9\n",
       "Indirect GHG Emissions(MtCO2e)        3663.5"
      ]
     },
     "execution_count": 261,
     "metadata": {},
     "output_type": "execute_result"
    }
   ],
   "source": [
    "two_17_eight_energy"
   ]
  },
  {
   "cell_type": "code",
   "execution_count": 262,
   "metadata": {
    "collapsed": false
   },
   "outputs": [
    {
     "data": {
      "text/html": [
       "<div>\n",
       "<table border=\"1\" class=\"dataframe\">\n",
       "  <thead>\n",
       "    <tr style=\"text-align: right;\">\n",
       "      <th></th>\n",
       "      <th>Average</th>\n",
       "    </tr>\n",
       "  </thead>\n",
       "  <tbody>\n",
       "    <tr>\n",
       "      <th>Total GHG Emissions(MtCO2e)</th>\n",
       "      <td>6292.3000</td>\n",
       "    </tr>\n",
       "    <tr>\n",
       "      <th>Direct GHG Emissions(MtCO2e)</th>\n",
       "      <td>4033.3875</td>\n",
       "    </tr>\n",
       "    <tr>\n",
       "      <th>Indirect GHG Emissions(MtCO2e)</th>\n",
       "      <td>2258.9125</td>\n",
       "    </tr>\n",
       "  </tbody>\n",
       "</table>\n",
       "</div>"
      ],
      "text/plain": [
       "                                  Average\n",
       "Total GHG Emissions(MtCO2e)     6292.3000\n",
       "Direct GHG Emissions(MtCO2e)    4033.3875\n",
       "Indirect GHG Emissions(MtCO2e)  2258.9125"
      ]
     },
     "execution_count": 262,
     "metadata": {},
     "output_type": "execute_result"
    }
   ],
   "source": [
    "mean_compare_to_two_17_eight_energy = mean_compare_to_two_17_eight[9:12]\n",
    "mean_compare_to_two_17_eight_energy = pd.DataFrame(mean_compare_to_two_17_eight_energy)\n",
    "mean_compare_to_two_17_eight_energy.columns=['Average']\n",
    "mean_compare_to_two_17_eight_energy"
   ]
  },
  {
   "cell_type": "code",
   "execution_count": 263,
   "metadata": {
    "collapsed": false
   },
   "outputs": [
    {
     "data": {
      "text/html": [
       "<div>\n",
       "<table border=\"1\" class=\"dataframe\">\n",
       "  <thead>\n",
       "    <tr style=\"text-align: right;\">\n",
       "      <th></th>\n",
       "      <th>Average</th>\n",
       "      <th>Average_Adjusted</th>\n",
       "    </tr>\n",
       "  </thead>\n",
       "  <tbody>\n",
       "    <tr>\n",
       "      <th>Total GHG Emissions(MtCO2e)</th>\n",
       "      <td>6292.3000</td>\n",
       "      <td>6135.610191</td>\n",
       "    </tr>\n",
       "    <tr>\n",
       "      <th>Direct GHG Emissions(MtCO2e)</th>\n",
       "      <td>4033.3875</td>\n",
       "      <td>3932.948755</td>\n",
       "    </tr>\n",
       "    <tr>\n",
       "      <th>Indirect GHG Emissions(MtCO2e)</th>\n",
       "      <td>2258.9125</td>\n",
       "      <td>2202.661436</td>\n",
       "    </tr>\n",
       "  </tbody>\n",
       "</table>\n",
       "</div>"
      ],
      "text/plain": [
       "                                  Average  Average_Adjusted\n",
       "Total GHG Emissions(MtCO2e)     6292.3000       6135.610191\n",
       "Direct GHG Emissions(MtCO2e)    4033.3875       3932.948755\n",
       "Indirect GHG Emissions(MtCO2e)  2258.9125       2202.661436"
      ]
     },
     "execution_count": 263,
     "metadata": {},
     "output_type": "execute_result"
    }
   ],
   "source": [
    "mean_compare_to_two_17_eight_energy['Average_Adjusted'] = mean_compare_to_two_17_eight_energy['Average'] * percent_normalize_2178\n",
    "mean_compare_to_two_17_eight_energy"
   ]
  },
  {
   "cell_type": "code",
   "execution_count": 264,
   "metadata": {
    "collapsed": false
   },
   "outputs": [
    {
     "data": {
      "text/html": [
       "<div>\n",
       "<table border=\"1\" class=\"dataframe\">\n",
       "  <thead>\n",
       "    <tr style=\"text-align: right;\">\n",
       "      <th></th>\n",
       "      <th>Building 2178</th>\n",
       "      <th>Average_Adjusted</th>\n",
       "    </tr>\n",
       "  </thead>\n",
       "  <tbody>\n",
       "    <tr>\n",
       "      <th>Total GHG Emissions(MtCO2e)</th>\n",
       "      <td>6155.4</td>\n",
       "      <td>6135.610191</td>\n",
       "    </tr>\n",
       "    <tr>\n",
       "      <th>Direct GHG Emissions(MtCO2e)</th>\n",
       "      <td>2491.9</td>\n",
       "      <td>3932.948755</td>\n",
       "    </tr>\n",
       "    <tr>\n",
       "      <th>Indirect GHG Emissions(MtCO2e)</th>\n",
       "      <td>3663.5</td>\n",
       "      <td>2202.661436</td>\n",
       "    </tr>\n",
       "  </tbody>\n",
       "</table>\n",
       "</div>"
      ],
      "text/plain": [
       "                               Building 2178  Average_Adjusted\n",
       "Total GHG Emissions(MtCO2e)           6155.4       6135.610191\n",
       "Direct GHG Emissions(MtCO2e)          2491.9       3932.948755\n",
       "Indirect GHG Emissions(MtCO2e)        3663.5       2202.661436"
      ]
     },
     "execution_count": 264,
     "metadata": {},
     "output_type": "execute_result"
    }
   ],
   "source": [
    "two_17_eight_energy_comparison = two_17_eight_energy.join(mean_compare_to_two_17_eight_energy.iloc[:,1:2])\n",
    "two_17_eight_energy_comparison"
   ]
  },
  {
   "cell_type": "code",
   "execution_count": 265,
   "metadata": {
    "collapsed": false
   },
   "outputs": [
    {
     "data": {
      "text/plain": [
       "<matplotlib.axes._subplots.AxesSubplot at 0x11b7a9128>"
      ]
     },
     "execution_count": 265,
     "metadata": {},
     "output_type": "execute_result"
    },
    {
     "data": {
      "image/png": "[encoded data removed]",
      "text/plain": [
       "<matplotlib.figure.Figure at 0x11bc51160>"
      ]
     },
     "metadata": {},
     "output_type": "display_data"
    }
   ],
   "source": [
    "two_17_eight_energy_comparison.plot(kind='bar', figsize=(19,12))"
   ]
  },
  {
   "cell_type": "markdown",
   "metadata": {},
   "source": [
    "Of the five buildings reviewed they use les energy than the average building. "
   ]
  },
  {
   "cell_type": "code",
   "execution_count": 266,
   "metadata": {
    "collapsed": false
   },
   "outputs": [
    {
     "data": {
      "text/html": [
       "<div>\n",
       "<table border=\"1\" class=\"dataframe\">\n",
       "  <thead>\n",
       "    <tr style=\"text-align: right;\">\n",
       "      <th></th>\n",
       "      <th>index</th>\n",
       "      <th>Building 4572</th>\n",
       "      <th>Average_Adjusted_4572</th>\n",
       "    </tr>\n",
       "  </thead>\n",
       "  <tbody>\n",
       "    <tr>\n",
       "      <th>0</th>\n",
       "      <td>Total GHG Emissions(MtCO2e)</td>\n",
       "      <td>441.8</td>\n",
       "      <td>563.687015</td>\n",
       "    </tr>\n",
       "    <tr>\n",
       "      <th>1</th>\n",
       "      <td>Direct GHG Emissions(MtCO2e)</td>\n",
       "      <td>333.1</td>\n",
       "      <td>382.924905</td>\n",
       "    </tr>\n",
       "    <tr>\n",
       "      <th>2</th>\n",
       "      <td>Indirect GHG Emissions(MtCO2e)</td>\n",
       "      <td>108.7</td>\n",
       "      <td>180.762110</td>\n",
       "    </tr>\n",
       "  </tbody>\n",
       "</table>\n",
       "</div>"
      ],
      "text/plain": [
       "                            index Building 4572  Average_Adjusted_4572\n",
       "0     Total GHG Emissions(MtCO2e)         441.8             563.687015\n",
       "1    Direct GHG Emissions(MtCO2e)         333.1             382.924905\n",
       "2  Indirect GHG Emissions(MtCO2e)         108.7             180.762110"
      ]
     },
     "execution_count": 266,
     "metadata": {},
     "output_type": "execute_result"
    }
   ],
   "source": [
    "four_57_two_energy_comparison = four_57_two_energy_comparison.rename(columns={'Average_Adjusted':'Average_Adjusted_4572'})\n",
    "four_57_two_energy_comparison.reset_index(inplace=True)\n",
    "four_57_two_energy_comparison"
   ]
  },
  {
   "cell_type": "code",
   "execution_count": 267,
   "metadata": {
    "collapsed": false
   },
   "outputs": [],
   "source": [
    "three_92_four_energy_comparison = three_92_four_energy_comparison.rename(columns={'Average_Adjusted':'Average_Adjusted_3924'})\n",
    "three_92_four_energy_comparison.reset_index(inplace=True)"
   ]
  },
  {
   "cell_type": "code",
   "execution_count": 268,
   "metadata": {
    "collapsed": false
   },
   "outputs": [],
   "source": [
    "one_89_two_energy_comparison = one_89_two_energy_comparison.rename(columns={'Average_Adjusted':'Average_Adjusted_1892'})\n",
    "one_89_two_energy_comparison.reset_index(inplace=True)"
   ]
  },
  {
   "cell_type": "code",
   "execution_count": 269,
   "metadata": {
    "collapsed": false
   },
   "outputs": [],
   "source": [
    "one_225_four_energy_comparison = one_225_four_energy_comparison.rename(columns={'Average_Adjusted':'Average_Adjusted_12254'})\n",
    "one_225_four_energy_comparison.reset_index(inplace=True)"
   ]
  },
  {
   "cell_type": "code",
   "execution_count": 270,
   "metadata": {
    "collapsed": false
   },
   "outputs": [],
   "source": [
    "two_17_eight_energy_comparison = two_17_eight_energy_comparison.rename(columns={'Average_Adjusted':'Average_Adjusted_2178'})\n",
    "two_17_eight_energy_comparison.reset_index(inplace=True)"
   ]
  },
  {
   "cell_type": "code",
   "execution_count": 271,
   "metadata": {
    "collapsed": false
   },
   "outputs": [],
   "source": [
    "energy_multifamily = four_57_two_energy_comparison.merge(three_92_four_energy_comparison, on='index').merge(one_89_two_energy_comparison, on='index').merge(one_225_four_energy_comparison, on='index').merge(two_17_eight_energy_comparison, on='index')"
   ]
  },
  {
   "cell_type": "code",
   "execution_count": 272,
   "metadata": {
    "collapsed": false
   },
   "outputs": [
    {
     "data": {
      "text/html": [
       "<div>\n",
       "<table border=\"1\" class=\"dataframe\">\n",
       "  <thead>\n",
       "    <tr style=\"text-align: right;\">\n",
       "      <th></th>\n",
       "      <th>Emissions Type</th>\n",
       "      <th>Building 4572</th>\n",
       "      <th>Average_Adjusted_4572</th>\n",
       "      <th>Building 3924</th>\n",
       "      <th>Average_Adjusted_3924</th>\n",
       "      <th>Building 1892</th>\n",
       "      <th>Average_Adjusted_1892</th>\n",
       "      <th>Building 12254</th>\n",
       "      <th>Average_Adjusted_12254</th>\n",
       "      <th>Building 2178</th>\n",
       "      <th>Average_Adjusted_2178</th>\n",
       "    </tr>\n",
       "  </thead>\n",
       "  <tbody>\n",
       "    <tr>\n",
       "      <th>0</th>\n",
       "      <td>Total GHG Emissions(MtCO2e)</td>\n",
       "      <td>441.8</td>\n",
       "      <td>563.687015</td>\n",
       "      <td>2190.2</td>\n",
       "      <td>2320.844481</td>\n",
       "      <td>749</td>\n",
       "      <td>641.414408</td>\n",
       "      <td>1251.4</td>\n",
       "      <td>2182.825226</td>\n",
       "      <td>6155.4</td>\n",
       "      <td>6135.610191</td>\n",
       "    </tr>\n",
       "    <tr>\n",
       "      <th>1</th>\n",
       "      <td>Direct GHG Emissions(MtCO2e)</td>\n",
       "      <td>333.1</td>\n",
       "      <td>382.924905</td>\n",
       "      <td>108.8</td>\n",
       "      <td>1337.644673</td>\n",
       "      <td>201.2</td>\n",
       "      <td>429.495523</td>\n",
       "      <td>109.6</td>\n",
       "      <td>1293.879671</td>\n",
       "      <td>2491.9</td>\n",
       "      <td>3932.948755</td>\n",
       "    </tr>\n",
       "    <tr>\n",
       "      <th>2</th>\n",
       "      <td>Indirect GHG Emissions(MtCO2e)</td>\n",
       "      <td>108.7</td>\n",
       "      <td>180.762110</td>\n",
       "      <td>2081.4</td>\n",
       "      <td>983.199807</td>\n",
       "      <td>547.8</td>\n",
       "      <td>211.918884</td>\n",
       "      <td>1141.8</td>\n",
       "      <td>888.945555</td>\n",
       "      <td>3663.5</td>\n",
       "      <td>2202.661436</td>\n",
       "    </tr>\n",
       "  </tbody>\n",
       "</table>\n",
       "</div>"
      ],
      "text/plain": [
       "                   Emissions Type Building 4572  Average_Adjusted_4572  \\\n",
       "0     Total GHG Emissions(MtCO2e)         441.8             563.687015   \n",
       "1    Direct GHG Emissions(MtCO2e)         333.1             382.924905   \n",
       "2  Indirect GHG Emissions(MtCO2e)         108.7             180.762110   \n",
       "\n",
       "  Building 3924  Average_Adjusted_3924 Building 1892  Average_Adjusted_1892  \\\n",
       "0        2190.2            2320.844481           749             641.414408   \n",
       "1         108.8            1337.644673         201.2             429.495523   \n",
       "2        2081.4             983.199807         547.8             211.918884   \n",
       "\n",
       "  Building 12254  Average_Adjusted_12254 Building 2178  Average_Adjusted_2178  \n",
       "0         1251.4             2182.825226        6155.4            6135.610191  \n",
       "1          109.6             1293.879671        2491.9            3932.948755  \n",
       "2         1141.8              888.945555        3663.5            2202.661436  "
      ]
     },
     "execution_count": 272,
     "metadata": {},
     "output_type": "execute_result"
    }
   ],
   "source": [
    "energy_multifamily = energy_multifamily.rename(columns={'index':'Emissions Type'})\n",
    "energy_multifamily"
   ]
  },
  {
   "cell_type": "code",
   "execution_count": 273,
   "metadata": {
    "collapsed": true
   },
   "outputs": [],
   "source": [
    "#energy_multifamily.to_pickle('energy_multifamily_no_outliers.pickle')"
   ]
  },
  {
   "cell_type": "code",
   "execution_count": null,
   "metadata": {
    "collapsed": true
   },
   "outputs": [],
   "source": []
  }
 ],
 "metadata": {
  "kernelspec": {
   "display_name": "Python 3",
   "language": "python",
   "name": "python3"
  },
  "language_info": {
   "codemirror_mode": {
    "name": "ipython",
    "version": 3
   },
   "file_extension": ".py",
   "mimetype": "text/x-python",
   "name": "python",
   "nbconvert_exporter": "python",
   "pygments_lexer": "ipython3",
   "version": "3.4.3"
  }
 },
 "nbformat": 4,
 "nbformat_minor": 0
}
