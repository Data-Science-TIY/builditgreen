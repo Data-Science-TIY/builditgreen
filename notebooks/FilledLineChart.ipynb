{
 "cells": [
  {
   "cell_type": "code",
   "execution_count": 133,
   "metadata": {
    "collapsed": true
   },
   "outputs": [],
   "source": [
    "import plotly.plotly as py\n",
    "from plotly.graph_objs import *\n",
    "import pandas as pd"
   ]
  },
  {
   "cell_type": "code",
   "execution_count": 134,
   "metadata": {
    "collapsed": true
   },
   "outputs": [],
   "source": [
    "%matplotlib inline"
   ]
  },
  {
   "cell_type": "code",
   "execution_count": 135,
   "metadata": {
    "collapsed": false
   },
   "outputs": [],
   "source": [
    "df_2009 = pd.read_pickle('2009_full_score_projects_final.pkl')"
   ]
  },
  {
   "cell_type": "code",
   "execution_count": 136,
   "metadata": {
    "collapsed": false
   },
   "outputs": [
    {
     "data": {
      "text/html": [
       "<div>\n",
       "<table border=\"1\" class=\"dataframe\">\n",
       "  <thead>\n",
       "    <tr style=\"text-align: right;\">\n",
       "      <th></th>\n",
       "      <th>ssc1</th>\n",
       "      <th>ssc2</th>\n",
       "      <th>ssc3</th>\n",
       "      <th>ssc4_1</th>\n",
       "      <th>ssc4_2</th>\n",
       "      <th>ssc4_3</th>\n",
       "      <th>ssc4_4</th>\n",
       "      <th>ssc5_1</th>\n",
       "      <th>ssc5_2</th>\n",
       "      <th>ssc6_1</th>\n",
       "      <th>...</th>\n",
       "      <th>country</th>\n",
       "      <th>leed_version</th>\n",
       "      <th>points_achieved</th>\n",
       "      <th>certification_level</th>\n",
       "      <th>certification_date</th>\n",
       "      <th>owner_types</th>\n",
       "      <th>gross_square_foot</th>\n",
       "      <th>total_property_area</th>\n",
       "      <th>project_types</th>\n",
       "      <th>registration_date</th>\n",
       "    </tr>\n",
       "    <tr>\n",
       "      <th>project_id</th>\n",
       "      <th></th>\n",
       "      <th></th>\n",
       "      <th></th>\n",
       "      <th></th>\n",
       "      <th></th>\n",
       "      <th></th>\n",
       "      <th></th>\n",
       "      <th></th>\n",
       "      <th></th>\n",
       "      <th></th>\n",
       "      <th></th>\n",
       "      <th></th>\n",
       "      <th></th>\n",
       "      <th></th>\n",
       "      <th></th>\n",
       "      <th></th>\n",
       "      <th></th>\n",
       "      <th></th>\n",
       "      <th></th>\n",
       "      <th></th>\n",
       "      <th></th>\n",
       "    </tr>\n",
       "  </thead>\n",
       "  <tbody>\n",
       "    <tr>\n",
       "      <th>1000000143</th>\n",
       "      <td>1</td>\n",
       "      <td>5</td>\n",
       "      <td>0</td>\n",
       "      <td>6</td>\n",
       "      <td>0</td>\n",
       "      <td>0</td>\n",
       "      <td>2</td>\n",
       "      <td>0</td>\n",
       "      <td>1</td>\n",
       "      <td>1</td>\n",
       "      <td>...</td>\n",
       "      <td>US</td>\n",
       "      <td>LEED-NC v2009</td>\n",
       "      <td>44</td>\n",
       "      <td>Certified</td>\n",
       "      <td>2013-09-20</td>\n",
       "      <td>Government Use: State</td>\n",
       "      <td>86580</td>\n",
       "      <td>53863</td>\n",
       "      <td>Health Care: Outpatient</td>\n",
       "      <td>2009-05-07</td>\n",
       "    </tr>\n",
       "    <tr>\n",
       "      <th>1000000174</th>\n",
       "      <td>0</td>\n",
       "      <td>0</td>\n",
       "      <td>0</td>\n",
       "      <td>6</td>\n",
       "      <td>1</td>\n",
       "      <td>0</td>\n",
       "      <td>0</td>\n",
       "      <td>0</td>\n",
       "      <td>1</td>\n",
       "      <td>0</td>\n",
       "      <td>...</td>\n",
       "      <td>US</td>\n",
       "      <td>LEED-NC v2009</td>\n",
       "      <td>65</td>\n",
       "      <td>Gold</td>\n",
       "      <td>2010-12-02</td>\n",
       "      <td>Educational: University, Private</td>\n",
       "      <td>11806</td>\n",
       "      <td>66000</td>\n",
       "      <td>Core Learning Space: College/University</td>\n",
       "      <td>2009-05-10</td>\n",
       "    </tr>\n",
       "    <tr>\n",
       "      <th>1000000194</th>\n",
       "      <td>1</td>\n",
       "      <td>5</td>\n",
       "      <td>0</td>\n",
       "      <td>0</td>\n",
       "      <td>1</td>\n",
       "      <td>3</td>\n",
       "      <td>2</td>\n",
       "      <td>0</td>\n",
       "      <td>0</td>\n",
       "      <td>0</td>\n",
       "      <td>...</td>\n",
       "      <td>US</td>\n",
       "      <td>LEED-NC v2009</td>\n",
       "      <td>44</td>\n",
       "      <td>Certified</td>\n",
       "      <td>2011-08-23</td>\n",
       "      <td>Corporate: Privately Held</td>\n",
       "      <td>3472</td>\n",
       "      <td>10905</td>\n",
       "      <td>Commercial Office</td>\n",
       "      <td>2009-05-12</td>\n",
       "    </tr>\n",
       "    <tr>\n",
       "      <th>1000000199</th>\n",
       "      <td>1</td>\n",
       "      <td>0</td>\n",
       "      <td>0</td>\n",
       "      <td>0</td>\n",
       "      <td>1</td>\n",
       "      <td>3</td>\n",
       "      <td>0</td>\n",
       "      <td>0</td>\n",
       "      <td>1</td>\n",
       "      <td>0</td>\n",
       "      <td>...</td>\n",
       "      <td>US</td>\n",
       "      <td>LEED-NC v2009</td>\n",
       "      <td>51</td>\n",
       "      <td>Silver</td>\n",
       "      <td>2012-03-26</td>\n",
       "      <td>Government Use: Local, City</td>\n",
       "      <td>48732</td>\n",
       "      <td>555823</td>\n",
       "      <td>Public Order and Safety: Other Public Order</td>\n",
       "      <td>2009-05-13</td>\n",
       "    </tr>\n",
       "    <tr>\n",
       "      <th>1000000222</th>\n",
       "      <td>1</td>\n",
       "      <td>5</td>\n",
       "      <td>0</td>\n",
       "      <td>6</td>\n",
       "      <td>1</td>\n",
       "      <td>3</td>\n",
       "      <td>2</td>\n",
       "      <td>0</td>\n",
       "      <td>0</td>\n",
       "      <td>0</td>\n",
       "      <td>...</td>\n",
       "      <td>US</td>\n",
       "      <td>LEED-NC v2009</td>\n",
       "      <td>70</td>\n",
       "      <td>Gold</td>\n",
       "      <td>2014-01-17</td>\n",
       "      <td>Educational: University, Public</td>\n",
       "      <td>212777</td>\n",
       "      <td>108563</td>\n",
       "      <td>Core Learning Space: College/University</td>\n",
       "      <td>2009-05-14</td>\n",
       "    </tr>\n",
       "  </tbody>\n",
       "</table>\n",
       "<p>5 rows × 67 columns</p>\n",
       "</div>"
      ],
      "text/plain": [
       "            ssc1  ssc2  ssc3  ssc4_1  ssc4_2  ssc4_3  ssc4_4  ssc5_1  ssc5_2  \\\n",
       "project_id                                                                     \n",
       "1000000143     1     5     0       6       0       0       2       0       1   \n",
       "1000000174     0     0     0       6       1       0       0       0       1   \n",
       "1000000194     1     5     0       0       1       3       2       0       0   \n",
       "1000000199     1     0     0       0       1       3       0       0       1   \n",
       "1000000222     1     5     0       6       1       3       2       0       0   \n",
       "\n",
       "            ssc6_1        ...          country   leed_version  \\\n",
       "project_id                ...                                   \n",
       "1000000143       1        ...               US  LEED-NC v2009   \n",
       "1000000174       0        ...               US  LEED-NC v2009   \n",
       "1000000194       0        ...               US  LEED-NC v2009   \n",
       "1000000199       0        ...               US  LEED-NC v2009   \n",
       "1000000222       0        ...               US  LEED-NC v2009   \n",
       "\n",
       "            points_achieved  certification_level  certification_date  \\\n",
       "project_id                                                             \n",
       "1000000143               44            Certified          2013-09-20   \n",
       "1000000174               65                 Gold          2010-12-02   \n",
       "1000000194               44            Certified          2011-08-23   \n",
       "1000000199               51               Silver          2012-03-26   \n",
       "1000000222               70                 Gold          2014-01-17   \n",
       "\n",
       "                                 owner_types  gross_square_foot  \\\n",
       "project_id                                                        \n",
       "1000000143             Government Use: State              86580   \n",
       "1000000174  Educational: University, Private              11806   \n",
       "1000000194         Corporate: Privately Held               3472   \n",
       "1000000199       Government Use: Local, City              48732   \n",
       "1000000222   Educational: University, Public             212777   \n",
       "\n",
       "            total_property_area                                project_types  \\\n",
       "project_id                                                                     \n",
       "1000000143                53863                      Health Care: Outpatient   \n",
       "1000000174                66000      Core Learning Space: College/University   \n",
       "1000000194                10905                            Commercial Office   \n",
       "1000000199               555823  Public Order and Safety: Other Public Order   \n",
       "1000000222               108563      Core Learning Space: College/University   \n",
       "\n",
       "            registration_date  \n",
       "project_id                     \n",
       "1000000143         2009-05-07  \n",
       "1000000174         2009-05-10  \n",
       "1000000194         2009-05-12  \n",
       "1000000199         2009-05-13  \n",
       "1000000222         2009-05-14  \n",
       "\n",
       "[5 rows x 67 columns]"
      ]
     },
     "execution_count": 136,
     "metadata": {},
     "output_type": "execute_result"
    }
   ],
   "source": [
    "df_2009.head()"
   ]
  },
  {
   "cell_type": "code",
   "execution_count": 137,
   "metadata": {
    "collapsed": false
   },
   "outputs": [],
   "source": [
    "df_2009['year'] = df_2009['certification_date'].apply(lambda x: x.strftime('%d%m%Y'))"
   ]
  },
  {
   "cell_type": "code",
   "execution_count": 138,
   "metadata": {
    "collapsed": false
   },
   "outputs": [],
   "source": [
    "df_2009['year_1'] = df_2009['year'].apply(lambda x: x[-4:])"
   ]
  },
  {
   "cell_type": "code",
   "execution_count": 139,
   "metadata": {
    "collapsed": false
   },
   "outputs": [
    {
     "data": {
      "text/html": [
       "<div>\n",
       "<table border=\"1\" class=\"dataframe\">\n",
       "  <thead>\n",
       "    <tr style=\"text-align: right;\">\n",
       "      <th></th>\n",
       "      <th>ssc1</th>\n",
       "      <th>ssc2</th>\n",
       "      <th>ssc3</th>\n",
       "      <th>ssc4_1</th>\n",
       "      <th>ssc4_2</th>\n",
       "      <th>ssc4_3</th>\n",
       "      <th>ssc4_4</th>\n",
       "      <th>ssc5_1</th>\n",
       "      <th>ssc5_2</th>\n",
       "      <th>ssc6_1</th>\n",
       "      <th>...</th>\n",
       "      <th>points_achieved</th>\n",
       "      <th>certification_level</th>\n",
       "      <th>certification_date</th>\n",
       "      <th>owner_types</th>\n",
       "      <th>gross_square_foot</th>\n",
       "      <th>total_property_area</th>\n",
       "      <th>project_types</th>\n",
       "      <th>registration_date</th>\n",
       "      <th>year</th>\n",
       "      <th>year_1</th>\n",
       "    </tr>\n",
       "    <tr>\n",
       "      <th>project_id</th>\n",
       "      <th></th>\n",
       "      <th></th>\n",
       "      <th></th>\n",
       "      <th></th>\n",
       "      <th></th>\n",
       "      <th></th>\n",
       "      <th></th>\n",
       "      <th></th>\n",
       "      <th></th>\n",
       "      <th></th>\n",
       "      <th></th>\n",
       "      <th></th>\n",
       "      <th></th>\n",
       "      <th></th>\n",
       "      <th></th>\n",
       "      <th></th>\n",
       "      <th></th>\n",
       "      <th></th>\n",
       "      <th></th>\n",
       "      <th></th>\n",
       "      <th></th>\n",
       "    </tr>\n",
       "  </thead>\n",
       "  <tbody>\n",
       "    <tr>\n",
       "      <th>1000000143</th>\n",
       "      <td>1</td>\n",
       "      <td>5</td>\n",
       "      <td>0</td>\n",
       "      <td>6</td>\n",
       "      <td>0</td>\n",
       "      <td>0</td>\n",
       "      <td>2</td>\n",
       "      <td>0</td>\n",
       "      <td>1</td>\n",
       "      <td>1</td>\n",
       "      <td>...</td>\n",
       "      <td>44</td>\n",
       "      <td>Certified</td>\n",
       "      <td>2013-09-20</td>\n",
       "      <td>Government Use: State</td>\n",
       "      <td>86580</td>\n",
       "      <td>53863</td>\n",
       "      <td>Health Care: Outpatient</td>\n",
       "      <td>2009-05-07</td>\n",
       "      <td>20092013</td>\n",
       "      <td>2013</td>\n",
       "    </tr>\n",
       "    <tr>\n",
       "      <th>1000000174</th>\n",
       "      <td>0</td>\n",
       "      <td>0</td>\n",
       "      <td>0</td>\n",
       "      <td>6</td>\n",
       "      <td>1</td>\n",
       "      <td>0</td>\n",
       "      <td>0</td>\n",
       "      <td>0</td>\n",
       "      <td>1</td>\n",
       "      <td>0</td>\n",
       "      <td>...</td>\n",
       "      <td>65</td>\n",
       "      <td>Gold</td>\n",
       "      <td>2010-12-02</td>\n",
       "      <td>Educational: University, Private</td>\n",
       "      <td>11806</td>\n",
       "      <td>66000</td>\n",
       "      <td>Core Learning Space: College/University</td>\n",
       "      <td>2009-05-10</td>\n",
       "      <td>02122010</td>\n",
       "      <td>2010</td>\n",
       "    </tr>\n",
       "    <tr>\n",
       "      <th>1000000194</th>\n",
       "      <td>1</td>\n",
       "      <td>5</td>\n",
       "      <td>0</td>\n",
       "      <td>0</td>\n",
       "      <td>1</td>\n",
       "      <td>3</td>\n",
       "      <td>2</td>\n",
       "      <td>0</td>\n",
       "      <td>0</td>\n",
       "      <td>0</td>\n",
       "      <td>...</td>\n",
       "      <td>44</td>\n",
       "      <td>Certified</td>\n",
       "      <td>2011-08-23</td>\n",
       "      <td>Corporate: Privately Held</td>\n",
       "      <td>3472</td>\n",
       "      <td>10905</td>\n",
       "      <td>Commercial Office</td>\n",
       "      <td>2009-05-12</td>\n",
       "      <td>23082011</td>\n",
       "      <td>2011</td>\n",
       "    </tr>\n",
       "    <tr>\n",
       "      <th>1000000199</th>\n",
       "      <td>1</td>\n",
       "      <td>0</td>\n",
       "      <td>0</td>\n",
       "      <td>0</td>\n",
       "      <td>1</td>\n",
       "      <td>3</td>\n",
       "      <td>0</td>\n",
       "      <td>0</td>\n",
       "      <td>1</td>\n",
       "      <td>0</td>\n",
       "      <td>...</td>\n",
       "      <td>51</td>\n",
       "      <td>Silver</td>\n",
       "      <td>2012-03-26</td>\n",
       "      <td>Government Use: Local, City</td>\n",
       "      <td>48732</td>\n",
       "      <td>555823</td>\n",
       "      <td>Public Order and Safety: Other Public Order</td>\n",
       "      <td>2009-05-13</td>\n",
       "      <td>26032012</td>\n",
       "      <td>2012</td>\n",
       "    </tr>\n",
       "    <tr>\n",
       "      <th>1000000222</th>\n",
       "      <td>1</td>\n",
       "      <td>5</td>\n",
       "      <td>0</td>\n",
       "      <td>6</td>\n",
       "      <td>1</td>\n",
       "      <td>3</td>\n",
       "      <td>2</td>\n",
       "      <td>0</td>\n",
       "      <td>0</td>\n",
       "      <td>0</td>\n",
       "      <td>...</td>\n",
       "      <td>70</td>\n",
       "      <td>Gold</td>\n",
       "      <td>2014-01-17</td>\n",
       "      <td>Educational: University, Public</td>\n",
       "      <td>212777</td>\n",
       "      <td>108563</td>\n",
       "      <td>Core Learning Space: College/University</td>\n",
       "      <td>2009-05-14</td>\n",
       "      <td>17012014</td>\n",
       "      <td>2014</td>\n",
       "    </tr>\n",
       "  </tbody>\n",
       "</table>\n",
       "<p>5 rows × 69 columns</p>\n",
       "</div>"
      ],
      "text/plain": [
       "            ssc1  ssc2  ssc3  ssc4_1  ssc4_2  ssc4_3  ssc4_4  ssc5_1  ssc5_2  \\\n",
       "project_id                                                                     \n",
       "1000000143     1     5     0       6       0       0       2       0       1   \n",
       "1000000174     0     0     0       6       1       0       0       0       1   \n",
       "1000000194     1     5     0       0       1       3       2       0       0   \n",
       "1000000199     1     0     0       0       1       3       0       0       1   \n",
       "1000000222     1     5     0       6       1       3       2       0       0   \n",
       "\n",
       "            ssc6_1   ...    points_achieved  certification_level  \\\n",
       "project_id           ...                                           \n",
       "1000000143       1   ...                 44            Certified   \n",
       "1000000174       0   ...                 65                 Gold   \n",
       "1000000194       0   ...                 44            Certified   \n",
       "1000000199       0   ...                 51               Silver   \n",
       "1000000222       0   ...                 70                 Gold   \n",
       "\n",
       "            certification_date                       owner_types  \\\n",
       "project_id                                                         \n",
       "1000000143          2013-09-20             Government Use: State   \n",
       "1000000174          2010-12-02  Educational: University, Private   \n",
       "1000000194          2011-08-23         Corporate: Privately Held   \n",
       "1000000199          2012-03-26       Government Use: Local, City   \n",
       "1000000222          2014-01-17   Educational: University, Public   \n",
       "\n",
       "            gross_square_foot  total_property_area  \\\n",
       "project_id                                           \n",
       "1000000143              86580                53863   \n",
       "1000000174              11806                66000   \n",
       "1000000194               3472                10905   \n",
       "1000000199              48732               555823   \n",
       "1000000222             212777               108563   \n",
       "\n",
       "                                          project_types  registration_date  \\\n",
       "project_id                                                                   \n",
       "1000000143                      Health Care: Outpatient         2009-05-07   \n",
       "1000000174      Core Learning Space: College/University         2009-05-10   \n",
       "1000000194                            Commercial Office         2009-05-12   \n",
       "1000000199  Public Order and Safety: Other Public Order         2009-05-13   \n",
       "1000000222      Core Learning Space: College/University         2009-05-14   \n",
       "\n",
       "                year  year_1  \n",
       "project_id                    \n",
       "1000000143  20092013    2013  \n",
       "1000000174  02122010    2010  \n",
       "1000000194  23082011    2011  \n",
       "1000000199  26032012    2012  \n",
       "1000000222  17012014    2014  \n",
       "\n",
       "[5 rows x 69 columns]"
      ]
     },
     "execution_count": 139,
     "metadata": {},
     "output_type": "execute_result"
    }
   ],
   "source": [
    "df_2009.head()"
   ]
  },
  {
   "cell_type": "code",
   "execution_count": 140,
   "metadata": {
    "collapsed": true
   },
   "outputs": [],
   "source": [
    "df_2014 = df_2009[df_2009['year_1']=='2014']"
   ]
  },
  {
   "cell_type": "code",
   "execution_count": 141,
   "metadata": {
    "collapsed": false
   },
   "outputs": [],
   "source": [
    "df_2013 = df_2009[df_2009['year_1']=='2013']\n",
    "df_2012 = df_2009[df_2009['year_1']=='2012']\n",
    "df_2011 = df_2009[df_2009['year_1']=='2011']\n",
    "df_2010 = df_2009[df_2009['year_1']=='2010']"
   ]
  },
  {
   "cell_type": "code",
   "execution_count": 142,
   "metadata": {
    "collapsed": false
   },
   "outputs": [],
   "source": [
    "df_2015 = df_2009[df_2009['year_1']=='2015']"
   ]
  },
  {
   "cell_type": "code",
   "execution_count": 143,
   "metadata": {
    "collapsed": false
   },
   "outputs": [],
   "source": [
    "df_2015_trends = df_2015.describe()\n",
    "df_2014_trends = df_2014.describe()\n",
    "df_2013_trends = df_2013.describe()\n",
    "df_2012_trends = df_2012.describe()\n",
    "df_2011_trends = df_2011.describe()"
   ]
  },
  {
   "cell_type": "code",
   "execution_count": 144,
   "metadata": {
    "collapsed": false
   },
   "outputs": [],
   "source": [
    "df_2015_trends.drop('gross_square_foot', axis=1, inplace=True)"
   ]
  },
  {
   "cell_type": "code",
   "execution_count": 145,
   "metadata": {
    "collapsed": false
   },
   "outputs": [],
   "source": [
    "df_2015_trends.drop('total_property_area', axis=1, inplace=True)"
   ]
  },
  {
   "cell_type": "code",
   "execution_count": 146,
   "metadata": {
    "collapsed": true
   },
   "outputs": [],
   "source": [
    "df_2014_trends.drop('gross_square_foot', axis=1, inplace=True)\n",
    "df_2014_trends.drop('total_property_area', axis=1, inplace=True)\n",
    "df_2013_trends.drop('gross_square_foot', axis=1, inplace=True)\n",
    "df_2013_trends.drop('total_property_area', axis=1, inplace=True)\n",
    "df_2012_trends.drop('gross_square_foot', axis=1, inplace=True)\n",
    "df_2012_trends.drop('total_property_area', axis=1, inplace=True)\n",
    "df_2011_trends.drop('gross_square_foot', axis=1, inplace=True)\n",
    "df_2011_trends.drop('total_property_area', axis=1, inplace=True)"
   ]
  },
  {
   "cell_type": "code",
   "execution_count": 147,
   "metadata": {
    "collapsed": false
   },
   "outputs": [],
   "source": [
    "df_2015_mean = df_2015_trends.iloc[[1]]\n",
    "df_2014_mean = df_2014_trends.iloc[[1]]\n",
    "df_2013_mean = df_2013_trends.iloc[[1]]\n",
    "df_2012_mean = df_2012_trends.iloc[[1]]\n",
    "df_2011_mean = df_2011_trends.iloc[[1]]"
   ]
  },
  {
   "cell_type": "code",
   "execution_count": 148,
   "metadata": {
    "collapsed": false
   },
   "outputs": [],
   "source": [
    "df_2015_mean = df_2015_mean.rename(index={'mean': '2015'})\n",
    "df_2014_mean = df_2014_mean.rename(index={'mean': '2014'})\n",
    "df_2013_mean = df_2013_mean.rename(index={'mean': '2013'})\n",
    "df_2012_mean = df_2012_mean.rename(index={'mean': '2012'})\n",
    "df_2011_mean = df_2011_mean.rename(index={'mean': '2011'})\n",
    "\n"
   ]
  },
  {
   "cell_type": "code",
   "execution_count": 149,
   "metadata": {
    "collapsed": false
   },
   "outputs": [],
   "source": [
    "frames = [df_2011_mean, df_2012_mean, df_2013_mean, df_2014_mean, df_2015_mean]\n",
    "result = pd.concat(frames)"
   ]
  },
  {
   "cell_type": "code",
   "execution_count": 150,
   "metadata": {
    "collapsed": false
   },
   "outputs": [
    {
     "data": {
      "text/html": [
       "<div>\n",
       "<table border=\"1\" class=\"dataframe\">\n",
       "  <thead>\n",
       "    <tr style=\"text-align: right;\">\n",
       "      <th></th>\n",
       "      <th>ssc1</th>\n",
       "      <th>ssc2</th>\n",
       "      <th>ssc3</th>\n",
       "      <th>ssc4_1</th>\n",
       "      <th>ssc4_2</th>\n",
       "      <th>ssc4_3</th>\n",
       "      <th>ssc4_4</th>\n",
       "      <th>ssc5_1</th>\n",
       "      <th>ssc5_2</th>\n",
       "      <th>ssc6_1</th>\n",
       "      <th>...</th>\n",
       "      <th>eqc7_2</th>\n",
       "      <th>eqc8_1</th>\n",
       "      <th>eqc8_2</th>\n",
       "      <th>idc1</th>\n",
       "      <th>idc2</th>\n",
       "      <th>extra1</th>\n",
       "      <th>extra2</th>\n",
       "      <th>extra3</th>\n",
       "      <th>extra4</th>\n",
       "      <th>points_achieved</th>\n",
       "    </tr>\n",
       "  </thead>\n",
       "  <tbody>\n",
       "    <tr>\n",
       "      <th>2011</th>\n",
       "      <td>0.847826</td>\n",
       "      <td>3.260870</td>\n",
       "      <td>0.173913</td>\n",
       "      <td>3.652174</td>\n",
       "      <td>0.550725</td>\n",
       "      <td>2.565217</td>\n",
       "      <td>1.246377</td>\n",
       "      <td>0.159420</td>\n",
       "      <td>0.565217</td>\n",
       "      <td>0.434783</td>\n",
       "      <td>...</td>\n",
       "      <td>0.659420</td>\n",
       "      <td>0.231884</td>\n",
       "      <td>0.485507</td>\n",
       "      <td>3.065217</td>\n",
       "      <td>0.963768</td>\n",
       "      <td>0.558824</td>\n",
       "      <td>0.607692</td>\n",
       "      <td>0.720339</td>\n",
       "      <td>0.610526</td>\n",
       "      <td>57.253623</td>\n",
       "    </tr>\n",
       "    <tr>\n",
       "      <th>2012</th>\n",
       "      <td>0.829832</td>\n",
       "      <td>2.888655</td>\n",
       "      <td>0.203782</td>\n",
       "      <td>3.063025</td>\n",
       "      <td>0.605042</td>\n",
       "      <td>2.357143</td>\n",
       "      <td>1.285714</td>\n",
       "      <td>0.186975</td>\n",
       "      <td>0.621849</td>\n",
       "      <td>0.451681</td>\n",
       "      <td>...</td>\n",
       "      <td>0.638655</td>\n",
       "      <td>0.212185</td>\n",
       "      <td>0.441176</td>\n",
       "      <td>2.920168</td>\n",
       "      <td>0.991597</td>\n",
       "      <td>0.536481</td>\n",
       "      <td>0.676923</td>\n",
       "      <td>0.648585</td>\n",
       "      <td>0.589595</td>\n",
       "      <td>56.697479</td>\n",
       "    </tr>\n",
       "    <tr>\n",
       "      <th>2013</th>\n",
       "      <td>0.841830</td>\n",
       "      <td>2.862745</td>\n",
       "      <td>0.179085</td>\n",
       "      <td>3.200000</td>\n",
       "      <td>0.661438</td>\n",
       "      <td>2.439216</td>\n",
       "      <td>1.427451</td>\n",
       "      <td>0.183007</td>\n",
       "      <td>0.667974</td>\n",
       "      <td>0.439216</td>\n",
       "      <td>...</td>\n",
       "      <td>0.631373</td>\n",
       "      <td>0.188235</td>\n",
       "      <td>0.376471</td>\n",
       "      <td>2.952941</td>\n",
       "      <td>0.998693</td>\n",
       "      <td>0.500000</td>\n",
       "      <td>0.610054</td>\n",
       "      <td>0.643388</td>\n",
       "      <td>0.578207</td>\n",
       "      <td>56.433987</td>\n",
       "    </tr>\n",
       "    <tr>\n",
       "      <th>2014</th>\n",
       "      <td>0.895294</td>\n",
       "      <td>3.088235</td>\n",
       "      <td>0.212941</td>\n",
       "      <td>3.698824</td>\n",
       "      <td>0.677647</td>\n",
       "      <td>2.361176</td>\n",
       "      <td>1.470588</td>\n",
       "      <td>0.148235</td>\n",
       "      <td>0.658824</td>\n",
       "      <td>0.416471</td>\n",
       "      <td>...</td>\n",
       "      <td>0.585882</td>\n",
       "      <td>0.147059</td>\n",
       "      <td>0.360000</td>\n",
       "      <td>2.961176</td>\n",
       "      <td>0.996471</td>\n",
       "      <td>0.503571</td>\n",
       "      <td>0.597033</td>\n",
       "      <td>0.645380</td>\n",
       "      <td>0.582456</td>\n",
       "      <td>55.829412</td>\n",
       "    </tr>\n",
       "    <tr>\n",
       "      <th>2015</th>\n",
       "      <td>0.881679</td>\n",
       "      <td>3.034351</td>\n",
       "      <td>0.232824</td>\n",
       "      <td>3.778626</td>\n",
       "      <td>0.599237</td>\n",
       "      <td>2.255725</td>\n",
       "      <td>1.564885</td>\n",
       "      <td>0.190840</td>\n",
       "      <td>0.679389</td>\n",
       "      <td>0.412214</td>\n",
       "      <td>...</td>\n",
       "      <td>0.503817</td>\n",
       "      <td>0.175573</td>\n",
       "      <td>0.377863</td>\n",
       "      <td>2.977099</td>\n",
       "      <td>0.996183</td>\n",
       "      <td>0.469231</td>\n",
       "      <td>0.596078</td>\n",
       "      <td>0.646288</td>\n",
       "      <td>0.531250</td>\n",
       "      <td>54.450382</td>\n",
       "    </tr>\n",
       "  </tbody>\n",
       "</table>\n",
       "<p>5 rows × 53 columns</p>\n",
       "</div>"
      ],
      "text/plain": [
       "          ssc1      ssc2      ssc3    ssc4_1    ssc4_2    ssc4_3    ssc4_4  \\\n",
       "2011  0.847826  3.260870  0.173913  3.652174  0.550725  2.565217  1.246377   \n",
       "2012  0.829832  2.888655  0.203782  3.063025  0.605042  2.357143  1.285714   \n",
       "2013  0.841830  2.862745  0.179085  3.200000  0.661438  2.439216  1.427451   \n",
       "2014  0.895294  3.088235  0.212941  3.698824  0.677647  2.361176  1.470588   \n",
       "2015  0.881679  3.034351  0.232824  3.778626  0.599237  2.255725  1.564885   \n",
       "\n",
       "        ssc5_1    ssc5_2    ssc6_1       ...           eqc7_2    eqc8_1  \\\n",
       "2011  0.159420  0.565217  0.434783       ...         0.659420  0.231884   \n",
       "2012  0.186975  0.621849  0.451681       ...         0.638655  0.212185   \n",
       "2013  0.183007  0.667974  0.439216       ...         0.631373  0.188235   \n",
       "2014  0.148235  0.658824  0.416471       ...         0.585882  0.147059   \n",
       "2015  0.190840  0.679389  0.412214       ...         0.503817  0.175573   \n",
       "\n",
       "        eqc8_2      idc1      idc2    extra1    extra2    extra3    extra4  \\\n",
       "2011  0.485507  3.065217  0.963768  0.558824  0.607692  0.720339  0.610526   \n",
       "2012  0.441176  2.920168  0.991597  0.536481  0.676923  0.648585  0.589595   \n",
       "2013  0.376471  2.952941  0.998693  0.500000  0.610054  0.643388  0.578207   \n",
       "2014  0.360000  2.961176  0.996471  0.503571  0.597033  0.645380  0.582456   \n",
       "2015  0.377863  2.977099  0.996183  0.469231  0.596078  0.646288  0.531250   \n",
       "\n",
       "      points_achieved  \n",
       "2011        57.253623  \n",
       "2012        56.697479  \n",
       "2013        56.433987  \n",
       "2014        55.829412  \n",
       "2015        54.450382  \n",
       "\n",
       "[5 rows x 53 columns]"
      ]
     },
     "execution_count": 150,
     "metadata": {},
     "output_type": "execute_result"
    }
   ],
   "source": [
    "result.head()"
   ]
  },
  {
   "cell_type": "code",
   "execution_count": 151,
   "metadata": {
    "collapsed": false
   },
   "outputs": [],
   "source": [
    "result.rename(columns=lambda x: x.replace('_', '.'), inplace=True)"
   ]
  },
  {
   "cell_type": "code",
   "execution_count": 152,
   "metadata": {
    "collapsed": false
   },
   "outputs": [],
   "source": [
    "result.rename(columns=lambda x: x.upper(), inplace=True)"
   ]
  },
  {
   "cell_type": "code",
   "execution_count": 153,
   "metadata": {
    "collapsed": false
   },
   "outputs": [],
   "source": [
    "result.rename(columns=lambda x: x.replace('C', 'c'), inplace=True)"
   ]
  },
  {
   "cell_type": "code",
   "execution_count": 154,
   "metadata": {
    "collapsed": false
   },
   "outputs": [],
   "source": [
    "result.rename(columns=lambda x: x.replace('EXTRA', 'Extra '), inplace=True)"
   ]
  },
  {
   "cell_type": "code",
   "execution_count": 155,
   "metadata": {
    "collapsed": false
   },
   "outputs": [],
   "source": [
    "result.rename(columns=lambda x: x.replace('POINTS.AcHIEVED', 'Total Points'), inplace=True)"
   ]
  },
  {
   "cell_type": "code",
   "execution_count": 156,
   "metadata": {
    "collapsed": false
   },
   "outputs": [
    {
     "data": {
      "text/html": [
       "<div>\n",
       "<table border=\"1\" class=\"dataframe\">\n",
       "  <thead>\n",
       "    <tr style=\"text-align: right;\">\n",
       "      <th></th>\n",
       "      <th>SSc1</th>\n",
       "      <th>SSc2</th>\n",
       "      <th>SSc3</th>\n",
       "      <th>SSc4.1</th>\n",
       "      <th>SSc4.2</th>\n",
       "      <th>SSc4.3</th>\n",
       "      <th>SSc4.4</th>\n",
       "      <th>SSc5.1</th>\n",
       "      <th>SSc5.2</th>\n",
       "      <th>SSc6.1</th>\n",
       "      <th>...</th>\n",
       "      <th>EQc7.2</th>\n",
       "      <th>EQc8.1</th>\n",
       "      <th>EQc8.2</th>\n",
       "      <th>IDc1</th>\n",
       "      <th>IDc2</th>\n",
       "      <th>Extra 1</th>\n",
       "      <th>Extra 2</th>\n",
       "      <th>Extra 3</th>\n",
       "      <th>Extra 4</th>\n",
       "      <th>Total Points</th>\n",
       "    </tr>\n",
       "  </thead>\n",
       "  <tbody>\n",
       "    <tr>\n",
       "      <th>2011</th>\n",
       "      <td>0.847826</td>\n",
       "      <td>3.260870</td>\n",
       "      <td>0.173913</td>\n",
       "      <td>3.652174</td>\n",
       "      <td>0.550725</td>\n",
       "      <td>2.565217</td>\n",
       "      <td>1.246377</td>\n",
       "      <td>0.159420</td>\n",
       "      <td>0.565217</td>\n",
       "      <td>0.434783</td>\n",
       "      <td>...</td>\n",
       "      <td>0.659420</td>\n",
       "      <td>0.231884</td>\n",
       "      <td>0.485507</td>\n",
       "      <td>3.065217</td>\n",
       "      <td>0.963768</td>\n",
       "      <td>0.558824</td>\n",
       "      <td>0.607692</td>\n",
       "      <td>0.720339</td>\n",
       "      <td>0.610526</td>\n",
       "      <td>57.253623</td>\n",
       "    </tr>\n",
       "    <tr>\n",
       "      <th>2012</th>\n",
       "      <td>0.829832</td>\n",
       "      <td>2.888655</td>\n",
       "      <td>0.203782</td>\n",
       "      <td>3.063025</td>\n",
       "      <td>0.605042</td>\n",
       "      <td>2.357143</td>\n",
       "      <td>1.285714</td>\n",
       "      <td>0.186975</td>\n",
       "      <td>0.621849</td>\n",
       "      <td>0.451681</td>\n",
       "      <td>...</td>\n",
       "      <td>0.638655</td>\n",
       "      <td>0.212185</td>\n",
       "      <td>0.441176</td>\n",
       "      <td>2.920168</td>\n",
       "      <td>0.991597</td>\n",
       "      <td>0.536481</td>\n",
       "      <td>0.676923</td>\n",
       "      <td>0.648585</td>\n",
       "      <td>0.589595</td>\n",
       "      <td>56.697479</td>\n",
       "    </tr>\n",
       "    <tr>\n",
       "      <th>2013</th>\n",
       "      <td>0.841830</td>\n",
       "      <td>2.862745</td>\n",
       "      <td>0.179085</td>\n",
       "      <td>3.200000</td>\n",
       "      <td>0.661438</td>\n",
       "      <td>2.439216</td>\n",
       "      <td>1.427451</td>\n",
       "      <td>0.183007</td>\n",
       "      <td>0.667974</td>\n",
       "      <td>0.439216</td>\n",
       "      <td>...</td>\n",
       "      <td>0.631373</td>\n",
       "      <td>0.188235</td>\n",
       "      <td>0.376471</td>\n",
       "      <td>2.952941</td>\n",
       "      <td>0.998693</td>\n",
       "      <td>0.500000</td>\n",
       "      <td>0.610054</td>\n",
       "      <td>0.643388</td>\n",
       "      <td>0.578207</td>\n",
       "      <td>56.433987</td>\n",
       "    </tr>\n",
       "    <tr>\n",
       "      <th>2014</th>\n",
       "      <td>0.895294</td>\n",
       "      <td>3.088235</td>\n",
       "      <td>0.212941</td>\n",
       "      <td>3.698824</td>\n",
       "      <td>0.677647</td>\n",
       "      <td>2.361176</td>\n",
       "      <td>1.470588</td>\n",
       "      <td>0.148235</td>\n",
       "      <td>0.658824</td>\n",
       "      <td>0.416471</td>\n",
       "      <td>...</td>\n",
       "      <td>0.585882</td>\n",
       "      <td>0.147059</td>\n",
       "      <td>0.360000</td>\n",
       "      <td>2.961176</td>\n",
       "      <td>0.996471</td>\n",
       "      <td>0.503571</td>\n",
       "      <td>0.597033</td>\n",
       "      <td>0.645380</td>\n",
       "      <td>0.582456</td>\n",
       "      <td>55.829412</td>\n",
       "    </tr>\n",
       "    <tr>\n",
       "      <th>2015</th>\n",
       "      <td>0.881679</td>\n",
       "      <td>3.034351</td>\n",
       "      <td>0.232824</td>\n",
       "      <td>3.778626</td>\n",
       "      <td>0.599237</td>\n",
       "      <td>2.255725</td>\n",
       "      <td>1.564885</td>\n",
       "      <td>0.190840</td>\n",
       "      <td>0.679389</td>\n",
       "      <td>0.412214</td>\n",
       "      <td>...</td>\n",
       "      <td>0.503817</td>\n",
       "      <td>0.175573</td>\n",
       "      <td>0.377863</td>\n",
       "      <td>2.977099</td>\n",
       "      <td>0.996183</td>\n",
       "      <td>0.469231</td>\n",
       "      <td>0.596078</td>\n",
       "      <td>0.646288</td>\n",
       "      <td>0.531250</td>\n",
       "      <td>54.450382</td>\n",
       "    </tr>\n",
       "  </tbody>\n",
       "</table>\n",
       "<p>5 rows × 53 columns</p>\n",
       "</div>"
      ],
      "text/plain": [
       "          SSc1      SSc2      SSc3    SSc4.1    SSc4.2    SSc4.3    SSc4.4  \\\n",
       "2011  0.847826  3.260870  0.173913  3.652174  0.550725  2.565217  1.246377   \n",
       "2012  0.829832  2.888655  0.203782  3.063025  0.605042  2.357143  1.285714   \n",
       "2013  0.841830  2.862745  0.179085  3.200000  0.661438  2.439216  1.427451   \n",
       "2014  0.895294  3.088235  0.212941  3.698824  0.677647  2.361176  1.470588   \n",
       "2015  0.881679  3.034351  0.232824  3.778626  0.599237  2.255725  1.564885   \n",
       "\n",
       "        SSc5.1    SSc5.2    SSc6.1      ...         EQc7.2    EQc8.1  \\\n",
       "2011  0.159420  0.565217  0.434783      ...       0.659420  0.231884   \n",
       "2012  0.186975  0.621849  0.451681      ...       0.638655  0.212185   \n",
       "2013  0.183007  0.667974  0.439216      ...       0.631373  0.188235   \n",
       "2014  0.148235  0.658824  0.416471      ...       0.585882  0.147059   \n",
       "2015  0.190840  0.679389  0.412214      ...       0.503817  0.175573   \n",
       "\n",
       "        EQc8.2      IDc1      IDc2   Extra 1   Extra 2   Extra 3   Extra 4  \\\n",
       "2011  0.485507  3.065217  0.963768  0.558824  0.607692  0.720339  0.610526   \n",
       "2012  0.441176  2.920168  0.991597  0.536481  0.676923  0.648585  0.589595   \n",
       "2013  0.376471  2.952941  0.998693  0.500000  0.610054  0.643388  0.578207   \n",
       "2014  0.360000  2.961176  0.996471  0.503571  0.597033  0.645380  0.582456   \n",
       "2015  0.377863  2.977099  0.996183  0.469231  0.596078  0.646288  0.531250   \n",
       "\n",
       "      Total Points  \n",
       "2011     57.253623  \n",
       "2012     56.697479  \n",
       "2013     56.433987  \n",
       "2014     55.829412  \n",
       "2015     54.450382  \n",
       "\n",
       "[5 rows x 53 columns]"
      ]
     },
     "execution_count": 156,
     "metadata": {},
     "output_type": "execute_result"
    }
   ],
   "source": [
    "result"
   ]
  },
  {
   "cell_type": "code",
   "execution_count": 164,
   "metadata": {
    "collapsed": false
   },
   "outputs": [],
   "source": [
    "averages_2015 = result.loc['2015']"
   ]
  },
  {
   "cell_type": "code",
   "execution_count": 171,
   "metadata": {
    "collapsed": false
   },
   "outputs": [],
   "source": [
    "averages_2015 = averages_2015.tolist()"
   ]
  },
  {
   "cell_type": "code",
   "execution_count": 172,
   "metadata": {
    "collapsed": true
   },
   "outputs": [],
   "source": [
    "averages_SSc1 = result['SSc1']"
   ]
  },
  {
   "cell_type": "code",
   "execution_count": 178,
   "metadata": {
    "collapsed": false
   },
   "outputs": [
    {
     "data": {
      "text/plain": [
       "[0.84782608695652173,\n",
       " 0.82983193277310929,\n",
       " 0.84183006535947713,\n",
       " 0.8952941176470588,\n",
       " 0.88167938931297707]"
      ]
     },
     "execution_count": 178,
     "metadata": {},
     "output_type": "execute_result"
    }
   ],
   "source": [
    "result['SSc1'].tolist()"
   ]
  },
  {
   "cell_type": "code",
   "execution_count": 190,
   "metadata": {
    "collapsed": true
   },
   "outputs": [],
   "source": [
    "result.drop('Total Points', axis=1, inplace=True)"
   ]
  },
  {
   "cell_type": "code",
   "execution_count": 185,
   "metadata": {
    "collapsed": false
   },
   "outputs": [],
   "source": [
    "columns_all = result.columns"
   ]
  },
  {
   "cell_type": "code",
   "execution_count": 205,
   "metadata": {
    "collapsed": false
   },
   "outputs": [],
   "source": [
    "ss_2009 = ['SSc1', 'SSc2', 'SSc3', 'SSc4.1', 'SSc4.2', 'SSc4.3', 'SSc4.4',\n",
    "       'SSc5.1', 'SSc5.2', 'SSc6.1', 'SSc6.2', 'SSc7.1', 'SSc7.2', 'SSc8']"
   ]
  },
  {
   "cell_type": "code",
   "execution_count": 206,
   "metadata": {
    "collapsed": true
   },
   "outputs": [],
   "source": [
    "we_2009 = ['WEc1', 'WEc2', 'WEc3']"
   ]
  },
  {
   "cell_type": "code",
   "execution_count": 207,
   "metadata": {
    "collapsed": true
   },
   "outputs": [],
   "source": [
    "ea_2009 = ['EAc1', 'EAc2', 'EAc3', 'EAc4', 'EAc5', 'EAc6']"
   ]
  },
  {
   "cell_type": "code",
   "execution_count": 208,
   "metadata": {
    "collapsed": true
   },
   "outputs": [],
   "source": [
    "mr_2009 = ['MRc1.1', 'MRc1.2', 'MRc2', 'MRc3', 'MRc4', 'MRc5', 'MRc6', 'MRc7']"
   ]
  },
  {
   "cell_type": "code",
   "execution_count": 209,
   "metadata": {
    "collapsed": true
   },
   "outputs": [],
   "source": [
    "eq_2009 = ['EQc1', 'EQc2', 'EQc3.1', 'EQc3.2', 'EQc4.1', 'EQc4.2', 'EQc4.3',\n",
    "       'EQc4.4', 'EQc5', 'EQc6.1', 'EQc6.2', 'EQc7.1', 'EQc7.2', 'EQc8.1',\n",
    "       'EQc8.2']"
   ]
  },
  {
   "cell_type": "code",
   "execution_count": 218,
   "metadata": {
    "collapsed": true
   },
   "outputs": [],
   "source": [
    "id_and_extra_2009 = ['IDc1', 'IDc2', 'Extra 1', 'Extra 2', 'Extra 3', 'Extra 4']"
   ]
  },
  {
   "cell_type": "code",
   "execution_count": 198,
   "metadata": {
    "collapsed": false
   },
   "outputs": [
    {
     "ename": "SyntaxError",
     "evalue": "non-keyword arg after keyword arg (<ipython-input-198-7347b52a3479>, line 8)",
     "output_type": "error",
     "traceback": [
      "\u001b[0;36m  File \u001b[0;32m\"<ipython-input-198-7347b52a3479>\"\u001b[0;36m, line \u001b[0;32m8\u001b[0m\n\u001b[0;31m    y=result['SSc1'].tolist(),result['SSc2'].tolist(),\u001b[0m\n\u001b[0m                             ^\u001b[0m\n\u001b[0;31mSyntaxError\u001b[0m\u001b[0;31m:\u001b[0m non-keyword arg after keyword arg\n"
     ]
    }
   ],
   "source": [
    "\n",
    "import plotly.plotly as py\n",
    "from plotly.graph_objs import *\n",
    "years = [2011, 2012, 2013, 2014, 2015]\n",
    "\n",
    "trace1 = Bar(\n",
    "    x=years,\n",
    "    y=result['SSc1'].tolist(),\n",
    "    fill='tozeroy'\n",
    ")\n",
    "trace2 = Scatter(\n",
    "    x=years,\n",
    "    y=\n",
    "    fill='tonexty'\n",
    ")\n",
    "trace3 = Scatter(\n",
    "    x=years,\n",
    "    y=result['SSc3'].tolist(),\n",
    "    fill='tonexty'\n",
    ")\n",
    "trace4 = Scatter(\n",
    "    x=years,\n",
    "    y=result['SSc4.1'].tolist(),\n",
    "    fill='tonexty'\n",
    ")\n",
    "data = Data([trace1])\n",
    "\n",
    "\n",
    "\n",
    "#data = Data([Scatter(x=years, y=result[score_point].tolist(), fill='tonexty') for score_point in ['Extra 1', 'Extra 2', 'Extra 3', 'Extra 4']])\n",
    "py.iplot(data, filename='LEED score averages per year')"
   ]
  },
  {
   "cell_type": "code",
   "execution_count": 244,
   "metadata": {
    "collapsed": false
   },
   "outputs": [
    {
     "data": {
      "text/html": [
       "<iframe id=\"igraph\" scrolling=\"no\" style=\"border:none;\"seamless=\"seamless\" src=\"https://plot.ly/~jdhiggins/76.embed\" height=\"525\" width=\"100%\"></iframe>"
      ],
      "text/plain": [
       "<plotly.tools.PlotlyDisplay object>"
      ]
     },
     "execution_count": 244,
     "metadata": {},
     "output_type": "execute_result"
    }
   ],
   "source": [
    "\n",
    "# Data([Bar(x=years, y=result[score_point].tolist(), name=score_point) for score_point in result.columns])\n",
    "data = Data([Bar(x=years, y=result[score_point].tolist(), name=score_point) for score_point in ss_2009])\n",
    "\n",
    "\n",
    "layout = Layout(\n",
    "    barmode='stack',\n",
    "    xaxis=XAxis(\n",
    "        title='Year',\n",
    "        titlefont=Font(\n",
    "            family='Helvetica, monospace',\n",
    "            size=18,\n",
    "            color='#7f7f7f'\n",
    "        )\n",
    "    ),\n",
    "    yaxis=YAxis(\n",
    "        title='Score',\n",
    "        titlefont=Font(\n",
    "            family='Helvetica, monospace',\n",
    "            size=18,\n",
    "            color='#7f7f7f'\n",
    "        )\n",
    "    )\n",
    ")\n",
    "fig = Figure(data=data, layout=layout)\n",
    "fig['layout'].update(\n",
    "    autosize=False,  # allow custom size (set already, only for completeness here)\n",
    "    width=960,    # link new width value\n",
    "    height=453,  # link new height value\n",
    "#     font=Font(size=7),       # update global font size\n",
    "#     titlefont=Font(size=12)  #  as well as the title font size \n",
    ")\n",
    "layout.update(margin=Margin(l=50,r=50,b=50,t=50,pad=0,autoexpand=True))\n",
    "py.iplot(fig, filename='ss_2009_stacked-bar')"
   ]
  },
  {
   "cell_type": "markdown",
   "metadata": {},
   "source": [
    "Description: Average points achieved for LEED version 2009 Sustainable Sites credits by year.  \n",
    "Intersting Findings: Performance on these credits are relatively stable on the NC-2009 version.  The dip in years 2012 and 2013 are mostly due to SSc4.1 - Alternative Transportation—Public Transportation Access.  \n",
    "Further analysis: How to encourage completion of SSc5.1 - Site Development (Protect or Restore Habitat) and SSc3 - Brownfield Redevelopment."
   ]
  },
  {
   "cell_type": "code",
   "execution_count": 243,
   "metadata": {
    "collapsed": false
   },
   "outputs": [
    {
     "data": {
      "text/html": [
       "<iframe id=\"igraph\" scrolling=\"no\" style=\"border:none;\"seamless=\"seamless\" src=\"https://plot.ly/~jdhiggins/78.embed\" height=\"525\" width=\"100%\"></iframe>"
      ],
      "text/plain": [
       "<plotly.tools.PlotlyDisplay object>"
      ]
     },
     "execution_count": 243,
     "metadata": {},
     "output_type": "execute_result"
    }
   ],
   "source": [
    "data = Data([Bar(x=years, y=result[score_point].tolist(), name=score_point) for score_point in result.columns])\n",
    "\n",
    "layout = Layout(\n",
    "    barmode='stack',\n",
    "    xaxis=XAxis(\n",
    "        title='Year',\n",
    "        titlefont=Font(\n",
    "            family='Helvetica, monospace',\n",
    "            size=18,\n",
    "            color='#7f7f7f'\n",
    "        )\n",
    "    ),\n",
    "    yaxis=YAxis(\n",
    "        title='Score',\n",
    "        titlefont=Font(\n",
    "            family='Helvetica, monospace',\n",
    "            size=18,\n",
    "            color='#7f7f7f'\n",
    "        )\n",
    "    )\n",
    ")\n",
    "fig = Figure(data=data, layout=layout)\n",
    "fig['layout'].update(\n",
    "    autosize=False,  # allow custom size (set already, only for completeness here)\n",
    "    width=960,    # link new width value\n",
    "    height=453,  # link new height value\n",
    "#     font=Font(size=7),       # update global font size\n",
    "#     titlefont=Font(size=12)  #  as well as the title font size \n",
    ")\n",
    "layout.update(margin=Margin(l=50,r=50,b=50,t=50,pad=0,autoexpand=True))\n",
    "py.iplot(fig, filename='total-2009-stacked-bar')"
   ]
  },
  {
   "cell_type": "markdown",
   "metadata": {},
   "source": [
    "Description: Average points achieved for LEED version 2009 on all credits.  \n",
    "Interesting Findings: Overall performance on the public scored projects has declined from 57.25 to 54.45 since 2011.  Much of this underperformance can be traced to a decline in the average scores for EAc1 and EAc2.  \n",
    "Further analysis: Has the ratio of Platinum, Gold, Silver and Certified projects changed?  If so, what is the driver of the shift to lower LEED certified status?  If not, why are scores declining overall?"
   ]
  },
  {
   "cell_type": "code",
   "execution_count": 242,
   "metadata": {
    "collapsed": false
   },
   "outputs": [
    {
     "data": {
      "text/html": [
       "<iframe id=\"igraph\" scrolling=\"no\" style=\"border:none;\"seamless=\"seamless\" src=\"https://plot.ly/~jdhiggins/80.embed\" height=\"525\" width=\"100%\"></iframe>"
      ],
      "text/plain": [
       "<plotly.tools.PlotlyDisplay object>"
      ]
     },
     "execution_count": 242,
     "metadata": {},
     "output_type": "execute_result"
    }
   ],
   "source": [
    "\n",
    "# Data([Bar(x=years, y=result[score_point].tolist(), name=score_point) for score_point in result.columns])\n",
    "data = Data([Bar(x=years, y=result[score_point].tolist(), name=score_point) for score_point in eq_2009])\n",
    "\n",
    "layout = Layout(\n",
    "    barmode='stack',\n",
    "    xaxis=XAxis(\n",
    "        title='Year',\n",
    "        titlefont=Font(\n",
    "            family='Helvetica, monospace',\n",
    "            size=18,\n",
    "            color='#7f7f7f'\n",
    "        )\n",
    "    ),\n",
    "    yaxis=YAxis(\n",
    "        title='Score',\n",
    "        titlefont=Font(\n",
    "            family='Helvetica, monospace',\n",
    "            size=18,\n",
    "            color='#7f7f7f'\n",
    "        )\n",
    "    )\n",
    ")\n",
    "fig = Figure(data=data, layout=layout)\n",
    "fig['layout'].update(\n",
    "    autosize=False,  # allow custom size (set already, only for completeness here)\n",
    "    width=960,    # link new width value\n",
    "    height=453,  # link new height value\n",
    "#     font=Font(size=7),       # update global font size\n",
    "#     titlefont=Font(size=12)  #  as well as the title font size \n",
    ")\n",
    "layout.update(margin=Margin(l=50,r=50,b=50,t=50,pad=0,autoexpand=True))\n",
    "py.iplot(fig, filename='eq-2009-stacked-bar')"
   ]
  },
  {
   "cell_type": "markdown",
   "metadata": {},
   "source": [
    "Description: Average points achieved for LEED version 2009 - Indoor Environmental Quality credits.  \n",
    "Interesting Findings: Scores in Indoor Environmental Quality have descreased since 2012, EQc4.4 - Low-Emitting Materials (Composite Wood and Agrifiber Products) has contributed most to the decline.  \n",
    "Further analysis: Have costs in this space increased above inflation?"
   ]
  },
  {
   "cell_type": "code",
   "execution_count": 234,
   "metadata": {
    "collapsed": false
   },
   "outputs": [
    {
     "data": {
      "text/html": [
       "<iframe id=\"igraph\" scrolling=\"no\" style=\"border:none;\"seamless=\"seamless\" src=\"https://plot.ly/~jdhiggins/82.embed\" height=\"525\" width=\"100%\"></iframe>"
      ],
      "text/plain": [
       "<plotly.tools.PlotlyDisplay object>"
      ]
     },
     "execution_count": 234,
     "metadata": {},
     "output_type": "execute_result"
    }
   ],
   "source": [
    "\n",
    "# Data([Bar(x=years, y=result[score_point].tolist(), name=score_point) for score_point in result.columns])\n",
    "data = Data([Bar(x=years, y=result[score_point].tolist(), name=score_point) for score_point in we_2009])\n",
    "\n",
    "layout = Layout(\n",
    "    barmode='stack',\n",
    "    xaxis=XAxis(\n",
    "        title='Year',\n",
    "        titlefont=Font(\n",
    "            family='Helvetica, monospace',\n",
    "            size=18,\n",
    "            color='#7f7f7f'\n",
    "        )\n",
    "    ),\n",
    "    yaxis=YAxis(\n",
    "        title='Score',\n",
    "        titlefont=Font(\n",
    "            family='Helvetica, monospace',\n",
    "            size=18,\n",
    "            color='#7f7f7f'\n",
    "        )\n",
    "    )\n",
    ")\n",
    "\n",
    "fig = Figure(data=data, layout=layout)\n",
    "fig['layout'].update(\n",
    "    autosize=False,  # allow custom size (set already, only for completeness here)\n",
    "    width=960,    # link new width value\n",
    "    height=500,  # link new height value\n",
    "#     font=Font(size=7),       # update global font size\n",
    "#     titlefont=Font(size=12)  #  as well as the title font size \n",
    ")\n",
    "py.iplot(fig, filename='we-2009-stacked-bar')"
   ]
  },
  {
   "cell_type": "markdown",
   "metadata": {},
   "source": [
    "Description: Average points achieved for LEED version 2009 - Water Efficiency credits.    \n",
    "Interesting Findings: Scores in WEc1 - Water Efficient Landscaping and WEc2 -  Innovative Wastewater Technologies have experienced declines, even as water use and drought has been a major policy concern.   \n",
    "Further analysis: How can LEED encourage increased performance in this area?  Can LEED take the lead in pushing for new technologies and adoption of water efficient techniques?  If WEc2 is rarely achieved, how can this point be changed or encouraged.  Is the cost for achieving this credit too expensive?"
   ]
  },
  {
   "cell_type": "code",
   "execution_count": 239,
   "metadata": {
    "collapsed": false
   },
   "outputs": [
    {
     "data": {
      "text/html": [
       "<iframe id=\"igraph\" scrolling=\"no\" style=\"border:none;\"seamless=\"seamless\" src=\"https://plot.ly/~jdhiggins/84.embed\" height=\"525\" width=\"100%\"></iframe>"
      ],
      "text/plain": [
       "<plotly.tools.PlotlyDisplay object>"
      ]
     },
     "execution_count": 239,
     "metadata": {},
     "output_type": "execute_result"
    }
   ],
   "source": [
    "\n",
    "# Data([Bar(x=years, y=result[score_point].tolist(), name=score_point) for score_point in result.columns])\n",
    "data = Data([Bar(x=years, y=result[score_point].tolist(), name=score_point) for score_point in ea_2009])\n",
    "\n",
    "layout = Layout(\n",
    "    barmode='stack',\n",
    "    xaxis=XAxis(\n",
    "        title='Year',\n",
    "        titlefont=Font(\n",
    "            family='Helvetica, monospace',\n",
    "            size=18,\n",
    "            color='#7f7f7f'\n",
    "        )\n",
    "    ),\n",
    "    yaxis=YAxis(\n",
    "        title='Score',\n",
    "        titlefont=Font(\n",
    "            family='Helvetica, monospace',\n",
    "            size=18,\n",
    "            color='#7f7f7f'\n",
    "        )\n",
    "    )\n",
    ")\n",
    "fig = Figure(data=data, layout=layout)\n",
    "fig['layout'].update(\n",
    "    autosize=False,  # allow custom size (set already, only for completeness here)\n",
    "    width=960,    # link new width value\n",
    "    height=453,  # link new height value\n",
    "#     font=Font(size=7),       # update global font size\n",
    "#     titlefont=Font(size=12)  #  as well as the title font size \n",
    ")\n",
    "layout.update(margin=Margin(l=50,r=50,b=50,t=50,pad=0,autoexpand=True))\n",
    "py.iplot(fig, filename='ea-2009-stacked-bar')"
   ]
  },
  {
   "cell_type": "markdown",
   "metadata": {},
   "source": [
    "Description: Average points achieved for LEED version 2009 - Energy and Atmosphere credits.    \n",
    "Interesting Findings: Scores in EAc1 - Optimize Energy Performance have declined, on average, from 9.49 to 7.96 (out of 19 possible) and scores on EAc2 - On-site Renewable Energy have declined from 1.70 to .87 (out of 7 possible).   \n",
    "Further analysis: How can LEED encourage increased performance in this area?  These credits are extremely important to incentivize, since they are the most directly related to greenhouse emmissions.  Should certification level be linked more directly to these credits?"
   ]
  },
  {
   "cell_type": "code",
   "execution_count": 240,
   "metadata": {
    "collapsed": false
   },
   "outputs": [
    {
     "data": {
      "text/html": [
       "<iframe id=\"igraph\" scrolling=\"no\" style=\"border:none;\"seamless=\"seamless\" src=\"https://plot.ly/~jdhiggins/86.embed\" height=\"525\" width=\"100%\"></iframe>"
      ],
      "text/plain": [
       "<plotly.tools.PlotlyDisplay object>"
      ]
     },
     "execution_count": 240,
     "metadata": {},
     "output_type": "execute_result"
    }
   ],
   "source": [
    "\n",
    "# Data([Bar(x=years, y=result[score_point].tolist(), name=score_point) for score_point in result.columns])\n",
    "data = Data([Bar(x=years, y=result[score_point].tolist(), name=score_point) for score_point in mr_2009])\n",
    "\n",
    "layout = Layout(\n",
    "    barmode='stack',\n",
    "    xaxis=XAxis(\n",
    "        title='Year',\n",
    "        titlefont=Font(\n",
    "            family='Helvetica, monospace',\n",
    "            size=18,\n",
    "            color='#7f7f7f'\n",
    "        )\n",
    "    ),\n",
    "    yaxis=YAxis(\n",
    "        title='Score',\n",
    "        titlefont=Font(\n",
    "            family='Helvetica, monospace',\n",
    "            size=18,\n",
    "            color='#7f7f7f'\n",
    "        )\n",
    "    )\n",
    ")\n",
    "fig = Figure(data=data, layout=layout)\n",
    "fig['layout'].update(\n",
    "    autosize=False,  # allow custom size (set already, only for completeness here)\n",
    "    width=960,    # link new width value\n",
    "    height=453,  # link new height value\n",
    "#     font=Font(size=7),       # update global font size\n",
    "#     titlefont=Font(size=12)  #  as well as the title font size \n",
    ")\n",
    "layout.update(margin=Margin(l=50,r=50,b=50,t=50,pad=0,autoexpand=True))\n",
    "py.iplot(fig, filename='mr-2009-stacked-bar')"
   ]
  },
  {
   "cell_type": "markdown",
   "metadata": {},
   "source": [
    "Description: Average points achieved for LEED version 2009 - Materials and Resources credits.    \n",
    "Interesting Findings: Scores in MRc 1.2 - Building Reuse (Maintain Existing Interior Nonstructural Elements), MRc3 - Materials Reuse, and MRc6 -  Rapidly Renewable Materials are almost never achieved.  \n",
    "Further analysis: When score points are not achieved, should they be reanalyzed?  Do they not apply to all projects (perhaps for MRc3)?  Are they too expensive relative to the point total?  How could they be incentivized in the next version?"
   ]
  },
  {
   "cell_type": "code",
   "execution_count": 241,
   "metadata": {
    "collapsed": false
   },
   "outputs": [
    {
     "data": {
      "text/html": [
       "<iframe id=\"igraph\" scrolling=\"no\" style=\"border:none;\"seamless=\"seamless\" src=\"https://plot.ly/~jdhiggins/88.embed\" height=\"525\" width=\"100%\"></iframe>"
      ],
      "text/plain": [
       "<plotly.tools.PlotlyDisplay object>"
      ]
     },
     "execution_count": 241,
     "metadata": {},
     "output_type": "execute_result"
    }
   ],
   "source": [
    "\n",
    "# Data([Bar(x=years, y=result[score_point].tolist(), name=score_point) for score_point in result.columns])\n",
    "data = Data([Bar(x=years, y=result[score_point].tolist(), name=score_point) for score_point in id_and_extra_2009])\n",
    "\n",
    "layout = Layout(\n",
    "    barmode='stack',\n",
    "    xaxis=XAxis(\n",
    "        title='Year',\n",
    "        titlefont=Font(\n",
    "            family='Helvetica, monospace',\n",
    "            size=18,\n",
    "            color='#7f7f7f'\n",
    "        )\n",
    "    ),\n",
    "    yaxis=YAxis(\n",
    "        title='Score',\n",
    "        titlefont=Font(\n",
    "            family='Helvetica, monospace',\n",
    "            size=18,\n",
    "            color='#7f7f7f'\n",
    "        )\n",
    "    )\n",
    ")\n",
    "fig = Figure(data=data, layout=layout)\n",
    "fig['layout'].update(\n",
    "    autosize=False,  # allow custom size (set already, only for completeness here)\n",
    "    width=960,    # link new width value\n",
    "    height=453,  # link new height value\n",
    "#     font=Font(size=7),       # update global font size\n",
    "#     titlefont=Font(size=12)  #  as well as the title font size \n",
    ")\n",
    "layout.update(margin=Margin(l=50,r=50,b=50,t=50,pad=0,autoexpand=True))\n",
    "py.iplot(fig, filename='regional-id-2009-stacked-bar')"
   ]
  },
  {
   "cell_type": "markdown",
   "metadata": {},
   "source": [
    "Description: Average points achieved for LEED version 2009 - Innovation in Design and Regional Priority Credits (referenced as Extra).  \n",
    "Interesting Findings: Scores are relatively stable in these categories.  Almost every project gets a credit for using a LEED Certified professional (IDc2).  Perhaps this credit is unnecessary, since having a LEED professional seems to be essentially required to achieve certification?  \n",
    "Further analysis: How are the other Innovation in Design credits awarded?  Is there variablity across projects or do most score near the average?  What is the average completion of the different regional priority credits?  "
   ]
  },
  {
   "cell_type": "code",
   "execution_count": null,
   "metadata": {
    "collapsed": true
   },
   "outputs": [],
   "source": []
  }
 ],
 "metadata": {
  "kernelspec": {
   "display_name": "Python 3",
   "language": "python",
   "name": "python3"
  },
  "language_info": {
   "codemirror_mode": {
    "name": "ipython",
    "version": 3
   },
   "file_extension": ".py",
   "mimetype": "text/x-python",
   "name": "python",
   "nbconvert_exporter": "python",
   "pygments_lexer": "ipython3",
   "version": "3.4.3"
  }
 },
 "nbformat": 4,
 "nbformat_minor": 0
}
