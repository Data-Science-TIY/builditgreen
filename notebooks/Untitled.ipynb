{
 "cells": [
  {
   "cell_type": "code",
   "execution_count": 1,
   "metadata": {
    "collapsed": true
   },
   "outputs": [],
   "source": [
    "score_list = [{\"SSc1\": [1, 1]}, {\"SSc2\": [0, 1]}, {\"SSc3\": [0, 1]}, {\"SSc4.1\": [0, 1]}, {\"SSc4.2\": [1, 1]}, {\"SSc4.3\": [0, 1]}, {\"SSc4.4\": [1, 1]}, {\"SSc5.1\": [1, 1]}, {\"SSc5.2\": [1, 1]}, {\"SSc6.1\": [1, 1]}, {\"SSc6.2\": [1, 1]}, {\"SSc7.1\": [1, 1]}, {\"SSc7.2\": [1, 1]}, {\"SSc8\": [1, 1]}, {\"WEc1.1\": [1, 1]}, {\"WEc1.2\": [1, 1]}, {\"WEc2\": [0, 1]}, {\"WEc3.1\": [0, 1]}, {\"WEc3.2\": [0, 1]}, {\"EAc1\": [2, 10]}, {\"EAc2.1\": [0, 1]}, {\"EAc2.2\": [0, 1]}, {\"EAc2.3\": [0, 1]}, {\"EAc3\": [1, 1]}, {\"EAc4\": [1, 1]}, {\"EAc5\": [0, 1]}, {\"EAc6\": [1, 1]}, {\"MRc1.1\": [1, 1]}, {\"MRc1.2\": [0, 1]}, {\"MRc1.3\": [0, 1]}, {\"MRc2.1\": [1, 1]}, {\"MRc2.2\": [1, 1]}, {\"MRc3.1\": [0, 1]}, {\"MRc3.2\": [0, 1]}, {\"MRc4.1\": [1, 1]}, {\"MRc4.2\": [0, 1]}, {\"MRc5.1\": [1, 1]}, {\"MRc5.2\": [1, 1]}, {\"MRc6\": [0, 1]}, {\"MRc7\": [1, 1]}, {\"EQc1\": [0, 1]}, {\"EQc2\": [0, 1]}, {\"EQc3.1\": [0, 1]}, {\"EQc3.2\": [1, 1]}, {\"EQc4.1\": [1, 1]}, {\"EQc4.2\": [1, 1]}, {\"EQc4.3\": [1, 1]}, {\"EQc4.4\": [1, 1]}, {\"EQc5\": [1, 1]}, {\"EQc6.1\": [1, 1]}, {\"EQc6.2\": [0, 1]}, {\"EQc7.1\": [0, 1]}, {\"EQc7.2\": [0, 1]}, {\"EQc8.1\": [1, 1]}, {\"EQc8.2\": [1, 1]}, {\"IDc1\": [3, 4]}, {\"IDc2\": [1, 1]}]"
   ]
  },
  {
   "cell_type": "code",
   "execution_count": 9,
   "metadata": {
    "collapsed": false
   },
   "outputs": [],
   "source": [
    "scores = [dicts.items() for dicts in score_list]"
   ]
  },
  {
   "cell_type": "code",
   "execution_count": 12,
   "metadata": {
    "collapsed": false
   },
   "outputs": [
    {
     "data": {
      "text/plain": [
       "dict_items([('SSc1', [1, 1])])"
      ]
     },
     "execution_count": 12,
     "metadata": {},
     "output_type": "execute_result"
    }
   ],
   "source": [
    "scores[0]"
   ]
  },
  {
   "cell_type": "code",
   "execution_count": 16,
   "metadata": {
    "collapsed": false
   },
   "outputs": [
    {
     "data": {
      "text/plain": [
       "['SSc1']"
      ]
     },
     "execution_count": 16,
     "metadata": {},
     "output_type": "execute_result"
    }
   ],
   "source": [
    "[k for k, v in scores[0]]"
   ]
  },
  {
   "cell_type": "code",
   "execution_count": 19,
   "metadata": {
    "collapsed": true
   },
   "outputs": [],
   "source": [
    "score_types = []\n",
    "for i in range(len(scores)):\n",
    "    for k, v in scores[i]:\n",
    "        score_types.append(k)"
   ]
  },
  {
   "cell_type": "code",
   "execution_count": 20,
   "metadata": {
    "collapsed": false
   },
   "outputs": [
    {
     "data": {
      "text/plain": [
       "['SSc1',\n",
       " 'SSc2',\n",
       " 'SSc3',\n",
       " 'SSc4.1',\n",
       " 'SSc4.2',\n",
       " 'SSc4.3',\n",
       " 'SSc4.4',\n",
       " 'SSc5.1',\n",
       " 'SSc5.2',\n",
       " 'SSc6.1',\n",
       " 'SSc6.2',\n",
       " 'SSc7.1',\n",
       " 'SSc7.2',\n",
       " 'SSc8',\n",
       " 'WEc1.1',\n",
       " 'WEc1.2',\n",
       " 'WEc2',\n",
       " 'WEc3.1',\n",
       " 'WEc3.2',\n",
       " 'EAc1',\n",
       " 'EAc2.1',\n",
       " 'EAc2.2',\n",
       " 'EAc2.3',\n",
       " 'EAc3',\n",
       " 'EAc4',\n",
       " 'EAc5',\n",
       " 'EAc6',\n",
       " 'MRc1.1',\n",
       " 'MRc1.2',\n",
       " 'MRc1.3',\n",
       " 'MRc2.1',\n",
       " 'MRc2.2',\n",
       " 'MRc3.1',\n",
       " 'MRc3.2',\n",
       " 'MRc4.1',\n",
       " 'MRc4.2',\n",
       " 'MRc5.1',\n",
       " 'MRc5.2',\n",
       " 'MRc6',\n",
       " 'MRc7',\n",
       " 'EQc1',\n",
       " 'EQc2',\n",
       " 'EQc3.1',\n",
       " 'EQc3.2',\n",
       " 'EQc4.1',\n",
       " 'EQc4.2',\n",
       " 'EQc4.3',\n",
       " 'EQc4.4',\n",
       " 'EQc5',\n",
       " 'EQc6.1',\n",
       " 'EQc6.2',\n",
       " 'EQc7.1',\n",
       " 'EQc7.2',\n",
       " 'EQc8.1',\n",
       " 'EQc8.2',\n",
       " 'IDc1',\n",
       " 'IDc2']"
      ]
     },
     "execution_count": 20,
     "metadata": {},
     "output_type": "execute_result"
    }
   ],
   "source": [
    "score_types"
   ]
  },
  {
   "cell_type": "code",
   "execution_count": 22,
   "metadata": {
    "collapsed": true
   },
   "outputs": [],
   "source": [
    "models = [score.replace(\".\", \"_\") for score in score_types]"
   ]
  },
  {
   "cell_type": "code",
   "execution_count": 23,
   "metadata": {
    "collapsed": false
   },
   "outputs": [
    {
     "data": {
      "text/plain": [
       "['SSc1',\n",
       " 'SSc2',\n",
       " 'SSc3',\n",
       " 'SSc4_1',\n",
       " 'SSc4_2',\n",
       " 'SSc4_3',\n",
       " 'SSc4_4',\n",
       " 'SSc5_1',\n",
       " 'SSc5_2',\n",
       " 'SSc6_1',\n",
       " 'SSc6_2',\n",
       " 'SSc7_1',\n",
       " 'SSc7_2',\n",
       " 'SSc8',\n",
       " 'WEc1_1',\n",
       " 'WEc1_2',\n",
       " 'WEc2',\n",
       " 'WEc3_1',\n",
       " 'WEc3_2',\n",
       " 'EAc1',\n",
       " 'EAc2_1',\n",
       " 'EAc2_2',\n",
       " 'EAc2_3',\n",
       " 'EAc3',\n",
       " 'EAc4',\n",
       " 'EAc5',\n",
       " 'EAc6',\n",
       " 'MRc1_1',\n",
       " 'MRc1_2',\n",
       " 'MRc1_3',\n",
       " 'MRc2_1',\n",
       " 'MRc2_2',\n",
       " 'MRc3_1',\n",
       " 'MRc3_2',\n",
       " 'MRc4_1',\n",
       " 'MRc4_2',\n",
       " 'MRc5_1',\n",
       " 'MRc5_2',\n",
       " 'MRc6',\n",
       " 'MRc7',\n",
       " 'EQc1',\n",
       " 'EQc2',\n",
       " 'EQc3_1',\n",
       " 'EQc3_2',\n",
       " 'EQc4_1',\n",
       " 'EQc4_2',\n",
       " 'EQc4_3',\n",
       " 'EQc4_4',\n",
       " 'EQc5',\n",
       " 'EQc6_1',\n",
       " 'EQc6_2',\n",
       " 'EQc7_1',\n",
       " 'EQc7_2',\n",
       " 'EQc8_1',\n",
       " 'EQc8_2',\n",
       " 'IDc1',\n",
       " 'IDc2']"
      ]
     },
     "execution_count": 23,
     "metadata": {},
     "output_type": "execute_result"
    }
   ],
   "source": [
    "models"
   ]
  },
  {
   "cell_type": "code",
   "execution_count": 24,
   "metadata": {
    "collapsed": false
   },
   "outputs": [
    {
     "data": {
      "text/plain": [
       "['SSc1 = models.IntegerField(null=True)',\n",
       " 'SSc2 = models.IntegerField(null=True)',\n",
       " 'SSc3 = models.IntegerField(null=True)',\n",
       " 'SSc4_1 = models.IntegerField(null=True)',\n",
       " 'SSc4_2 = models.IntegerField(null=True)',\n",
       " 'SSc4_3 = models.IntegerField(null=True)',\n",
       " 'SSc4_4 = models.IntegerField(null=True)',\n",
       " 'SSc5_1 = models.IntegerField(null=True)',\n",
       " 'SSc5_2 = models.IntegerField(null=True)',\n",
       " 'SSc6_1 = models.IntegerField(null=True)',\n",
       " 'SSc6_2 = models.IntegerField(null=True)',\n",
       " 'SSc7_1 = models.IntegerField(null=True)',\n",
       " 'SSc7_2 = models.IntegerField(null=True)',\n",
       " 'SSc8 = models.IntegerField(null=True)',\n",
       " 'WEc1_1 = models.IntegerField(null=True)',\n",
       " 'WEc1_2 = models.IntegerField(null=True)',\n",
       " 'WEc2 = models.IntegerField(null=True)',\n",
       " 'WEc3_1 = models.IntegerField(null=True)',\n",
       " 'WEc3_2 = models.IntegerField(null=True)',\n",
       " 'EAc1 = models.IntegerField(null=True)',\n",
       " 'EAc2_1 = models.IntegerField(null=True)',\n",
       " 'EAc2_2 = models.IntegerField(null=True)',\n",
       " 'EAc2_3 = models.IntegerField(null=True)',\n",
       " 'EAc3 = models.IntegerField(null=True)',\n",
       " 'EAc4 = models.IntegerField(null=True)',\n",
       " 'EAc5 = models.IntegerField(null=True)',\n",
       " 'EAc6 = models.IntegerField(null=True)',\n",
       " 'MRc1_1 = models.IntegerField(null=True)',\n",
       " 'MRc1_2 = models.IntegerField(null=True)',\n",
       " 'MRc1_3 = models.IntegerField(null=True)',\n",
       " 'MRc2_1 = models.IntegerField(null=True)',\n",
       " 'MRc2_2 = models.IntegerField(null=True)',\n",
       " 'MRc3_1 = models.IntegerField(null=True)',\n",
       " 'MRc3_2 = models.IntegerField(null=True)',\n",
       " 'MRc4_1 = models.IntegerField(null=True)',\n",
       " 'MRc4_2 = models.IntegerField(null=True)',\n",
       " 'MRc5_1 = models.IntegerField(null=True)',\n",
       " 'MRc5_2 = models.IntegerField(null=True)',\n",
       " 'MRc6 = models.IntegerField(null=True)',\n",
       " 'MRc7 = models.IntegerField(null=True)',\n",
       " 'EQc1 = models.IntegerField(null=True)',\n",
       " 'EQc2 = models.IntegerField(null=True)',\n",
       " 'EQc3_1 = models.IntegerField(null=True)',\n",
       " 'EQc3_2 = models.IntegerField(null=True)',\n",
       " 'EQc4_1 = models.IntegerField(null=True)',\n",
       " 'EQc4_2 = models.IntegerField(null=True)',\n",
       " 'EQc4_3 = models.IntegerField(null=True)',\n",
       " 'EQc4_4 = models.IntegerField(null=True)',\n",
       " 'EQc5 = models.IntegerField(null=True)',\n",
       " 'EQc6_1 = models.IntegerField(null=True)',\n",
       " 'EQc6_2 = models.IntegerField(null=True)',\n",
       " 'EQc7_1 = models.IntegerField(null=True)',\n",
       " 'EQc7_2 = models.IntegerField(null=True)',\n",
       " 'EQc8_1 = models.IntegerField(null=True)',\n",
       " 'EQc8_2 = models.IntegerField(null=True)',\n",
       " 'IDc1 = models.IntegerField(null=True)',\n",
       " 'IDc2 = models.IntegerField(null=True)']"
      ]
     },
     "execution_count": 24,
     "metadata": {},
     "output_type": "execute_result"
    }
   ],
   "source": [
    "[score + \" = models.IntegerField(null=True)\" for score in models]\n",
    "    "
   ]
  },
  {
   "cell_type": "code",
   "execution_count": null,
   "metadata": {
    "collapsed": true
   },
   "outputs": [],
   "source": []
  }
 ],
 "metadata": {
  "kernelspec": {
   "display_name": "Python 3",
   "language": "python",
   "name": "python3"
  },
  "language_info": {
   "codemirror_mode": {
    "name": "ipython",
    "version": 3
   },
   "file_extension": ".py",
   "mimetype": "text/x-python",
   "name": "python",
   "nbconvert_exporter": "python",
   "pygments_lexer": "ipython3",
   "version": "3.4.3"
  }
 },
 "nbformat": 4,
 "nbformat_minor": 0
}
