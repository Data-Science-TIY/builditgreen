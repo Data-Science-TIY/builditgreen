{
 "cells": [
  {
   "cell_type": "code",
   "execution_count": 1,
   "metadata": {
    "collapsed": true
   },
   "outputs": [],
   "source": [
    "import pandas as pd"
   ]
  },
  {
   "cell_type": "code",
   "execution_count": 2,
   "metadata": {
    "collapsed": false
   },
   "outputs": [
    {
     "name": "stderr",
     "output_type": "stream",
     "text": [
      "/Users/joshuahiggins/tiyd/builditgreen/.direnv/python-3.4.3/lib/python3.4/site-packages/pandas/io/parsers.py:1170: DtypeWarning: Columns (9) have mixed types. Specify dtype option on import or set low_memory=False.\n",
      "  data = self._reader.read(nrows)\n"
     ]
    }
   ],
   "source": [
    "leed_data = pd.read_csv('PublicLEEDProjectDirectory.csv', encoding=\"ISO-8859-1\", header=3)"
   ]
  },
  {
   "cell_type": "code",
   "execution_count": 3,
   "metadata": {
    "collapsed": false
   },
   "outputs": [
    {
     "data": {
      "text/html": [
       "<div>\n",
       "<table border=\"1\" class=\"dataframe\">\n",
       "  <thead>\n",
       "    <tr style=\"text-align: right;\">\n",
       "      <th></th>\n",
       "      <th>ID</th>\n",
       "      <th>Isconfidential</th>\n",
       "      <th>ProjectName</th>\n",
       "      <th>Street</th>\n",
       "      <th>City</th>\n",
       "      <th>State</th>\n",
       "      <th>Zipcode</th>\n",
       "      <th>Country</th>\n",
       "      <th>LEEDSystemVersionDisplayName</th>\n",
       "      <th>PointsAchieved</th>\n",
       "      <th>CertLevel</th>\n",
       "      <th>CertDate</th>\n",
       "      <th>IsCertified</th>\n",
       "      <th>OwnerTypes</th>\n",
       "      <th>GrossSqFoot</th>\n",
       "      <th>TotalPropArea</th>\n",
       "      <th>ProjectTypes</th>\n",
       "      <th>OwnerOrganization</th>\n",
       "      <th>RegistrationDate</th>\n",
       "    </tr>\n",
       "  </thead>\n",
       "  <tbody>\n",
       "    <tr>\n",
       "      <th>0</th>\n",
       "      <td>10000000</td>\n",
       "      <td>No</td>\n",
       "      <td>PNC Firstside Center</td>\n",
       "      <td>21 South Putt Corners Road</td>\n",
       "      <td>Pittsburgh</td>\n",
       "      <td>PA</td>\n",
       "      <td>15219</td>\n",
       "      <td>US</td>\n",
       "      <td>LEED-NC 2.0</td>\n",
       "      <td>33</td>\n",
       "      <td>Silver</td>\n",
       "      <td>10/1/00 0:00</td>\n",
       "      <td>Yes</td>\n",
       "      <td>Profit Org.</td>\n",
       "      <td>647000</td>\n",
       "      <td>202923</td>\n",
       "      <td>Commercial Office</td>\n",
       "      <td>L.D. Astorino Companies</td>\n",
       "      <td>3/31/00 0:00</td>\n",
       "    </tr>\n",
       "    <tr>\n",
       "      <th>1</th>\n",
       "      <td>10000001</td>\n",
       "      <td>Yes</td>\n",
       "      <td>Confidential</td>\n",
       "      <td>Confidential</td>\n",
       "      <td>Confidential</td>\n",
       "      <td>IN</td>\n",
       "      <td>Confidential</td>\n",
       "      <td>US</td>\n",
       "      <td>LEED-NC 2.0</td>\n",
       "      <td>NaN</td>\n",
       "      <td>NaN</td>\n",
       "      <td>NaN</td>\n",
       "      <td>No</td>\n",
       "      <td>Confidential</td>\n",
       "      <td>291000</td>\n",
       "      <td>130637</td>\n",
       "      <td>Commercial Office</td>\n",
       "      <td>Confidential</td>\n",
       "      <td>6/1/00 0:00</td>\n",
       "    </tr>\n",
       "    <tr>\n",
       "      <th>2</th>\n",
       "      <td>10000002</td>\n",
       "      <td>No</td>\n",
       "      <td>Bethel Commercial Center</td>\n",
       "      <td>53 W. Jackson</td>\n",
       "      <td>Chicago</td>\n",
       "      <td>IL</td>\n",
       "      <td>60604</td>\n",
       "      <td>US</td>\n",
       "      <td>LEED-NC 2.0</td>\n",
       "      <td>45</td>\n",
       "      <td>Gold</td>\n",
       "      <td>11/5/07 0:00</td>\n",
       "      <td>Yes</td>\n",
       "      <td>Non-Profit Org.</td>\n",
       "      <td>22592</td>\n",
       "      <td>27500</td>\n",
       "      <td>Commercial Office, Restaurant, Retail, Daycare...</td>\n",
       "      <td>Bethel New Life</td>\n",
       "      <td>8/1/01 0:00</td>\n",
       "    </tr>\n",
       "    <tr>\n",
       "      <th>3</th>\n",
       "      <td>10000003</td>\n",
       "      <td>Yes</td>\n",
       "      <td>Confidential</td>\n",
       "      <td>Confidential</td>\n",
       "      <td>Confidential</td>\n",
       "      <td>NY</td>\n",
       "      <td>Confidential</td>\n",
       "      <td>US</td>\n",
       "      <td>LEED-NC 2.1</td>\n",
       "      <td>NaN</td>\n",
       "      <td>NaN</td>\n",
       "      <td>NaN</td>\n",
       "      <td>No</td>\n",
       "      <td>Confidential</td>\n",
       "      <td>190000</td>\n",
       "      <td>NaN</td>\n",
       "      <td>NaN</td>\n",
       "      <td>Confidential</td>\n",
       "      <td>9/19/06 0:00</td>\n",
       "    </tr>\n",
       "    <tr>\n",
       "      <th>4</th>\n",
       "      <td>10000004</td>\n",
       "      <td>No</td>\n",
       "      <td>The Chicago Center for Green Technology</td>\n",
       "      <td>445 N. Sacramento Avenue</td>\n",
       "      <td>Chicago</td>\n",
       "      <td>IL</td>\n",
       "      <td>60612</td>\n",
       "      <td>US</td>\n",
       "      <td>LEED-NC 1.0 Pilot</td>\n",
       "      <td>38</td>\n",
       "      <td>Platinum</td>\n",
       "      <td>6/17/03 0:00</td>\n",
       "      <td>Yes</td>\n",
       "      <td>Local Government</td>\n",
       "      <td>28356</td>\n",
       "      <td>130637</td>\n",
       "      <td>Industrial, Commercial Office</td>\n",
       "      <td>City of Chicago Department of the Enviro</td>\n",
       "      <td>6/1/00 0:00</td>\n",
       "    </tr>\n",
       "  </tbody>\n",
       "</table>\n",
       "</div>"
      ],
      "text/plain": [
       "         ID Isconfidential                              ProjectName  \\\n",
       "0  10000000             No                     PNC Firstside Center   \n",
       "1  10000001            Yes                             Confidential   \n",
       "2  10000002             No                 Bethel Commercial Center   \n",
       "3  10000003            Yes                             Confidential   \n",
       "4  10000004             No  The Chicago Center for Green Technology   \n",
       "\n",
       "                       Street          City State       Zipcode Country  \\\n",
       "0  21 South Putt Corners Road    Pittsburgh    PA         15219      US   \n",
       "1                Confidential  Confidential    IN  Confidential      US   \n",
       "2               53 W. Jackson       Chicago    IL         60604      US   \n",
       "3                Confidential  Confidential    NY  Confidential      US   \n",
       "4    445 N. Sacramento Avenue       Chicago    IL         60612      US   \n",
       "\n",
       "  LEEDSystemVersionDisplayName PointsAchieved CertLevel      CertDate  \\\n",
       "0                  LEED-NC 2.0             33    Silver  10/1/00 0:00   \n",
       "1                  LEED-NC 2.0            NaN       NaN           NaN   \n",
       "2                  LEED-NC 2.0             45      Gold  11/5/07 0:00   \n",
       "3                  LEED-NC 2.1            NaN       NaN           NaN   \n",
       "4            LEED-NC 1.0 Pilot             38  Platinum  6/17/03 0:00   \n",
       "\n",
       "  IsCertified        OwnerTypes  GrossSqFoot  TotalPropArea  \\\n",
       "0         Yes       Profit Org.       647000         202923   \n",
       "1          No      Confidential       291000         130637   \n",
       "2         Yes   Non-Profit Org.        22592          27500   \n",
       "3          No      Confidential       190000            NaN   \n",
       "4         Yes  Local Government        28356         130637   \n",
       "\n",
       "                                        ProjectTypes  \\\n",
       "0                                  Commercial Office   \n",
       "1                                  Commercial Office   \n",
       "2  Commercial Office, Restaurant, Retail, Daycare...   \n",
       "3                                                NaN   \n",
       "4                      Industrial, Commercial Office   \n",
       "\n",
       "                          OwnerOrganization RegistrationDate  \n",
       "0                   L.D. Astorino Companies     3/31/00 0:00  \n",
       "1                              Confidential      6/1/00 0:00  \n",
       "2                           Bethel New Life      8/1/01 0:00  \n",
       "3                              Confidential     9/19/06 0:00  \n",
       "4  City of Chicago Department of the Enviro      6/1/00 0:00  "
      ]
     },
     "execution_count": 3,
     "metadata": {},
     "output_type": "execute_result"
    }
   ],
   "source": [
    "leed_data.head()"
   ]
  },
  {
   "cell_type": "code",
   "execution_count": 5,
   "metadata": {
    "collapsed": false
   },
   "outputs": [
    {
     "ename": "TypeError",
     "evalue": "'DataFrame' object is not callable",
     "output_type": "error",
     "traceback": [
      "\u001b[0;31m---------------------------------------------------------------------------\u001b[0m",
      "\u001b[0;31mTypeError\u001b[0m                                 Traceback (most recent call last)",
      "\u001b[0;32m<ipython-input-5-3e09eb831dec>\u001b[0m in \u001b[0;36m<module>\u001b[0;34m()\u001b[0m\n\u001b[0;32m----> 1\u001b[0;31m \u001b[0mnot_confidential\u001b[0m \u001b[0;34m=\u001b[0m \u001b[0mleed_data\u001b[0m\u001b[0;34m[\u001b[0m\u001b[0mleed_data\u001b[0m\u001b[0;34m(\u001b[0m\u001b[0;34m\"Confidential\"\u001b[0m\u001b[0;34m)\u001b[0m \u001b[0;34m!=\u001b[0m \u001b[0;34m\"Confidential\"\u001b[0m\u001b[0;34m]\u001b[0m\u001b[0;34m\u001b[0m\u001b[0m\n\u001b[0m",
      "\u001b[0;31mTypeError\u001b[0m: 'DataFrame' object is not callable"
     ]
    }
   ],
   "source": [
    "not_confidential = leed_data[leed_data(\"Confidential\") != \"Confidential\"]"
   ]
  },
  {
   "cell_type": "code",
   "execution_count": 4,
   "metadata": {
    "collapsed": false
   },
   "outputs": [
    {
     "data": {
      "text/plain": [
       "Confidential                         23503\n",
       "Washington                            1537\n",
       "Dallas                                 945\n",
       "Houston                                879\n",
       "Chicago                                865\n",
       "New York                               816\n",
       "Los Angeles                            772\n",
       "San Francisco                          671\n",
       "Cincinnati                             623\n",
       "Portland                               600\n",
       "Philadelphia                           593\n",
       "                                       588\n",
       "Atlanta                                545\n",
       "Rockville                              539\n",
       "Seattle                                533\n",
       "Dubai                                  522\n",
       "New Orleans                            519\n",
       "Denver                                 499\n",
       "Ft Drum                                496\n",
       "Grand Rapids                           484\n",
       "Honolulu                               480\n",
       "San Diego                              473\n",
       "Boston                                 470\n",
       "Shanghai                               461\n",
       "Alexandria                             421\n",
       "El Paso                                417\n",
       "Albuquerque                            412\n",
       "Bethesda                               411\n",
       "San Antonio                            411\n",
       "Austin                                 408\n",
       "                                     ...  \n",
       "Guanajuato                               1\n",
       "Yerevan                                  1\n",
       "Prince Georges County                    1\n",
       "Schofield Barracks, Wahiawa              1\n",
       "Sant Cugat del Valles, Barcelona         1\n",
       "Shuangliu County, ChengDu SiChuan        1\n",
       "Edinboro                                 1\n",
       "Green Valley Lake                        1\n",
       "South Salem                              1\n",
       "Piracicaba                               1\n",
       "Kernville                                1\n",
       "Saint James                              1\n",
       "Wilayah Persekutuan Kuala Lumpur         1\n",
       "Buraby                                   1\n",
       "La Uruca                                 1\n",
       "Sant Cugat del Vall_s                    1\n",
       "Carver                                   1\n",
       "Renovo                                   1\n",
       "Kosice III                               1\n",
       "Jersey Shore                             1\n",
       "Beiing                                   1\n",
       "Pingree Grove                            1\n",
       "Forest Lake                              1\n",
       "Herzilya                                 1\n",
       "Parthenon                                1\n",
       "Kanie                                    1\n",
       "BUZZARDS BAY                             1\n",
       "FREEMONT                                 1\n",
       "SPANAWAY                                 1\n",
       "Venezia Marghera                         1\n",
       "dtype: int64"
      ]
     },
     "execution_count": 4,
     "metadata": {},
     "output_type": "execute_result"
    }
   ],
   "source": [
    "leed_data['City'].value_counts()"
   ]
  },
  {
   "cell_type": "code",
   "execution_count": 8,
   "metadata": {
    "collapsed": false
   },
   "outputs": [
    {
     "data": {
      "text/plain": [
       "Silver       14839\n",
       "Gold         14311\n",
       "Certified    10768\n",
       "Platinum      4930\n",
       "Denied          48\n",
       "Bronze           4\n",
       "dtype: int64"
      ]
     },
     "execution_count": 8,
     "metadata": {},
     "output_type": "execute_result"
    }
   ],
   "source": [
    "leed_data['CertLevel'].value_counts()"
   ]
  },
  {
   "cell_type": "code",
   "execution_count": null,
   "metadata": {
    "collapsed": true
   },
   "outputs": [],
   "source": []
  }
 ],
 "metadata": {
  "kernelspec": {
   "display_name": "Python 3",
   "language": "python",
   "name": "python3"
  },
  "language_info": {
   "codemirror_mode": {
    "name": "ipython",
    "version": 3
   },
   "file_extension": ".py",
   "mimetype": "text/x-python",
   "name": "python",
   "nbconvert_exporter": "python",
   "pygments_lexer": "ipython3",
   "version": "3.4.3"
  }
 },
 "nbformat": 4,
 "nbformat_minor": 0
}
