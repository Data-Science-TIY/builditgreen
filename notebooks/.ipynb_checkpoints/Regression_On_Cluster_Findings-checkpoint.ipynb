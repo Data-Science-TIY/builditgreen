{
 "cells": [
  {
   "cell_type": "code",
   "execution_count": 2,
   "metadata": {
    "collapsed": true
   },
   "outputs": [],
   "source": [
    "import pandas as pd\n",
    "from sklearn.cluster import KMeans\n",
    "from sklearn import preprocessing"
   ]
  },
  {
   "cell_type": "code",
   "execution_count": 3,
   "metadata": {
    "collapsed": false
   },
   "outputs": [],
   "source": [
    "df_2009 = pd.read_pickle(\"2009_full_score_projects_final.pkl\")"
   ]
  },
  {
   "cell_type": "code",
   "execution_count": 4,
   "metadata": {
    "collapsed": false
   },
   "outputs": [
    {
     "data": {
      "text/plain": [
       "Index(['ssc1', 'ssc2', 'ssc3', 'ssc4_1', 'ssc4_2', 'ssc4_3', 'ssc4_4',\n",
       "       'ssc5_1', 'ssc5_2', 'ssc6_1', 'ssc6_2', 'ssc7_1', 'ssc7_2', 'ssc8',\n",
       "       'wec1', 'wec2', 'wec3', 'eac1', 'eac2', 'eac3', 'eac4', 'eac5', 'eac6',\n",
       "       'mrc1_1', 'mrc1_2', 'mrc2', 'mrc3', 'mrc4', 'mrc5', 'mrc6', 'mrc7',\n",
       "       'eqc1', 'eqc2', 'eqc3_1', 'eqc3_2', 'eqc4_1', 'eqc4_2', 'eqc4_3',\n",
       "       'eqc4_4', 'eqc5', 'eqc6_1', 'eqc6_2', 'eqc7_1', 'eqc7_2', 'eqc8_1',\n",
       "       'eqc8_2', 'idc1', 'idc2', 'extra1', 'extra2', 'extra3', 'extra4',\n",
       "       'is_confidential', 'name', 'street', 'city', 'zip_code', 'country',\n",
       "       'leed_version', 'points_achieved', 'certification_level',\n",
       "       'certification_date', 'owner_types', 'gross_square_foot',\n",
       "       'total_property_area', 'project_types', 'registration_date'],\n",
       "      dtype='object')"
      ]
     },
     "execution_count": 4,
     "metadata": {},
     "output_type": "execute_result"
    }
   ],
   "source": [
    "df_2009.columns"
   ]
  },
  {
   "cell_type": "code",
   "execution_count": 36,
   "metadata": {
    "collapsed": false
   },
   "outputs": [
    {
     "data": {
      "text/plain": [
       "project_id\n",
       "1000000143     3\n",
       "1000000174    19\n",
       "1000000194     6\n",
       "1000000199    11\n",
       "1000000222    19\n",
       "1000000224     8\n",
       "1000000244     5\n",
       "1000000262    19\n",
       "1000000292     3\n",
       "1000000301    18\n",
       "1000000322    18\n",
       "1000000353    10\n",
       "1000000386    19\n",
       "1000000387    19\n",
       "1000000388    16\n",
       "1000000394     8\n",
       "1000000422    10\n",
       "1000000451    16\n",
       "1000000457    19\n",
       "1000000477     7\n",
       "1000000497     4\n",
       "1000000507     7\n",
       "1000000517    19\n",
       "1000000558    10\n",
       "1000000579     7\n",
       "1000000651     5\n",
       "1000000677     9\n",
       "1000000680     3\n",
       "1000000707     7\n",
       "1000000708     9\n",
       "              ..\n",
       "1000035785    15\n",
       "1000035828    13\n",
       "1000035960     4\n",
       "1000036206    14\n",
       "1000036464    19\n",
       "1000036689     8\n",
       "1000036763    18\n",
       "1000036775     9\n",
       "1000036901     5\n",
       "1000037001    16\n",
       "1000037022    14\n",
       "1000037031     9\n",
       "1000037095     8\n",
       "1000037306     3\n",
       "1000037316     6\n",
       "1000037537    13\n",
       "1000037617    11\n",
       "1000037911     4\n",
       "1000037921    18\n",
       "1000037954    10\n",
       "1000038189     7\n",
       "1000038285    15\n",
       "1000038452     8\n",
       "1000038887     2\n",
       "1000038888     6\n",
       "1000039133    18\n",
       "1000039584    19\n",
       "1000040528    17\n",
       "1000040797     7\n",
       "1000040800     2\n",
       "Name: eac1, dtype: int64"
      ]
     },
     "execution_count": 36,
     "metadata": {},
     "output_type": "execute_result"
    }
   ],
   "source": [
    "df_2009.eac1"
   ]
  },
  {
   "cell_type": "code",
   "execution_count": 7,
   "metadata": {
    "collapsed": false
   },
   "outputs": [],
   "source": [
    "df_for_regression = df_2009[['eac1', 'eac2', 'points_achieved', 'certification_level', 'owner_types', 'gross_square_foot', 'total_property_area']]"
   ]
  },
  {
   "cell_type": "code",
   "execution_count": 8,
   "metadata": {
    "collapsed": false
   },
   "outputs": [
    {
     "data": {
      "text/html": [
       "<div>\n",
       "<table border=\"1\" class=\"dataframe\">\n",
       "  <thead>\n",
       "    <tr style=\"text-align: right;\">\n",
       "      <th></th>\n",
       "      <th>eac1</th>\n",
       "      <th>eac2</th>\n",
       "      <th>points_achieved</th>\n",
       "      <th>certification_level</th>\n",
       "      <th>owner_types</th>\n",
       "      <th>gross_square_foot</th>\n",
       "      <th>total_property_area</th>\n",
       "    </tr>\n",
       "    <tr>\n",
       "      <th>project_id</th>\n",
       "      <th></th>\n",
       "      <th></th>\n",
       "      <th></th>\n",
       "      <th></th>\n",
       "      <th></th>\n",
       "      <th></th>\n",
       "      <th></th>\n",
       "    </tr>\n",
       "  </thead>\n",
       "  <tbody>\n",
       "    <tr>\n",
       "      <th>1000000143</th>\n",
       "      <td>3</td>\n",
       "      <td>0</td>\n",
       "      <td>44</td>\n",
       "      <td>Certified</td>\n",
       "      <td>Government Use: State</td>\n",
       "      <td>86580</td>\n",
       "      <td>53863</td>\n",
       "    </tr>\n",
       "    <tr>\n",
       "      <th>1000000174</th>\n",
       "      <td>19</td>\n",
       "      <td>0</td>\n",
       "      <td>65</td>\n",
       "      <td>Gold</td>\n",
       "      <td>Educational: University, Private</td>\n",
       "      <td>11806</td>\n",
       "      <td>66000</td>\n",
       "    </tr>\n",
       "    <tr>\n",
       "      <th>1000000194</th>\n",
       "      <td>6</td>\n",
       "      <td>0</td>\n",
       "      <td>44</td>\n",
       "      <td>Certified</td>\n",
       "      <td>Corporate: Privately Held</td>\n",
       "      <td>3472</td>\n",
       "      <td>10905</td>\n",
       "    </tr>\n",
       "    <tr>\n",
       "      <th>1000000199</th>\n",
       "      <td>11</td>\n",
       "      <td>5</td>\n",
       "      <td>51</td>\n",
       "      <td>Silver</td>\n",
       "      <td>Government Use: Local, City</td>\n",
       "      <td>48732</td>\n",
       "      <td>555823</td>\n",
       "    </tr>\n",
       "    <tr>\n",
       "      <th>1000000222</th>\n",
       "      <td>19</td>\n",
       "      <td>0</td>\n",
       "      <td>70</td>\n",
       "      <td>Gold</td>\n",
       "      <td>Educational: University, Public</td>\n",
       "      <td>212777</td>\n",
       "      <td>108563</td>\n",
       "    </tr>\n",
       "  </tbody>\n",
       "</table>\n",
       "</div>"
      ],
      "text/plain": [
       "            eac1  eac2  points_achieved certification_level  \\\n",
       "project_id                                                    \n",
       "1000000143     3     0               44           Certified   \n",
       "1000000174    19     0               65                Gold   \n",
       "1000000194     6     0               44           Certified   \n",
       "1000000199    11     5               51              Silver   \n",
       "1000000222    19     0               70                Gold   \n",
       "\n",
       "                                 owner_types  gross_square_foot  \\\n",
       "project_id                                                        \n",
       "1000000143             Government Use: State              86580   \n",
       "1000000174  Educational: University, Private              11806   \n",
       "1000000194         Corporate: Privately Held               3472   \n",
       "1000000199       Government Use: Local, City              48732   \n",
       "1000000222   Educational: University, Public             212777   \n",
       "\n",
       "            total_property_area  \n",
       "project_id                       \n",
       "1000000143                53863  \n",
       "1000000174                66000  \n",
       "1000000194                10905  \n",
       "1000000199               555823  \n",
       "1000000222               108563  "
      ]
     },
     "execution_count": 8,
     "metadata": {},
     "output_type": "execute_result"
    }
   ],
   "source": [
    "df_for_regression.head()"
   ]
  },
  {
   "cell_type": "code",
   "execution_count": 9,
   "metadata": {
    "collapsed": true
   },
   "outputs": [],
   "source": [
    "owner_dummies = pd.get_dummies(df_for_regression['owner_types'])"
   ]
  },
  {
   "cell_type": "code",
   "execution_count": 10,
   "metadata": {
    "collapsed": false
   },
   "outputs": [
    {
     "data": {
      "text/html": [
       "<div>\n",
       "<table border=\"1\" class=\"dataframe\">\n",
       "  <thead>\n",
       "    <tr style=\"text-align: right;\">\n",
       "      <th></th>\n",
       "      <th>Business Improvement District</th>\n",
       "      <th>Community Development Corporation o</th>\n",
       "      <th>Corporate: Privately Held</th>\n",
       "      <th>Corporate: Publicly Traded</th>\n",
       "      <th>Educational: College, Private</th>\n",
       "      <th>Educational: College, Public</th>\n",
       "      <th>Educational: Community College, Pri</th>\n",
       "      <th>Educational: Community College, Pub</th>\n",
       "      <th>Educational: Early Childhood Educat</th>\n",
       "      <th>Educational: K-12 School, Private</th>\n",
       "      <th>...</th>\n",
       "      <th>Investor: Equity Fund</th>\n",
       "      <th>Investor: Individual/Family</th>\n",
       "      <th>Investor: Insurance Company</th>\n",
       "      <th>Investor: Investment Manager</th>\n",
       "      <th>Investor: REIT, Publicly traded</th>\n",
       "      <th>Investor: REIT,Non-traded</th>\n",
       "      <th>Investor: ROEC</th>\n",
       "      <th>Main Street Organization</th>\n",
       "      <th>Non-Profit (that do not fit into ot</th>\n",
       "      <th>Religious</th>\n",
       "    </tr>\n",
       "    <tr>\n",
       "      <th>project_id</th>\n",
       "      <th></th>\n",
       "      <th></th>\n",
       "      <th></th>\n",
       "      <th></th>\n",
       "      <th></th>\n",
       "      <th></th>\n",
       "      <th></th>\n",
       "      <th></th>\n",
       "      <th></th>\n",
       "      <th></th>\n",
       "      <th></th>\n",
       "      <th></th>\n",
       "      <th></th>\n",
       "      <th></th>\n",
       "      <th></th>\n",
       "      <th></th>\n",
       "      <th></th>\n",
       "      <th></th>\n",
       "      <th></th>\n",
       "      <th></th>\n",
       "      <th></th>\n",
       "    </tr>\n",
       "  </thead>\n",
       "  <tbody>\n",
       "    <tr>\n",
       "      <th>1000000143</th>\n",
       "      <td>0</td>\n",
       "      <td>0</td>\n",
       "      <td>0</td>\n",
       "      <td>0</td>\n",
       "      <td>0</td>\n",
       "      <td>0</td>\n",
       "      <td>0</td>\n",
       "      <td>0</td>\n",
       "      <td>0</td>\n",
       "      <td>0</td>\n",
       "      <td>...</td>\n",
       "      <td>0</td>\n",
       "      <td>0</td>\n",
       "      <td>0</td>\n",
       "      <td>0</td>\n",
       "      <td>0</td>\n",
       "      <td>0</td>\n",
       "      <td>0</td>\n",
       "      <td>0</td>\n",
       "      <td>0</td>\n",
       "      <td>0</td>\n",
       "    </tr>\n",
       "    <tr>\n",
       "      <th>1000000174</th>\n",
       "      <td>0</td>\n",
       "      <td>0</td>\n",
       "      <td>0</td>\n",
       "      <td>0</td>\n",
       "      <td>0</td>\n",
       "      <td>0</td>\n",
       "      <td>0</td>\n",
       "      <td>0</td>\n",
       "      <td>0</td>\n",
       "      <td>0</td>\n",
       "      <td>...</td>\n",
       "      <td>0</td>\n",
       "      <td>0</td>\n",
       "      <td>0</td>\n",
       "      <td>0</td>\n",
       "      <td>0</td>\n",
       "      <td>0</td>\n",
       "      <td>0</td>\n",
       "      <td>0</td>\n",
       "      <td>0</td>\n",
       "      <td>0</td>\n",
       "    </tr>\n",
       "    <tr>\n",
       "      <th>1000000194</th>\n",
       "      <td>0</td>\n",
       "      <td>0</td>\n",
       "      <td>1</td>\n",
       "      <td>0</td>\n",
       "      <td>0</td>\n",
       "      <td>0</td>\n",
       "      <td>0</td>\n",
       "      <td>0</td>\n",
       "      <td>0</td>\n",
       "      <td>0</td>\n",
       "      <td>...</td>\n",
       "      <td>0</td>\n",
       "      <td>0</td>\n",
       "      <td>0</td>\n",
       "      <td>0</td>\n",
       "      <td>0</td>\n",
       "      <td>0</td>\n",
       "      <td>0</td>\n",
       "      <td>0</td>\n",
       "      <td>0</td>\n",
       "      <td>0</td>\n",
       "    </tr>\n",
       "    <tr>\n",
       "      <th>1000000199</th>\n",
       "      <td>0</td>\n",
       "      <td>0</td>\n",
       "      <td>0</td>\n",
       "      <td>0</td>\n",
       "      <td>0</td>\n",
       "      <td>0</td>\n",
       "      <td>0</td>\n",
       "      <td>0</td>\n",
       "      <td>0</td>\n",
       "      <td>0</td>\n",
       "      <td>...</td>\n",
       "      <td>0</td>\n",
       "      <td>0</td>\n",
       "      <td>0</td>\n",
       "      <td>0</td>\n",
       "      <td>0</td>\n",
       "      <td>0</td>\n",
       "      <td>0</td>\n",
       "      <td>0</td>\n",
       "      <td>0</td>\n",
       "      <td>0</td>\n",
       "    </tr>\n",
       "    <tr>\n",
       "      <th>1000000222</th>\n",
       "      <td>0</td>\n",
       "      <td>0</td>\n",
       "      <td>0</td>\n",
       "      <td>0</td>\n",
       "      <td>0</td>\n",
       "      <td>0</td>\n",
       "      <td>0</td>\n",
       "      <td>0</td>\n",
       "      <td>0</td>\n",
       "      <td>0</td>\n",
       "      <td>...</td>\n",
       "      <td>0</td>\n",
       "      <td>0</td>\n",
       "      <td>0</td>\n",
       "      <td>0</td>\n",
       "      <td>0</td>\n",
       "      <td>0</td>\n",
       "      <td>0</td>\n",
       "      <td>0</td>\n",
       "      <td>0</td>\n",
       "      <td>0</td>\n",
       "    </tr>\n",
       "  </tbody>\n",
       "</table>\n",
       "<p>5 rows × 31 columns</p>\n",
       "</div>"
      ],
      "text/plain": [
       "            Business Improvement District  \\\n",
       "project_id                                  \n",
       "1000000143                              0   \n",
       "1000000174                              0   \n",
       "1000000194                              0   \n",
       "1000000199                              0   \n",
       "1000000222                              0   \n",
       "\n",
       "            Community Development Corporation o  Corporate: Privately Held  \\\n",
       "project_id                                                                   \n",
       "1000000143                                    0                          0   \n",
       "1000000174                                    0                          0   \n",
       "1000000194                                    0                          1   \n",
       "1000000199                                    0                          0   \n",
       "1000000222                                    0                          0   \n",
       "\n",
       "            Corporate: Publicly Traded  Educational: College, Private  \\\n",
       "project_id                                                              \n",
       "1000000143                           0                              0   \n",
       "1000000174                           0                              0   \n",
       "1000000194                           0                              0   \n",
       "1000000199                           0                              0   \n",
       "1000000222                           0                              0   \n",
       "\n",
       "            Educational: College, Public  Educational: Community College, Pri  \\\n",
       "project_id                                                                      \n",
       "1000000143                             0                                    0   \n",
       "1000000174                             0                                    0   \n",
       "1000000194                             0                                    0   \n",
       "1000000199                             0                                    0   \n",
       "1000000222                             0                                    0   \n",
       "\n",
       "            Educational: Community College, Pub  \\\n",
       "project_id                                        \n",
       "1000000143                                    0   \n",
       "1000000174                                    0   \n",
       "1000000194                                    0   \n",
       "1000000199                                    0   \n",
       "1000000222                                    0   \n",
       "\n",
       "            Educational: Early Childhood Educat  \\\n",
       "project_id                                        \n",
       "1000000143                                    0   \n",
       "1000000174                                    0   \n",
       "1000000194                                    0   \n",
       "1000000199                                    0   \n",
       "1000000222                                    0   \n",
       "\n",
       "            Educational: K-12 School, Private    ...      \\\n",
       "project_id                                       ...       \n",
       "1000000143                                  0    ...       \n",
       "1000000174                                  0    ...       \n",
       "1000000194                                  0    ...       \n",
       "1000000199                                  0    ...       \n",
       "1000000222                                  0    ...       \n",
       "\n",
       "            Investor: Equity Fund  Investor: Individual/Family  \\\n",
       "project_id                                                       \n",
       "1000000143                      0                            0   \n",
       "1000000174                      0                            0   \n",
       "1000000194                      0                            0   \n",
       "1000000199                      0                            0   \n",
       "1000000222                      0                            0   \n",
       "\n",
       "            Investor: Insurance Company  Investor: Investment Manager  \\\n",
       "project_id                                                              \n",
       "1000000143                            0                             0   \n",
       "1000000174                            0                             0   \n",
       "1000000194                            0                             0   \n",
       "1000000199                            0                             0   \n",
       "1000000222                            0                             0   \n",
       "\n",
       "            Investor: REIT, Publicly traded  Investor: REIT,Non-traded  \\\n",
       "project_id                                                               \n",
       "1000000143                                0                          0   \n",
       "1000000174                                0                          0   \n",
       "1000000194                                0                          0   \n",
       "1000000199                                0                          0   \n",
       "1000000222                                0                          0   \n",
       "\n",
       "            Investor: ROEC  Main Street Organization  \\\n",
       "project_id                                             \n",
       "1000000143               0                         0   \n",
       "1000000174               0                         0   \n",
       "1000000194               0                         0   \n",
       "1000000199               0                         0   \n",
       "1000000222               0                         0   \n",
       "\n",
       "            Non-Profit (that do not fit into ot  Religious  \n",
       "project_id                                                  \n",
       "1000000143                                    0          0  \n",
       "1000000174                                    0          0  \n",
       "1000000194                                    0          0  \n",
       "1000000199                                    0          0  \n",
       "1000000222                                    0          0  \n",
       "\n",
       "[5 rows x 31 columns]"
      ]
     },
     "execution_count": 10,
     "metadata": {},
     "output_type": "execute_result"
    }
   ],
   "source": [
    "owner_dummies.head()"
   ]
  },
  {
   "cell_type": "code",
   "execution_count": 13,
   "metadata": {
    "collapsed": false
   },
   "outputs": [],
   "source": [
    "df_for_regression = df_for_regression.join(owner_dummies)"
   ]
  },
  {
   "cell_type": "code",
   "execution_count": 14,
   "metadata": {
    "collapsed": false
   },
   "outputs": [
    {
     "data": {
      "text/plain": [
       "Index(['eac1', 'eac2', 'points_achieved', 'certification_level', 'owner_types',\n",
       "       'gross_square_foot', 'total_property_area',\n",
       "       'Business Improvement District', 'Community Development Corporation o',\n",
       "       'Corporate: Privately Held', 'Corporate: Publicly Traded',\n",
       "       'Educational: College, Private', 'Educational: College, Public',\n",
       "       'Educational: Community College, Pri',\n",
       "       'Educational: Community College, Pub',\n",
       "       'Educational: Early Childhood Educat',\n",
       "       'Educational: K-12 School, Private', 'Educational: K-12 School, Public',\n",
       "       'Educational: University, Private', 'Educational: University, Public',\n",
       "       'Government Use: Federal', 'Government Use: Local, City',\n",
       "       'Government Use: Local, County', 'Government Use: Local, Public Housi',\n",
       "       'Government Use: Other (utility, air', 'Government Use: State',\n",
       "       'Investor: Bank', 'Investor: Endowment', 'Investor: Equity Fund',\n",
       "       'Investor: Individual/Family', 'Investor: Insurance Company',\n",
       "       'Investor: Investment Manager', 'Investor: REIT, Publicly traded',\n",
       "       'Investor: REIT,Non-traded', 'Investor: ROEC',\n",
       "       'Main Street Organization', 'Non-Profit (that do not fit into ot',\n",
       "       'Religious'],\n",
       "      dtype='object')"
      ]
     },
     "execution_count": 14,
     "metadata": {},
     "output_type": "execute_result"
    }
   ],
   "source": [
    "df_for_regression.columns"
   ]
  },
  {
   "cell_type": "code",
   "execution_count": 15,
   "metadata": {
    "collapsed": true
   },
   "outputs": [],
   "source": [
    "y_for_eac1 = df_for_regression['eac1']"
   ]
  },
  {
   "cell_type": "code",
   "execution_count": null,
   "metadata": {
    "collapsed": true
   },
   "outputs": [],
   "source": []
  },
  {
   "cell_type": "code",
   "execution_count": 19,
   "metadata": {
    "collapsed": false
   },
   "outputs": [
    {
     "data": {
      "text/plain": [
       "project_id\n",
       "1000000143     3\n",
       "1000000174    19\n",
       "1000000194     6\n",
       "1000000199    11\n",
       "1000000222    19\n",
       "Name: eac1, dtype: int64"
      ]
     },
     "execution_count": 19,
     "metadata": {},
     "output_type": "execute_result"
    }
   ],
   "source": [
    "y_for_eac1.head()"
   ]
  },
  {
   "cell_type": "code",
   "execution_count": 20,
   "metadata": {
    "collapsed": true
   },
   "outputs": [],
   "source": [
    "y_for_eac2 = df_for_regression['eac2']"
   ]
  },
  {
   "cell_type": "code",
   "execution_count": 21,
   "metadata": {
    "collapsed": true
   },
   "outputs": [],
   "source": [
    "y_for_score = df_for_regression['points_achieved']"
   ]
  },
  {
   "cell_type": "code",
   "execution_count": 22,
   "metadata": {
    "collapsed": true
   },
   "outputs": [],
   "source": [
    "y_for_cert_level = df_for_regression['certification_level']"
   ]
  },
  {
   "cell_type": "code",
   "execution_count": 38,
   "metadata": {
    "collapsed": false
   },
   "outputs": [],
   "source": [
    "x_for_regression = df_for_regression[['eac1', 'eac2', 'gross_square_foot', 'total_property_area',\n",
    "       'Business Improvement District', 'Community Development Corporation o',\n",
    "       'Corporate: Privately Held', 'Corporate: Publicly Traded',\n",
    "       'Educational: College, Private', 'Educational: College, Public',\n",
    "       'Educational: Community College, Pri',\n",
    "       'Educational: Community College, Pub',\n",
    "       'Educational: Early Childhood Educat',\n",
    "       'Educational: K-12 School, Private', 'Educational: K-12 School, Public',\n",
    "       'Educational: University, Private', 'Educational: University, Public',\n",
    "       'Government Use: Federal', 'Government Use: Local, City',\n",
    "       'Government Use: Local, County', 'Government Use: Local, Public Housi',\n",
    "       'Government Use: Other (utility, air', 'Government Use: State',\n",
    "       'Investor: Bank', 'Investor: Endowment', 'Investor: Equity Fund',\n",
    "       'Investor: Individual/Family', 'Investor: Insurance Company',\n",
    "       'Investor: Investment Manager', 'Investor: REIT, Publicly traded',\n",
    "       'Investor: REIT,Non-traded', 'Investor: ROEC',\n",
    "       'Main Street Organization', 'Non-Profit (that do not fit into ot',\n",
    "       'Religious']]"
   ]
  },
  {
   "cell_type": "code",
   "execution_count": 39,
   "metadata": {
    "collapsed": false
   },
   "outputs": [
    {
     "data": {
      "text/html": [
       "<div>\n",
       "<table border=\"1\" class=\"dataframe\">\n",
       "  <thead>\n",
       "    <tr style=\"text-align: right;\">\n",
       "      <th></th>\n",
       "      <th>eac1</th>\n",
       "      <th>eac2</th>\n",
       "      <th>gross_square_foot</th>\n",
       "      <th>total_property_area</th>\n",
       "      <th>Business Improvement District</th>\n",
       "      <th>Community Development Corporation o</th>\n",
       "      <th>Corporate: Privately Held</th>\n",
       "      <th>Corporate: Publicly Traded</th>\n",
       "      <th>Educational: College, Private</th>\n",
       "      <th>Educational: College, Public</th>\n",
       "      <th>...</th>\n",
       "      <th>Investor: Equity Fund</th>\n",
       "      <th>Investor: Individual/Family</th>\n",
       "      <th>Investor: Insurance Company</th>\n",
       "      <th>Investor: Investment Manager</th>\n",
       "      <th>Investor: REIT, Publicly traded</th>\n",
       "      <th>Investor: REIT,Non-traded</th>\n",
       "      <th>Investor: ROEC</th>\n",
       "      <th>Main Street Organization</th>\n",
       "      <th>Non-Profit (that do not fit into ot</th>\n",
       "      <th>Religious</th>\n",
       "    </tr>\n",
       "    <tr>\n",
       "      <th>project_id</th>\n",
       "      <th></th>\n",
       "      <th></th>\n",
       "      <th></th>\n",
       "      <th></th>\n",
       "      <th></th>\n",
       "      <th></th>\n",
       "      <th></th>\n",
       "      <th></th>\n",
       "      <th></th>\n",
       "      <th></th>\n",
       "      <th></th>\n",
       "      <th></th>\n",
       "      <th></th>\n",
       "      <th></th>\n",
       "      <th></th>\n",
       "      <th></th>\n",
       "      <th></th>\n",
       "      <th></th>\n",
       "      <th></th>\n",
       "      <th></th>\n",
       "      <th></th>\n",
       "    </tr>\n",
       "  </thead>\n",
       "  <tbody>\n",
       "    <tr>\n",
       "      <th>1000000143</th>\n",
       "      <td>3</td>\n",
       "      <td>0</td>\n",
       "      <td>86580</td>\n",
       "      <td>53863</td>\n",
       "      <td>0</td>\n",
       "      <td>0</td>\n",
       "      <td>0</td>\n",
       "      <td>0</td>\n",
       "      <td>0</td>\n",
       "      <td>0</td>\n",
       "      <td>...</td>\n",
       "      <td>0</td>\n",
       "      <td>0</td>\n",
       "      <td>0</td>\n",
       "      <td>0</td>\n",
       "      <td>0</td>\n",
       "      <td>0</td>\n",
       "      <td>0</td>\n",
       "      <td>0</td>\n",
       "      <td>0</td>\n",
       "      <td>0</td>\n",
       "    </tr>\n",
       "    <tr>\n",
       "      <th>1000000174</th>\n",
       "      <td>19</td>\n",
       "      <td>0</td>\n",
       "      <td>11806</td>\n",
       "      <td>66000</td>\n",
       "      <td>0</td>\n",
       "      <td>0</td>\n",
       "      <td>0</td>\n",
       "      <td>0</td>\n",
       "      <td>0</td>\n",
       "      <td>0</td>\n",
       "      <td>...</td>\n",
       "      <td>0</td>\n",
       "      <td>0</td>\n",
       "      <td>0</td>\n",
       "      <td>0</td>\n",
       "      <td>0</td>\n",
       "      <td>0</td>\n",
       "      <td>0</td>\n",
       "      <td>0</td>\n",
       "      <td>0</td>\n",
       "      <td>0</td>\n",
       "    </tr>\n",
       "    <tr>\n",
       "      <th>1000000194</th>\n",
       "      <td>6</td>\n",
       "      <td>0</td>\n",
       "      <td>3472</td>\n",
       "      <td>10905</td>\n",
       "      <td>0</td>\n",
       "      <td>0</td>\n",
       "      <td>1</td>\n",
       "      <td>0</td>\n",
       "      <td>0</td>\n",
       "      <td>0</td>\n",
       "      <td>...</td>\n",
       "      <td>0</td>\n",
       "      <td>0</td>\n",
       "      <td>0</td>\n",
       "      <td>0</td>\n",
       "      <td>0</td>\n",
       "      <td>0</td>\n",
       "      <td>0</td>\n",
       "      <td>0</td>\n",
       "      <td>0</td>\n",
       "      <td>0</td>\n",
       "    </tr>\n",
       "    <tr>\n",
       "      <th>1000000199</th>\n",
       "      <td>11</td>\n",
       "      <td>5</td>\n",
       "      <td>48732</td>\n",
       "      <td>555823</td>\n",
       "      <td>0</td>\n",
       "      <td>0</td>\n",
       "      <td>0</td>\n",
       "      <td>0</td>\n",
       "      <td>0</td>\n",
       "      <td>0</td>\n",
       "      <td>...</td>\n",
       "      <td>0</td>\n",
       "      <td>0</td>\n",
       "      <td>0</td>\n",
       "      <td>0</td>\n",
       "      <td>0</td>\n",
       "      <td>0</td>\n",
       "      <td>0</td>\n",
       "      <td>0</td>\n",
       "      <td>0</td>\n",
       "      <td>0</td>\n",
       "    </tr>\n",
       "    <tr>\n",
       "      <th>1000000222</th>\n",
       "      <td>19</td>\n",
       "      <td>0</td>\n",
       "      <td>212777</td>\n",
       "      <td>108563</td>\n",
       "      <td>0</td>\n",
       "      <td>0</td>\n",
       "      <td>0</td>\n",
       "      <td>0</td>\n",
       "      <td>0</td>\n",
       "      <td>0</td>\n",
       "      <td>...</td>\n",
       "      <td>0</td>\n",
       "      <td>0</td>\n",
       "      <td>0</td>\n",
       "      <td>0</td>\n",
       "      <td>0</td>\n",
       "      <td>0</td>\n",
       "      <td>0</td>\n",
       "      <td>0</td>\n",
       "      <td>0</td>\n",
       "      <td>0</td>\n",
       "    </tr>\n",
       "  </tbody>\n",
       "</table>\n",
       "<p>5 rows × 35 columns</p>\n",
       "</div>"
      ],
      "text/plain": [
       "            eac1  eac2  gross_square_foot  total_property_area  \\\n",
       "project_id                                                       \n",
       "1000000143     3     0              86580                53863   \n",
       "1000000174    19     0              11806                66000   \n",
       "1000000194     6     0               3472                10905   \n",
       "1000000199    11     5              48732               555823   \n",
       "1000000222    19     0             212777               108563   \n",
       "\n",
       "            Business Improvement District  \\\n",
       "project_id                                  \n",
       "1000000143                              0   \n",
       "1000000174                              0   \n",
       "1000000194                              0   \n",
       "1000000199                              0   \n",
       "1000000222                              0   \n",
       "\n",
       "            Community Development Corporation o  Corporate: Privately Held  \\\n",
       "project_id                                                                   \n",
       "1000000143                                    0                          0   \n",
       "1000000174                                    0                          0   \n",
       "1000000194                                    0                          1   \n",
       "1000000199                                    0                          0   \n",
       "1000000222                                    0                          0   \n",
       "\n",
       "            Corporate: Publicly Traded  Educational: College, Private  \\\n",
       "project_id                                                              \n",
       "1000000143                           0                              0   \n",
       "1000000174                           0                              0   \n",
       "1000000194                           0                              0   \n",
       "1000000199                           0                              0   \n",
       "1000000222                           0                              0   \n",
       "\n",
       "            Educational: College, Public    ...      Investor: Equity Fund  \\\n",
       "project_id                                  ...                              \n",
       "1000000143                             0    ...                          0   \n",
       "1000000174                             0    ...                          0   \n",
       "1000000194                             0    ...                          0   \n",
       "1000000199                             0    ...                          0   \n",
       "1000000222                             0    ...                          0   \n",
       "\n",
       "            Investor: Individual/Family  Investor: Insurance Company  \\\n",
       "project_id                                                             \n",
       "1000000143                            0                            0   \n",
       "1000000174                            0                            0   \n",
       "1000000194                            0                            0   \n",
       "1000000199                            0                            0   \n",
       "1000000222                            0                            0   \n",
       "\n",
       "            Investor: Investment Manager  Investor: REIT, Publicly traded  \\\n",
       "project_id                                                                  \n",
       "1000000143                             0                                0   \n",
       "1000000174                             0                                0   \n",
       "1000000194                             0                                0   \n",
       "1000000199                             0                                0   \n",
       "1000000222                             0                                0   \n",
       "\n",
       "            Investor: REIT,Non-traded  Investor: ROEC  \\\n",
       "project_id                                              \n",
       "1000000143                          0               0   \n",
       "1000000174                          0               0   \n",
       "1000000194                          0               0   \n",
       "1000000199                          0               0   \n",
       "1000000222                          0               0   \n",
       "\n",
       "            Main Street Organization  Non-Profit (that do not fit into ot  \\\n",
       "project_id                                                                  \n",
       "1000000143                         0                                    0   \n",
       "1000000174                         0                                    0   \n",
       "1000000194                         0                                    0   \n",
       "1000000199                         0                                    0   \n",
       "1000000222                         0                                    0   \n",
       "\n",
       "            Religious  \n",
       "project_id             \n",
       "1000000143          0  \n",
       "1000000174          0  \n",
       "1000000194          0  \n",
       "1000000199          0  \n",
       "1000000222          0  \n",
       "\n",
       "[5 rows x 35 columns]"
      ]
     },
     "execution_count": 39,
     "metadata": {},
     "output_type": "execute_result"
    }
   ],
   "source": [
    "x_for_regression.head()"
   ]
  },
  {
   "cell_type": "code",
   "execution_count": 25,
   "metadata": {
    "collapsed": true
   },
   "outputs": [],
   "source": [
    "import matplotlib.pyplot as plt\n",
    "import numpy as np\n",
    "from sklearn import linear_model"
   ]
  },
  {
   "cell_type": "code",
   "execution_count": 26,
   "metadata": {
    "collapsed": true
   },
   "outputs": [],
   "source": [
    "%matplotlib inline"
   ]
  },
  {
   "cell_type": "code",
   "execution_count": 27,
   "metadata": {
    "collapsed": false
   },
   "outputs": [
    {
     "name": "stdout",
     "output_type": "stream",
     "text": [
      "0.0588713729707\n"
     ]
    }
   ],
   "source": [
    "regr = linear_model.LinearRegression()\n",
    "regr.fit(x_for_regression, y_for_eac1)\n",
    "score = regr.score(x_for_regression, y_for_eac1)\n",
    "print(score)"
   ]
  },
  {
   "cell_type": "code",
   "execution_count": 28,
   "metadata": {
    "collapsed": false
   },
   "outputs": [
    {
     "name": "stdout",
     "output_type": "stream",
     "text": [
      "0.0760808715714\n"
     ]
    }
   ],
   "source": [
    "regr = linear_model.LinearRegression()\n",
    "regr.fit(x_for_regression, y_for_eac2)\n",
    "score = regr.score(x_for_regression, y_for_eac2)\n",
    "print(score)"
   ]
  },
  {
   "cell_type": "code",
   "execution_count": 42,
   "metadata": {
    "collapsed": false
   },
   "outputs": [
    {
     "name": "stdout",
     "output_type": "stream",
     "text": [
      "0.490494665622\n"
     ]
    }
   ],
   "source": [
    "regr = linear_model.LinearRegression()\n",
    "regr.fit(x_for_regression, y_for_score)\n",
    "score = regr.score(x_for_regression, y_for_score)\n",
    "print(score)"
   ]
  },
  {
   "cell_type": "code",
   "execution_count": 43,
   "metadata": {
    "collapsed": true
   },
   "outputs": [],
   "source": [
    "x_small_for_regression = x_for_regression[['gross_square_foot', 'total_property_area']]"
   ]
  },
  {
   "cell_type": "code",
   "execution_count": 44,
   "metadata": {
    "collapsed": false
   },
   "outputs": [
    {
     "data": {
      "text/html": [
       "<div>\n",
       "<table border=\"1\" class=\"dataframe\">\n",
       "  <thead>\n",
       "    <tr style=\"text-align: right;\">\n",
       "      <th></th>\n",
       "      <th>gross_square_foot</th>\n",
       "      <th>total_property_area</th>\n",
       "    </tr>\n",
       "    <tr>\n",
       "      <th>project_id</th>\n",
       "      <th></th>\n",
       "      <th></th>\n",
       "    </tr>\n",
       "  </thead>\n",
       "  <tbody>\n",
       "    <tr>\n",
       "      <th>1000000143</th>\n",
       "      <td>86580</td>\n",
       "      <td>53863</td>\n",
       "    </tr>\n",
       "    <tr>\n",
       "      <th>1000000174</th>\n",
       "      <td>11806</td>\n",
       "      <td>66000</td>\n",
       "    </tr>\n",
       "    <tr>\n",
       "      <th>1000000194</th>\n",
       "      <td>3472</td>\n",
       "      <td>10905</td>\n",
       "    </tr>\n",
       "    <tr>\n",
       "      <th>1000000199</th>\n",
       "      <td>48732</td>\n",
       "      <td>555823</td>\n",
       "    </tr>\n",
       "    <tr>\n",
       "      <th>1000000222</th>\n",
       "      <td>212777</td>\n",
       "      <td>108563</td>\n",
       "    </tr>\n",
       "  </tbody>\n",
       "</table>\n",
       "</div>"
      ],
      "text/plain": [
       "            gross_square_foot  total_property_area\n",
       "project_id                                        \n",
       "1000000143              86580                53863\n",
       "1000000174              11806                66000\n",
       "1000000194               3472                10905\n",
       "1000000199              48732               555823\n",
       "1000000222             212777               108563"
      ]
     },
     "execution_count": 44,
     "metadata": {},
     "output_type": "execute_result"
    }
   ],
   "source": [
    "x_small_for_regression.head()"
   ]
  },
  {
   "cell_type": "code",
   "execution_count": 45,
   "metadata": {
    "collapsed": false
   },
   "outputs": [
    {
     "name": "stdout",
     "output_type": "stream",
     "text": [
      "0.00313761978456\n"
     ]
    }
   ],
   "source": [
    "regr = linear_model.LinearRegression()\n",
    "regr.fit(x_small_for_regression, y_for_eac1)\n",
    "score = regr.score(x_small_for_regression, y_for_eac1)\n",
    "print(score)"
   ]
  },
  {
   "cell_type": "code",
   "execution_count": 46,
   "metadata": {
    "collapsed": false
   },
   "outputs": [
    {
     "name": "stdout",
     "output_type": "stream",
     "text": [
      "0.385445821671\n"
     ]
    }
   ],
   "source": [
    "regr = linear_model.LogisticRegression()\n",
    "regr.fit(x_for_regression, y_for_cert_level)\n",
    "score = regr.score(x_for_regression, y_for_cert_level)\n",
    "print(score)"
   ]
  },
  {
   "cell_type": "code",
   "execution_count": null,
   "metadata": {
    "collapsed": true
   },
   "outputs": [],
   "source": []
  }
 ],
 "metadata": {
  "kernelspec": {
   "display_name": "Python 3",
   "language": "python",
   "name": "python3"
  },
  "language_info": {
   "codemirror_mode": {
    "name": "ipython",
    "version": 3
   },
   "file_extension": ".py",
   "mimetype": "text/x-python",
   "name": "python",
   "nbconvert_exporter": "python",
   "pygments_lexer": "ipython3",
   "version": "3.4.3"
  }
 },
 "nbformat": 4,
 "nbformat_minor": 0
}
