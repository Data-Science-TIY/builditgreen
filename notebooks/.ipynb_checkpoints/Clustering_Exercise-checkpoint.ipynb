{
 "cells": [
  {
   "cell_type": "code",
   "execution_count": 3,
   "metadata": {
    "collapsed": false
   },
   "outputs": [],
   "source": [
    "import pandas as pd\n",
    "from sklearn.cluster import KMeans\n",
    "from sklearn import preprocessing"
   ]
  },
  {
   "cell_type": "code",
   "execution_count": 4,
   "metadata": {
    "collapsed": true
   },
   "outputs": [],
   "source": [
    "df_2009 = pd.read_pickle(\"2009_full_score_projects_final.pkl\")"
   ]
  },
  {
   "cell_type": "code",
   "execution_count": 5,
   "metadata": {
    "collapsed": false
   },
   "outputs": [
    {
     "data": {
      "text/html": [
       "<div>\n",
       "<table border=\"1\" class=\"dataframe\">\n",
       "  <thead>\n",
       "    <tr style=\"text-align: right;\">\n",
       "      <th></th>\n",
       "      <th>ssc1</th>\n",
       "      <th>ssc2</th>\n",
       "      <th>ssc3</th>\n",
       "      <th>ssc4_1</th>\n",
       "      <th>ssc4_2</th>\n",
       "      <th>ssc4_3</th>\n",
       "      <th>ssc4_4</th>\n",
       "      <th>ssc5_1</th>\n",
       "      <th>ssc5_2</th>\n",
       "      <th>ssc6_1</th>\n",
       "      <th>...</th>\n",
       "      <th>country</th>\n",
       "      <th>leed_version</th>\n",
       "      <th>points_achieved</th>\n",
       "      <th>certification_level</th>\n",
       "      <th>certification_date</th>\n",
       "      <th>owner_types</th>\n",
       "      <th>gross_square_foot</th>\n",
       "      <th>total_property_area</th>\n",
       "      <th>project_types</th>\n",
       "      <th>registration_date</th>\n",
       "    </tr>\n",
       "    <tr>\n",
       "      <th>project_id</th>\n",
       "      <th></th>\n",
       "      <th></th>\n",
       "      <th></th>\n",
       "      <th></th>\n",
       "      <th></th>\n",
       "      <th></th>\n",
       "      <th></th>\n",
       "      <th></th>\n",
       "      <th></th>\n",
       "      <th></th>\n",
       "      <th></th>\n",
       "      <th></th>\n",
       "      <th></th>\n",
       "      <th></th>\n",
       "      <th></th>\n",
       "      <th></th>\n",
       "      <th></th>\n",
       "      <th></th>\n",
       "      <th></th>\n",
       "      <th></th>\n",
       "      <th></th>\n",
       "    </tr>\n",
       "  </thead>\n",
       "  <tbody>\n",
       "    <tr>\n",
       "      <th>1000000143</th>\n",
       "      <td>1</td>\n",
       "      <td>5</td>\n",
       "      <td>0</td>\n",
       "      <td>6</td>\n",
       "      <td>0</td>\n",
       "      <td>0</td>\n",
       "      <td>2</td>\n",
       "      <td>0</td>\n",
       "      <td>1</td>\n",
       "      <td>1</td>\n",
       "      <td>...</td>\n",
       "      <td>US</td>\n",
       "      <td>LEED-NC v2009</td>\n",
       "      <td>44</td>\n",
       "      <td>Certified</td>\n",
       "      <td>2013-09-20</td>\n",
       "      <td>Government Use: State</td>\n",
       "      <td>86580</td>\n",
       "      <td>53863</td>\n",
       "      <td>Health Care: Outpatient</td>\n",
       "      <td>2009-05-07</td>\n",
       "    </tr>\n",
       "    <tr>\n",
       "      <th>1000000174</th>\n",
       "      <td>0</td>\n",
       "      <td>0</td>\n",
       "      <td>0</td>\n",
       "      <td>6</td>\n",
       "      <td>1</td>\n",
       "      <td>0</td>\n",
       "      <td>0</td>\n",
       "      <td>0</td>\n",
       "      <td>1</td>\n",
       "      <td>0</td>\n",
       "      <td>...</td>\n",
       "      <td>US</td>\n",
       "      <td>LEED-NC v2009</td>\n",
       "      <td>65</td>\n",
       "      <td>Gold</td>\n",
       "      <td>2010-12-02</td>\n",
       "      <td>Educational: University, Private</td>\n",
       "      <td>11806</td>\n",
       "      <td>66000</td>\n",
       "      <td>Core Learning Space: College/University</td>\n",
       "      <td>2009-05-10</td>\n",
       "    </tr>\n",
       "    <tr>\n",
       "      <th>1000000194</th>\n",
       "      <td>1</td>\n",
       "      <td>5</td>\n",
       "      <td>0</td>\n",
       "      <td>0</td>\n",
       "      <td>1</td>\n",
       "      <td>3</td>\n",
       "      <td>2</td>\n",
       "      <td>0</td>\n",
       "      <td>0</td>\n",
       "      <td>0</td>\n",
       "      <td>...</td>\n",
       "      <td>US</td>\n",
       "      <td>LEED-NC v2009</td>\n",
       "      <td>44</td>\n",
       "      <td>Certified</td>\n",
       "      <td>2011-08-23</td>\n",
       "      <td>Corporate: Privately Held</td>\n",
       "      <td>3472</td>\n",
       "      <td>10905</td>\n",
       "      <td>Commercial Office</td>\n",
       "      <td>2009-05-12</td>\n",
       "    </tr>\n",
       "    <tr>\n",
       "      <th>1000000199</th>\n",
       "      <td>1</td>\n",
       "      <td>0</td>\n",
       "      <td>0</td>\n",
       "      <td>0</td>\n",
       "      <td>1</td>\n",
       "      <td>3</td>\n",
       "      <td>0</td>\n",
       "      <td>0</td>\n",
       "      <td>1</td>\n",
       "      <td>0</td>\n",
       "      <td>...</td>\n",
       "      <td>US</td>\n",
       "      <td>LEED-NC v2009</td>\n",
       "      <td>51</td>\n",
       "      <td>Silver</td>\n",
       "      <td>2012-03-26</td>\n",
       "      <td>Government Use: Local, City</td>\n",
       "      <td>48732</td>\n",
       "      <td>555823</td>\n",
       "      <td>Public Order and Safety: Other Public Order</td>\n",
       "      <td>2009-05-13</td>\n",
       "    </tr>\n",
       "    <tr>\n",
       "      <th>1000000222</th>\n",
       "      <td>1</td>\n",
       "      <td>5</td>\n",
       "      <td>0</td>\n",
       "      <td>6</td>\n",
       "      <td>1</td>\n",
       "      <td>3</td>\n",
       "      <td>2</td>\n",
       "      <td>0</td>\n",
       "      <td>0</td>\n",
       "      <td>0</td>\n",
       "      <td>...</td>\n",
       "      <td>US</td>\n",
       "      <td>LEED-NC v2009</td>\n",
       "      <td>70</td>\n",
       "      <td>Gold</td>\n",
       "      <td>2014-01-17</td>\n",
       "      <td>Educational: University, Public</td>\n",
       "      <td>212777</td>\n",
       "      <td>108563</td>\n",
       "      <td>Core Learning Space: College/University</td>\n",
       "      <td>2009-05-14</td>\n",
       "    </tr>\n",
       "  </tbody>\n",
       "</table>\n",
       "<p>5 rows × 67 columns</p>\n",
       "</div>"
      ],
      "text/plain": [
       "            ssc1  ssc2  ssc3  ssc4_1  ssc4_2  ssc4_3  ssc4_4  ssc5_1  ssc5_2  \\\n",
       "project_id                                                                     \n",
       "1000000143     1     5     0       6       0       0       2       0       1   \n",
       "1000000174     0     0     0       6       1       0       0       0       1   \n",
       "1000000194     1     5     0       0       1       3       2       0       0   \n",
       "1000000199     1     0     0       0       1       3       0       0       1   \n",
       "1000000222     1     5     0       6       1       3       2       0       0   \n",
       "\n",
       "            ssc6_1        ...          country   leed_version  \\\n",
       "project_id                ...                                   \n",
       "1000000143       1        ...               US  LEED-NC v2009   \n",
       "1000000174       0        ...               US  LEED-NC v2009   \n",
       "1000000194       0        ...               US  LEED-NC v2009   \n",
       "1000000199       0        ...               US  LEED-NC v2009   \n",
       "1000000222       0        ...               US  LEED-NC v2009   \n",
       "\n",
       "            points_achieved  certification_level  certification_date  \\\n",
       "project_id                                                             \n",
       "1000000143               44            Certified          2013-09-20   \n",
       "1000000174               65                 Gold          2010-12-02   \n",
       "1000000194               44            Certified          2011-08-23   \n",
       "1000000199               51               Silver          2012-03-26   \n",
       "1000000222               70                 Gold          2014-01-17   \n",
       "\n",
       "                                 owner_types  gross_square_foot  \\\n",
       "project_id                                                        \n",
       "1000000143             Government Use: State              86580   \n",
       "1000000174  Educational: University, Private              11806   \n",
       "1000000194         Corporate: Privately Held               3472   \n",
       "1000000199       Government Use: Local, City              48732   \n",
       "1000000222   Educational: University, Public             212777   \n",
       "\n",
       "            total_property_area                                project_types  \\\n",
       "project_id                                                                     \n",
       "1000000143                53863                      Health Care: Outpatient   \n",
       "1000000174                66000      Core Learning Space: College/University   \n",
       "1000000194                10905                            Commercial Office   \n",
       "1000000199               555823  Public Order and Safety: Other Public Order   \n",
       "1000000222               108563      Core Learning Space: College/University   \n",
       "\n",
       "            registration_date  \n",
       "project_id                     \n",
       "1000000143         2009-05-07  \n",
       "1000000174         2009-05-10  \n",
       "1000000194         2009-05-12  \n",
       "1000000199         2009-05-13  \n",
       "1000000222         2009-05-14  \n",
       "\n",
       "[5 rows x 67 columns]"
      ]
     },
     "execution_count": 5,
     "metadata": {},
     "output_type": "execute_result"
    }
   ],
   "source": [
    "df_2009.head()"
   ]
  },
  {
   "cell_type": "code",
   "execution_count": 6,
   "metadata": {
    "collapsed": false
   },
   "outputs": [],
   "source": [
    "cluster_2009 = df_2009[['ssc1', 'ssc2', 'ssc3', 'ssc4_1', 'ssc4_2', 'ssc4_3', 'ssc4_4',\n",
    "       'ssc5_1', 'ssc5_2', 'ssc6_1', 'ssc6_2', 'ssc7_1', 'ssc7_2', 'ssc8',\n",
    "       'wec1', 'wec2', 'wec3', 'eac1', 'eac2', 'eac3', 'eac4', 'eac5', 'eac6',\n",
    "       'mrc1_1', 'mrc1_2', 'mrc2', 'mrc3', 'mrc4', 'mrc5', 'mrc6', 'mrc7',\n",
    "       'eqc1', 'eqc2', 'eqc3_1', 'eqc3_2', 'eqc4_1', 'eqc4_2', 'eqc4_3',\n",
    "       'eqc4_4', 'eqc5', 'eqc6_1', 'eqc6_2', 'eqc7_1', 'eqc7_2', 'eqc8_1',\n",
    "       'eqc8_2', 'idc1', 'idc2']]"
   ]
  },
  {
   "cell_type": "code",
   "execution_count": 7,
   "metadata": {
    "collapsed": false
   },
   "outputs": [
    {
     "name": "stderr",
     "output_type": "stream",
     "text": [
      "/Users/trippshealy/iron_yard/week10/builditgreen/.direnv/python-3.4.3/lib/python3.4/site-packages/sklearn/utils/validation.py:498: UserWarning: The scale function assumes floating point values as input, got int64\n",
      "  \"got %s\" % (estimator, X.dtype))\n",
      "/Users/trippshealy/iron_yard/week10/builditgreen/.direnv/python-3.4.3/lib/python3.4/site-packages/sklearn/preprocessing/data.py:145: DeprecationWarning: Implicitly casting between incompatible kinds. In a future numpy release, this will raise an error. Use casting=\"unsafe\" if this is intentional.\n",
      "  Xr -= mean_\n",
      "/Users/trippshealy/iron_yard/week10/builditgreen/.direnv/python-3.4.3/lib/python3.4/site-packages/sklearn/preprocessing/data.py:153: UserWarning: Numerical issues were encountered when centering the data and might not be solved. Dataset may contain too large values. You may need to prescale your features.\n",
      "  warnings.warn(\"Numerical issues were encountered \"\n",
      "/Users/trippshealy/iron_yard/week10/builditgreen/.direnv/python-3.4.3/lib/python3.4/site-packages/sklearn/preprocessing/data.py:158: DeprecationWarning: Implicitly casting between incompatible kinds. In a future numpy release, this will raise an error. Use casting=\"unsafe\" if this is intentional.\n",
      "  Xr -= mean_1\n",
      "/Users/trippshealy/iron_yard/week10/builditgreen/.direnv/python-3.4.3/lib/python3.4/site-packages/sklearn/preprocessing/data.py:160: DeprecationWarning: Implicitly casting between incompatible kinds. In a future numpy release, this will raise an error. Use casting=\"unsafe\" if this is intentional.\n",
      "  Xr /= std_\n",
      "/Users/trippshealy/iron_yard/week10/builditgreen/.direnv/python-3.4.3/lib/python3.4/site-packages/sklearn/preprocessing/data.py:169: UserWarning: Numerical issues were encountered when scaling the data and might not be solved. The standard deviation of the data is probably very close to 0. \n",
      "  warnings.warn(\"Numerical issues were encountered \"\n",
      "/Users/trippshealy/iron_yard/week10/builditgreen/.direnv/python-3.4.3/lib/python3.4/site-packages/sklearn/preprocessing/data.py:174: DeprecationWarning: Implicitly casting between incompatible kinds. In a future numpy release, this will raise an error. Use casting=\"unsafe\" if this is intentional.\n",
      "  Xr -= mean_2\n"
     ]
    }
   ],
   "source": [
    "scaled_cluster_2009 = preprocessing.scale(cluster_2009)"
   ]
  },
  {
   "cell_type": "code",
   "execution_count": 8,
   "metadata": {
    "collapsed": false
   },
   "outputs": [
    {
     "name": "stderr",
     "output_type": "stream",
     "text": [
      "/Users/trippshealy/iron_yard/week10/builditgreen/.direnv/python-3.4.3/lib/python3.4/site-packages/sklearn/cluster/k_means_.py:862: RuntimeWarning: Got data type int64, converted to float to avoid overflows\n",
      "  X = self._check_test_data(X)\n"
     ]
    }
   ],
   "source": [
    "kmeans = KMeans(6)\n",
    "kmeans.fit(scaled_cluster_2009)\n",
    "clusters = kmeans.predict(scaled_cluster_2009)"
   ]
  },
  {
   "cell_type": "code",
   "execution_count": 9,
   "metadata": {
    "collapsed": true
   },
   "outputs": [],
   "source": [
    "from collections import Counter"
   ]
  },
  {
   "cell_type": "code",
   "execution_count": 10,
   "metadata": {
    "collapsed": false
   },
   "outputs": [
    {
     "data": {
      "text/plain": [
       "Counter({5: 1902, 0: 304, 2: 292, 3: 3})"
      ]
     },
     "execution_count": 10,
     "metadata": {},
     "output_type": "execute_result"
    }
   ],
   "source": [
    "Counter(clusters)"
   ]
  },
  {
   "cell_type": "code",
   "execution_count": 11,
   "metadata": {
    "collapsed": false
   },
   "outputs": [
    {
     "name": "stderr",
     "output_type": "stream",
     "text": [
      "/Users/trippshealy/iron_yard/week10/builditgreen/.direnv/python-3.4.3/lib/python3.4/site-packages/sklearn/cluster/k_means_.py:862: RuntimeWarning: Got data type int64, converted to float to avoid overflows\n",
      "  X = self._check_test_data(X)\n"
     ]
    }
   ],
   "source": [
    "kmeans5 = KMeans(5)\n",
    "kmeans5.fit(scaled_cluster_2009)\n",
    "clusters5 = kmeans5.predict(scaled_cluster_2009)"
   ]
  },
  {
   "cell_type": "code",
   "execution_count": 12,
   "metadata": {
    "collapsed": false
   },
   "outputs": [
    {
     "data": {
      "text/plain": [
       "Counter({0: 1902, 1: 304, 2: 292, 3: 3})"
      ]
     },
     "execution_count": 12,
     "metadata": {},
     "output_type": "execute_result"
    }
   ],
   "source": [
    "Counter(clusters5)"
   ]
  },
  {
   "cell_type": "code",
   "execution_count": 13,
   "metadata": {
    "collapsed": false
   },
   "outputs": [
    {
     "name": "stderr",
     "output_type": "stream",
     "text": [
      "/Users/trippshealy/iron_yard/week10/builditgreen/.direnv/python-3.4.3/lib/python3.4/site-packages/sklearn/cluster/k_means_.py:862: RuntimeWarning: Got data type int64, converted to float to avoid overflows\n",
      "  X = self._check_test_data(X)\n"
     ]
    },
    {
     "data": {
      "text/plain": [
       "Counter({0: 1902, 1: 304, 2: 292, 3: 3})"
      ]
     },
     "execution_count": 13,
     "metadata": {},
     "output_type": "execute_result"
    }
   ],
   "source": [
    "kmeans4 = KMeans(4)\n",
    "kmeans4.fit(scaled_cluster_2009)\n",
    "clusters4 = kmeans4.predict(scaled_cluster_2009)\n",
    "Counter(clusters4)"
   ]
  },
  {
   "cell_type": "code",
   "execution_count": 14,
   "metadata": {
    "collapsed": true
   },
   "outputs": [],
   "source": [
    "import seaborn as sns"
   ]
  },
  {
   "cell_type": "code",
   "execution_count": 15,
   "metadata": {
    "collapsed": true
   },
   "outputs": [],
   "source": [
    "sns.set_style(\"whitegrid\")"
   ]
  },
  {
   "cell_type": "code",
   "execution_count": 16,
   "metadata": {
    "collapsed": true
   },
   "outputs": [],
   "source": [
    "sns.set_context(\"poster\")"
   ]
  },
  {
   "cell_type": "code",
   "execution_count": 17,
   "metadata": {
    "collapsed": true
   },
   "outputs": [],
   "source": [
    "df_2009['clusters'] = clusters4"
   ]
  },
  {
   "cell_type": "code",
   "execution_count": 18,
   "metadata": {
    "collapsed": false
   },
   "outputs": [
    {
     "data": {
      "text/html": [
       "<div>\n",
       "<table border=\"1\" class=\"dataframe\">\n",
       "  <thead>\n",
       "    <tr style=\"text-align: right;\">\n",
       "      <th></th>\n",
       "      <th>ssc1</th>\n",
       "      <th>ssc2</th>\n",
       "      <th>ssc3</th>\n",
       "      <th>ssc4_1</th>\n",
       "      <th>ssc4_2</th>\n",
       "      <th>ssc4_3</th>\n",
       "      <th>ssc4_4</th>\n",
       "      <th>ssc5_1</th>\n",
       "      <th>ssc5_2</th>\n",
       "      <th>ssc6_1</th>\n",
       "      <th>...</th>\n",
       "      <th>idc1</th>\n",
       "      <th>idc2</th>\n",
       "      <th>extra1</th>\n",
       "      <th>extra2</th>\n",
       "      <th>extra3</th>\n",
       "      <th>extra4</th>\n",
       "      <th>points_achieved</th>\n",
       "      <th>gross_square_foot</th>\n",
       "      <th>total_property_area</th>\n",
       "      <th>clusters</th>\n",
       "    </tr>\n",
       "  </thead>\n",
       "  <tbody>\n",
       "    <tr>\n",
       "      <th>count</th>\n",
       "      <td>1902.000000</td>\n",
       "      <td>1902.000000</td>\n",
       "      <td>1902.000000</td>\n",
       "      <td>1902.000000</td>\n",
       "      <td>1902.000000</td>\n",
       "      <td>1902.000000</td>\n",
       "      <td>1902.00000</td>\n",
       "      <td>1902.000000</td>\n",
       "      <td>1902.000000</td>\n",
       "      <td>1902.000000</td>\n",
       "      <td>...</td>\n",
       "      <td>1902.000000</td>\n",
       "      <td>1902.00000</td>\n",
       "      <td>1879.000000</td>\n",
       "      <td>1814.000000</td>\n",
       "      <td>1651.000000</td>\n",
       "      <td>1324.000000</td>\n",
       "      <td>1902.000000</td>\n",
       "      <td>1902.000000</td>\n",
       "      <td>1902.000000</td>\n",
       "      <td>1902</td>\n",
       "    </tr>\n",
       "    <tr>\n",
       "      <th>mean</th>\n",
       "      <td>0.862776</td>\n",
       "      <td>2.936383</td>\n",
       "      <td>0.203470</td>\n",
       "      <td>3.302839</td>\n",
       "      <td>0.653523</td>\n",
       "      <td>2.373817</td>\n",
       "      <td>1.42061</td>\n",
       "      <td>0.168244</td>\n",
       "      <td>0.659832</td>\n",
       "      <td>0.433228</td>\n",
       "      <td>...</td>\n",
       "      <td>2.906414</td>\n",
       "      <td>0.99632</td>\n",
       "      <td>0.475253</td>\n",
       "      <td>0.605292</td>\n",
       "      <td>0.653543</td>\n",
       "      <td>0.575529</td>\n",
       "      <td>55.240273</td>\n",
       "      <td>81821.396951</td>\n",
       "      <td>278547.140904</td>\n",
       "      <td>0</td>\n",
       "    </tr>\n",
       "    <tr>\n",
       "      <th>std</th>\n",
       "      <td>0.345699</td>\n",
       "      <td>2.462267</td>\n",
       "      <td>0.402685</td>\n",
       "      <td>2.985461</td>\n",
       "      <td>0.475973</td>\n",
       "      <td>1.219519</td>\n",
       "      <td>0.90748</td>\n",
       "      <td>0.374181</td>\n",
       "      <td>0.474999</td>\n",
       "      <td>0.496712</td>\n",
       "      <td>...</td>\n",
       "      <td>1.533999</td>\n",
       "      <td>0.06057</td>\n",
       "      <td>0.499520</td>\n",
       "      <td>0.488923</td>\n",
       "      <td>0.475985</td>\n",
       "      <td>0.494449</td>\n",
       "      <td>9.033668</td>\n",
       "      <td>149152.255171</td>\n",
       "      <td>666183.707286</td>\n",
       "      <td>0</td>\n",
       "    </tr>\n",
       "    <tr>\n",
       "      <th>min</th>\n",
       "      <td>0.000000</td>\n",
       "      <td>0.000000</td>\n",
       "      <td>0.000000</td>\n",
       "      <td>0.000000</td>\n",
       "      <td>0.000000</td>\n",
       "      <td>0.000000</td>\n",
       "      <td>0.00000</td>\n",
       "      <td>0.000000</td>\n",
       "      <td>0.000000</td>\n",
       "      <td>0.000000</td>\n",
       "      <td>...</td>\n",
       "      <td>0.000000</td>\n",
       "      <td>0.00000</td>\n",
       "      <td>0.000000</td>\n",
       "      <td>0.000000</td>\n",
       "      <td>0.000000</td>\n",
       "      <td>0.000000</td>\n",
       "      <td>33.000000</td>\n",
       "      <td>780.000000</td>\n",
       "      <td>0.000000</td>\n",
       "      <td>0</td>\n",
       "    </tr>\n",
       "    <tr>\n",
       "      <th>25%</th>\n",
       "      <td>1.000000</td>\n",
       "      <td>0.000000</td>\n",
       "      <td>0.000000</td>\n",
       "      <td>0.000000</td>\n",
       "      <td>0.000000</td>\n",
       "      <td>3.000000</td>\n",
       "      <td>0.00000</td>\n",
       "      <td>0.000000</td>\n",
       "      <td>0.000000</td>\n",
       "      <td>0.000000</td>\n",
       "      <td>...</td>\n",
       "      <td>2.000000</td>\n",
       "      <td>1.00000</td>\n",
       "      <td>0.000000</td>\n",
       "      <td>0.000000</td>\n",
       "      <td>0.000000</td>\n",
       "      <td>0.000000</td>\n",
       "      <td>50.000000</td>\n",
       "      <td>14916.000000</td>\n",
       "      <td>50376.500000</td>\n",
       "      <td>0</td>\n",
       "    </tr>\n",
       "    <tr>\n",
       "      <th>50%</th>\n",
       "      <td>1.000000</td>\n",
       "      <td>5.000000</td>\n",
       "      <td>0.000000</td>\n",
       "      <td>6.000000</td>\n",
       "      <td>1.000000</td>\n",
       "      <td>3.000000</td>\n",
       "      <td>2.00000</td>\n",
       "      <td>0.000000</td>\n",
       "      <td>1.000000</td>\n",
       "      <td>0.000000</td>\n",
       "      <td>...</td>\n",
       "      <td>3.000000</td>\n",
       "      <td>1.00000</td>\n",
       "      <td>0.000000</td>\n",
       "      <td>1.000000</td>\n",
       "      <td>1.000000</td>\n",
       "      <td>1.000000</td>\n",
       "      <td>54.000000</td>\n",
       "      <td>34893.000000</td>\n",
       "      <td>113331.500000</td>\n",
       "      <td>0</td>\n",
       "    </tr>\n",
       "    <tr>\n",
       "      <th>75%</th>\n",
       "      <td>1.000000</td>\n",
       "      <td>5.000000</td>\n",
       "      <td>0.000000</td>\n",
       "      <td>6.000000</td>\n",
       "      <td>1.000000</td>\n",
       "      <td>3.000000</td>\n",
       "      <td>2.00000</td>\n",
       "      <td>0.000000</td>\n",
       "      <td>1.000000</td>\n",
       "      <td>1.000000</td>\n",
       "      <td>...</td>\n",
       "      <td>4.000000</td>\n",
       "      <td>1.00000</td>\n",
       "      <td>1.000000</td>\n",
       "      <td>1.000000</td>\n",
       "      <td>1.000000</td>\n",
       "      <td>1.000000</td>\n",
       "      <td>61.000000</td>\n",
       "      <td>87671.750000</td>\n",
       "      <td>252516.750000</td>\n",
       "      <td>0</td>\n",
       "    </tr>\n",
       "    <tr>\n",
       "      <th>max</th>\n",
       "      <td>2.000000</td>\n",
       "      <td>5.000000</td>\n",
       "      <td>1.000000</td>\n",
       "      <td>6.000000</td>\n",
       "      <td>1.000000</td>\n",
       "      <td>3.000000</td>\n",
       "      <td>2.00000</td>\n",
       "      <td>1.000000</td>\n",
       "      <td>2.000000</td>\n",
       "      <td>2.000000</td>\n",
       "      <td>...</td>\n",
       "      <td>5.000000</td>\n",
       "      <td>1.00000</td>\n",
       "      <td>1.000000</td>\n",
       "      <td>1.000000</td>\n",
       "      <td>1.000000</td>\n",
       "      <td>1.000000</td>\n",
       "      <td>95.000000</td>\n",
       "      <td>1810248.000000</td>\n",
       "      <td>11064240.000000</td>\n",
       "      <td>0</td>\n",
       "    </tr>\n",
       "  </tbody>\n",
       "</table>\n",
       "<p>8 rows × 56 columns</p>\n",
       "</div>"
      ],
      "text/plain": [
       "              ssc1         ssc2         ssc3       ssc4_1       ssc4_2  \\\n",
       "count  1902.000000  1902.000000  1902.000000  1902.000000  1902.000000   \n",
       "mean      0.862776     2.936383     0.203470     3.302839     0.653523   \n",
       "std       0.345699     2.462267     0.402685     2.985461     0.475973   \n",
       "min       0.000000     0.000000     0.000000     0.000000     0.000000   \n",
       "25%       1.000000     0.000000     0.000000     0.000000     0.000000   \n",
       "50%       1.000000     5.000000     0.000000     6.000000     1.000000   \n",
       "75%       1.000000     5.000000     0.000000     6.000000     1.000000   \n",
       "max       2.000000     5.000000     1.000000     6.000000     1.000000   \n",
       "\n",
       "            ssc4_3      ssc4_4       ssc5_1       ssc5_2       ssc6_1  \\\n",
       "count  1902.000000  1902.00000  1902.000000  1902.000000  1902.000000   \n",
       "mean      2.373817     1.42061     0.168244     0.659832     0.433228   \n",
       "std       1.219519     0.90748     0.374181     0.474999     0.496712   \n",
       "min       0.000000     0.00000     0.000000     0.000000     0.000000   \n",
       "25%       3.000000     0.00000     0.000000     0.000000     0.000000   \n",
       "50%       3.000000     2.00000     0.000000     1.000000     0.000000   \n",
       "75%       3.000000     2.00000     0.000000     1.000000     1.000000   \n",
       "max       3.000000     2.00000     1.000000     2.000000     2.000000   \n",
       "\n",
       "         ...            idc1        idc2       extra1       extra2  \\\n",
       "count    ...     1902.000000  1902.00000  1879.000000  1814.000000   \n",
       "mean     ...        2.906414     0.99632     0.475253     0.605292   \n",
       "std      ...        1.533999     0.06057     0.499520     0.488923   \n",
       "min      ...        0.000000     0.00000     0.000000     0.000000   \n",
       "25%      ...        2.000000     1.00000     0.000000     0.000000   \n",
       "50%      ...        3.000000     1.00000     0.000000     1.000000   \n",
       "75%      ...        4.000000     1.00000     1.000000     1.000000   \n",
       "max      ...        5.000000     1.00000     1.000000     1.000000   \n",
       "\n",
       "            extra3       extra4  points_achieved  gross_square_foot  \\\n",
       "count  1651.000000  1324.000000      1902.000000        1902.000000   \n",
       "mean      0.653543     0.575529        55.240273       81821.396951   \n",
       "std       0.475985     0.494449         9.033668      149152.255171   \n",
       "min       0.000000     0.000000        33.000000         780.000000   \n",
       "25%       0.000000     0.000000        50.000000       14916.000000   \n",
       "50%       1.000000     1.000000        54.000000       34893.000000   \n",
       "75%       1.000000     1.000000        61.000000       87671.750000   \n",
       "max       1.000000     1.000000        95.000000     1810248.000000   \n",
       "\n",
       "       total_property_area  clusters  \n",
       "count          1902.000000      1902  \n",
       "mean         278547.140904         0  \n",
       "std          666183.707286         0  \n",
       "min               0.000000         0  \n",
       "25%           50376.500000         0  \n",
       "50%          113331.500000         0  \n",
       "75%          252516.750000         0  \n",
       "max        11064240.000000         0  \n",
       "\n",
       "[8 rows x 56 columns]"
      ]
     },
     "execution_count": 18,
     "metadata": {},
     "output_type": "execute_result"
    }
   ],
   "source": [
    "cluster_0_2009 = df_2009[(df_2009['clusters'] == 0)]\n",
    "cluster_0_2009.describe()"
   ]
  },
  {
   "cell_type": "code",
   "execution_count": 19,
   "metadata": {
    "collapsed": false
   },
   "outputs": [
    {
     "data": {
      "text/html": [
       "<div>\n",
       "<table border=\"1\" class=\"dataframe\">\n",
       "  <thead>\n",
       "    <tr style=\"text-align: right;\">\n",
       "      <th></th>\n",
       "      <th>ssc1</th>\n",
       "      <th>ssc2</th>\n",
       "      <th>ssc3</th>\n",
       "      <th>ssc4_1</th>\n",
       "      <th>ssc4_2</th>\n",
       "      <th>ssc4_3</th>\n",
       "      <th>ssc4_4</th>\n",
       "      <th>ssc5_1</th>\n",
       "      <th>ssc5_2</th>\n",
       "      <th>ssc6_1</th>\n",
       "      <th>...</th>\n",
       "      <th>idc1</th>\n",
       "      <th>idc2</th>\n",
       "      <th>extra1</th>\n",
       "      <th>extra2</th>\n",
       "      <th>extra3</th>\n",
       "      <th>extra4</th>\n",
       "      <th>points_achieved</th>\n",
       "      <th>gross_square_foot</th>\n",
       "      <th>total_property_area</th>\n",
       "      <th>clusters</th>\n",
       "    </tr>\n",
       "  </thead>\n",
       "  <tbody>\n",
       "    <tr>\n",
       "      <th>count</th>\n",
       "      <td>304.000000</td>\n",
       "      <td>304.000000</td>\n",
       "      <td>304.000000</td>\n",
       "      <td>304.000000</td>\n",
       "      <td>304.000000</td>\n",
       "      <td>304.000000</td>\n",
       "      <td>304.000000</td>\n",
       "      <td>304.000000</td>\n",
       "      <td>304.000000</td>\n",
       "      <td>304.000000</td>\n",
       "      <td>...</td>\n",
       "      <td>304.000000</td>\n",
       "      <td>304.000000</td>\n",
       "      <td>299.000000</td>\n",
       "      <td>298.000000</td>\n",
       "      <td>289.000000</td>\n",
       "      <td>260.000000</td>\n",
       "      <td>304.000000</td>\n",
       "      <td>304.000000</td>\n",
       "      <td>304.000000</td>\n",
       "      <td>304</td>\n",
       "    </tr>\n",
       "    <tr>\n",
       "      <th>mean</th>\n",
       "      <td>0.812500</td>\n",
       "      <td>2.763158</td>\n",
       "      <td>0.164474</td>\n",
       "      <td>3.335526</td>\n",
       "      <td>0.595395</td>\n",
       "      <td>2.388158</td>\n",
       "      <td>1.302632</td>\n",
       "      <td>0.203947</td>\n",
       "      <td>0.634868</td>\n",
       "      <td>0.434211</td>\n",
       "      <td>...</td>\n",
       "      <td>3.332237</td>\n",
       "      <td>0.993421</td>\n",
       "      <td>0.842809</td>\n",
       "      <td>0.708054</td>\n",
       "      <td>0.636678</td>\n",
       "      <td>0.546154</td>\n",
       "      <td>69.855263</td>\n",
       "      <td>33069.631579</td>\n",
       "      <td>171121.779605</td>\n",
       "      <td>1</td>\n",
       "    </tr>\n",
       "    <tr>\n",
       "      <th>std</th>\n",
       "      <td>0.390956</td>\n",
       "      <td>2.490210</td>\n",
       "      <td>0.371316</td>\n",
       "      <td>2.986093</td>\n",
       "      <td>0.491625</td>\n",
       "      <td>1.210784</td>\n",
       "      <td>0.954679</td>\n",
       "      <td>0.403595</td>\n",
       "      <td>0.482261</td>\n",
       "      <td>0.496470</td>\n",
       "      <td>...</td>\n",
       "      <td>1.441310</td>\n",
       "      <td>0.080977</td>\n",
       "      <td>0.364591</td>\n",
       "      <td>0.455423</td>\n",
       "      <td>0.481791</td>\n",
       "      <td>0.498825</td>\n",
       "      <td>11.337259</td>\n",
       "      <td>55809.940151</td>\n",
       "      <td>272539.217634</td>\n",
       "      <td>0</td>\n",
       "    </tr>\n",
       "    <tr>\n",
       "      <th>min</th>\n",
       "      <td>0.000000</td>\n",
       "      <td>0.000000</td>\n",
       "      <td>0.000000</td>\n",
       "      <td>0.000000</td>\n",
       "      <td>0.000000</td>\n",
       "      <td>0.000000</td>\n",
       "      <td>0.000000</td>\n",
       "      <td>0.000000</td>\n",
       "      <td>0.000000</td>\n",
       "      <td>0.000000</td>\n",
       "      <td>...</td>\n",
       "      <td>0.000000</td>\n",
       "      <td>0.000000</td>\n",
       "      <td>0.000000</td>\n",
       "      <td>0.000000</td>\n",
       "      <td>0.000000</td>\n",
       "      <td>0.000000</td>\n",
       "      <td>42.000000</td>\n",
       "      <td>1072.000000</td>\n",
       "      <td>0.000000</td>\n",
       "      <td>1</td>\n",
       "    </tr>\n",
       "    <tr>\n",
       "      <th>25%</th>\n",
       "      <td>1.000000</td>\n",
       "      <td>0.000000</td>\n",
       "      <td>0.000000</td>\n",
       "      <td>0.000000</td>\n",
       "      <td>0.000000</td>\n",
       "      <td>3.000000</td>\n",
       "      <td>0.000000</td>\n",
       "      <td>0.000000</td>\n",
       "      <td>0.000000</td>\n",
       "      <td>0.000000</td>\n",
       "      <td>...</td>\n",
       "      <td>2.000000</td>\n",
       "      <td>1.000000</td>\n",
       "      <td>1.000000</td>\n",
       "      <td>0.000000</td>\n",
       "      <td>0.000000</td>\n",
       "      <td>0.000000</td>\n",
       "      <td>62.000000</td>\n",
       "      <td>5204.000000</td>\n",
       "      <td>37672.750000</td>\n",
       "      <td>1</td>\n",
       "    </tr>\n",
       "    <tr>\n",
       "      <th>50%</th>\n",
       "      <td>1.000000</td>\n",
       "      <td>5.000000</td>\n",
       "      <td>0.000000</td>\n",
       "      <td>6.000000</td>\n",
       "      <td>1.000000</td>\n",
       "      <td>3.000000</td>\n",
       "      <td>2.000000</td>\n",
       "      <td>0.000000</td>\n",
       "      <td>1.000000</td>\n",
       "      <td>0.000000</td>\n",
       "      <td>...</td>\n",
       "      <td>3.000000</td>\n",
       "      <td>1.000000</td>\n",
       "      <td>1.000000</td>\n",
       "      <td>1.000000</td>\n",
       "      <td>1.000000</td>\n",
       "      <td>1.000000</td>\n",
       "      <td>67.500000</td>\n",
       "      <td>12503.000000</td>\n",
       "      <td>79306.500000</td>\n",
       "      <td>1</td>\n",
       "    </tr>\n",
       "    <tr>\n",
       "      <th>75%</th>\n",
       "      <td>1.000000</td>\n",
       "      <td>5.000000</td>\n",
       "      <td>0.000000</td>\n",
       "      <td>6.000000</td>\n",
       "      <td>1.000000</td>\n",
       "      <td>3.000000</td>\n",
       "      <td>2.000000</td>\n",
       "      <td>0.000000</td>\n",
       "      <td>1.000000</td>\n",
       "      <td>1.000000</td>\n",
       "      <td>...</td>\n",
       "      <td>5.000000</td>\n",
       "      <td>1.000000</td>\n",
       "      <td>1.000000</td>\n",
       "      <td>1.000000</td>\n",
       "      <td>1.000000</td>\n",
       "      <td>1.000000</td>\n",
       "      <td>81.000000</td>\n",
       "      <td>37454.250000</td>\n",
       "      <td>174988.000000</td>\n",
       "      <td>1</td>\n",
       "    </tr>\n",
       "    <tr>\n",
       "      <th>max</th>\n",
       "      <td>1.000000</td>\n",
       "      <td>5.000000</td>\n",
       "      <td>1.000000</td>\n",
       "      <td>6.000000</td>\n",
       "      <td>1.000000</td>\n",
       "      <td>3.000000</td>\n",
       "      <td>2.000000</td>\n",
       "      <td>1.000000</td>\n",
       "      <td>1.000000</td>\n",
       "      <td>1.000000</td>\n",
       "      <td>...</td>\n",
       "      <td>5.000000</td>\n",
       "      <td>1.000000</td>\n",
       "      <td>1.000000</td>\n",
       "      <td>1.000000</td>\n",
       "      <td>1.000000</td>\n",
       "      <td>1.000000</td>\n",
       "      <td>97.000000</td>\n",
       "      <td>526050.000000</td>\n",
       "      <td>2945372.000000</td>\n",
       "      <td>1</td>\n",
       "    </tr>\n",
       "  </tbody>\n",
       "</table>\n",
       "<p>8 rows × 56 columns</p>\n",
       "</div>"
      ],
      "text/plain": [
       "             ssc1        ssc2        ssc3      ssc4_1      ssc4_2      ssc4_3  \\\n",
       "count  304.000000  304.000000  304.000000  304.000000  304.000000  304.000000   \n",
       "mean     0.812500    2.763158    0.164474    3.335526    0.595395    2.388158   \n",
       "std      0.390956    2.490210    0.371316    2.986093    0.491625    1.210784   \n",
       "min      0.000000    0.000000    0.000000    0.000000    0.000000    0.000000   \n",
       "25%      1.000000    0.000000    0.000000    0.000000    0.000000    3.000000   \n",
       "50%      1.000000    5.000000    0.000000    6.000000    1.000000    3.000000   \n",
       "75%      1.000000    5.000000    0.000000    6.000000    1.000000    3.000000   \n",
       "max      1.000000    5.000000    1.000000    6.000000    1.000000    3.000000   \n",
       "\n",
       "           ssc4_4      ssc5_1      ssc5_2      ssc6_1    ...           idc1  \\\n",
       "count  304.000000  304.000000  304.000000  304.000000    ...     304.000000   \n",
       "mean     1.302632    0.203947    0.634868    0.434211    ...       3.332237   \n",
       "std      0.954679    0.403595    0.482261    0.496470    ...       1.441310   \n",
       "min      0.000000    0.000000    0.000000    0.000000    ...       0.000000   \n",
       "25%      0.000000    0.000000    0.000000    0.000000    ...       2.000000   \n",
       "50%      2.000000    0.000000    1.000000    0.000000    ...       3.000000   \n",
       "75%      2.000000    0.000000    1.000000    1.000000    ...       5.000000   \n",
       "max      2.000000    1.000000    1.000000    1.000000    ...       5.000000   \n",
       "\n",
       "             idc2      extra1      extra2      extra3      extra4  \\\n",
       "count  304.000000  299.000000  298.000000  289.000000  260.000000   \n",
       "mean     0.993421    0.842809    0.708054    0.636678    0.546154   \n",
       "std      0.080977    0.364591    0.455423    0.481791    0.498825   \n",
       "min      0.000000    0.000000    0.000000    0.000000    0.000000   \n",
       "25%      1.000000    1.000000    0.000000    0.000000    0.000000   \n",
       "50%      1.000000    1.000000    1.000000    1.000000    1.000000   \n",
       "75%      1.000000    1.000000    1.000000    1.000000    1.000000   \n",
       "max      1.000000    1.000000    1.000000    1.000000    1.000000   \n",
       "\n",
       "       points_achieved  gross_square_foot  total_property_area  clusters  \n",
       "count       304.000000         304.000000           304.000000       304  \n",
       "mean         69.855263       33069.631579        171121.779605         1  \n",
       "std          11.337259       55809.940151        272539.217634         0  \n",
       "min          42.000000        1072.000000             0.000000         1  \n",
       "25%          62.000000        5204.000000         37672.750000         1  \n",
       "50%          67.500000       12503.000000         79306.500000         1  \n",
       "75%          81.000000       37454.250000        174988.000000         1  \n",
       "max          97.000000      526050.000000       2945372.000000         1  \n",
       "\n",
       "[8 rows x 56 columns]"
      ]
     },
     "execution_count": 19,
     "metadata": {},
     "output_type": "execute_result"
    }
   ],
   "source": [
    "cluster_1_2009 = df_2009[(df_2009['clusters'] == 1)]\n",
    "cluster_1_2009.describe()"
   ]
  },
  {
   "cell_type": "code",
   "execution_count": 20,
   "metadata": {
    "collapsed": false
   },
   "outputs": [
    {
     "data": {
      "text/html": [
       "<div>\n",
       "<table border=\"1\" class=\"dataframe\">\n",
       "  <thead>\n",
       "    <tr style=\"text-align: right;\">\n",
       "      <th></th>\n",
       "      <th>ssc1</th>\n",
       "      <th>ssc2</th>\n",
       "      <th>ssc3</th>\n",
       "      <th>ssc4_1</th>\n",
       "      <th>ssc4_2</th>\n",
       "      <th>ssc4_3</th>\n",
       "      <th>ssc4_4</th>\n",
       "      <th>ssc5_1</th>\n",
       "      <th>ssc5_2</th>\n",
       "      <th>ssc6_1</th>\n",
       "      <th>...</th>\n",
       "      <th>idc1</th>\n",
       "      <th>idc2</th>\n",
       "      <th>extra1</th>\n",
       "      <th>extra2</th>\n",
       "      <th>extra3</th>\n",
       "      <th>extra4</th>\n",
       "      <th>points_achieved</th>\n",
       "      <th>gross_square_foot</th>\n",
       "      <th>total_property_area</th>\n",
       "      <th>clusters</th>\n",
       "    </tr>\n",
       "  </thead>\n",
       "  <tbody>\n",
       "    <tr>\n",
       "      <th>count</th>\n",
       "      <td>292.000000</td>\n",
       "      <td>292.000000</td>\n",
       "      <td>292.000000</td>\n",
       "      <td>292.000000</td>\n",
       "      <td>292.000000</td>\n",
       "      <td>292.000000</td>\n",
       "      <td>292.000000</td>\n",
       "      <td>292.000000</td>\n",
       "      <td>292.000000</td>\n",
       "      <td>292.000000</td>\n",
       "      <td>...</td>\n",
       "      <td>292.000000</td>\n",
       "      <td>292.000000</td>\n",
       "      <td>289.000000</td>\n",
       "      <td>280.000000</td>\n",
       "      <td>246.000000</td>\n",
       "      <td>193.000000</td>\n",
       "      <td>292.000000</td>\n",
       "      <td>292.000000</td>\n",
       "      <td>292.000000</td>\n",
       "      <td>292</td>\n",
       "    </tr>\n",
       "    <tr>\n",
       "      <th>mean</th>\n",
       "      <td>0.910959</td>\n",
       "      <td>3.561644</td>\n",
       "      <td>0.215753</td>\n",
       "      <td>4.356164</td>\n",
       "      <td>0.630137</td>\n",
       "      <td>2.445205</td>\n",
       "      <td>1.541096</td>\n",
       "      <td>0.154110</td>\n",
       "      <td>0.613014</td>\n",
       "      <td>0.407534</td>\n",
       "      <td>...</td>\n",
       "      <td>2.904110</td>\n",
       "      <td>0.982877</td>\n",
       "      <td>0.373702</td>\n",
       "      <td>0.592857</td>\n",
       "      <td>0.634146</td>\n",
       "      <td>0.637306</td>\n",
       "      <td>47.664384</td>\n",
       "      <td>76883.174658</td>\n",
       "      <td>187546.880137</td>\n",
       "      <td>2</td>\n",
       "    </tr>\n",
       "    <tr>\n",
       "      <th>std</th>\n",
       "      <td>0.285292</td>\n",
       "      <td>2.267271</td>\n",
       "      <td>0.412050</td>\n",
       "      <td>2.680564</td>\n",
       "      <td>0.483596</td>\n",
       "      <td>1.166726</td>\n",
       "      <td>0.842405</td>\n",
       "      <td>0.361674</td>\n",
       "      <td>0.487897</td>\n",
       "      <td>0.492219</td>\n",
       "      <td>...</td>\n",
       "      <td>1.512054</td>\n",
       "      <td>0.129954</td>\n",
       "      <td>0.484625</td>\n",
       "      <td>0.492182</td>\n",
       "      <td>0.482651</td>\n",
       "      <td>0.482028</td>\n",
       "      <td>6.831077</td>\n",
       "      <td>101768.934547</td>\n",
       "      <td>350571.532310</td>\n",
       "      <td>0</td>\n",
       "    </tr>\n",
       "    <tr>\n",
       "      <th>min</th>\n",
       "      <td>0.000000</td>\n",
       "      <td>0.000000</td>\n",
       "      <td>0.000000</td>\n",
       "      <td>0.000000</td>\n",
       "      <td>0.000000</td>\n",
       "      <td>0.000000</td>\n",
       "      <td>0.000000</td>\n",
       "      <td>0.000000</td>\n",
       "      <td>0.000000</td>\n",
       "      <td>0.000000</td>\n",
       "      <td>...</td>\n",
       "      <td>0.000000</td>\n",
       "      <td>0.000000</td>\n",
       "      <td>0.000000</td>\n",
       "      <td>0.000000</td>\n",
       "      <td>0.000000</td>\n",
       "      <td>0.000000</td>\n",
       "      <td>13.000000</td>\n",
       "      <td>1029.000000</td>\n",
       "      <td>4583.000000</td>\n",
       "      <td>2</td>\n",
       "    </tr>\n",
       "    <tr>\n",
       "      <th>25%</th>\n",
       "      <td>1.000000</td>\n",
       "      <td>0.000000</td>\n",
       "      <td>0.000000</td>\n",
       "      <td>0.000000</td>\n",
       "      <td>0.000000</td>\n",
       "      <td>3.000000</td>\n",
       "      <td>2.000000</td>\n",
       "      <td>0.000000</td>\n",
       "      <td>0.000000</td>\n",
       "      <td>0.000000</td>\n",
       "      <td>...</td>\n",
       "      <td>2.000000</td>\n",
       "      <td>1.000000</td>\n",
       "      <td>0.000000</td>\n",
       "      <td>0.000000</td>\n",
       "      <td>0.000000</td>\n",
       "      <td>0.000000</td>\n",
       "      <td>42.000000</td>\n",
       "      <td>17527.000000</td>\n",
       "      <td>41053.750000</td>\n",
       "      <td>2</td>\n",
       "    </tr>\n",
       "    <tr>\n",
       "      <th>50%</th>\n",
       "      <td>1.000000</td>\n",
       "      <td>5.000000</td>\n",
       "      <td>0.000000</td>\n",
       "      <td>6.000000</td>\n",
       "      <td>1.000000</td>\n",
       "      <td>3.000000</td>\n",
       "      <td>2.000000</td>\n",
       "      <td>0.000000</td>\n",
       "      <td>1.000000</td>\n",
       "      <td>0.000000</td>\n",
       "      <td>...</td>\n",
       "      <td>3.000000</td>\n",
       "      <td>1.000000</td>\n",
       "      <td>0.000000</td>\n",
       "      <td>1.000000</td>\n",
       "      <td>1.000000</td>\n",
       "      <td>1.000000</td>\n",
       "      <td>48.500000</td>\n",
       "      <td>43221.500000</td>\n",
       "      <td>81093.500000</td>\n",
       "      <td>2</td>\n",
       "    </tr>\n",
       "    <tr>\n",
       "      <th>75%</th>\n",
       "      <td>1.000000</td>\n",
       "      <td>5.000000</td>\n",
       "      <td>0.000000</td>\n",
       "      <td>6.000000</td>\n",
       "      <td>1.000000</td>\n",
       "      <td>3.000000</td>\n",
       "      <td>2.000000</td>\n",
       "      <td>0.000000</td>\n",
       "      <td>1.000000</td>\n",
       "      <td>1.000000</td>\n",
       "      <td>...</td>\n",
       "      <td>4.000000</td>\n",
       "      <td>1.000000</td>\n",
       "      <td>1.000000</td>\n",
       "      <td>1.000000</td>\n",
       "      <td>1.000000</td>\n",
       "      <td>1.000000</td>\n",
       "      <td>52.000000</td>\n",
       "      <td>92289.000000</td>\n",
       "      <td>188986.500000</td>\n",
       "      <td>2</td>\n",
       "    </tr>\n",
       "    <tr>\n",
       "      <th>max</th>\n",
       "      <td>1.000000</td>\n",
       "      <td>5.000000</td>\n",
       "      <td>1.000000</td>\n",
       "      <td>6.000000</td>\n",
       "      <td>1.000000</td>\n",
       "      <td>3.000000</td>\n",
       "      <td>2.000000</td>\n",
       "      <td>1.000000</td>\n",
       "      <td>1.000000</td>\n",
       "      <td>1.000000</td>\n",
       "      <td>...</td>\n",
       "      <td>5.000000</td>\n",
       "      <td>1.000000</td>\n",
       "      <td>1.000000</td>\n",
       "      <td>1.000000</td>\n",
       "      <td>1.000000</td>\n",
       "      <td>1.000000</td>\n",
       "      <td>64.000000</td>\n",
       "      <td>734030.000000</td>\n",
       "      <td>3429154.000000</td>\n",
       "      <td>2</td>\n",
       "    </tr>\n",
       "  </tbody>\n",
       "</table>\n",
       "<p>8 rows × 56 columns</p>\n",
       "</div>"
      ],
      "text/plain": [
       "             ssc1        ssc2        ssc3      ssc4_1      ssc4_2      ssc4_3  \\\n",
       "count  292.000000  292.000000  292.000000  292.000000  292.000000  292.000000   \n",
       "mean     0.910959    3.561644    0.215753    4.356164    0.630137    2.445205   \n",
       "std      0.285292    2.267271    0.412050    2.680564    0.483596    1.166726   \n",
       "min      0.000000    0.000000    0.000000    0.000000    0.000000    0.000000   \n",
       "25%      1.000000    0.000000    0.000000    0.000000    0.000000    3.000000   \n",
       "50%      1.000000    5.000000    0.000000    6.000000    1.000000    3.000000   \n",
       "75%      1.000000    5.000000    0.000000    6.000000    1.000000    3.000000   \n",
       "max      1.000000    5.000000    1.000000    6.000000    1.000000    3.000000   \n",
       "\n",
       "           ssc4_4      ssc5_1      ssc5_2      ssc6_1    ...           idc1  \\\n",
       "count  292.000000  292.000000  292.000000  292.000000    ...     292.000000   \n",
       "mean     1.541096    0.154110    0.613014    0.407534    ...       2.904110   \n",
       "std      0.842405    0.361674    0.487897    0.492219    ...       1.512054   \n",
       "min      0.000000    0.000000    0.000000    0.000000    ...       0.000000   \n",
       "25%      2.000000    0.000000    0.000000    0.000000    ...       2.000000   \n",
       "50%      2.000000    0.000000    1.000000    0.000000    ...       3.000000   \n",
       "75%      2.000000    0.000000    1.000000    1.000000    ...       4.000000   \n",
       "max      2.000000    1.000000    1.000000    1.000000    ...       5.000000   \n",
       "\n",
       "             idc2      extra1      extra2      extra3      extra4  \\\n",
       "count  292.000000  289.000000  280.000000  246.000000  193.000000   \n",
       "mean     0.982877    0.373702    0.592857    0.634146    0.637306   \n",
       "std      0.129954    0.484625    0.492182    0.482651    0.482028   \n",
       "min      0.000000    0.000000    0.000000    0.000000    0.000000   \n",
       "25%      1.000000    0.000000    0.000000    0.000000    0.000000   \n",
       "50%      1.000000    0.000000    1.000000    1.000000    1.000000   \n",
       "75%      1.000000    1.000000    1.000000    1.000000    1.000000   \n",
       "max      1.000000    1.000000    1.000000    1.000000    1.000000   \n",
       "\n",
       "       points_achieved  gross_square_foot  total_property_area  clusters  \n",
       "count       292.000000         292.000000           292.000000       292  \n",
       "mean         47.664384       76883.174658        187546.880137         2  \n",
       "std           6.831077      101768.934547        350571.532310         0  \n",
       "min          13.000000        1029.000000          4583.000000         2  \n",
       "25%          42.000000       17527.000000         41053.750000         2  \n",
       "50%          48.500000       43221.500000         81093.500000         2  \n",
       "75%          52.000000       92289.000000        188986.500000         2  \n",
       "max          64.000000      734030.000000       3429154.000000         2  \n",
       "\n",
       "[8 rows x 56 columns]"
      ]
     },
     "execution_count": 20,
     "metadata": {},
     "output_type": "execute_result"
    }
   ],
   "source": [
    "cluster_2_2009 = df_2009[(df_2009['clusters'] == 2)]\n",
    "cluster_2_2009.describe()"
   ]
  },
  {
   "cell_type": "code",
   "execution_count": 21,
   "metadata": {
    "collapsed": true
   },
   "outputs": [],
   "source": [
    "%matplotlib inline"
   ]
  },
  {
   "cell_type": "code",
   "execution_count": 22,
   "metadata": {
    "collapsed": true
   },
   "outputs": [],
   "source": [
    "cluster_0_2009_mean = cluster_0_2009.mean().to_frame()"
   ]
  },
  {
   "cell_type": "code",
   "execution_count": 23,
   "metadata": {
    "collapsed": true
   },
   "outputs": [],
   "source": [
    "cluster_1_2009_mean = cluster_1_2009.mean().to_frame()"
   ]
  },
  {
   "cell_type": "code",
   "execution_count": 24,
   "metadata": {
    "collapsed": true
   },
   "outputs": [],
   "source": [
    "cluster_2_2009_mean = cluster_2_2009.mean().to_frame()"
   ]
  },
  {
   "cell_type": "code",
   "execution_count": 25,
   "metadata": {
    "collapsed": true
   },
   "outputs": [],
   "source": [
    "cluster_2_2009_mean.columns = [\"Cluster 2\"]"
   ]
  },
  {
   "cell_type": "code",
   "execution_count": 26,
   "metadata": {
    "collapsed": true
   },
   "outputs": [],
   "source": [
    "cluster_1_2009_mean.columns = [\"Cluster 1\"]"
   ]
  },
  {
   "cell_type": "code",
   "execution_count": 27,
   "metadata": {
    "collapsed": true
   },
   "outputs": [],
   "source": [
    "cluster_0_2009_mean.columns = [\"Cluster 0\"]"
   ]
  },
  {
   "cell_type": "code",
   "execution_count": null,
   "metadata": {
    "collapsed": true
   },
   "outputs": [],
   "source": []
  },
  {
   "cell_type": "code",
   "execution_count": 28,
   "metadata": {
    "collapsed": true
   },
   "outputs": [],
   "source": [
    "cluster_0_and_1 = cluster_0_2009_mean.join(cluster_1_2009_mean)\n",
    "cluster_0_1_2 = cluster_0_and_1.join(cluster_2_2009_mean)"
   ]
  },
  {
   "cell_type": "code",
   "execution_count": 29,
   "metadata": {
    "collapsed": false
   },
   "outputs": [],
   "source": [
    "cluster_0_1_2 = cluster_0_1_2.rename(index = lambda x: x.replace(\"_\", \".\"))"
   ]
  },
  {
   "cell_type": "code",
   "execution_count": 30,
   "metadata": {
    "collapsed": true
   },
   "outputs": [],
   "source": [
    "cluster_0_1_2 = cluster_0_1_2.rename(index = lambda x: x.upper())"
   ]
  },
  {
   "cell_type": "markdown",
   "metadata": {},
   "source": [
    "#Description\n",
    "K-Means is a method for clustering observations. The clustering is done based on the mean values. A well known example is clustering variations of Iris flowers using recorded oberservations of flower petal lengths and widths. Because the width and lengths are different between flower variations K-Means can correct cluster the variations by only seeing length and width. \n",
    "\n",
    "Similar to the length and width of Iris flower pedals, we used the detailed credit data for all 2009 projects. With only the detailed credit data, three unqiue clusters were identified. Buildings in Cluster 0 have a large square foot and large total property area. Buildings in Cluster 1 have the smae average square foot and the smallest total property area. Buildings in Cluster 2 are inbetween Cluster 0 and 1 with a similar square foot to Cluster 0 and a similar property area as Cluster 1. "
   ]
  },
  {
   "cell_type": "code",
   "execution_count": 31,
   "metadata": {
    "collapsed": false
   },
   "outputs": [
    {
     "data": {
      "text/plain": [
       "<matplotlib.axes._subplots.AxesSubplot at 0x11720af60>"
      ]
     },
     "execution_count": 31,
     "metadata": {},
     "output_type": "execute_result"
    },
    {
     "data": {
      "image/png": "[encoded data removed]",
      "text/plain": [
       "<matplotlib.figure.Figure at 0x1171ca400>"
      ]
     },
     "metadata": {},
     "output_type": "display_data"
    }
   ],
   "source": [
    "cluster_score_plot = cluster_0_1_2.iloc[0:-4]\n",
    "cluster_score_plot.plot(kind=\"bar\", figsize=(19, 12), color=(\"yellow\", \"blue\", \"grey\"))"
   ]
  },
  {
   "cell_type": "markdown",
   "metadata": {},
   "source": [
    "#Analysis\n",
    "Description: Comparison of K-Means clusters using the detailed credit data. \n",
    "\n",
    "Interesting Findings: Optimized energy performance (EAc1) and on-site renewable energy (EAc2) are the main indicators for the clusters and are highly correlated with building size and total property area.  Buildings with small square footage and small total property area perform best energy optimization and include a higher perecent of on-site renewable energy.  \n",
    "\n",
    "Further Analysis: The clustering may become more signifcant with more observations about the buildings. This could be expanded to predicting levels of LEED achieved based on a few specific data points. "
   ]
  },
  {
   "cell_type": "code",
   "execution_count": 36,
   "metadata": {
    "collapsed": false
   },
   "outputs": [
    {
     "data": {
      "text/plain": [
       "<matplotlib.axes._subplots.AxesSubplot at 0x1175ceef0>"
      ]
     },
     "execution_count": 36,
     "metadata": {},
     "output_type": "execute_result"
    },
    {
     "data": {
      "image/png": "[encoded data removed]",
      "text/plain": [
       "<matplotlib.figure.Figure at 0x11734c978>"
      ]
     },
     "metadata": {},
     "output_type": "display_data"
    }
   ],
   "source": [
    "cluster_score_plot_points = cluster_0_1_2.iloc[-4]\n",
    "cluster_score_plot_points.plot(kind=\"bar\", figsize=(19, 12), color=(\"yellow\", \"blue\", \"grey\"))"
   ]
  },
  {
   "cell_type": "markdown",
   "metadata": {},
   "source": [
    "#Analysis\n",
    "Description: Average score of the three clusters. \n",
    "\n",
    "Interesting Findings: Buildings with a small square foot and small property area achieve the most points. Big buildings with a big property score higher than big buidlings with a small property area. \n",
    "\n",
    "Further Analysis: Plot each cluster on a map to identify geographical connection within clusters. "
   ]
  },
  {
   "cell_type": "code",
   "execution_count": 38,
   "metadata": {
    "collapsed": false
   },
   "outputs": [
    {
     "data": {
      "text/plain": [
       "Cluster 0    55.240273\n",
       "Cluster 1    69.855263\n",
       "Cluster 2    47.664384\n",
       "Name: POINTS.ACHIEVED, dtype: float64"
      ]
     },
     "execution_count": 38,
     "metadata": {},
     "output_type": "execute_result"
    }
   ],
   "source": [
    "cluster_score_plot_points"
   ]
  },
  {
   "cell_type": "code",
   "execution_count": 39,
   "metadata": {
    "collapsed": true
   },
   "outputs": [],
   "source": [
    "cluster_score_plot_size = cluster_0_1_2.iloc[-3:-1]"
   ]
  },
  {
   "cell_type": "code",
   "execution_count": 49,
   "metadata": {
    "collapsed": false
   },
   "outputs": [
    {
     "data": {
      "text/plain": [
       "<matplotlib.axes._subplots.AxesSubplot at 0x118b079b0>"
      ]
     },
     "execution_count": 49,
     "metadata": {},
     "output_type": "execute_result"
    },
    {
     "data": {
      "image/png": "[encoded data removed]",
      "text/plain": [
       "<matplotlib.figure.Figure at 0x118ad74e0>"
      ]
     },
     "metadata": {},
     "output_type": "display_data"
    }
   ],
   "source": [
    "cluster_score_plot_size.plot(kind=\"bar\", figsize=(19,12), color=(\"yellow\", \"blue\", \"grey\"))"
   ]
  },
  {
   "cell_type": "markdown",
   "metadata": {},
   "source": [
    "#Analysis\n",
    "Description: Clusters by average gross quare footage and total property area. \n",
    "\n",
    "Interesting Findings: Without knowing the building size or total property area k-means clustered by building size. Shows EAc1 and EAc2 are correlated to buidlign size and property size. \n",
    "\n",
    "Further Analysis: Is there are difference between rural and urban buildings within clusters? "
   ]
  }
 ],
 "metadata": {
  "kernelspec": {
   "display_name": "Python 3",
   "language": "python",
   "name": "python3"
  },
  "language_info": {
   "codemirror_mode": {
    "name": "ipython",
    "version": 3
   },
   "file_extension": ".py",
   "mimetype": "text/x-python",
   "name": "python",
   "nbconvert_exporter": "python",
   "pygments_lexer": "ipython3",
   "version": "3.4.3"
  }
 },
 "nbformat": 4,
 "nbformat_minor": 0
}
