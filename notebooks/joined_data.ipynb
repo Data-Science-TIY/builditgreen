{
 "cells": [
  {
   "cell_type": "code",
   "execution_count": 1,
   "metadata": {
    "collapsed": false
   },
   "outputs": [],
   "source": [
    "import pandas as pd\n",
    "import psycopg2"
   ]
  },
  {
   "cell_type": "code",
   "execution_count": 2,
   "metadata": {
    "collapsed": true
   },
   "outputs": [],
   "source": [
    "conn = psycopg2.connect(database=\"builditgreen\")"
   ]
  },
  {
   "cell_type": "code",
   "execution_count": 3,
   "metadata": {
    "collapsed": true
   },
   "outputs": [],
   "source": [
    "import pandas.io.sql as pdsql"
   ]
  },
  {
   "cell_type": "code",
   "execution_count": 4,
   "metadata": {
    "collapsed": false
   },
   "outputs": [
    {
     "name": "stderr",
     "output_type": "stream",
     "text": [
      "/Users/trippshealy/iron_yard/week10/builditgreen/.direnv/python-3.4.3/lib/python3.4/site-packages/pandas/io/sql.py:1630: FutureWarning: read_frame is deprecated, use read_sql\n",
      "  warnings.warn(\"read_frame is deprecated, use read_sql\", FutureWarning)\n"
     ]
    }
   ],
   "source": [
    "scores_2009_df = pdsql.read_frame(\"SELECT * FROM %s;\" % 'api_score2009', conn)"
   ]
  },
  {
   "cell_type": "code",
   "execution_count": 5,
   "metadata": {
    "collapsed": false
   },
   "outputs": [
    {
     "data": {
      "text/plain": [
       "(2501, 54)"
      ]
     },
     "execution_count": 5,
     "metadata": {},
     "output_type": "execute_result"
    }
   ],
   "source": [
    "scores_2009_df.shape"
   ]
  },
  {
   "cell_type": "code",
   "execution_count": 6,
   "metadata": {
    "collapsed": false
   },
   "outputs": [
    {
     "data": {
      "text/html": [
       "<div>\n",
       "<table border=\"1\" class=\"dataframe\">\n",
       "  <thead>\n",
       "    <tr style=\"text-align: right;\">\n",
       "      <th></th>\n",
       "      <th>id</th>\n",
       "      <th>ssc1</th>\n",
       "      <th>ssc2</th>\n",
       "      <th>ssc3</th>\n",
       "      <th>ssc4_1</th>\n",
       "      <th>ssc4_2</th>\n",
       "      <th>ssc4_3</th>\n",
       "      <th>ssc4_4</th>\n",
       "      <th>ssc5_1</th>\n",
       "      <th>ssc5_2</th>\n",
       "      <th>...</th>\n",
       "      <th>eqc7_2</th>\n",
       "      <th>eqc8_1</th>\n",
       "      <th>eqc8_2</th>\n",
       "      <th>idc1</th>\n",
       "      <th>idc2</th>\n",
       "      <th>extra1</th>\n",
       "      <th>extra2</th>\n",
       "      <th>extra3</th>\n",
       "      <th>extra4</th>\n",
       "      <th>project_id</th>\n",
       "    </tr>\n",
       "  </thead>\n",
       "  <tbody>\n",
       "    <tr>\n",
       "      <th>0</th>\n",
       "      <td>1</td>\n",
       "      <td>1</td>\n",
       "      <td>5</td>\n",
       "      <td>0</td>\n",
       "      <td>6</td>\n",
       "      <td>0</td>\n",
       "      <td>0</td>\n",
       "      <td>2</td>\n",
       "      <td>0</td>\n",
       "      <td>1</td>\n",
       "      <td>...</td>\n",
       "      <td>1</td>\n",
       "      <td>1</td>\n",
       "      <td>0</td>\n",
       "      <td>1</td>\n",
       "      <td>1</td>\n",
       "      <td>0</td>\n",
       "      <td>NaN</td>\n",
       "      <td>NaN</td>\n",
       "      <td>NaN</td>\n",
       "      <td>1000000143</td>\n",
       "    </tr>\n",
       "    <tr>\n",
       "      <th>1</th>\n",
       "      <td>2</td>\n",
       "      <td>0</td>\n",
       "      <td>0</td>\n",
       "      <td>0</td>\n",
       "      <td>6</td>\n",
       "      <td>1</td>\n",
       "      <td>0</td>\n",
       "      <td>0</td>\n",
       "      <td>0</td>\n",
       "      <td>1</td>\n",
       "      <td>...</td>\n",
       "      <td>1</td>\n",
       "      <td>0</td>\n",
       "      <td>1</td>\n",
       "      <td>3</td>\n",
       "      <td>1</td>\n",
       "      <td>1</td>\n",
       "      <td>0</td>\n",
       "      <td>1</td>\n",
       "      <td>0</td>\n",
       "      <td>1000000174</td>\n",
       "    </tr>\n",
       "    <tr>\n",
       "      <th>2</th>\n",
       "      <td>3</td>\n",
       "      <td>1</td>\n",
       "      <td>5</td>\n",
       "      <td>0</td>\n",
       "      <td>0</td>\n",
       "      <td>1</td>\n",
       "      <td>3</td>\n",
       "      <td>2</td>\n",
       "      <td>0</td>\n",
       "      <td>0</td>\n",
       "      <td>...</td>\n",
       "      <td>0</td>\n",
       "      <td>0</td>\n",
       "      <td>1</td>\n",
       "      <td>1</td>\n",
       "      <td>1</td>\n",
       "      <td>0</td>\n",
       "      <td>1</td>\n",
       "      <td>1</td>\n",
       "      <td>0</td>\n",
       "      <td>1000000194</td>\n",
       "    </tr>\n",
       "    <tr>\n",
       "      <th>3</th>\n",
       "      <td>4</td>\n",
       "      <td>1</td>\n",
       "      <td>0</td>\n",
       "      <td>0</td>\n",
       "      <td>0</td>\n",
       "      <td>1</td>\n",
       "      <td>3</td>\n",
       "      <td>0</td>\n",
       "      <td>0</td>\n",
       "      <td>1</td>\n",
       "      <td>...</td>\n",
       "      <td>0</td>\n",
       "      <td>0</td>\n",
       "      <td>1</td>\n",
       "      <td>2</td>\n",
       "      <td>1</td>\n",
       "      <td>1</td>\n",
       "      <td>0</td>\n",
       "      <td>0</td>\n",
       "      <td>0</td>\n",
       "      <td>1000000199</td>\n",
       "    </tr>\n",
       "    <tr>\n",
       "      <th>4</th>\n",
       "      <td>5</td>\n",
       "      <td>1</td>\n",
       "      <td>5</td>\n",
       "      <td>0</td>\n",
       "      <td>6</td>\n",
       "      <td>1</td>\n",
       "      <td>3</td>\n",
       "      <td>2</td>\n",
       "      <td>0</td>\n",
       "      <td>0</td>\n",
       "      <td>...</td>\n",
       "      <td>1</td>\n",
       "      <td>0</td>\n",
       "      <td>0</td>\n",
       "      <td>2</td>\n",
       "      <td>1</td>\n",
       "      <td>0</td>\n",
       "      <td>1</td>\n",
       "      <td>0</td>\n",
       "      <td>0</td>\n",
       "      <td>1000000222</td>\n",
       "    </tr>\n",
       "  </tbody>\n",
       "</table>\n",
       "<p>5 rows × 54 columns</p>\n",
       "</div>"
      ],
      "text/plain": [
       "   id  ssc1  ssc2  ssc3  ssc4_1  ssc4_2  ssc4_3  ssc4_4  ssc5_1  ssc5_2  \\\n",
       "0   1     1     5     0       6       0       0       2       0       1   \n",
       "1   2     0     0     0       6       1       0       0       0       1   \n",
       "2   3     1     5     0       0       1       3       2       0       0   \n",
       "3   4     1     0     0       0       1       3       0       0       1   \n",
       "4   5     1     5     0       6       1       3       2       0       0   \n",
       "\n",
       "      ...      eqc7_2  eqc8_1  eqc8_2  idc1  idc2  extra1  extra2  extra3  \\\n",
       "0     ...           1       1       0     1     1       0     NaN     NaN   \n",
       "1     ...           1       0       1     3     1       1       0       1   \n",
       "2     ...           0       0       1     1     1       0       1       1   \n",
       "3     ...           0       0       1     2     1       1       0       0   \n",
       "4     ...           1       0       0     2     1       0       1       0   \n",
       "\n",
       "   extra4  project_id  \n",
       "0     NaN  1000000143  \n",
       "1       0  1000000174  \n",
       "2       0  1000000194  \n",
       "3       0  1000000199  \n",
       "4       0  1000000222  \n",
       "\n",
       "[5 rows x 54 columns]"
      ]
     },
     "execution_count": 6,
     "metadata": {},
     "output_type": "execute_result"
    }
   ],
   "source": [
    "scores_2009_df.head()"
   ]
  },
  {
   "cell_type": "code",
   "execution_count": 7,
   "metadata": {
    "collapsed": false
   },
   "outputs": [
    {
     "data": {
      "text/html": [
       "<div>\n",
       "<table border=\"1\" class=\"dataframe\">\n",
       "  <thead>\n",
       "    <tr style=\"text-align: right;\">\n",
       "      <th></th>\n",
       "      <th>id</th>\n",
       "      <th>ssc1</th>\n",
       "      <th>ssc2</th>\n",
       "      <th>ssc3</th>\n",
       "      <th>ssc4_1</th>\n",
       "      <th>ssc4_2</th>\n",
       "      <th>ssc4_3</th>\n",
       "      <th>ssc4_4</th>\n",
       "      <th>ssc5_1</th>\n",
       "      <th>ssc5_2</th>\n",
       "      <th>...</th>\n",
       "      <th>eqc7_2</th>\n",
       "      <th>eqc8_1</th>\n",
       "      <th>eqc8_2</th>\n",
       "      <th>idc1</th>\n",
       "      <th>idc2</th>\n",
       "      <th>extra1</th>\n",
       "      <th>extra2</th>\n",
       "      <th>extra3</th>\n",
       "      <th>extra4</th>\n",
       "      <th>project_id</th>\n",
       "    </tr>\n",
       "  </thead>\n",
       "  <tbody>\n",
       "    <tr>\n",
       "      <th>0</th>\n",
       "      <td>1</td>\n",
       "      <td>1</td>\n",
       "      <td>5</td>\n",
       "      <td>0</td>\n",
       "      <td>6</td>\n",
       "      <td>0</td>\n",
       "      <td>0</td>\n",
       "      <td>2</td>\n",
       "      <td>0</td>\n",
       "      <td>1</td>\n",
       "      <td>...</td>\n",
       "      <td>1</td>\n",
       "      <td>1</td>\n",
       "      <td>0</td>\n",
       "      <td>1</td>\n",
       "      <td>1</td>\n",
       "      <td>0</td>\n",
       "      <td>NaN</td>\n",
       "      <td>NaN</td>\n",
       "      <td>NaN</td>\n",
       "      <td>1000000143</td>\n",
       "    </tr>\n",
       "    <tr>\n",
       "      <th>1</th>\n",
       "      <td>2</td>\n",
       "      <td>0</td>\n",
       "      <td>0</td>\n",
       "      <td>0</td>\n",
       "      <td>6</td>\n",
       "      <td>1</td>\n",
       "      <td>0</td>\n",
       "      <td>0</td>\n",
       "      <td>0</td>\n",
       "      <td>1</td>\n",
       "      <td>...</td>\n",
       "      <td>1</td>\n",
       "      <td>0</td>\n",
       "      <td>1</td>\n",
       "      <td>3</td>\n",
       "      <td>1</td>\n",
       "      <td>1</td>\n",
       "      <td>0</td>\n",
       "      <td>1</td>\n",
       "      <td>0</td>\n",
       "      <td>1000000174</td>\n",
       "    </tr>\n",
       "    <tr>\n",
       "      <th>2</th>\n",
       "      <td>3</td>\n",
       "      <td>1</td>\n",
       "      <td>5</td>\n",
       "      <td>0</td>\n",
       "      <td>0</td>\n",
       "      <td>1</td>\n",
       "      <td>3</td>\n",
       "      <td>2</td>\n",
       "      <td>0</td>\n",
       "      <td>0</td>\n",
       "      <td>...</td>\n",
       "      <td>0</td>\n",
       "      <td>0</td>\n",
       "      <td>1</td>\n",
       "      <td>1</td>\n",
       "      <td>1</td>\n",
       "      <td>0</td>\n",
       "      <td>1</td>\n",
       "      <td>1</td>\n",
       "      <td>0</td>\n",
       "      <td>1000000194</td>\n",
       "    </tr>\n",
       "    <tr>\n",
       "      <th>3</th>\n",
       "      <td>4</td>\n",
       "      <td>1</td>\n",
       "      <td>0</td>\n",
       "      <td>0</td>\n",
       "      <td>0</td>\n",
       "      <td>1</td>\n",
       "      <td>3</td>\n",
       "      <td>0</td>\n",
       "      <td>0</td>\n",
       "      <td>1</td>\n",
       "      <td>...</td>\n",
       "      <td>0</td>\n",
       "      <td>0</td>\n",
       "      <td>1</td>\n",
       "      <td>2</td>\n",
       "      <td>1</td>\n",
       "      <td>1</td>\n",
       "      <td>0</td>\n",
       "      <td>0</td>\n",
       "      <td>0</td>\n",
       "      <td>1000000199</td>\n",
       "    </tr>\n",
       "    <tr>\n",
       "      <th>4</th>\n",
       "      <td>5</td>\n",
       "      <td>1</td>\n",
       "      <td>5</td>\n",
       "      <td>0</td>\n",
       "      <td>6</td>\n",
       "      <td>1</td>\n",
       "      <td>3</td>\n",
       "      <td>2</td>\n",
       "      <td>0</td>\n",
       "      <td>0</td>\n",
       "      <td>...</td>\n",
       "      <td>1</td>\n",
       "      <td>0</td>\n",
       "      <td>0</td>\n",
       "      <td>2</td>\n",
       "      <td>1</td>\n",
       "      <td>0</td>\n",
       "      <td>1</td>\n",
       "      <td>0</td>\n",
       "      <td>0</td>\n",
       "      <td>1000000222</td>\n",
       "    </tr>\n",
       "  </tbody>\n",
       "</table>\n",
       "<p>5 rows × 54 columns</p>\n",
       "</div>"
      ],
      "text/plain": [
       "   id  ssc1  ssc2  ssc3  ssc4_1  ssc4_2  ssc4_3  ssc4_4  ssc5_1  ssc5_2  \\\n",
       "0   1     1     5     0       6       0       0       2       0       1   \n",
       "1   2     0     0     0       6       1       0       0       0       1   \n",
       "2   3     1     5     0       0       1       3       2       0       0   \n",
       "3   4     1     0     0       0       1       3       0       0       1   \n",
       "4   5     1     5     0       6       1       3       2       0       0   \n",
       "\n",
       "      ...      eqc7_2  eqc8_1  eqc8_2  idc1  idc2  extra1  extra2  extra3  \\\n",
       "0     ...           1       1       0     1     1       0     NaN     NaN   \n",
       "1     ...           1       0       1     3     1       1       0       1   \n",
       "2     ...           0       0       1     1     1       0       1       1   \n",
       "3     ...           0       0       1     2     1       1       0       0   \n",
       "4     ...           1       0       0     2     1       0       1       0   \n",
       "\n",
       "   extra4  project_id  \n",
       "0     NaN  1000000143  \n",
       "1       0  1000000174  \n",
       "2       0  1000000194  \n",
       "3       0  1000000199  \n",
       "4       0  1000000222  \n",
       "\n",
       "[5 rows x 54 columns]"
      ]
     },
     "execution_count": 7,
     "metadata": {},
     "output_type": "execute_result"
    }
   ],
   "source": [
    "scores_2009_df.head()"
   ]
  },
  {
   "cell_type": "code",
   "execution_count": 8,
   "metadata": {
    "collapsed": false
   },
   "outputs": [
    {
     "data": {
      "text/plain": [
       "0    1000000143\n",
       "1    1000000174\n",
       "2    1000000194\n",
       "3    1000000199\n",
       "4    1000000222\n",
       "Name: project_id, dtype: int64"
      ]
     },
     "execution_count": 8,
     "metadata": {},
     "output_type": "execute_result"
    }
   ],
   "source": [
    "scores_2009_df.project_id.head()"
   ]
  },
  {
   "cell_type": "code",
   "execution_count": 9,
   "metadata": {
    "collapsed": false
   },
   "outputs": [
    {
     "name": "stderr",
     "output_type": "stream",
     "text": [
      "/Users/trippshealy/iron_yard/week10/builditgreen/.direnv/python-3.4.3/lib/python3.4/site-packages/pandas/io/sql.py:1630: FutureWarning: read_frame is deprecated, use read_sql\n",
      "  warnings.warn(\"read_frame is deprecated, use read_sql\", FutureWarning)\n"
     ]
    }
   ],
   "source": [
    "project_df = pdsql.read_frame(\"SELECT * FROM %s;\" % 'api_project', conn)"
   ]
  },
  {
   "cell_type": "code",
   "execution_count": 10,
   "metadata": {
    "collapsed": false
   },
   "outputs": [
    {
     "data": {
      "text/plain": [
       "(83646, 17)"
      ]
     },
     "execution_count": 10,
     "metadata": {},
     "output_type": "execute_result"
    }
   ],
   "source": [
    "project_df.shape"
   ]
  },
  {
   "cell_type": "code",
   "execution_count": 11,
   "metadata": {
    "collapsed": false
   },
   "outputs": [
    {
     "data": {
      "text/html": [
       "<div>\n",
       "<table border=\"1\" class=\"dataframe\">\n",
       "  <thead>\n",
       "    <tr style=\"text-align: right;\">\n",
       "      <th></th>\n",
       "      <th>id</th>\n",
       "      <th>is_confidential</th>\n",
       "      <th>name</th>\n",
       "      <th>street</th>\n",
       "      <th>city</th>\n",
       "      <th>zip_code</th>\n",
       "      <th>country</th>\n",
       "      <th>leed_version</th>\n",
       "      <th>points_achieved</th>\n",
       "      <th>certification_level</th>\n",
       "      <th>certification_date</th>\n",
       "      <th>owner_types</th>\n",
       "      <th>gross_square_foot</th>\n",
       "      <th>total_property_area</th>\n",
       "      <th>project_types</th>\n",
       "      <th>registration_date</th>\n",
       "      <th>state_id_id</th>\n",
       "    </tr>\n",
       "  </thead>\n",
       "  <tbody>\n",
       "    <tr>\n",
       "      <th>83641</th>\n",
       "      <td>1000058308</td>\n",
       "      <td>Yes</td>\n",
       "      <td>Confidential</td>\n",
       "      <td>Confidential</td>\n",
       "      <td>Confidential</td>\n",
       "      <td>Confidential</td>\n",
       "      <td>US</td>\n",
       "      <td>LEED v4 BD+C: NC</td>\n",
       "      <td>NaN</td>\n",
       "      <td></td>\n",
       "      <td>None</td>\n",
       "      <td>Confidential</td>\n",
       "      <td>502910</td>\n",
       "      <td>NaN</td>\n",
       "      <td>Office: Mixed-Use</td>\n",
       "      <td>2015-06-02</td>\n",
       "      <td>30</td>\n",
       "    </tr>\n",
       "    <tr>\n",
       "      <th>83642</th>\n",
       "      <td>1000058310</td>\n",
       "      <td>No</td>\n",
       "      <td>180 Montgomery - Recertification</td>\n",
       "      <td>180 Montgomery Street</td>\n",
       "      <td>San Francisco</td>\n",
       "      <td>94104</td>\n",
       "      <td>US</td>\n",
       "      <td>LEED-EB:OM v2009</td>\n",
       "      <td>NaN</td>\n",
       "      <td></td>\n",
       "      <td>None</td>\n",
       "      <td>Investor: Equity Fund</td>\n",
       "      <td>329913</td>\n",
       "      <td>NaN</td>\n",
       "      <td>Office: Administrative/Professional</td>\n",
       "      <td>2015-06-02</td>\n",
       "      <td>30</td>\n",
       "    </tr>\n",
       "    <tr>\n",
       "      <th>83643</th>\n",
       "      <td>1000058311</td>\n",
       "      <td>No</td>\n",
       "      <td>FAS MCZ HEB 5th Floor Office Suite</td>\n",
       "      <td>26 Oxford Street</td>\n",
       "      <td>Cambridge</td>\n",
       "      <td>2138</td>\n",
       "      <td>US</td>\n",
       "      <td>LEED-CI v2009</td>\n",
       "      <td>NaN</td>\n",
       "      <td></td>\n",
       "      <td>None</td>\n",
       "      <td>Educational: University, Private</td>\n",
       "      <td>10750</td>\n",
       "      <td>NaN</td>\n",
       "      <td>Core Learning Space: College/University</td>\n",
       "      <td>2015-06-02</td>\n",
       "      <td>33</td>\n",
       "    </tr>\n",
       "    <tr>\n",
       "      <th>83644</th>\n",
       "      <td>1000058312</td>\n",
       "      <td>Yes</td>\n",
       "      <td>Confidential</td>\n",
       "      <td>Confidential</td>\n",
       "      <td>Confidential</td>\n",
       "      <td>Confidential</td>\n",
       "      <td>US</td>\n",
       "      <td>LEED-CI v2009</td>\n",
       "      <td>NaN</td>\n",
       "      <td></td>\n",
       "      <td>None</td>\n",
       "      <td>Confidential</td>\n",
       "      <td>9000</td>\n",
       "      <td>NaN</td>\n",
       "      <td>Retail: Other Retail</td>\n",
       "      <td>2015-06-02</td>\n",
       "      <td>15</td>\n",
       "    </tr>\n",
       "    <tr>\n",
       "      <th>83645</th>\n",
       "      <td>1000058313</td>\n",
       "      <td>No</td>\n",
       "      <td>Young Woman's College Preparatory Academ</td>\n",
       "      <td>1906 Cleburne Street</td>\n",
       "      <td>Houston</td>\n",
       "      <td>77004</td>\n",
       "      <td>US</td>\n",
       "      <td>LEED FOR SCHOOLS v2009</td>\n",
       "      <td>NaN</td>\n",
       "      <td></td>\n",
       "      <td>None</td>\n",
       "      <td>Educational: K-12 School, Public</td>\n",
       "      <td>50000</td>\n",
       "      <td>NaN</td>\n",
       "      <td>Core Learning Space: K-12 High School</td>\n",
       "      <td>2015-06-02</td>\n",
       "      <td>15</td>\n",
       "    </tr>\n",
       "  </tbody>\n",
       "</table>\n",
       "</div>"
      ],
      "text/plain": [
       "               id is_confidential                                      name  \\\n",
       "83641  1000058308             Yes                              Confidential   \n",
       "83642  1000058310              No          180 Montgomery - Recertification   \n",
       "83643  1000058311              No        FAS MCZ HEB 5th Floor Office Suite   \n",
       "83644  1000058312             Yes                              Confidential   \n",
       "83645  1000058313              No  Young Woman's College Preparatory Academ   \n",
       "\n",
       "                      street           city      zip_code country  \\\n",
       "83641           Confidential   Confidential  Confidential      US   \n",
       "83642  180 Montgomery Street  San Francisco         94104      US   \n",
       "83643       26 Oxford Street      Cambridge          2138      US   \n",
       "83644           Confidential   Confidential  Confidential      US   \n",
       "83645   1906 Cleburne Street        Houston         77004      US   \n",
       "\n",
       "                 leed_version  points_achieved certification_level  \\\n",
       "83641        LEED v4 BD+C: NC              NaN                       \n",
       "83642        LEED-EB:OM v2009              NaN                       \n",
       "83643           LEED-CI v2009              NaN                       \n",
       "83644           LEED-CI v2009              NaN                       \n",
       "83645  LEED FOR SCHOOLS v2009              NaN                       \n",
       "\n",
       "      certification_date                       owner_types  gross_square_foot  \\\n",
       "83641               None                      Confidential             502910   \n",
       "83642               None             Investor: Equity Fund             329913   \n",
       "83643               None  Educational: University, Private              10750   \n",
       "83644               None                      Confidential               9000   \n",
       "83645               None  Educational: K-12 School, Public              50000   \n",
       "\n",
       "       total_property_area                            project_types  \\\n",
       "83641                  NaN                        Office: Mixed-Use   \n",
       "83642                  NaN      Office: Administrative/Professional   \n",
       "83643                  NaN  Core Learning Space: College/University   \n",
       "83644                  NaN                     Retail: Other Retail   \n",
       "83645                  NaN    Core Learning Space: K-12 High School   \n",
       "\n",
       "      registration_date  state_id_id  \n",
       "83641        2015-06-02           30  \n",
       "83642        2015-06-02           30  \n",
       "83643        2015-06-02           33  \n",
       "83644        2015-06-02           15  \n",
       "83645        2015-06-02           15  "
      ]
     },
     "execution_count": 11,
     "metadata": {},
     "output_type": "execute_result"
    }
   ],
   "source": [
    "project_df.tail()"
   ]
  },
  {
   "cell_type": "code",
   "execution_count": 12,
   "metadata": {
    "collapsed": false
   },
   "outputs": [],
   "source": [
    "project_2009 = project_df[project_df.leed_version == 'LEED-NC v2009']"
   ]
  },
  {
   "cell_type": "code",
   "execution_count": 13,
   "metadata": {
    "collapsed": false
   },
   "outputs": [
    {
     "data": {
      "text/plain": [
       "(12508, 17)"
      ]
     },
     "execution_count": 13,
     "metadata": {},
     "output_type": "execute_result"
    }
   ],
   "source": [
    "project_2009.shape"
   ]
  },
  {
   "cell_type": "code",
   "execution_count": 14,
   "metadata": {
    "collapsed": false
   },
   "outputs": [
    {
     "data": {
      "text/html": [
       "<div>\n",
       "<table border=\"1\" class=\"dataframe\">\n",
       "  <thead>\n",
       "    <tr style=\"text-align: right;\">\n",
       "      <th></th>\n",
       "      <th>id</th>\n",
       "      <th>is_confidential</th>\n",
       "      <th>name</th>\n",
       "      <th>street</th>\n",
       "      <th>city</th>\n",
       "      <th>zip_code</th>\n",
       "      <th>country</th>\n",
       "      <th>leed_version</th>\n",
       "      <th>points_achieved</th>\n",
       "      <th>certification_level</th>\n",
       "      <th>certification_date</th>\n",
       "      <th>owner_types</th>\n",
       "      <th>gross_square_foot</th>\n",
       "      <th>total_property_area</th>\n",
       "      <th>project_types</th>\n",
       "      <th>registration_date</th>\n",
       "      <th>state_id_id</th>\n",
       "    </tr>\n",
       "  </thead>\n",
       "  <tbody>\n",
       "    <tr>\n",
       "      <th>49123</th>\n",
       "      <td>1000036282</td>\n",
       "      <td>No</td>\n",
       "      <td>Building E</td>\n",
       "      <td>04 N. High St</td>\n",
       "      <td>Columbus</td>\n",
       "      <td>43210</td>\n",
       "      <td>US</td>\n",
       "      <td>LEED-NC v2009</td>\n",
       "      <td>NaN</td>\n",
       "      <td></td>\n",
       "      <td>None</td>\n",
       "      <td></td>\n",
       "      <td>86600</td>\n",
       "      <td>0</td>\n",
       "      <td>Lodging: Dormitory</td>\n",
       "      <td>2013-10-16</td>\n",
       "      <td>17</td>\n",
       "    </tr>\n",
       "    <tr>\n",
       "      <th>49132</th>\n",
       "      <td>1000000049</td>\n",
       "      <td>No</td>\n",
       "      <td>Lorax Partnerships Corporate Headquarter</td>\n",
       "      <td>8924 bGreen Blade Lane</td>\n",
       "      <td>Columbia</td>\n",
       "      <td>21045</td>\n",
       "      <td>US</td>\n",
       "      <td>LEED-NC v2009</td>\n",
       "      <td>NaN</td>\n",
       "      <td></td>\n",
       "      <td>None</td>\n",
       "      <td>Corporate: Privately Held</td>\n",
       "      <td>55000</td>\n",
       "      <td>NaN</td>\n",
       "      <td>Office: Mixed-Use</td>\n",
       "      <td>2009-04-27</td>\n",
       "      <td>6</td>\n",
       "    </tr>\n",
       "    <tr>\n",
       "      <th>49133</th>\n",
       "      <td>1000000061</td>\n",
       "      <td>Yes</td>\n",
       "      <td>Confidential</td>\n",
       "      <td>Confidential</td>\n",
       "      <td>Confidential</td>\n",
       "      <td>Confidential</td>\n",
       "      <td>US</td>\n",
       "      <td>LEED-NC v2009</td>\n",
       "      <td>42</td>\n",
       "      <td>Certified</td>\n",
       "      <td>2013-04-04</td>\n",
       "      <td>Confidential</td>\n",
       "      <td>20128</td>\n",
       "      <td>34086</td>\n",
       "      <td>Core Learning Space: College/University</td>\n",
       "      <td>2009-04-27</td>\n",
       "      <td>41</td>\n",
       "    </tr>\n",
       "    <tr>\n",
       "      <th>49134</th>\n",
       "      <td>1000000077</td>\n",
       "      <td>Yes</td>\n",
       "      <td>Confidential</td>\n",
       "      <td>Confidential</td>\n",
       "      <td>Confidential</td>\n",
       "      <td>Confidential</td>\n",
       "      <td>US</td>\n",
       "      <td>LEED-NC v2009</td>\n",
       "      <td>NaN</td>\n",
       "      <td></td>\n",
       "      <td>None</td>\n",
       "      <td>Confidential</td>\n",
       "      <td>120000</td>\n",
       "      <td>NaN</td>\n",
       "      <td>Health Care: Nursing Home/ Assisted Living</td>\n",
       "      <td>2009-04-28</td>\n",
       "      <td>30</td>\n",
       "    </tr>\n",
       "    <tr>\n",
       "      <th>49136</th>\n",
       "      <td>1000000084</td>\n",
       "      <td>Yes</td>\n",
       "      <td>Confidential</td>\n",
       "      <td>Confidential</td>\n",
       "      <td>Confidential</td>\n",
       "      <td>Confidential</td>\n",
       "      <td>US</td>\n",
       "      <td>LEED-NC v2009</td>\n",
       "      <td>NaN</td>\n",
       "      <td></td>\n",
       "      <td>None</td>\n",
       "      <td>Confidential</td>\n",
       "      <td>7300</td>\n",
       "      <td>NaN</td>\n",
       "      <td>Multi-Family Residential: Condominium</td>\n",
       "      <td>2009-04-28</td>\n",
       "      <td>30</td>\n",
       "    </tr>\n",
       "  </tbody>\n",
       "</table>\n",
       "</div>"
      ],
      "text/plain": [
       "               id is_confidential                                      name  \\\n",
       "49123  1000036282              No                                Building E   \n",
       "49132  1000000049              No  Lorax Partnerships Corporate Headquarter   \n",
       "49133  1000000061             Yes                              Confidential   \n",
       "49134  1000000077             Yes                              Confidential   \n",
       "49136  1000000084             Yes                              Confidential   \n",
       "\n",
       "                       street          city      zip_code country  \\\n",
       "49123           04 N. High St      Columbus         43210      US   \n",
       "49132  8924 bGreen Blade Lane      Columbia         21045      US   \n",
       "49133            Confidential  Confidential  Confidential      US   \n",
       "49134            Confidential  Confidential  Confidential      US   \n",
       "49136            Confidential  Confidential  Confidential      US   \n",
       "\n",
       "        leed_version  points_achieved certification_level certification_date  \\\n",
       "49123  LEED-NC v2009              NaN                                   None   \n",
       "49132  LEED-NC v2009              NaN                                   None   \n",
       "49133  LEED-NC v2009               42           Certified         2013-04-04   \n",
       "49134  LEED-NC v2009              NaN                                   None   \n",
       "49136  LEED-NC v2009              NaN                                   None   \n",
       "\n",
       "                     owner_types  gross_square_foot  total_property_area  \\\n",
       "49123                                         86600                    0   \n",
       "49132  Corporate: Privately Held              55000                  NaN   \n",
       "49133               Confidential              20128                34086   \n",
       "49134               Confidential             120000                  NaN   \n",
       "49136               Confidential               7300                  NaN   \n",
       "\n",
       "                                    project_types registration_date  \\\n",
       "49123                          Lodging: Dormitory        2013-10-16   \n",
       "49132                           Office: Mixed-Use        2009-04-27   \n",
       "49133     Core Learning Space: College/University        2009-04-27   \n",
       "49134  Health Care: Nursing Home/ Assisted Living        2009-04-28   \n",
       "49136       Multi-Family Residential: Condominium        2009-04-28   \n",
       "\n",
       "       state_id_id  \n",
       "49123           17  \n",
       "49132            6  \n",
       "49133           41  \n",
       "49134           30  \n",
       "49136           30  "
      ]
     },
     "execution_count": 14,
     "metadata": {},
     "output_type": "execute_result"
    }
   ],
   "source": [
    "project_2009.head()"
   ]
  },
  {
   "cell_type": "code",
   "execution_count": 15,
   "metadata": {
    "collapsed": false
   },
   "outputs": [],
   "source": [
    "project_2009_complete = project_2009[project_2009['id'].isin(scores_2009_df.project_id)]"
   ]
  },
  {
   "cell_type": "code",
   "execution_count": 16,
   "metadata": {
    "collapsed": false
   },
   "outputs": [
    {
     "data": {
      "text/plain": [
       "(2501, 17)"
      ]
     },
     "execution_count": 16,
     "metadata": {},
     "output_type": "execute_result"
    }
   ],
   "source": [
    "project_2009_complete.shape"
   ]
  },
  {
   "cell_type": "code",
   "execution_count": 17,
   "metadata": {
    "collapsed": false
   },
   "outputs": [],
   "source": [
    "project_2009_complete = project_2009_complete.rename(columns={'id':'project_id'})"
   ]
  },
  {
   "cell_type": "code",
   "execution_count": 18,
   "metadata": {
    "collapsed": false
   },
   "outputs": [
    {
     "data": {
      "text/html": [
       "<div>\n",
       "<table border=\"1\" class=\"dataframe\">\n",
       "  <thead>\n",
       "    <tr style=\"text-align: right;\">\n",
       "      <th></th>\n",
       "      <th>project_id</th>\n",
       "      <th>is_confidential</th>\n",
       "      <th>name</th>\n",
       "      <th>street</th>\n",
       "      <th>city</th>\n",
       "      <th>zip_code</th>\n",
       "      <th>country</th>\n",
       "      <th>leed_version</th>\n",
       "      <th>points_achieved</th>\n",
       "      <th>certification_level</th>\n",
       "      <th>certification_date</th>\n",
       "      <th>owner_types</th>\n",
       "      <th>gross_square_foot</th>\n",
       "      <th>total_property_area</th>\n",
       "      <th>project_types</th>\n",
       "      <th>registration_date</th>\n",
       "      <th>state_id_id</th>\n",
       "    </tr>\n",
       "  </thead>\n",
       "  <tbody>\n",
       "    <tr>\n",
       "      <th>49154</th>\n",
       "      <td>1000000143</td>\n",
       "      <td>No</td>\n",
       "      <td>Mary Bird Perkins Cancer Center at TGMC</td>\n",
       "      <td>8166 Main St</td>\n",
       "      <td>Houma</td>\n",
       "      <td>70360</td>\n",
       "      <td>US</td>\n",
       "      <td>LEED-NC v2009</td>\n",
       "      <td>44</td>\n",
       "      <td>Certified</td>\n",
       "      <td>2013-09-20</td>\n",
       "      <td>Government Use: State</td>\n",
       "      <td>86580</td>\n",
       "      <td>53863</td>\n",
       "      <td>Health Care: Outpatient</td>\n",
       "      <td>2009-05-07</td>\n",
       "      <td>12</td>\n",
       "    </tr>\n",
       "    <tr>\n",
       "      <th>49164</th>\n",
       "      <td>1000000387</td>\n",
       "      <td>No</td>\n",
       "      <td>Farmington 14 Meetinghouse</td>\n",
       "      <td>550 South 1525 West</td>\n",
       "      <td>Farmington</td>\n",
       "      <td>84025</td>\n",
       "      <td>US</td>\n",
       "      <td>LEED-NC v2009</td>\n",
       "      <td>54</td>\n",
       "      <td>Silver</td>\n",
       "      <td>2011-08-12</td>\n",
       "      <td>Religious</td>\n",
       "      <td>21043</td>\n",
       "      <td>159983</td>\n",
       "      <td>Community Dev.</td>\n",
       "      <td>2009-06-01</td>\n",
       "      <td>46</td>\n",
       "    </tr>\n",
       "    <tr>\n",
       "      <th>49175</th>\n",
       "      <td>1000000174</td>\n",
       "      <td>No</td>\n",
       "      <td>Indiana Tech Seitz Center Renovation</td>\n",
       "      <td>1600 East Washington Boulevard</td>\n",
       "      <td>Fort Wayne</td>\n",
       "      <td>46803</td>\n",
       "      <td>US</td>\n",
       "      <td>LEED-NC v2009</td>\n",
       "      <td>65</td>\n",
       "      <td>Gold</td>\n",
       "      <td>2010-12-02</td>\n",
       "      <td>Educational: University, Private</td>\n",
       "      <td>11806</td>\n",
       "      <td>66000</td>\n",
       "      <td>Core Learning Space: College/University</td>\n",
       "      <td>2009-05-10</td>\n",
       "      <td>20</td>\n",
       "    </tr>\n",
       "    <tr>\n",
       "      <th>49187</th>\n",
       "      <td>1000000194</td>\n",
       "      <td>No</td>\n",
       "      <td>Kyra InfoTech</td>\n",
       "      <td>4454 Florida National Drive</td>\n",
       "      <td>Lakeland</td>\n",
       "      <td>33813</td>\n",
       "      <td>US</td>\n",
       "      <td>LEED-NC v2009</td>\n",
       "      <td>44</td>\n",
       "      <td>Certified</td>\n",
       "      <td>2011-08-23</td>\n",
       "      <td>Corporate: Privately Held</td>\n",
       "      <td>3472</td>\n",
       "      <td>10905</td>\n",
       "      <td>Commercial Office</td>\n",
       "      <td>2009-05-12</td>\n",
       "      <td>41</td>\n",
       "    </tr>\n",
       "    <tr>\n",
       "      <th>49190</th>\n",
       "      <td>1000000199</td>\n",
       "      <td>No</td>\n",
       "      <td>Public Safety Training Facility</td>\n",
       "      <td>4800 Shaw Lane</td>\n",
       "      <td>Austin</td>\n",
       "      <td>78744</td>\n",
       "      <td>US</td>\n",
       "      <td>LEED-NC v2009</td>\n",
       "      <td>51</td>\n",
       "      <td>Silver</td>\n",
       "      <td>2012-03-26</td>\n",
       "      <td>Government Use: Local, City</td>\n",
       "      <td>48732</td>\n",
       "      <td>555823</td>\n",
       "      <td>Public Order and Safety: Other Public Order</td>\n",
       "      <td>2009-05-13</td>\n",
       "      <td>15</td>\n",
       "    </tr>\n",
       "  </tbody>\n",
       "</table>\n",
       "</div>"
      ],
      "text/plain": [
       "       project_id is_confidential                                     name  \\\n",
       "49154  1000000143              No  Mary Bird Perkins Cancer Center at TGMC   \n",
       "49164  1000000387              No               Farmington 14 Meetinghouse   \n",
       "49175  1000000174              No     Indiana Tech Seitz Center Renovation   \n",
       "49187  1000000194              No                            Kyra InfoTech   \n",
       "49190  1000000199              No          Public Safety Training Facility   \n",
       "\n",
       "                               street        city zip_code country  \\\n",
       "49154                    8166 Main St       Houma    70360      US   \n",
       "49164             550 South 1525 West  Farmington    84025      US   \n",
       "49175  1600 East Washington Boulevard  Fort Wayne    46803      US   \n",
       "49187     4454 Florida National Drive    Lakeland    33813      US   \n",
       "49190                  4800 Shaw Lane      Austin    78744      US   \n",
       "\n",
       "        leed_version  points_achieved certification_level certification_date  \\\n",
       "49154  LEED-NC v2009               44           Certified         2013-09-20   \n",
       "49164  LEED-NC v2009               54              Silver         2011-08-12   \n",
       "49175  LEED-NC v2009               65                Gold         2010-12-02   \n",
       "49187  LEED-NC v2009               44           Certified         2011-08-23   \n",
       "49190  LEED-NC v2009               51              Silver         2012-03-26   \n",
       "\n",
       "                            owner_types  gross_square_foot  \\\n",
       "49154             Government Use: State              86580   \n",
       "49164                         Religious              21043   \n",
       "49175  Educational: University, Private              11806   \n",
       "49187         Corporate: Privately Held               3472   \n",
       "49190       Government Use: Local, City              48732   \n",
       "\n",
       "       total_property_area                                project_types  \\\n",
       "49154                53863                      Health Care: Outpatient   \n",
       "49164               159983                               Community Dev.   \n",
       "49175                66000      Core Learning Space: College/University   \n",
       "49187                10905                            Commercial Office   \n",
       "49190               555823  Public Order and Safety: Other Public Order   \n",
       "\n",
       "      registration_date  state_id_id  \n",
       "49154        2009-05-07           12  \n",
       "49164        2009-06-01           46  \n",
       "49175        2009-05-10           20  \n",
       "49187        2009-05-12           41  \n",
       "49190        2009-05-13           15  "
      ]
     },
     "execution_count": 18,
     "metadata": {},
     "output_type": "execute_result"
    }
   ],
   "source": [
    "project_2009_complete.head()"
   ]
  },
  {
   "cell_type": "code",
   "execution_count": 19,
   "metadata": {
    "collapsed": false
   },
   "outputs": [],
   "source": [
    "projects_2009_joined = pd.merge(project_2009_complete, scores_2009_df, on='project_id')"
   ]
  },
  {
   "cell_type": "code",
   "execution_count": 22,
   "metadata": {
    "collapsed": false
   },
   "outputs": [
    {
     "data": {
      "text/plain": [
       "(2501, 70)"
      ]
     },
     "execution_count": 22,
     "metadata": {},
     "output_type": "execute_result"
    }
   ],
   "source": [
    "projects_2009_joined.shape"
   ]
  },
  {
   "cell_type": "code",
   "execution_count": 24,
   "metadata": {
    "collapsed": true
   },
   "outputs": [],
   "source": [
    "import pickle"
   ]
  },
  {
   "cell_type": "code",
   "execution_count": 28,
   "metadata": {
    "collapsed": false
   },
   "outputs": [],
   "source": [
    "projects_2009_joined.to_pickle('projects_2009_joined.pkl')"
   ]
  },
  {
   "cell_type": "code",
   "execution_count": null,
   "metadata": {
    "collapsed": true
   },
   "outputs": [],
   "source": []
  }
 ],
 "metadata": {
  "kernelspec": {
   "display_name": "Python 3",
   "language": "python",
   "name": "python3"
  },
  "language_info": {
   "codemirror_mode": {
    "name": "ipython",
    "version": 3
   },
   "file_extension": ".py",
   "mimetype": "text/x-python",
   "name": "python",
   "nbconvert_exporter": "python",
   "pygments_lexer": "ipython3",
   "version": "3.4.3"
  }
 },
 "nbformat": 4,
 "nbformat_minor": 0
}
